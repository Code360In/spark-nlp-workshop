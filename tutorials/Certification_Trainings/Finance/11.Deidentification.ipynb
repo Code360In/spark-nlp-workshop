{
 "cells": [
  {
   "cell_type": "markdown",
   "id": "b7f2c545-14d6-41da-a4cc-0dc8a6ea3180",
   "metadata": {},
   "source": [
    "![JohnSnowLabs](https://nlp.johnsnowlabs.com/assets/images/logo.png)"
   ]
  },
  {
   "cell_type": "markdown",
   "id": "fb2ac5e3-fe7c-4431-bb24-3c48649be54b",
   "metadata": {},
   "source": [
    "# Financial Deidentification"
   ]
  },
  {
   "cell_type": "markdown",
   "id": "8053010f-fd6f-4224-ba3b-3d009befe3bd",
   "metadata": {},
   "source": [
    "## Colab Setup"
   ]
  },
  {
   "cell_type": "code",
   "execution_count": 1,
   "id": "643947a2-2500-45f7-b903-4ef3b0e9adaa",
   "metadata": {},
   "outputs": [],
   "source": [
    "import sys\n",
    "import json\n",
    "import os\n",
    "license_key = \"/home/jovyan/work/shared/gokhan/keys/4.0.2.spark_nlp_for_healthcare .json\"\n",
    "\n",
    "with open(license_key) as f:\n",
    "    license_keys = json.load(f)\n",
    "    \n",
    "locals().update(license_keys)\n",
    "\n",
    "# Adding license key-value pairs to environment variables\n",
    "os.environ.update(license_keys)\n",
    "os.environ['TF_CPP_MIN_LOG_LEVEL'] = '3'"
   ]
  },
  {
   "cell_type": "code",
   "execution_count": 2,
   "id": "43b19455-ec9a-4f3e-8748-d25127ee9503",
   "metadata": {},
   "outputs": [
    {
     "name": "stdout",
     "output_type": "stream",
     "text": [
      "sparknlp version: 4.0.2\n",
      "sparknlp_jsl version: 4.0.2\n"
     ]
    }
   ],
   "source": [
    "import sparknlp\n",
    "import sparknlp_jsl\n",
    "\n",
    "print(\"sparknlp version:\",sparknlp.version())\n",
    "print(\"sparknlp_jsl version:\", sparknlp_jsl.version())"
   ]
  },
  {
   "cell_type": "code",
   "execution_count": 3,
   "id": "d2cf3afe-5da1-45cd-8499-2a7956abb825",
   "metadata": {},
   "outputs": [
    {
     "name": "stderr",
     "output_type": "stream",
     "text": [
      "Ivy Default Cache set to: /home/jovyan/.ivy2/cache\n",
      "The jars for the packages stored in: /home/jovyan/.ivy2/jars\n",
      ":: loading settings :: url = jar:file:/home/jovyan/work/shared/venvs/gokhan/lib/python3.8/site-packages/pyspark/jars/ivy-2.4.0.jar!/org/apache/ivy/core/settings/ivysettings.xml\n",
      "com.johnsnowlabs.nlp#spark-nlp_2.12 added as a dependency\n",
      ":: resolving dependencies :: org.apache.spark#spark-submit-parent-0a60d814-0822-43a9-a3cd-36d210aa75bf;1.0\n",
      "\tconfs: [default]\n",
      "\tfound com.johnsnowlabs.nlp#spark-nlp_2.12;4.0.2 in central\n",
      "\tfound com.typesafe#config;1.4.2 in central\n",
      "\tfound org.rocksdb#rocksdbjni;6.29.5 in central\n",
      "\tfound com.amazonaws#aws-java-sdk-bundle;1.11.828 in central\n",
      "\tfound com.github.universal-automata#liblevenshtein;3.0.0 in central\n",
      "\tfound com.google.code.findbugs#annotations;3.0.1 in central\n",
      "\tfound net.jcip#jcip-annotations;1.0 in central\n",
      "\tfound com.google.code.findbugs#jsr305;3.0.1 in central\n",
      "\tfound com.google.protobuf#protobuf-java-util;3.0.0-beta-3 in central\n",
      "\tfound com.google.protobuf#protobuf-java;3.0.0-beta-3 in central\n",
      "\tfound com.google.code.gson#gson;2.3 in central\n",
      "\tfound it.unimi.dsi#fastutil;7.0.12 in central\n",
      "\tfound org.projectlombok#lombok;1.16.8 in central\n",
      "\tfound org.slf4j#slf4j-api;1.7.21 in central\n",
      "\tfound com.navigamez#greex;1.0 in central\n",
      "\tfound dk.brics.automaton#automaton;1.11-8 in central\n",
      "\tfound com.johnsnowlabs.nlp#tensorflow-cpu_2.12;0.4.2 in central\n",
      "downloading https://repo1.maven.org/maven2/com/johnsnowlabs/nlp/spark-nlp_2.12/4.0.2/spark-nlp_2.12-4.0.2.jar ...\n",
      "\t[SUCCESSFUL ] com.johnsnowlabs.nlp#spark-nlp_2.12;4.0.2!spark-nlp_2.12.jar (767ms)\n",
      "downloading https://repo1.maven.org/maven2/com/typesafe/config/1.4.2/config-1.4.2.jar ...\n",
      "\t[SUCCESSFUL ] com.typesafe#config;1.4.2!config.jar(bundle) (8ms)\n",
      "downloading https://repo1.maven.org/maven2/org/rocksdb/rocksdbjni/6.29.5/rocksdbjni-6.29.5.jar ...\n",
      "\t[SUCCESSFUL ] org.rocksdb#rocksdbjni;6.29.5!rocksdbjni.jar (506ms)\n",
      "downloading https://repo1.maven.org/maven2/com/amazonaws/aws-java-sdk-bundle/1.11.828/aws-java-sdk-bundle-1.11.828.jar ...\n",
      "\t[SUCCESSFUL ] com.amazonaws#aws-java-sdk-bundle;1.11.828!aws-java-sdk-bundle.jar (1344ms)\n",
      "downloading https://repo1.maven.org/maven2/com/johnsnowlabs/nlp/tensorflow-cpu_2.12/0.4.2/tensorflow-cpu_2.12-0.4.2.jar ...\n",
      "\t[SUCCESSFUL ] com.johnsnowlabs.nlp#tensorflow-cpu_2.12;0.4.2!tensorflow-cpu_2.12.jar (1979ms)\n",
      ":: resolution report :: resolve 1813ms :: artifacts dl 4619ms\n",
      "\t:: modules in use:\n",
      "\tcom.amazonaws#aws-java-sdk-bundle;1.11.828 from central in [default]\n",
      "\tcom.github.universal-automata#liblevenshtein;3.0.0 from central in [default]\n",
      "\tcom.google.code.findbugs#annotations;3.0.1 from central in [default]\n",
      "\tcom.google.code.findbugs#jsr305;3.0.1 from central in [default]\n",
      "\tcom.google.code.gson#gson;2.3 from central in [default]\n",
      "\tcom.google.protobuf#protobuf-java;3.0.0-beta-3 from central in [default]\n",
      "\tcom.google.protobuf#protobuf-java-util;3.0.0-beta-3 from central in [default]\n",
      "\tcom.johnsnowlabs.nlp#spark-nlp_2.12;4.0.2 from central in [default]\n",
      "\tcom.johnsnowlabs.nlp#tensorflow-cpu_2.12;0.4.2 from central in [default]\n",
      "\tcom.navigamez#greex;1.0 from central in [default]\n",
      "\tcom.typesafe#config;1.4.2 from central in [default]\n",
      "\tdk.brics.automaton#automaton;1.11-8 from central in [default]\n",
      "\tit.unimi.dsi#fastutil;7.0.12 from central in [default]\n",
      "\tnet.jcip#jcip-annotations;1.0 from central in [default]\n",
      "\torg.projectlombok#lombok;1.16.8 from central in [default]\n",
      "\torg.rocksdb#rocksdbjni;6.29.5 from central in [default]\n",
      "\torg.slf4j#slf4j-api;1.7.21 from central in [default]\n",
      "\t---------------------------------------------------------------------\n",
      "\t|                  |            modules            ||   artifacts   |\n",
      "\t|       conf       | number| search|dwnlded|evicted|| number|dwnlded|\n",
      "\t---------------------------------------------------------------------\n",
      "\t|      default     |   17  |   5   |   5   |   0   ||   17  |   5   |\n",
      "\t---------------------------------------------------------------------\n",
      "\n",
      ":: problems summary ::\n",
      ":::: ERRORS\n",
      "\tSERVER ERROR: Bad Gateway url=https://dl.bintray.com/spark-packages/maven/com/amazonaws/aws-java-sdk-pom/1.11.828/aws-java-sdk-pom-1.11.828.jar\n",
      "\n",
      "\n",
      ":: USE VERBOSE OR DEBUG MESSAGE LEVEL FOR MORE DETAILS\n",
      ":: retrieving :: org.apache.spark#spark-submit-parent-0a60d814-0822-43a9-a3cd-36d210aa75bf\n",
      "\tconfs: [default]\n",
      "\t17 artifacts copied, 0 already retrieved (572114kB/346ms)\n",
      "22/08/21 18:13:09 WARN NativeCodeLoader: Unable to load native-hadoop library for your platform... using builtin-java classes where applicable\n",
      "Using Spark's default log4j profile: org/apache/spark/log4j-defaults.properties\n",
      "Setting default log level to \"WARN\".\n",
      "To adjust logging level use sc.setLogLevel(newLevel). For SparkR, use setLogLevel(newLevel).\n"
     ]
    },
    {
     "name": "stdout",
     "output_type": "stream",
     "text": [
      "sparknlp version: 4.0.2\n",
      "sparknlp_jsl version: 4.0.2\n"
     ]
    }
   ],
   "source": [
    "import sparknlp\n",
    "\n",
    "#spark = sparknlp.start(gpu = True) # for GPU training >> sparknlp.start(gpu = True) # for Spark 2.3 =>> sparknlp.start(spark23 = True)\n",
    "import json\n",
    "import os\n",
    "\n",
    "import sparknlp\n",
    "import sparknlp_jsl\n",
    "\n",
    "from sparknlp.base import *\n",
    "from sparknlp.annotator import *\n",
    "from sparknlp_jsl.annotator import *\n",
    "\n",
    "from pyspark.sql import SparkSession\n",
    "from pyspark.sql import functions as F\n",
    "from pyspark.ml import Pipeline,PipelineModel\n",
    "from sparknlp.base import *\n",
    "from sparknlp.annotator import *\n",
    "from pyspark.ml import Pipeline\n",
    "import pandas as pd\n",
    "import os\n",
    "import pandas as pd, csv, numpy as np, re\n",
    "from sparknlp.training import CoNLL\n",
    "import pyspark.sql.functions as F\n",
    "from tqdm import tqdm\n",
    "import numpy as np\n",
    "from sparknlp.training import CoNLL\n",
    "import re\n",
    "import copy\n",
    "from faker import Faker\n",
    "import random\n",
    "\n",
    "\n",
    "spark = sparknlp_jsl.start(license_keys['SECRET'])\n",
    "print(\"sparknlp version:\",sparknlp.version())\n",
    "print(\"sparknlp_jsl version:\", sparknlp_jsl.version())\n",
    "builder = SparkSession.builder \\\n",
    ".appName(\"Spark NLP Licensed\") \\\n",
    ".master(\"local[*]\") \\\n",
    ".config(\"spark.driver.memory\", \"54G\")\\\n",
    ".config(\"spark.executor.heartbeatInterval\", \"60s\")\\\n",
    ".config(\"spark.executor.memory\", \"6G\")\\\n",
    ".config(\"spark.driver.maxResultSize\", \"8G\")\\\n",
    ".config(\"spark.serializer\", \"org.apache.spark.serializer.KryoSerializer\") \\\n",
    ".config(\"spark.kryoserializer.buffer.max\", \"2000M\") \\\n",
    ".config(\"spark.jars.packages\", \"com.johnsnowlabs.nlp:spark-nlp_2.12:\"+ PUBLIC_VERSION) \\\n",
    ".config(\"spark.jars\", \"https://pypi.johnsnowlabs.com/\"+ SECRET +\"/spark-nlp-jsl-\"+JSL_VERSION+\".jar\")\n",
    "spark = builder.getOrCreate()"
   ]
  },
  {
   "cell_type": "markdown",
   "id": "615a3cf3-ae62-40cf-b9b2-a68c8053c908",
   "metadata": {},
   "source": [
    "# Pretrained Deidentification Pipeline\n",
    "\n",
    "We have this pipeline can be used to deidentify financial information from texts.The financial information will be masked and obfuscated in the resulting text. The pipeline can mask and obfuscate `DOC`, `EFFDATE`, `PARTY`, `ALIAS`, `SIGNING_PERSON`, `SIGNING_TITLE`, `COUNTRY`, `CITY`, `STATE`, `STREET`, `ZIP`, `EMAIL`, `FAX`, `LOCATION-OTHER`, `DATE`,`PHONE` entities."
   ]
  },
  {
   "cell_type": "code",
   "execution_count": 145,
   "id": "994c32d7-44e7-4637-9f64-454af9168dab",
   "metadata": {},
   "outputs": [],
   "source": [
    "from sparknlp.pretrained import PretrainedPipeline\n",
    "\n",
    "deid_pipeline = PretrainedPipeline.pretrained(\"finpipe_deid\", \"en\", \"finance/models\")"
   ]
  },
  {
   "cell_type": "code",
   "execution_count": 146,
   "id": "a09f14d8-54d9-4ed9-a7c4-6074f421020a",
   "metadata": {},
   "outputs": [
    {
     "data": {
      "text/plain": [
       "[DocumentAssembler_57ba7ce8bff9,\n",
       " SentenceDetectorDLModel_8aaebf7e098e,\n",
       " REGEX_TOKENIZER_2f265bb3f6b5,\n",
       " ROBERTA_EMBEDDINGS_b915dff90901,\n",
       " BERT_EMBEDDINGS_29ce72cd673e,\n",
       " MedicalNerModel_f714c7246b46,\n",
       " NerConverter_5a5bb98a24c7,\n",
       " MedicalNerModel_2b2f0f671f99,\n",
       " NerConverter_8b80797c7f67,\n",
       " MedicalNerModel_7b3b98b32784,\n",
       " NER_CONVERTER_fb28b23bc35d,\n",
       " MedicalNerModel_419e708135cb,\n",
       " NER_CONVERTER_af60235365b4,\n",
       " CONTEXTUAL-PARSER_85a13a5ff4bd,\n",
       " CONTEXTUAL-PARSER_bf8f02fb6658,\n",
       " REGEX_MATCHER_6199c32417bc,\n",
       " REGEX_MATCHER_2d694c8416b8,\n",
       " MERGE_5b96d578aa9b,\n",
       " DE-IDENTIFICATION_3d3dd57f734a,\n",
       " DE-IDENTIFICATION_471d94c72cd0,\n",
       " DE-IDENTIFICATION_29cac8c6cf56,\n",
       " DE-IDENTIFICATION_407b57c7d657,\n",
       " Finisher_ed29d709e530]"
      ]
     },
     "execution_count": 146,
     "metadata": {},
     "output_type": "execute_result"
    }
   ],
   "source": [
    "deid_pipeline.model.stages"
   ]
  },
  {
   "cell_type": "code",
   "execution_count": 179,
   "id": "00a6b038-7178-4fe3-b7f6-664bad53ff92",
   "metadata": {},
   "outputs": [],
   "source": [
    "text= \"\"\" REPORT PURSUANT TO SECTION 13 OR 15(d) OF THE SECURITIES EXCHANGE ACT OF\n",
    "Commvault Systems, Inc.  \n",
    "(Exact name of registrant as specified in its charter) \n",
    "Signed By : Sherly Johnson\n",
    "(Address of principal executive offices, including zip code) \n",
    "(732) 870-4000\n",
    "(telephone number, including area code) \n",
    "Name of each exchange on which registered\n",
    "CVLT\n",
    "The NASDAQ Stock Market\n",
    "\"\"\""
   ]
  },
  {
   "cell_type": "code",
   "execution_count": 180,
   "id": "bd76c039-f1bb-4839-a2c5-9b5715629700",
   "metadata": {},
   "outputs": [],
   "source": [
    "deid_res= deid_pipeline.annotate(text)"
   ]
  },
  {
   "cell_type": "code",
   "execution_count": 181,
   "id": "84add88b-9686-4fcc-83fa-6f64465f4aff",
   "metadata": {},
   "outputs": [
    {
     "data": {
      "text/plain": [
       "dict_keys(['obfuscated', 'deidentified', 'masked_fixed_length_chars', 'deid_merged_chunk', 'sentence', 'masked_with_chars'])"
      ]
     },
     "execution_count": 181,
     "metadata": {},
     "output_type": "execute_result"
    }
   ],
   "source": [
    "deid_res.keys()"
   ]
  },
  {
   "cell_type": "code",
   "execution_count": 182,
   "id": "9551bf51-c2e4-4d7c-968e-1c75bd43f888",
   "metadata": {},
   "outputs": [
    {
     "data": {
      "text/html": [
       "<div>\n",
       "<style scoped>\n",
       "    .dataframe tbody tr th:only-of-type {\n",
       "        vertical-align: middle;\n",
       "    }\n",
       "\n",
       "    .dataframe tbody tr th {\n",
       "        vertical-align: top;\n",
       "    }\n",
       "\n",
       "    .dataframe thead th {\n",
       "        text-align: right;\n",
       "    }\n",
       "</style>\n",
       "<table border=\"1\" class=\"dataframe\">\n",
       "  <thead>\n",
       "    <tr style=\"text-align: right;\">\n",
       "      <th></th>\n",
       "      <th>Sentence</th>\n",
       "      <th>Masked</th>\n",
       "      <th>Masked with Chars</th>\n",
       "      <th>Masked with Fixed Chars</th>\n",
       "      <th>Obfuscated</th>\n",
       "    </tr>\n",
       "  </thead>\n",
       "  <tbody>\n",
       "    <tr>\n",
       "      <th>0</th>\n",
       "      <td>REPORT PURSUANT TO SECTION 13 OR 15(d) OF THE SECURITIES EXCHANGE ACT OF</td>\n",
       "      <td>REPORT PURSUANT TO SECTION 13 OR 15(d) OF THE SECURITIES EXCHANGE ACT OF</td>\n",
       "      <td>REPORT PURSUANT TO SECTION 13 OR 15(d) OF THE SECURITIES EXCHANGE ACT OF</td>\n",
       "      <td>REPORT PURSUANT TO SECTION 13 OR 15(d) OF THE SECURITIES EXCHANGE ACT OF</td>\n",
       "      <td>REPORT PURSUANT TO SECTION 13 OR 15(d) OF THE SECURITIES EXCHANGE ACT OF</td>\n",
       "    </tr>\n",
       "    <tr>\n",
       "      <th>1</th>\n",
       "      <td>Commvault Systems, Inc.  \\n(Exact name of registrant as specified in its charter)</td>\n",
       "      <td>&lt;PARTY&gt;  \\n(Exact name of registrant as specified in its charter)</td>\n",
       "      <td>[*********************]  \\n(Exact name of registrant as specified in its charter)</td>\n",
       "      <td>****  \\n(Exact name of registrant as specified in its charter)</td>\n",
       "      <td>John Snow Labs Inc  \\n(Exact name of registrant as specified in its charter)</td>\n",
       "    </tr>\n",
       "    <tr>\n",
       "      <th>2</th>\n",
       "      <td>Signed By : Sherly Johnson</td>\n",
       "      <td>Signed By : &lt;SIGNING_PERSON&gt;</td>\n",
       "      <td>Signed By : [************]</td>\n",
       "      <td>Signed By : ****</td>\n",
       "      <td>Signed By : Dorothy Keen</td>\n",
       "    </tr>\n",
       "    <tr>\n",
       "      <th>3</th>\n",
       "      <td>(Address of principal executive offices, including zip code) \\n(732) 870-4000\\n(telephone number...</td>\n",
       "      <td>(Address of principal executive offices, including zip code) \\n&lt;PHONE&gt;\\n(telephone number, inclu...</td>\n",
       "      <td>(Address of principal executive offices, including zip code) \\n[************]\\n(telephone number...</td>\n",
       "      <td>(Address of principal executive offices, including zip code) \\n****\\n(telephone number, includin...</td>\n",
       "      <td>(Address of principal executive offices, including zip code) \\n031460 3797\\n(telephone number, i...</td>\n",
       "    </tr>\n",
       "    <tr>\n",
       "      <th>4</th>\n",
       "      <td>Name of each exchange on which registered</td>\n",
       "      <td>Name of each exchange on which registered</td>\n",
       "      <td>Name of each exchange on which registered</td>\n",
       "      <td>Name of each exchange on which registered</td>\n",
       "      <td>Name of each exchange on which registered</td>\n",
       "    </tr>\n",
       "    <tr>\n",
       "      <th>5</th>\n",
       "      <td>CVLT</td>\n",
       "      <td>&lt;PARTY&gt;</td>\n",
       "      <td>[**]</td>\n",
       "      <td>****</td>\n",
       "      <td>TURER INC</td>\n",
       "    </tr>\n",
       "    <tr>\n",
       "      <th>6</th>\n",
       "      <td>The NASDAQ Stock Market</td>\n",
       "      <td>The &lt;PARTY&gt;</td>\n",
       "      <td>The [*****************]</td>\n",
       "      <td>The ****</td>\n",
       "      <td>The TURER INC</td>\n",
       "    </tr>\n",
       "  </tbody>\n",
       "</table>\n",
       "</div>"
      ],
      "text/plain": [
       "                                                                                              Sentence  \\\n",
       "0                             REPORT PURSUANT TO SECTION 13 OR 15(d) OF THE SECURITIES EXCHANGE ACT OF   \n",
       "1                    Commvault Systems, Inc.  \\n(Exact name of registrant as specified in its charter)   \n",
       "2                                                                           Signed By : Sherly Johnson   \n",
       "3  (Address of principal executive offices, including zip code) \\n(732) 870-4000\\n(telephone number...   \n",
       "4                                                            Name of each exchange on which registered   \n",
       "5                                                                                                 CVLT   \n",
       "6                                                                              The NASDAQ Stock Market   \n",
       "\n",
       "                                                                                                Masked  \\\n",
       "0                             REPORT PURSUANT TO SECTION 13 OR 15(d) OF THE SECURITIES EXCHANGE ACT OF   \n",
       "1                                    <PARTY>  \\n(Exact name of registrant as specified in its charter)   \n",
       "2                                                                         Signed By : <SIGNING_PERSON>   \n",
       "3  (Address of principal executive offices, including zip code) \\n<PHONE>\\n(telephone number, inclu...   \n",
       "4                                                            Name of each exchange on which registered   \n",
       "5                                                                                              <PARTY>   \n",
       "6                                                                                          The <PARTY>   \n",
       "\n",
       "                                                                                     Masked with Chars  \\\n",
       "0                             REPORT PURSUANT TO SECTION 13 OR 15(d) OF THE SECURITIES EXCHANGE ACT OF   \n",
       "1                    [*********************]  \\n(Exact name of registrant as specified in its charter)   \n",
       "2                                                                           Signed By : [************]   \n",
       "3  (Address of principal executive offices, including zip code) \\n[************]\\n(telephone number...   \n",
       "4                                                            Name of each exchange on which registered   \n",
       "5                                                                                                 [**]   \n",
       "6                                                                              The [*****************]   \n",
       "\n",
       "                                                                               Masked with Fixed Chars  \\\n",
       "0                             REPORT PURSUANT TO SECTION 13 OR 15(d) OF THE SECURITIES EXCHANGE ACT OF   \n",
       "1                                       ****  \\n(Exact name of registrant as specified in its charter)   \n",
       "2                                                                                     Signed By : ****   \n",
       "3  (Address of principal executive offices, including zip code) \\n****\\n(telephone number, includin...   \n",
       "4                                                            Name of each exchange on which registered   \n",
       "5                                                                                                 ****   \n",
       "6                                                                                             The ****   \n",
       "\n",
       "                                                                                            Obfuscated  \n",
       "0                             REPORT PURSUANT TO SECTION 13 OR 15(d) OF THE SECURITIES EXCHANGE ACT OF  \n",
       "1                         John Snow Labs Inc  \\n(Exact name of registrant as specified in its charter)  \n",
       "2                                                                             Signed By : Dorothy Keen  \n",
       "3  (Address of principal executive offices, including zip code) \\n031460 3797\\n(telephone number, i...  \n",
       "4                                                            Name of each exchange on which registered  \n",
       "5                                                                                            TURER INC  \n",
       "6                                                                                        The TURER INC  "
      ]
     },
     "execution_count": 182,
     "metadata": {},
     "output_type": "execute_result"
    }
   ],
   "source": [
    "pd.set_option(\"display.max_colwidth\", 100)\n",
    "\n",
    "df= pd.DataFrame(list(zip(deid_res[\"sentence\"], \n",
    "                          deid_res[\"deidentified\"],\n",
    "                          deid_res[\"masked_with_chars\"],\n",
    "                          deid_res[\"masked_fixed_length_chars\"], \n",
    "                          deid_res[\"obfuscated\"])),\n",
    "                 columns= [\"Sentence\", \"Masked\", \"Masked with Chars\", \"Masked with Fixed Chars\", \"Obfuscated\"])\n",
    "\n",
    "df"
   ]
  }
 ],
 "metadata": {
  "kernelspec": {
   "display_name": "Python 3.9.5 64-bit",
   "language": "python",
   "name": "python3"
  },
  "language_info": {
   "codemirror_mode": {
    "name": "ipython",
    "version": 3
   },
   "file_extension": ".py",
   "mimetype": "text/x-python",
   "name": "python",
   "nbconvert_exporter": "python",
   "pygments_lexer": "ipython3",
   "version": "3.9.5"
  },
  "vscode": {
   "interpreter": {
    "hash": "ca1c4b8877e01dec1d65bc94ac0771fb7b4e7d433b24c0ced0afdc05f796f65d"
   }
  }
 },
 "nbformat": 4,
 "nbformat_minor": 5
}
