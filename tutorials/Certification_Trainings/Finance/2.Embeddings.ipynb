{
  "cells": [
    {
      "cell_type": "markdown",
      "source": [
        "![JohnSnowLabs](https://nlp.johnsnowlabs.com/assets/images/logo.png)"
      ],
      "metadata": {
        "id": "e9KViDTWeMEE"
      },
      "id": "e9KViDTWeMEE"
    },
    {
      "cell_type": "markdown",
      "source": [
        "[![Open In Colab](https://colab.research.google.com/assets/colab-badge.svg)](https://colab.research.google.com/github/JohnSnowLabs/spark-nlp-workshop/blob/master/tutorials/Certification_Trainings/Finance/2.Embeddings.ipynb)"
      ],
      "metadata": {
        "id": "kcSuGqjTeOAy"
      },
      "id": "kcSuGqjTeOAy"
    },
    {
      "cell_type": "markdown",
      "id": "69a14890-bc41-4765-9557-89a969c04d8f",
      "metadata": {
        "id": "69a14890-bc41-4765-9557-89a969c04d8f"
      },
      "source": [
        "# Finance Word and Sentence Embeddings visualization using PCA (Principal Component Analysis)"
      ]
    },
    {
      "cell_type": "markdown",
      "id": "5f982ae9-0570-4f90-bd30-c9d55d219e5b",
      "metadata": {
        "id": "5f982ae9-0570-4f90-bd30-c9d55d219e5b"
      },
      "source": [
        "Modern NLP models work with a numerical representation of texts and their menaning. For token classification problems (inferring a class for a token, for example Name Entity Recognition) Word Embeddings are required. For sentences, paragraph, document classification - we use Sentence Embeddings.\n",
        "\n",
        "In this notebook, we got token embeddings using Spark NLP Finance Word Embeddings(**bert_embeddings_sec_bert_base**) and using these token embeddings we got sentence embeddings by sparknlp annotator SentenceEmbeddings to get those numerical representations of the semantics of the texts. The result is a 768 embeddings matrix, impossible to process by the human eye.\n",
        "\n",
        "There are many techniques we can use to visualize those embeddings. We are using one of them - Principal Component Analysis, a dimensionality reduction process, carried out by Spark MLLib. Both embeddings have 768 dimensions, so we will reduced this dimensions from **768** to **3** (X, Y, Z) and will use a color for the word / sentence legend."
      ]
    },
    {
      "cell_type": "markdown",
      "id": "d07e14ba-b319-4d4a-b38d-5ed93debc5e6",
      "metadata": {
        "id": "d07e14ba-b319-4d4a-b38d-5ed93debc5e6"
      },
      "source": [
        "## Import Required Library"
      ]
    },
    {
      "cell_type": "code",
      "execution_count": null,
      "id": "80fb4682-4f77-40aa-98de-cf407b19e351",
      "metadata": {
        "id": "80fb4682-4f77-40aa-98de-cf407b19e351"
      },
      "outputs": [],
      "source": [
        "# Installing plotly\n",
        "! pip install plotly\n",
        "\n",
        "# Installing pyspark and spark-nlp\n",
        "! pip install --upgrade -q pyspark==3.1.2 spark-nlp==4.0.0\n"
      ]
    },
    {
      "cell_type": "markdown",
      "id": "30e98304-98ef-4de6-9a54-58c255ea0458",
      "metadata": {
        "id": "30e98304-98ef-4de6-9a54-58c255ea0458"
      },
      "source": [
        "## Start Spark Session"
      ]
    },
    {
      "cell_type": "code",
      "execution_count": null,
      "id": "1d5baade-3c39-49e5-a47c-0a2a9d3eae54",
      "metadata": {
        "tags": [],
        "colab": {
          "base_uri": "https://localhost:8080/",
          "height": 240
        },
        "id": "1d5baade-3c39-49e5-a47c-0a2a9d3eae54",
        "outputId": "4a5e04e1-be59-4764-ec25-3bd9f24c82db"
      },
      "outputs": [
        {
          "output_type": "stream",
          "name": "stdout",
          "text": [
            "Spark NLP Version : 4.0.0\n"
          ]
        },
        {
          "output_type": "execute_result",
          "data": {
            "text/plain": [
              "<pyspark.sql.session.SparkSession at 0x7f663828cfd0>"
            ],
            "text/html": [
              "\n",
              "            <div>\n",
              "                <p><b>SparkSession - in-memory</b></p>\n",
              "                \n",
              "        <div>\n",
              "            <p><b>SparkContext</b></p>\n",
              "\n",
              "            <p><a href=\"http://28c67a626700:4040\">Spark UI</a></p>\n",
              "\n",
              "            <dl>\n",
              "              <dt>Version</dt>\n",
              "                <dd><code>v3.1.2</code></dd>\n",
              "              <dt>Master</dt>\n",
              "                <dd><code>local[*]</code></dd>\n",
              "              <dt>AppName</dt>\n",
              "                <dd><code>Spark NLP</code></dd>\n",
              "            </dl>\n",
              "        </div>\n",
              "        \n",
              "            </div>\n",
              "        "
            ]
          },
          "metadata": {},
          "execution_count": 2
        }
      ],
      "source": [
        "import json\n",
        "from sparknlp.annotator import *\n",
        "from sparknlp.base import *\n",
        "import sparknlp\n",
        "\n",
        "import pyspark\n",
        "from pyspark.sql import SparkSession\n",
        "from pyspark.ml import PipelineModel\n",
        "from pyspark.sql import functions as F\n",
        "\n",
        "from pyspark import keyword_only\n",
        "from pyspark.ml import Pipeline\n",
        "from pyspark.ml import Transformer\n",
        "from pyspark.ml.feature import PCA\n",
        "from pyspark.ml.functions import vector_to_array\n",
        "from pyspark.ml.linalg import Vectors, VectorUDT\n",
        "from pyspark.ml.param.shared import HasInputCol, HasOutputCol\n",
        "from pyspark.ml.util import DefaultParamsReadable, DefaultParamsWritable\n",
        "from pyspark.sql import DataFrame\n",
        "from pyspark.sql import Window\n",
        "from pyspark.sql import types as T\n",
        "\n",
        "import pandas as pd\n",
        "import warnings\n",
        "warnings.filterwarnings('ignore')\n",
        "\n",
        "print (\"Spark NLP Version :\", sparknlp.version())\n",
        "\n",
        "spark = sparknlp.start()\n",
        "\n",
        "spark"
      ]
    },
    {
      "cell_type": "markdown",
      "id": "4b7c011d-eac8-4eda-b272-027bab6a8895",
      "metadata": {
        "id": "4b7c011d-eac8-4eda-b272-027bab6a8895"
      },
      "source": [
        "# Get sample text"
      ]
    },
    {
      "cell_type": "code",
      "source": [
        "# Downloading sample datasets.\n",
        "! wget -q https://raw.githubusercontent.com/JohnSnowLabs/spark-nlp-workshop/master/tutorials/Certification_Trainings/Finance/data/finance_pca_samples.csv"
      ],
      "metadata": {
        "id": "XvEU36EbfUZH"
      },
      "id": "XvEU36EbfUZH",
      "execution_count": null,
      "outputs": []
    },
    {
      "cell_type": "code",
      "execution_count": null,
      "id": "5f411a9b-9744-4f77-bdb9-58702260b5b0",
      "metadata": {
        "id": "5f411a9b-9744-4f77-bdb9-58702260b5b0"
      },
      "outputs": [],
      "source": [
        "df = pd.read_csv(\"finance_pca_samples.csv\")"
      ]
    },
    {
      "cell_type": "code",
      "execution_count": null,
      "id": "3977898f-24e8-43d6-a338-80f3bf8ad2a1",
      "metadata": {
        "tags": [],
        "colab": {
          "base_uri": "https://localhost:8080/"
        },
        "id": "3977898f-24e8-43d6-a338-80f3bf8ad2a1",
        "outputId": "48d8cfd6-44ff-4490-9c04-1d9b832f5b61"
      },
      "outputs": [
        {
          "output_type": "stream",
          "name": "stdout",
          "text": [
            "+--------------------+----------------+\n",
            "|                text|           label|\n",
            "+--------------------+----------------+\n",
            "|I called Huntingt...|        Accounts|\n",
            "|I opened an citi ...|        Accounts|\n",
            "|I have been a lon...|    Credit Cards|\n",
            "|My credit limit w...|    Credit Cards|\n",
            "|I am filing this ...|Credit Reporting|\n",
            "|The Credit Bureau...|Credit Reporting|\n",
            "|I noticed an arti...| Debt Collection|\n",
            "|A bank account wa...| Debt Collection|\n",
            "|I was contacted v...|           Loans|\n",
            "|My husband recent...|           Loans|\n",
            "|I wire transfered...| Money Transfers|\n",
            "|PayPal holds fund...| Money Transfers|\n",
            "|We have requested...|        Mortgage|\n",
            "|I filled out a co...|        Mortgage|\n",
            "+--------------------+----------------+\n",
            "\n"
          ]
        }
      ],
      "source": [
        "# Create spark dataframe\n",
        "sdf = spark.createDataFrame(df)\n",
        "sdf.show()"
      ]
    },
    {
      "cell_type": "markdown",
      "id": "5de27fdb-3fc1-4d58-8505-4f02238635b8",
      "metadata": {
        "id": "5de27fdb-3fc1-4d58-8505-4f02238635b8"
      },
      "source": [
        "# Pipeline with Spark NLP and Spark MLLIB"
      ]
    },
    {
      "cell_type": "code",
      "source": [
        "# We defined a generic pipeline for word and sentence embeddings\n",
        "\n",
        "def generic_pipeline():\n",
        "  document_assembler = DocumentAssembler()\\\n",
        "    .setInputCol(\"text\")\\\n",
        "    .setOutputCol(\"document\")\n",
        "\n",
        "  tokenizer = Tokenizer()\\\n",
        "      .setInputCols(\"document\")\\\n",
        "      .setOutputCol(\"token\")\n",
        "\n",
        "  word_embeddings = BertEmbeddings.pretrained(\"bert_embeddings_sec_bert_base\",\"en\")\\\n",
        "      .setInputCols([\"document\", \"token\"])\\\n",
        "      .setOutputCol(\"word_embeddings\")\n",
        "\n",
        "  pipeline = Pipeline(stages = [\n",
        "      document_assembler,\n",
        "      tokenizer,\n",
        "      word_embeddings\n",
        "  ])\n",
        "\n",
        "  return pipeline\n",
        "\n"
      ],
      "metadata": {
        "id": "YwQjfHcM_a4q"
      },
      "id": "YwQjfHcM_a4q",
      "execution_count": null,
      "outputs": []
    },
    {
      "cell_type": "markdown",
      "id": "d751fd45-9810-4b43-b893-0d373e8d4870",
      "metadata": {
        "id": "d751fd45-9810-4b43-b893-0d373e8d4870"
      },
      "source": [
        "## Sentence Embeddings"
      ]
    },
    {
      "cell_type": "code",
      "execution_count": null,
      "id": "b990cfd8-576f-4057-a548-0434d39897bd",
      "metadata": {
        "tags": [],
        "id": "b990cfd8-576f-4057-a548-0434d39897bd"
      },
      "outputs": [],
      "source": [
        "embeddings_sentence = SentenceEmbeddings()\\\n",
        "    .setInputCols([\"document\", \"word_embeddings\"])\\\n",
        "    .setOutputCol(\"sentence_embeddings\")\\\n",
        "    .setPoolingStrategy(\"AVERAGE\")\n",
        "# We used sparknlp SentenceEmbeddings anootator to get each sentence embeddings from token embeddings"
      ]
    },
    {
      "cell_type": "markdown",
      "id": "fde3b08f-6187-43fd-8d7b-3fe6da054c18",
      "metadata": {
        "id": "fde3b08f-6187-43fd-8d7b-3fe6da054c18"
      },
      "source": [
        "# Custom transform to retrieve the numerical embeddings from Spark NLP and pass it to Spark MLLib"
      ]
    },
    {
      "cell_type": "code",
      "execution_count": null,
      "id": "30cfff3f-487b-4808-8b32-f54fc443777b",
      "metadata": {
        "id": "30cfff3f-487b-4808-8b32-f54fc443777b"
      },
      "outputs": [],
      "source": [
        "# This class extracts the embeddings from the Spark NLP Annotation object\n",
        "class EmbeddingsUDF(\n",
        "    Transformer, HasInputCol, HasOutputCol,\n",
        "    DefaultParamsReadable, DefaultParamsWritable\n",
        "):\n",
        "    @keyword_only\n",
        "    def __init__(self):\n",
        "        super(EmbeddingsUDF, self).__init__()\n",
        "\n",
        "        def _sum(r):\n",
        "            result = 0.0\n",
        "            for e in r:\n",
        "                result += e\n",
        "            return result\n",
        "\n",
        "        self.udfs = {\n",
        "            'convertToVectorUDF': F.udf(lambda vs: Vectors.dense(vs), VectorUDT()),\n",
        "            'sumUDF': F.udf(lambda r: _sum(r), T.FloatType())\n",
        "        }\n",
        "\n",
        "    def _transform(self, dataset):\n",
        "\n",
        "        results = dataset.select(\n",
        "            \"*\", F.explode(\"sentence_embeddings.embeddings\").alias(\"embeddings\")\n",
        "        )\n",
        "        results = results.withColumn(\n",
        "            \"features\",\n",
        "            self.udfs['convertToVectorUDF'](F.col(\"embeddings\"))\n",
        "        )\n",
        "        results = results.withColumn(\n",
        "            \"emb_sum\",\n",
        "            self.udfs['sumUDF'](F.col(\"embeddings\"))\n",
        "        )\n",
        "        # Remove those with embeddings all zeroes (so we can calculate cosine distance)\n",
        "        results = results.where(F.col(\"emb_sum\")!=0.0)\n",
        "\n",
        "        return results"
      ]
    },
    {
      "cell_type": "code",
      "execution_count": null,
      "id": "5f82e139-1cc3-423d-9d53-c0ccfec835c2",
      "metadata": {
        "id": "5f82e139-1cc3-423d-9d53-c0ccfec835c2"
      },
      "outputs": [],
      "source": [
        "embeddings_for_pca = EmbeddingsUDF()"
      ]
    },
    {
      "cell_type": "code",
      "execution_count": null,
      "id": "5213dfcf-61bc-4db2-a8c7-797a318a13f4",
      "metadata": {
        "id": "5213dfcf-61bc-4db2-a8c7-797a318a13f4"
      },
      "outputs": [],
      "source": [
        "DIMENSIONS  = 3"
      ]
    },
    {
      "cell_type": "code",
      "execution_count": null,
      "id": "285ba04a-dbe2-4f53-9aa0-fc66ba783e14",
      "metadata": {
        "id": "285ba04a-dbe2-4f53-9aa0-fc66ba783e14"
      },
      "outputs": [],
      "source": [
        "pca = pyspark.ml.feature.PCA(k=DIMENSIONS, inputCol=\"features\", outputCol=\"pca_features\")"
      ]
    },
    {
      "cell_type": "markdown",
      "id": "82f95669-0f8e-491b-b6d8-33f590aa06cf",
      "metadata": {
        "id": "82f95669-0f8e-491b-b6d8-33f590aa06cf"
      },
      "source": [
        "### Full Spark NLP + Spark MLLib pipeline"
      ]
    },
    {
      "cell_type": "code",
      "execution_count": null,
      "id": "c279de78-563f-474c-8d3e-3c72243bb04b",
      "metadata": {
        "colab": {
          "base_uri": "https://localhost:8080/"
        },
        "id": "c279de78-563f-474c-8d3e-3c72243bb04b",
        "outputId": "47ca5289-a83c-4fcf-db73-1cd157455e6d"
      },
      "outputs": [
        {
          "output_type": "stream",
          "name": "stdout",
          "text": [
            "bert_embeddings_sec_bert_base download started this may take some time.\n",
            "Approximate size to download 390.4 MB\n",
            "[OK!]\n"
          ]
        }
      ],
      "source": [
        "# We did all process in one pipeline\n",
        "pipeline = Pipeline().setStages([generic_pipeline(), embeddings_sentence, embeddings_for_pca, pca])"
      ]
    },
    {
      "cell_type": "code",
      "execution_count": null,
      "id": "0d46c615-d2b6-408a-99c3-bac0f824dcf4",
      "metadata": {
        "id": "0d46c615-d2b6-408a-99c3-bac0f824dcf4"
      },
      "outputs": [],
      "source": [
        "model = pipeline.fit(sdf)"
      ]
    },
    {
      "cell_type": "code",
      "execution_count": null,
      "id": "4d52ebe0-4257-4354-817f-5b8f2a363b8e",
      "metadata": {
        "id": "4d52ebe0-4257-4354-817f-5b8f2a363b8e"
      },
      "outputs": [],
      "source": [
        "result = model.transform(sdf)"
      ]
    },
    {
      "cell_type": "code",
      "execution_count": null,
      "id": "7b852cad-e1e7-48bc-94b0-9da7188a9727",
      "metadata": {
        "colab": {
          "base_uri": "https://localhost:8080/"
        },
        "id": "7b852cad-e1e7-48bc-94b0-9da7188a9727",
        "outputId": "36824cb4-8dec-4f90-dc7f-cb3855a9b1f8"
      },
      "outputs": [
        {
          "output_type": "stream",
          "name": "stdout",
          "text": [
            "+--------------------------------------------------------------+----------------+\n",
            "|pca_features                                                  |label           |\n",
            "+--------------------------------------------------------------+----------------+\n",
            "|[3.395766503060028,-1.0603627660799957,-1.5687926035355224]   |Accounts        |\n",
            "|[2.3660879256962364,0.8591939157072356,-0.8066160065217075]   |Accounts        |\n",
            "|[0.6867755242066031,1.4823952348657887,0.00659347590660861]   |Credit Cards    |\n",
            "|[-0.28833949626868444,1.0031545461252716,-0.7963772156325524] |Credit Cards    |\n",
            "|[-0.5037780043184451,-1.3771577732968643,0.4449742283848416]  |Credit Reporting|\n",
            "|[1.039759231614626,-1.7194163703349983,1.8539397995641318]    |Credit Reporting|\n",
            "|[2.7731725080459433,1.1680247576296168,1.3949450231450957]    |Debt Collection |\n",
            "|[-0.4595069206464354,0.8339685731704531,0.5051715356279516]   |Debt Collection |\n",
            "|[0.27031089266955766,1.106941385143897,-0.42475361940570316]  |Loans           |\n",
            "|[0.8662548164505043,1.1435248866274266,0.8703560851126931]    |Loans           |\n",
            "|[-0.7580933383123739,0.6312439265742045,0.6829091404935786]   |Money Transfers |\n",
            "|[0.38557974337505374,-1.4420991939271133,-0.19825257830556373]|Money Transfers |\n",
            "|[2.456906603474993,0.3302571821195308,1.2981748141039433]     |Mortgage        |\n",
            "|[2.3553304704661833,0.8329483309862308,1.3904090804401406]    |Mortgage        |\n",
            "+--------------------------------------------------------------+----------------+\n",
            "\n"
          ]
        }
      ],
      "source": [
        "result.select('pca_features', 'label').show(truncate=False)"
      ]
    },
    {
      "cell_type": "code",
      "execution_count": null,
      "id": "adbf7811-b04c-4f63-88e4-10e51341ce0f",
      "metadata": {
        "colab": {
          "base_uri": "https://localhost:8080/",
          "height": 488
        },
        "id": "adbf7811-b04c-4f63-88e4-10e51341ce0f",
        "outputId": "f441b6f0-1e35-43cb-cee6-e9084f4d82a1"
      },
      "outputs": [
        {
          "output_type": "execute_result",
          "data": {
            "text/plain": [
              "                                         pca_features             label\n",
              "0   [3.395766503060028, -1.0603627660799957, -1.56...          Accounts\n",
              "1   [2.3660879256962364, 0.8591939157072356, -0.80...          Accounts\n",
              "2   [0.6867755242066031, 1.4823952348657887, 0.006...      Credit Cards\n",
              "3   [-0.28833949626868444, 1.0031545461252716, -0....      Credit Cards\n",
              "4   [-0.5037780043184451, -1.3771577732968643, 0.4...  Credit Reporting\n",
              "5   [1.039759231614626, -1.7194163703349983, 1.853...  Credit Reporting\n",
              "6   [2.7731725080459433, 1.1680247576296168, 1.394...   Debt Collection\n",
              "7   [-0.4595069206464354, 0.8339685731704531, 0.50...   Debt Collection\n",
              "8   [0.27031089266955766, 1.106941385143897, -0.42...             Loans\n",
              "9   [0.8662548164505043, 1.1435248866274266, 0.870...             Loans\n",
              "10  [-0.7580933383123739, 0.6312439265742045, 0.68...   Money Transfers\n",
              "11  [0.38557974337505374, -1.4420991939271133, -0....   Money Transfers\n",
              "12  [2.456906603474993, 0.3302571821195308, 1.2981...          Mortgage\n",
              "13  [2.3553304704661833, 0.8329483309862308, 1.390...          Mortgage"
            ],
            "text/html": [
              "\n",
              "  <div id=\"df-697ed331-452a-47cb-8b19-79770dd6046d\">\n",
              "    <div class=\"colab-df-container\">\n",
              "      <div>\n",
              "<style scoped>\n",
              "    .dataframe tbody tr th:only-of-type {\n",
              "        vertical-align: middle;\n",
              "    }\n",
              "\n",
              "    .dataframe tbody tr th {\n",
              "        vertical-align: top;\n",
              "    }\n",
              "\n",
              "    .dataframe thead th {\n",
              "        text-align: right;\n",
              "    }\n",
              "</style>\n",
              "<table border=\"1\" class=\"dataframe\">\n",
              "  <thead>\n",
              "    <tr style=\"text-align: right;\">\n",
              "      <th></th>\n",
              "      <th>pca_features</th>\n",
              "      <th>label</th>\n",
              "    </tr>\n",
              "  </thead>\n",
              "  <tbody>\n",
              "    <tr>\n",
              "      <th>0</th>\n",
              "      <td>[3.395766503060028, -1.0603627660799957, -1.56...</td>\n",
              "      <td>Accounts</td>\n",
              "    </tr>\n",
              "    <tr>\n",
              "      <th>1</th>\n",
              "      <td>[2.3660879256962364, 0.8591939157072356, -0.80...</td>\n",
              "      <td>Accounts</td>\n",
              "    </tr>\n",
              "    <tr>\n",
              "      <th>2</th>\n",
              "      <td>[0.6867755242066031, 1.4823952348657887, 0.006...</td>\n",
              "      <td>Credit Cards</td>\n",
              "    </tr>\n",
              "    <tr>\n",
              "      <th>3</th>\n",
              "      <td>[-0.28833949626868444, 1.0031545461252716, -0....</td>\n",
              "      <td>Credit Cards</td>\n",
              "    </tr>\n",
              "    <tr>\n",
              "      <th>4</th>\n",
              "      <td>[-0.5037780043184451, -1.3771577732968643, 0.4...</td>\n",
              "      <td>Credit Reporting</td>\n",
              "    </tr>\n",
              "    <tr>\n",
              "      <th>5</th>\n",
              "      <td>[1.039759231614626, -1.7194163703349983, 1.853...</td>\n",
              "      <td>Credit Reporting</td>\n",
              "    </tr>\n",
              "    <tr>\n",
              "      <th>6</th>\n",
              "      <td>[2.7731725080459433, 1.1680247576296168, 1.394...</td>\n",
              "      <td>Debt Collection</td>\n",
              "    </tr>\n",
              "    <tr>\n",
              "      <th>7</th>\n",
              "      <td>[-0.4595069206464354, 0.8339685731704531, 0.50...</td>\n",
              "      <td>Debt Collection</td>\n",
              "    </tr>\n",
              "    <tr>\n",
              "      <th>8</th>\n",
              "      <td>[0.27031089266955766, 1.106941385143897, -0.42...</td>\n",
              "      <td>Loans</td>\n",
              "    </tr>\n",
              "    <tr>\n",
              "      <th>9</th>\n",
              "      <td>[0.8662548164505043, 1.1435248866274266, 0.870...</td>\n",
              "      <td>Loans</td>\n",
              "    </tr>\n",
              "    <tr>\n",
              "      <th>10</th>\n",
              "      <td>[-0.7580933383123739, 0.6312439265742045, 0.68...</td>\n",
              "      <td>Money Transfers</td>\n",
              "    </tr>\n",
              "    <tr>\n",
              "      <th>11</th>\n",
              "      <td>[0.38557974337505374, -1.4420991939271133, -0....</td>\n",
              "      <td>Money Transfers</td>\n",
              "    </tr>\n",
              "    <tr>\n",
              "      <th>12</th>\n",
              "      <td>[2.456906603474993, 0.3302571821195308, 1.2981...</td>\n",
              "      <td>Mortgage</td>\n",
              "    </tr>\n",
              "    <tr>\n",
              "      <th>13</th>\n",
              "      <td>[2.3553304704661833, 0.8329483309862308, 1.390...</td>\n",
              "      <td>Mortgage</td>\n",
              "    </tr>\n",
              "  </tbody>\n",
              "</table>\n",
              "</div>\n",
              "      <button class=\"colab-df-convert\" onclick=\"convertToInteractive('df-697ed331-452a-47cb-8b19-79770dd6046d')\"\n",
              "              title=\"Convert this dataframe to an interactive table.\"\n",
              "              style=\"display:none;\">\n",
              "        \n",
              "  <svg xmlns=\"http://www.w3.org/2000/svg\" height=\"24px\"viewBox=\"0 0 24 24\"\n",
              "       width=\"24px\">\n",
              "    <path d=\"M0 0h24v24H0V0z\" fill=\"none\"/>\n",
              "    <path d=\"M18.56 5.44l.94 2.06.94-2.06 2.06-.94-2.06-.94-.94-2.06-.94 2.06-2.06.94zm-11 1L8.5 8.5l.94-2.06 2.06-.94-2.06-.94L8.5 2.5l-.94 2.06-2.06.94zm10 10l.94 2.06.94-2.06 2.06-.94-2.06-.94-.94-2.06-.94 2.06-2.06.94z\"/><path d=\"M17.41 7.96l-1.37-1.37c-.4-.4-.92-.59-1.43-.59-.52 0-1.04.2-1.43.59L10.3 9.45l-7.72 7.72c-.78.78-.78 2.05 0 2.83L4 21.41c.39.39.9.59 1.41.59.51 0 1.02-.2 1.41-.59l7.78-7.78 2.81-2.81c.8-.78.8-2.07 0-2.86zM5.41 20L4 18.59l7.72-7.72 1.47 1.35L5.41 20z\"/>\n",
              "  </svg>\n",
              "      </button>\n",
              "      \n",
              "  <style>\n",
              "    .colab-df-container {\n",
              "      display:flex;\n",
              "      flex-wrap:wrap;\n",
              "      gap: 12px;\n",
              "    }\n",
              "\n",
              "    .colab-df-convert {\n",
              "      background-color: #E8F0FE;\n",
              "      border: none;\n",
              "      border-radius: 50%;\n",
              "      cursor: pointer;\n",
              "      display: none;\n",
              "      fill: #1967D2;\n",
              "      height: 32px;\n",
              "      padding: 0 0 0 0;\n",
              "      width: 32px;\n",
              "    }\n",
              "\n",
              "    .colab-df-convert:hover {\n",
              "      background-color: #E2EBFA;\n",
              "      box-shadow: 0px 1px 2px rgba(60, 64, 67, 0.3), 0px 1px 3px 1px rgba(60, 64, 67, 0.15);\n",
              "      fill: #174EA6;\n",
              "    }\n",
              "\n",
              "    [theme=dark] .colab-df-convert {\n",
              "      background-color: #3B4455;\n",
              "      fill: #D2E3FC;\n",
              "    }\n",
              "\n",
              "    [theme=dark] .colab-df-convert:hover {\n",
              "      background-color: #434B5C;\n",
              "      box-shadow: 0px 1px 3px 1px rgba(0, 0, 0, 0.15);\n",
              "      filter: drop-shadow(0px 1px 2px rgba(0, 0, 0, 0.3));\n",
              "      fill: #FFFFFF;\n",
              "    }\n",
              "  </style>\n",
              "\n",
              "      <script>\n",
              "        const buttonEl =\n",
              "          document.querySelector('#df-697ed331-452a-47cb-8b19-79770dd6046d button.colab-df-convert');\n",
              "        buttonEl.style.display =\n",
              "          google.colab.kernel.accessAllowed ? 'block' : 'none';\n",
              "\n",
              "        async function convertToInteractive(key) {\n",
              "          const element = document.querySelector('#df-697ed331-452a-47cb-8b19-79770dd6046d');\n",
              "          const dataTable =\n",
              "            await google.colab.kernel.invokeFunction('convertToInteractive',\n",
              "                                                     [key], {});\n",
              "          if (!dataTable) return;\n",
              "\n",
              "          const docLinkHtml = 'Like what you see? Visit the ' +\n",
              "            '<a target=\"_blank\" href=https://colab.research.google.com/notebooks/data_table.ipynb>data table notebook</a>'\n",
              "            + ' to learn more about interactive tables.';\n",
              "          element.innerHTML = '';\n",
              "          dataTable['output_type'] = 'display_data';\n",
              "          await google.colab.output.renderOutput(dataTable, element);\n",
              "          const docLink = document.createElement('div');\n",
              "          docLink.innerHTML = docLinkHtml;\n",
              "          element.appendChild(docLink);\n",
              "        }\n",
              "      </script>\n",
              "    </div>\n",
              "  </div>\n",
              "  "
            ]
          },
          "metadata": {},
          "execution_count": 74
        }
      ],
      "source": [
        "df = result.select('pca_features', 'label').toPandas()\n",
        "\n",
        "df\n",
        "# As you see, dimension values are inside a list"
      ]
    },
    {
      "cell_type": "code",
      "execution_count": null,
      "id": "5c3707de-8ff4-49b7-89c2-85e9616bc337",
      "metadata": {
        "colab": {
          "base_uri": "https://localhost:8080/",
          "height": 488
        },
        "id": "5c3707de-8ff4-49b7-89c2-85e9616bc337",
        "outputId": "1a9b281c-5e8c-4c3f-ade9-24a2479f5bc4"
      },
      "outputs": [
        {
          "output_type": "execute_result",
          "data": {
            "text/plain": [
              "           x         y         z             label\n",
              "0   3.395767 -1.060363 -1.568793          Accounts\n",
              "1   2.366088  0.859194 -0.806616          Accounts\n",
              "2   0.686776  1.482395  0.006593      Credit Cards\n",
              "3  -0.288339  1.003155 -0.796377      Credit Cards\n",
              "4  -0.503778 -1.377158  0.444974  Credit Reporting\n",
              "5   1.039759 -1.719416  1.853940  Credit Reporting\n",
              "6   2.773173  1.168025  1.394945   Debt Collection\n",
              "7  -0.459507  0.833969  0.505172   Debt Collection\n",
              "8   0.270311  1.106941 -0.424754             Loans\n",
              "9   0.866255  1.143525  0.870356             Loans\n",
              "10 -0.758093  0.631244  0.682909   Money Transfers\n",
              "11  0.385580 -1.442099 -0.198253   Money Transfers\n",
              "12  2.456907  0.330257  1.298175          Mortgage\n",
              "13  2.355330  0.832948  1.390409          Mortgage"
            ],
            "text/html": [
              "\n",
              "  <div id=\"df-00c9c2b0-6040-44cb-818d-c235806266de\">\n",
              "    <div class=\"colab-df-container\">\n",
              "      <div>\n",
              "<style scoped>\n",
              "    .dataframe tbody tr th:only-of-type {\n",
              "        vertical-align: middle;\n",
              "    }\n",
              "\n",
              "    .dataframe tbody tr th {\n",
              "        vertical-align: top;\n",
              "    }\n",
              "\n",
              "    .dataframe thead th {\n",
              "        text-align: right;\n",
              "    }\n",
              "</style>\n",
              "<table border=\"1\" class=\"dataframe\">\n",
              "  <thead>\n",
              "    <tr style=\"text-align: right;\">\n",
              "      <th></th>\n",
              "      <th>x</th>\n",
              "      <th>y</th>\n",
              "      <th>z</th>\n",
              "      <th>label</th>\n",
              "    </tr>\n",
              "  </thead>\n",
              "  <tbody>\n",
              "    <tr>\n",
              "      <th>0</th>\n",
              "      <td>3.395767</td>\n",
              "      <td>-1.060363</td>\n",
              "      <td>-1.568793</td>\n",
              "      <td>Accounts</td>\n",
              "    </tr>\n",
              "    <tr>\n",
              "      <th>1</th>\n",
              "      <td>2.366088</td>\n",
              "      <td>0.859194</td>\n",
              "      <td>-0.806616</td>\n",
              "      <td>Accounts</td>\n",
              "    </tr>\n",
              "    <tr>\n",
              "      <th>2</th>\n",
              "      <td>0.686776</td>\n",
              "      <td>1.482395</td>\n",
              "      <td>0.006593</td>\n",
              "      <td>Credit Cards</td>\n",
              "    </tr>\n",
              "    <tr>\n",
              "      <th>3</th>\n",
              "      <td>-0.288339</td>\n",
              "      <td>1.003155</td>\n",
              "      <td>-0.796377</td>\n",
              "      <td>Credit Cards</td>\n",
              "    </tr>\n",
              "    <tr>\n",
              "      <th>4</th>\n",
              "      <td>-0.503778</td>\n",
              "      <td>-1.377158</td>\n",
              "      <td>0.444974</td>\n",
              "      <td>Credit Reporting</td>\n",
              "    </tr>\n",
              "    <tr>\n",
              "      <th>5</th>\n",
              "      <td>1.039759</td>\n",
              "      <td>-1.719416</td>\n",
              "      <td>1.853940</td>\n",
              "      <td>Credit Reporting</td>\n",
              "    </tr>\n",
              "    <tr>\n",
              "      <th>6</th>\n",
              "      <td>2.773173</td>\n",
              "      <td>1.168025</td>\n",
              "      <td>1.394945</td>\n",
              "      <td>Debt Collection</td>\n",
              "    </tr>\n",
              "    <tr>\n",
              "      <th>7</th>\n",
              "      <td>-0.459507</td>\n",
              "      <td>0.833969</td>\n",
              "      <td>0.505172</td>\n",
              "      <td>Debt Collection</td>\n",
              "    </tr>\n",
              "    <tr>\n",
              "      <th>8</th>\n",
              "      <td>0.270311</td>\n",
              "      <td>1.106941</td>\n",
              "      <td>-0.424754</td>\n",
              "      <td>Loans</td>\n",
              "    </tr>\n",
              "    <tr>\n",
              "      <th>9</th>\n",
              "      <td>0.866255</td>\n",
              "      <td>1.143525</td>\n",
              "      <td>0.870356</td>\n",
              "      <td>Loans</td>\n",
              "    </tr>\n",
              "    <tr>\n",
              "      <th>10</th>\n",
              "      <td>-0.758093</td>\n",
              "      <td>0.631244</td>\n",
              "      <td>0.682909</td>\n",
              "      <td>Money Transfers</td>\n",
              "    </tr>\n",
              "    <tr>\n",
              "      <th>11</th>\n",
              "      <td>0.385580</td>\n",
              "      <td>-1.442099</td>\n",
              "      <td>-0.198253</td>\n",
              "      <td>Money Transfers</td>\n",
              "    </tr>\n",
              "    <tr>\n",
              "      <th>12</th>\n",
              "      <td>2.456907</td>\n",
              "      <td>0.330257</td>\n",
              "      <td>1.298175</td>\n",
              "      <td>Mortgage</td>\n",
              "    </tr>\n",
              "    <tr>\n",
              "      <th>13</th>\n",
              "      <td>2.355330</td>\n",
              "      <td>0.832948</td>\n",
              "      <td>1.390409</td>\n",
              "      <td>Mortgage</td>\n",
              "    </tr>\n",
              "  </tbody>\n",
              "</table>\n",
              "</div>\n",
              "      <button class=\"colab-df-convert\" onclick=\"convertToInteractive('df-00c9c2b0-6040-44cb-818d-c235806266de')\"\n",
              "              title=\"Convert this dataframe to an interactive table.\"\n",
              "              style=\"display:none;\">\n",
              "        \n",
              "  <svg xmlns=\"http://www.w3.org/2000/svg\" height=\"24px\"viewBox=\"0 0 24 24\"\n",
              "       width=\"24px\">\n",
              "    <path d=\"M0 0h24v24H0V0z\" fill=\"none\"/>\n",
              "    <path d=\"M18.56 5.44l.94 2.06.94-2.06 2.06-.94-2.06-.94-.94-2.06-.94 2.06-2.06.94zm-11 1L8.5 8.5l.94-2.06 2.06-.94-2.06-.94L8.5 2.5l-.94 2.06-2.06.94zm10 10l.94 2.06.94-2.06 2.06-.94-2.06-.94-.94-2.06-.94 2.06-2.06.94z\"/><path d=\"M17.41 7.96l-1.37-1.37c-.4-.4-.92-.59-1.43-.59-.52 0-1.04.2-1.43.59L10.3 9.45l-7.72 7.72c-.78.78-.78 2.05 0 2.83L4 21.41c.39.39.9.59 1.41.59.51 0 1.02-.2 1.41-.59l7.78-7.78 2.81-2.81c.8-.78.8-2.07 0-2.86zM5.41 20L4 18.59l7.72-7.72 1.47 1.35L5.41 20z\"/>\n",
              "  </svg>\n",
              "      </button>\n",
              "      \n",
              "  <style>\n",
              "    .colab-df-container {\n",
              "      display:flex;\n",
              "      flex-wrap:wrap;\n",
              "      gap: 12px;\n",
              "    }\n",
              "\n",
              "    .colab-df-convert {\n",
              "      background-color: #E8F0FE;\n",
              "      border: none;\n",
              "      border-radius: 50%;\n",
              "      cursor: pointer;\n",
              "      display: none;\n",
              "      fill: #1967D2;\n",
              "      height: 32px;\n",
              "      padding: 0 0 0 0;\n",
              "      width: 32px;\n",
              "    }\n",
              "\n",
              "    .colab-df-convert:hover {\n",
              "      background-color: #E2EBFA;\n",
              "      box-shadow: 0px 1px 2px rgba(60, 64, 67, 0.3), 0px 1px 3px 1px rgba(60, 64, 67, 0.15);\n",
              "      fill: #174EA6;\n",
              "    }\n",
              "\n",
              "    [theme=dark] .colab-df-convert {\n",
              "      background-color: #3B4455;\n",
              "      fill: #D2E3FC;\n",
              "    }\n",
              "\n",
              "    [theme=dark] .colab-df-convert:hover {\n",
              "      background-color: #434B5C;\n",
              "      box-shadow: 0px 1px 3px 1px rgba(0, 0, 0, 0.15);\n",
              "      filter: drop-shadow(0px 1px 2px rgba(0, 0, 0, 0.3));\n",
              "      fill: #FFFFFF;\n",
              "    }\n",
              "  </style>\n",
              "\n",
              "      <script>\n",
              "        const buttonEl =\n",
              "          document.querySelector('#df-00c9c2b0-6040-44cb-818d-c235806266de button.colab-df-convert');\n",
              "        buttonEl.style.display =\n",
              "          google.colab.kernel.accessAllowed ? 'block' : 'none';\n",
              "\n",
              "        async function convertToInteractive(key) {\n",
              "          const element = document.querySelector('#df-00c9c2b0-6040-44cb-818d-c235806266de');\n",
              "          const dataTable =\n",
              "            await google.colab.kernel.invokeFunction('convertToInteractive',\n",
              "                                                     [key], {});\n",
              "          if (!dataTable) return;\n",
              "\n",
              "          const docLinkHtml = 'Like what you see? Visit the ' +\n",
              "            '<a target=\"_blank\" href=https://colab.research.google.com/notebooks/data_table.ipynb>data table notebook</a>'\n",
              "            + ' to learn more about interactive tables.';\n",
              "          element.innerHTML = '';\n",
              "          dataTable['output_type'] = 'display_data';\n",
              "          await google.colab.output.renderOutput(dataTable, element);\n",
              "          const docLink = document.createElement('div');\n",
              "          docLink.innerHTML = docLinkHtml;\n",
              "          element.appendChild(docLink);\n",
              "        }\n",
              "      </script>\n",
              "    </div>\n",
              "  </div>\n",
              "  "
            ]
          },
          "metadata": {},
          "execution_count": 75
        }
      ],
      "source": [
        "# We extract the dimension values out off the list\n",
        "\n",
        "df[\"x\"] = df[\"pca_features\"].apply(lambda x: x[0])\n",
        "\n",
        "df[\"y\"] = df[\"pca_features\"].apply(lambda x: x[1])\n",
        "\n",
        "df[\"z\"] = df[\"pca_features\"].apply(lambda x: x[2])\n",
        "\n",
        "df = df[[\"x\", \"y\", \"z\", \"label\"]]\n",
        "\n",
        "df"
      ]
    },
    {
      "cell_type": "code",
      "execution_count": null,
      "id": "7281d091-9356-41a7-83e7-6b5ee541a09c",
      "metadata": {
        "tags": [],
        "colab": {
          "base_uri": "https://localhost:8080/",
          "height": 617
        },
        "id": "7281d091-9356-41a7-83e7-6b5ee541a09c",
        "outputId": "9e6a57a0-a079-4949-e484-6653a6000636"
      },
      "outputs": [
        {
          "output_type": "display_data",
          "data": {
            "text/html": [
              "<html>\n",
              "<head><meta charset=\"utf-8\" /></head>\n",
              "<body>\n",
              "    <div>            <script src=\"https://cdnjs.cloudflare.com/ajax/libs/mathjax/2.7.5/MathJax.js?config=TeX-AMS-MML_SVG\"></script><script type=\"text/javascript\">if (window.MathJax) {MathJax.Hub.Config({SVG: {font: \"STIX-Web\"}});}</script>                <script type=\"text/javascript\">window.PlotlyConfig = {MathJaxConfig: 'local'};</script>\n",
              "        <script src=\"https://cdn.plot.ly/plotly-2.8.3.min.js\"></script>                <div id=\"d94cd58c-97a1-4f4b-b0a3-08ced85abe92\" class=\"plotly-graph-div\" style=\"height:600px; width:800px;\"></div>            <script type=\"text/javascript\">                                    window.PLOTLYENV=window.PLOTLYENV || {};                                    if (document.getElementById(\"d94cd58c-97a1-4f4b-b0a3-08ced85abe92\")) {                    Plotly.newPlot(                        \"d94cd58c-97a1-4f4b-b0a3-08ced85abe92\",                        [{\"hovertemplate\":\"label=Accounts<br>x=%{x}<br>y=%{y}<br>z=%{z}<extra></extra>\",\"legendgroup\":\"Accounts\",\"marker\":{\"color\":\"#636efa\",\"symbol\":\"circle\"},\"mode\":\"markers\",\"name\":\"Accounts\",\"scene\":\"scene\",\"showlegend\":true,\"x\":[3.395766503060028,2.3660879256962364],\"y\":[-1.0603627660799957,0.8591939157072356],\"z\":[-1.5687926035355224,-0.8066160065217075],\"type\":\"scatter3d\"},{\"hovertemplate\":\"label=Credit Cards<br>x=%{x}<br>y=%{y}<br>z=%{z}<extra></extra>\",\"legendgroup\":\"Credit Cards\",\"marker\":{\"color\":\"#EF553B\",\"symbol\":\"circle\"},\"mode\":\"markers\",\"name\":\"Credit Cards\",\"scene\":\"scene\",\"showlegend\":true,\"x\":[0.6867755242066031,-0.28833949626868444],\"y\":[1.4823952348657887,1.0031545461252716],\"z\":[0.00659347590660861,-0.7963772156325524],\"type\":\"scatter3d\"},{\"hovertemplate\":\"label=Credit Reporting<br>x=%{x}<br>y=%{y}<br>z=%{z}<extra></extra>\",\"legendgroup\":\"Credit Reporting\",\"marker\":{\"color\":\"#00cc96\",\"symbol\":\"circle\"},\"mode\":\"markers\",\"name\":\"Credit Reporting\",\"scene\":\"scene\",\"showlegend\":true,\"x\":[-0.5037780043184451,1.039759231614626],\"y\":[-1.3771577732968643,-1.7194163703349983],\"z\":[0.4449742283848416,1.8539397995641318],\"type\":\"scatter3d\"},{\"hovertemplate\":\"label=Debt Collection<br>x=%{x}<br>y=%{y}<br>z=%{z}<extra></extra>\",\"legendgroup\":\"Debt Collection\",\"marker\":{\"color\":\"#ab63fa\",\"symbol\":\"circle\"},\"mode\":\"markers\",\"name\":\"Debt Collection\",\"scene\":\"scene\",\"showlegend\":true,\"x\":[2.7731725080459433,-0.4595069206464354],\"y\":[1.1680247576296168,0.8339685731704531],\"z\":[1.3949450231450957,0.5051715356279516],\"type\":\"scatter3d\"},{\"hovertemplate\":\"label=Loans<br>x=%{x}<br>y=%{y}<br>z=%{z}<extra></extra>\",\"legendgroup\":\"Loans\",\"marker\":{\"color\":\"#FFA15A\",\"symbol\":\"circle\"},\"mode\":\"markers\",\"name\":\"Loans\",\"scene\":\"scene\",\"showlegend\":true,\"x\":[0.27031089266955766,0.8662548164505043],\"y\":[1.106941385143897,1.1435248866274266],\"z\":[-0.42475361940570316,0.8703560851126931],\"type\":\"scatter3d\"},{\"hovertemplate\":\"label=Money Transfers<br>x=%{x}<br>y=%{y}<br>z=%{z}<extra></extra>\",\"legendgroup\":\"Money Transfers\",\"marker\":{\"color\":\"#19d3f3\",\"symbol\":\"circle\"},\"mode\":\"markers\",\"name\":\"Money Transfers\",\"scene\":\"scene\",\"showlegend\":true,\"x\":[-0.7580933383123739,0.38557974337505374],\"y\":[0.6312439265742045,-1.4420991939271133],\"z\":[0.6829091404935786,-0.19825257830556373],\"type\":\"scatter3d\"},{\"hovertemplate\":\"label=Mortgage<br>x=%{x}<br>y=%{y}<br>z=%{z}<extra></extra>\",\"legendgroup\":\"Mortgage\",\"marker\":{\"color\":\"#FF6692\",\"symbol\":\"circle\"},\"mode\":\"markers\",\"name\":\"Mortgage\",\"scene\":\"scene\",\"showlegend\":true,\"x\":[2.456906603474993,2.3553304704661833],\"y\":[0.3302571821195308,0.8329483309862308],\"z\":[1.2981748141039433,1.3904090804401406],\"type\":\"scatter3d\"}],                        {\"template\":{\"data\":{\"bar\":[{\"error_x\":{\"color\":\"#2a3f5f\"},\"error_y\":{\"color\":\"#2a3f5f\"},\"marker\":{\"line\":{\"color\":\"#E5ECF6\",\"width\":0.5},\"pattern\":{\"fillmode\":\"overlay\",\"size\":10,\"solidity\":0.2}},\"type\":\"bar\"}],\"barpolar\":[{\"marker\":{\"line\":{\"color\":\"#E5ECF6\",\"width\":0.5},\"pattern\":{\"fillmode\":\"overlay\",\"size\":10,\"solidity\":0.2}},\"type\":\"barpolar\"}],\"carpet\":[{\"aaxis\":{\"endlinecolor\":\"#2a3f5f\",\"gridcolor\":\"white\",\"linecolor\":\"white\",\"minorgridcolor\":\"white\",\"startlinecolor\":\"#2a3f5f\"},\"baxis\":{\"endlinecolor\":\"#2a3f5f\",\"gridcolor\":\"white\",\"linecolor\":\"white\",\"minorgridcolor\":\"white\",\"startlinecolor\":\"#2a3f5f\"},\"type\":\"carpet\"}],\"choropleth\":[{\"colorbar\":{\"outlinewidth\":0,\"ticks\":\"\"},\"type\":\"choropleth\"}],\"contour\":[{\"colorbar\":{\"outlinewidth\":0,\"ticks\":\"\"},\"colorscale\":[[0.0,\"#0d0887\"],[0.1111111111111111,\"#46039f\"],[0.2222222222222222,\"#7201a8\"],[0.3333333333333333,\"#9c179e\"],[0.4444444444444444,\"#bd3786\"],[0.5555555555555556,\"#d8576b\"],[0.6666666666666666,\"#ed7953\"],[0.7777777777777778,\"#fb9f3a\"],[0.8888888888888888,\"#fdca26\"],[1.0,\"#f0f921\"]],\"type\":\"contour\"}],\"contourcarpet\":[{\"colorbar\":{\"outlinewidth\":0,\"ticks\":\"\"},\"type\":\"contourcarpet\"}],\"heatmap\":[{\"colorbar\":{\"outlinewidth\":0,\"ticks\":\"\"},\"colorscale\":[[0.0,\"#0d0887\"],[0.1111111111111111,\"#46039f\"],[0.2222222222222222,\"#7201a8\"],[0.3333333333333333,\"#9c179e\"],[0.4444444444444444,\"#bd3786\"],[0.5555555555555556,\"#d8576b\"],[0.6666666666666666,\"#ed7953\"],[0.7777777777777778,\"#fb9f3a\"],[0.8888888888888888,\"#fdca26\"],[1.0,\"#f0f921\"]],\"type\":\"heatmap\"}],\"heatmapgl\":[{\"colorbar\":{\"outlinewidth\":0,\"ticks\":\"\"},\"colorscale\":[[0.0,\"#0d0887\"],[0.1111111111111111,\"#46039f\"],[0.2222222222222222,\"#7201a8\"],[0.3333333333333333,\"#9c179e\"],[0.4444444444444444,\"#bd3786\"],[0.5555555555555556,\"#d8576b\"],[0.6666666666666666,\"#ed7953\"],[0.7777777777777778,\"#fb9f3a\"],[0.8888888888888888,\"#fdca26\"],[1.0,\"#f0f921\"]],\"type\":\"heatmapgl\"}],\"histogram\":[{\"marker\":{\"pattern\":{\"fillmode\":\"overlay\",\"size\":10,\"solidity\":0.2}},\"type\":\"histogram\"}],\"histogram2d\":[{\"colorbar\":{\"outlinewidth\":0,\"ticks\":\"\"},\"colorscale\":[[0.0,\"#0d0887\"],[0.1111111111111111,\"#46039f\"],[0.2222222222222222,\"#7201a8\"],[0.3333333333333333,\"#9c179e\"],[0.4444444444444444,\"#bd3786\"],[0.5555555555555556,\"#d8576b\"],[0.6666666666666666,\"#ed7953\"],[0.7777777777777778,\"#fb9f3a\"],[0.8888888888888888,\"#fdca26\"],[1.0,\"#f0f921\"]],\"type\":\"histogram2d\"}],\"histogram2dcontour\":[{\"colorbar\":{\"outlinewidth\":0,\"ticks\":\"\"},\"colorscale\":[[0.0,\"#0d0887\"],[0.1111111111111111,\"#46039f\"],[0.2222222222222222,\"#7201a8\"],[0.3333333333333333,\"#9c179e\"],[0.4444444444444444,\"#bd3786\"],[0.5555555555555556,\"#d8576b\"],[0.6666666666666666,\"#ed7953\"],[0.7777777777777778,\"#fb9f3a\"],[0.8888888888888888,\"#fdca26\"],[1.0,\"#f0f921\"]],\"type\":\"histogram2dcontour\"}],\"mesh3d\":[{\"colorbar\":{\"outlinewidth\":0,\"ticks\":\"\"},\"type\":\"mesh3d\"}],\"parcoords\":[{\"line\":{\"colorbar\":{\"outlinewidth\":0,\"ticks\":\"\"}},\"type\":\"parcoords\"}],\"pie\":[{\"automargin\":true,\"type\":\"pie\"}],\"scatter\":[{\"marker\":{\"colorbar\":{\"outlinewidth\":0,\"ticks\":\"\"}},\"type\":\"scatter\"}],\"scatter3d\":[{\"line\":{\"colorbar\":{\"outlinewidth\":0,\"ticks\":\"\"}},\"marker\":{\"colorbar\":{\"outlinewidth\":0,\"ticks\":\"\"}},\"type\":\"scatter3d\"}],\"scattercarpet\":[{\"marker\":{\"colorbar\":{\"outlinewidth\":0,\"ticks\":\"\"}},\"type\":\"scattercarpet\"}],\"scattergeo\":[{\"marker\":{\"colorbar\":{\"outlinewidth\":0,\"ticks\":\"\"}},\"type\":\"scattergeo\"}],\"scattergl\":[{\"marker\":{\"colorbar\":{\"outlinewidth\":0,\"ticks\":\"\"}},\"type\":\"scattergl\"}],\"scattermapbox\":[{\"marker\":{\"colorbar\":{\"outlinewidth\":0,\"ticks\":\"\"}},\"type\":\"scattermapbox\"}],\"scatterpolar\":[{\"marker\":{\"colorbar\":{\"outlinewidth\":0,\"ticks\":\"\"}},\"type\":\"scatterpolar\"}],\"scatterpolargl\":[{\"marker\":{\"colorbar\":{\"outlinewidth\":0,\"ticks\":\"\"}},\"type\":\"scatterpolargl\"}],\"scatterternary\":[{\"marker\":{\"colorbar\":{\"outlinewidth\":0,\"ticks\":\"\"}},\"type\":\"scatterternary\"}],\"surface\":[{\"colorbar\":{\"outlinewidth\":0,\"ticks\":\"\"},\"colorscale\":[[0.0,\"#0d0887\"],[0.1111111111111111,\"#46039f\"],[0.2222222222222222,\"#7201a8\"],[0.3333333333333333,\"#9c179e\"],[0.4444444444444444,\"#bd3786\"],[0.5555555555555556,\"#d8576b\"],[0.6666666666666666,\"#ed7953\"],[0.7777777777777778,\"#fb9f3a\"],[0.8888888888888888,\"#fdca26\"],[1.0,\"#f0f921\"]],\"type\":\"surface\"}],\"table\":[{\"cells\":{\"fill\":{\"color\":\"#EBF0F8\"},\"line\":{\"color\":\"white\"}},\"header\":{\"fill\":{\"color\":\"#C8D4E3\"},\"line\":{\"color\":\"white\"}},\"type\":\"table\"}]},\"layout\":{\"annotationdefaults\":{\"arrowcolor\":\"#2a3f5f\",\"arrowhead\":0,\"arrowwidth\":1},\"autotypenumbers\":\"strict\",\"coloraxis\":{\"colorbar\":{\"outlinewidth\":0,\"ticks\":\"\"}},\"colorscale\":{\"diverging\":[[0,\"#8e0152\"],[0.1,\"#c51b7d\"],[0.2,\"#de77ae\"],[0.3,\"#f1b6da\"],[0.4,\"#fde0ef\"],[0.5,\"#f7f7f7\"],[0.6,\"#e6f5d0\"],[0.7,\"#b8e186\"],[0.8,\"#7fbc41\"],[0.9,\"#4d9221\"],[1,\"#276419\"]],\"sequential\":[[0.0,\"#0d0887\"],[0.1111111111111111,\"#46039f\"],[0.2222222222222222,\"#7201a8\"],[0.3333333333333333,\"#9c179e\"],[0.4444444444444444,\"#bd3786\"],[0.5555555555555556,\"#d8576b\"],[0.6666666666666666,\"#ed7953\"],[0.7777777777777778,\"#fb9f3a\"],[0.8888888888888888,\"#fdca26\"],[1.0,\"#f0f921\"]],\"sequentialminus\":[[0.0,\"#0d0887\"],[0.1111111111111111,\"#46039f\"],[0.2222222222222222,\"#7201a8\"],[0.3333333333333333,\"#9c179e\"],[0.4444444444444444,\"#bd3786\"],[0.5555555555555556,\"#d8576b\"],[0.6666666666666666,\"#ed7953\"],[0.7777777777777778,\"#fb9f3a\"],[0.8888888888888888,\"#fdca26\"],[1.0,\"#f0f921\"]]},\"colorway\":[\"#636efa\",\"#EF553B\",\"#00cc96\",\"#ab63fa\",\"#FFA15A\",\"#19d3f3\",\"#FF6692\",\"#B6E880\",\"#FF97FF\",\"#FECB52\"],\"font\":{\"color\":\"#2a3f5f\"},\"geo\":{\"bgcolor\":\"white\",\"lakecolor\":\"white\",\"landcolor\":\"#E5ECF6\",\"showlakes\":true,\"showland\":true,\"subunitcolor\":\"white\"},\"hoverlabel\":{\"align\":\"left\"},\"hovermode\":\"closest\",\"mapbox\":{\"style\":\"light\"},\"paper_bgcolor\":\"white\",\"plot_bgcolor\":\"#E5ECF6\",\"polar\":{\"angularaxis\":{\"gridcolor\":\"white\",\"linecolor\":\"white\",\"ticks\":\"\"},\"bgcolor\":\"#E5ECF6\",\"radialaxis\":{\"gridcolor\":\"white\",\"linecolor\":\"white\",\"ticks\":\"\"}},\"scene\":{\"xaxis\":{\"backgroundcolor\":\"#E5ECF6\",\"gridcolor\":\"white\",\"gridwidth\":2,\"linecolor\":\"white\",\"showbackground\":true,\"ticks\":\"\",\"zerolinecolor\":\"white\"},\"yaxis\":{\"backgroundcolor\":\"#E5ECF6\",\"gridcolor\":\"white\",\"gridwidth\":2,\"linecolor\":\"white\",\"showbackground\":true,\"ticks\":\"\",\"zerolinecolor\":\"white\"},\"zaxis\":{\"backgroundcolor\":\"#E5ECF6\",\"gridcolor\":\"white\",\"gridwidth\":2,\"linecolor\":\"white\",\"showbackground\":true,\"ticks\":\"\",\"zerolinecolor\":\"white\"}},\"shapedefaults\":{\"line\":{\"color\":\"#2a3f5f\"}},\"ternary\":{\"aaxis\":{\"gridcolor\":\"white\",\"linecolor\":\"white\",\"ticks\":\"\"},\"baxis\":{\"gridcolor\":\"white\",\"linecolor\":\"white\",\"ticks\":\"\"},\"bgcolor\":\"#E5ECF6\",\"caxis\":{\"gridcolor\":\"white\",\"linecolor\":\"white\",\"ticks\":\"\"}},\"title\":{\"x\":0.05},\"xaxis\":{\"automargin\":true,\"gridcolor\":\"white\",\"linecolor\":\"white\",\"ticks\":\"\",\"title\":{\"standoff\":15},\"zerolinecolor\":\"white\",\"zerolinewidth\":2},\"yaxis\":{\"automargin\":true,\"gridcolor\":\"white\",\"linecolor\":\"white\",\"ticks\":\"\",\"title\":{\"standoff\":15},\"zerolinecolor\":\"white\",\"zerolinewidth\":2}}},\"scene\":{\"domain\":{\"x\":[0.0,1.0],\"y\":[0.0,1.0]},\"xaxis\":{\"title\":{\"text\":\"x\"}},\"yaxis\":{\"title\":{\"text\":\"y\"}},\"zaxis\":{\"title\":{\"text\":\"z\"}}},\"legend\":{\"title\":{\"text\":\"label\"},\"tracegroupgap\":0},\"margin\":{\"t\":60},\"height\":600,\"width\":800},                        {\"responsive\": true}                    ).then(function(){\n",
              "                            \n",
              "var gd = document.getElementById('d94cd58c-97a1-4f4b-b0a3-08ced85abe92');\n",
              "var x = new MutationObserver(function (mutations, observer) {{\n",
              "        var display = window.getComputedStyle(gd).display;\n",
              "        if (!display || display === 'none') {{\n",
              "            console.log([gd, 'removed!']);\n",
              "            Plotly.purge(gd);\n",
              "            observer.disconnect();\n",
              "        }}\n",
              "}});\n",
              "\n",
              "// Listen for the removal of the full notebook cells\n",
              "var notebookContainer = gd.closest('#notebook-container');\n",
              "if (notebookContainer) {{\n",
              "    x.observe(notebookContainer, {childList: true});\n",
              "}}\n",
              "\n",
              "// Listen for the clearing of the current output cell\n",
              "var outputEl = gd.closest('.output');\n",
              "if (outputEl) {{\n",
              "    x.observe(outputEl, {childList: true});\n",
              "}}\n",
              "\n",
              "                        })                };                            </script>        </div>\n",
              "</body>\n",
              "</html>"
            ]
          },
          "metadata": {}
        }
      ],
      "source": [
        "import plotly.express as px\n",
        "\n",
        "fig = px.scatter_3d(df, x = 'x', y = 'y', z = 'z', color = 'label', width=800, height=600)\n",
        "\n",
        "fig.show()"
      ]
    },
    {
      "cell_type": "markdown",
      "id": "602bc911-284b-4e0e-8882-99ac444fbb51",
      "metadata": {
        "id": "602bc911-284b-4e0e-8882-99ac444fbb51"
      },
      "source": [
        "### Word Embeddings"
      ]
    },
    {
      "cell_type": "markdown",
      "id": "11bfbc63-cb97-4189-8d6c-6629bbc898e8",
      "metadata": {
        "id": "11bfbc63-cb97-4189-8d6c-6629bbc898e8"
      },
      "source": [
        "We can also visualize the semantics of words, instead of full texts, by using Word Embeddings. We will add a Tokenizer and a WordEmbeddings model to get those embeddings, and them apply PCA as before. Firstly we splitted the pipeline in two to get all token embeddings"
      ]
    },
    {
      "cell_type": "code",
      "execution_count": null,
      "id": "28f0cced-e804-4415-aa57-6ae05587adf2",
      "metadata": {
        "colab": {
          "base_uri": "https://localhost:8080/"
        },
        "id": "28f0cced-e804-4415-aa57-6ae05587adf2",
        "outputId": "f5b0a120-df87-4c38-d910-880b22e2dbe0"
      },
      "outputs": [
        {
          "output_type": "stream",
          "name": "stdout",
          "text": [
            "bert_embeddings_sec_bert_base download started this may take some time.\n",
            "Approximate size to download 390.4 MB\n",
            "[OK!]\n"
          ]
        }
      ],
      "source": [
        "model = generic_pipeline().fit(sdf)"
      ]
    },
    {
      "cell_type": "code",
      "execution_count": null,
      "id": "31090faa-0bbe-4e94-8384-e38a338e1989",
      "metadata": {
        "id": "31090faa-0bbe-4e94-8384-e38a338e1989"
      },
      "outputs": [],
      "source": [
        "result = model.transform(sdf)"
      ]
    },
    {
      "cell_type": "code",
      "execution_count": null,
      "id": "1815b79d-81c5-45ec-ac80-418e31f9df8e",
      "metadata": {
        "tags": [],
        "colab": {
          "base_uri": "https://localhost:8080/"
        },
        "id": "1815b79d-81c5-45ec-ac80-418e31f9df8e",
        "outputId": "18e9ed4c-2dad-4ab8-eb08-6e8852ef2b8e"
      },
      "outputs": [
        {
          "output_type": "stream",
          "name": "stdout",
          "text": [
            "+----------+--------+--------------------------------------------------------------------------------+\n",
            "|     token|   label|                                                                      embeddings|\n",
            "+----------+--------+--------------------------------------------------------------------------------+\n",
            "|         I|Accounts|[-0.29679197, 0.80952483, 0.026026454, 0.08434165, 0.74346274, -0.02694714, -...|\n",
            "|    called|Accounts|[0.28905857, -0.2922978, -0.42990327, -0.3833459, 0.026178878, -0.1272839, -0...|\n",
            "|Huntington|Accounts|[0.20684443, -0.010130229, -0.25902456, -0.3755847, 0.4579211, 0.3114918, -0....|\n",
            "|      Bank|Accounts|[-0.034711868, 0.460474, -0.6221116, -0.011170343, 0.29385087, 0.31341177, -0...|\n",
            "|        to|Accounts|[-0.4045788, -0.37686452, -0.08015355, -0.5890965, -0.33856547, -0.39321235, ...|\n",
            "|     close|Accounts|[0.35089272, 0.9568468, 0.8632823, -0.43343982, 0.11386755, -0.48837718, -0.8...|\n",
            "|        my|Accounts|[-0.3659193, 0.26555997, -0.32495028, -0.5081898, -0.3962391, -0.6334717, -0....|\n",
            "|   account|Accounts|[0.0046389326, 0.5340125, 0.77568007, 0.23316658, -0.43037683, -0.29379034, -...|\n",
            "|         ,|Accounts|[0.17874289, -0.026907533, 0.19498378, -0.79296124, -0.26044443, -0.39643198,...|\n",
            "|       and|Accounts|[0.50113475, 0.66375524, 0.15587771, -0.7952299, -0.8198417, -0.24028565, -0....|\n",
            "|      they|Accounts|[-0.21890034, 0.17352931, -0.38977084, -0.42199898, -0.6608999, -0.6682687, -...|\n",
            "|   refused|Accounts|[-0.71534365, 0.40928888, -0.5824087, 0.276895, -0.7440803, -0.016842268, -0....|\n",
            "|        to|Accounts|[-0.062417414, -0.30230492, 0.17689267, -0.36983958, 0.2230859, -0.20912752, ...|\n",
            "|     close|Accounts|[0.49901542, 0.93363464, 0.890504, -0.20053542, 0.47381908, -0.24397695, -0.7...|\n",
            "|        my|Accounts|[-0.11864854, 0.068643935, -0.47048882, -0.33866614, -0.14482133, -0.59992254...|\n",
            "|   account|Accounts|[-0.04506181, 0.5524486, 0.94584256, 0.3263076, -0.26439223, -0.14597316, -0....|\n",
            "|      over|Accounts|[0.1923038, -0.47188887, 0.33582646, 0.008950293, 0.34794235, 0.10784003, -0....|\n",
            "|       the|Accounts|[-0.44176164, -0.17911676, -0.96231806, 0.097166166, 0.19224155, 0.15848857, ...|\n",
            "|     phone|Accounts|[-0.44973862, -0.91146696, -0.06911209, -0.1809493, 0.10837414, -0.82297707, ...|\n",
            "|         .|Accounts|[0.050267152, 0.32013267, 0.22356148, -0.6540272, 0.48769483, -0.8169051, -0....|\n",
            "+----------+--------+--------------------------------------------------------------------------------+\n",
            "only showing top 20 rows\n",
            "\n"
          ]
        }
      ],
      "source": [
        "result_df = result.select(\"label\", F.explode(F.arrays_zip(\"token.result\", \"word_embeddings.embeddings\")).alias(\"cols\"))\\\n",
        "      .select(F.expr(\"cols['0']\").alias(\"token\"),\n",
        "              \"label\",\n",
        "              F.expr(\"cols['1']\").alias(\"embeddings\"))\n",
        "\n",
        "result_df.show(truncate = 80)\n"
      ]
    },
    {
      "cell_type": "code",
      "execution_count": null,
      "id": "6186b5d6-fa75-42db-b5f6-febbe0f6c957",
      "metadata": {
        "id": "6186b5d6-fa75-42db-b5f6-febbe0f6c957"
      },
      "outputs": [],
      "source": [
        "# Here we defined inheritance class from that defined previously EmbeddingsUDF class\n",
        "class WordEmbeddingsUDF(EmbeddingsUDF):    \n",
        "    def _transform(self, dataset):\n",
        "        \n",
        "        results = dataset.select('token', 'label', 'embeddings') # We changed this line because our embedding cloumn is already exploded\n",
        "\n",
        "        results = results.withColumn(\n",
        "            \"features\",\n",
        "            self.udfs['convertToVectorUDF'](F.col(\"embeddings\"))\n",
        "        )\n",
        "        results = results.withColumn(\n",
        "            \"emb_sum\",\n",
        "            self.udfs['sumUDF'](F.col(\"embeddings\"))\n",
        "        )\n",
        "        # Remove those with embeddings all zeroes (so we can calculate cosine distance)\n",
        "        results = results.where(F.col(\"emb_sum\")!=0.0)\n",
        "\n",
        "        return results"
      ]
    },
    {
      "cell_type": "code",
      "execution_count": null,
      "id": "e416012e-ba80-4ca8-98de-aa675660ecb1",
      "metadata": {
        "id": "e416012e-ba80-4ca8-98de-aa675660ecb1"
      },
      "outputs": [],
      "source": [
        "embeddings_for_pca = WordEmbeddingsUDF()"
      ]
    },
    {
      "cell_type": "code",
      "execution_count": null,
      "id": "0cca3d1f-0261-42de-96f8-f68f7fe6210a",
      "metadata": {
        "id": "0cca3d1f-0261-42de-96f8-f68f7fe6210a"
      },
      "outputs": [],
      "source": [
        "DIMENSIONS  = 3"
      ]
    },
    {
      "cell_type": "code",
      "execution_count": null,
      "id": "2f9e30a2-cc23-463f-87d1-4846c7a321e7",
      "metadata": {
        "id": "2f9e30a2-cc23-463f-87d1-4846c7a321e7"
      },
      "outputs": [],
      "source": [
        "pca = pyspark.ml.feature.PCA(k=DIMENSIONS, inputCol=\"features\", outputCol=\"pca_features\")"
      ]
    },
    {
      "cell_type": "markdown",
      "id": "4ec00af2-8e16-4473-8b43-4f7cff630a3d",
      "metadata": {
        "id": "4ec00af2-8e16-4473-8b43-4f7cff630a3d"
      },
      "source": [
        "### Full Spark NLP + Spark MLLib pipeline"
      ]
    },
    {
      "cell_type": "code",
      "execution_count": null,
      "id": "69b8590b-2bf4-45b9-924d-d7438b87f08a",
      "metadata": {
        "id": "69b8590b-2bf4-45b9-924d-d7438b87f08a"
      },
      "outputs": [],
      "source": [
        "# We run the second part of the pipeline. Here 768 dimensions is reduced to 3 dimensions\n",
        "\n",
        "pipeline = Pipeline().setStages([embeddings_for_pca, pca])\n"
      ]
    },
    {
      "cell_type": "code",
      "execution_count": null,
      "id": "8207c543-9fb0-4187-a359-61abad891934",
      "metadata": {
        "tags": [],
        "id": "8207c543-9fb0-4187-a359-61abad891934"
      },
      "outputs": [],
      "source": [
        "model = pipeline.fit(result_df)"
      ]
    },
    {
      "cell_type": "code",
      "execution_count": null,
      "id": "cf674445-20d2-4ee9-8409-6a3782794aae",
      "metadata": {
        "id": "cf674445-20d2-4ee9-8409-6a3782794aae"
      },
      "outputs": [],
      "source": [
        "result = model.transform(result_df)"
      ]
    },
    {
      "cell_type": "code",
      "execution_count": null,
      "id": "9093ca0e-e46e-40e8-8958-c47702fc4a43",
      "metadata": {
        "tags": [],
        "colab": {
          "base_uri": "https://localhost:8080/"
        },
        "id": "9093ca0e-e46e-40e8-8958-c47702fc4a43",
        "outputId": "f102099d-3f81-4c33-afd2-640a1255e583"
      },
      "outputs": [
        {
          "output_type": "stream",
          "name": "stdout",
          "text": [
            "+----------+--------+------------------------------------------------------------+\n",
            "|     token|   label|                                                pca_features|\n",
            "+----------+--------+------------------------------------------------------------+\n",
            "|         I|Accounts| [9.850465344870052,0.021824808185503704,1.7128896103774132]|\n",
            "|    called|Accounts| [0.5703221766039548,0.3466633993190481,-2.8677275852215174]|\n",
            "|Huntington|Accounts|   [8.63544902617182,0.8802331103753407,-0.8417092198995053]|\n",
            "|      Bank|Accounts| [9.391060490437583,0.45066844759817204,-1.2157440093192786]|\n",
            "|        to|Accounts|[-2.0937840432194603,-1.1261841265579937,4.4733765906638725]|\n",
            "|     close|Accounts|[-2.8977641355061534,-0.1632987392886953,2.6316546803841243]|\n",
            "|        my|Accounts|    [3.542238995590729,-2.721487066875864,2.847899036412744]|\n",
            "|   account|Accounts|[-1.2533282844778366,0.0064849964117645485,1.902319625843...|\n",
            "|         ,|Accounts|  [-1.3713437013933458,0.1604400774408344,2.236148651163933]|\n",
            "|       and|Accounts| [0.25747773909808164,-0.3988170419879282,4.898580750739765]|\n",
            "|      they|Accounts|    [2.64918031519153,-2.096551304954329,3.0047726776595445]|\n",
            "|   refused|Accounts| [-1.4478408767157291,-3.120719611085004,1.6237170006432275]|\n",
            "|        to|Accounts|  [-3.476136230547271,-0.9551178909687005,5.927978116405704]|\n",
            "|     close|Accounts|[-3.220329867146986,-0.09379934075791968,2.5022178207233265]|\n",
            "|        my|Accounts|    [3.07739663500615,-2.732342053695848,3.4639010259691676]|\n",
            "|   account|Accounts|[-1.7590966657299516,0.04920469561345084,2.0855736727279286]|\n",
            "|      over|Accounts|  [-0.7852924323178465,-1.083719816036958,2.775246824869481]|\n",
            "|       the|Accounts| [-1.9152527529864893,-0.5845530829404331,5.449710410030351]|\n",
            "|     phone|Accounts| [-3.796045034854095,-2.5272396784024056,1.5636332968097877]|\n",
            "|         .|Accounts|[-0.042122235776270486,-0.5960671509379003,0.487081898005...|\n",
            "+----------+--------+------------------------------------------------------------+\n",
            "only showing top 20 rows\n",
            "\n"
          ]
        }
      ],
      "source": [
        "result.select(\"token\", \"label\", \"pca_features\").show(truncate = 60)"
      ]
    },
    {
      "cell_type": "code",
      "execution_count": null,
      "id": "2299c9bc-8e8e-4c49-ad29-133df31da543",
      "metadata": {
        "colab": {
          "base_uri": "https://localhost:8080/",
          "height": 424
        },
        "id": "2299c9bc-8e8e-4c49-ad29-133df31da543",
        "outputId": "c58d1c24-68f3-4618-fa1c-b6c400096b7a"
      },
      "outputs": [
        {
          "output_type": "execute_result",
          "data": {
            "text/plain": [
              "           token     label                                       pca_features\n",
              "0              I  Accounts  [9.850465344870052, 0.021824808185503704, 1.71...\n",
              "1         called  Accounts  [0.5703221766039548, 0.3466633993190481, -2.86...\n",
              "2     Huntington  Accounts  [8.63544902617182, 0.8802331103753407, -0.8417...\n",
              "3           Bank  Accounts  [9.391060490437583, 0.45066844759817204, -1.21...\n",
              "4             to  Accounts  [-2.0937840432194603, -1.1261841265579937, 4.4...\n",
              "...          ...       ...                                                ...\n",
              "1364         the  Mortgage  [0.20783234776754106, 1.2121747437322279, 2.34...\n",
              "1365     company  Mortgage  [0.9758761373328059, 1.1525684955599134, 1.548...\n",
              "1366       never  Mortgage  [-0.00945112197336829, -1.3605053701459042, -0...\n",
              "1367    responds  Mortgage  [-1.310538606753127, -0.3951970841405026, -1.6...\n",
              "1368           .  Mortgage  [1.7323726623486584, -14.254697705140906, -4.5...\n",
              "\n",
              "[1369 rows x 3 columns]"
            ],
            "text/html": [
              "\n",
              "  <div id=\"df-84bbf0e8-7bd6-4b29-9db6-062de20db625\">\n",
              "    <div class=\"colab-df-container\">\n",
              "      <div>\n",
              "<style scoped>\n",
              "    .dataframe tbody tr th:only-of-type {\n",
              "        vertical-align: middle;\n",
              "    }\n",
              "\n",
              "    .dataframe tbody tr th {\n",
              "        vertical-align: top;\n",
              "    }\n",
              "\n",
              "    .dataframe thead th {\n",
              "        text-align: right;\n",
              "    }\n",
              "</style>\n",
              "<table border=\"1\" class=\"dataframe\">\n",
              "  <thead>\n",
              "    <tr style=\"text-align: right;\">\n",
              "      <th></th>\n",
              "      <th>token</th>\n",
              "      <th>label</th>\n",
              "      <th>pca_features</th>\n",
              "    </tr>\n",
              "  </thead>\n",
              "  <tbody>\n",
              "    <tr>\n",
              "      <th>0</th>\n",
              "      <td>I</td>\n",
              "      <td>Accounts</td>\n",
              "      <td>[9.850465344870052, 0.021824808185503704, 1.71...</td>\n",
              "    </tr>\n",
              "    <tr>\n",
              "      <th>1</th>\n",
              "      <td>called</td>\n",
              "      <td>Accounts</td>\n",
              "      <td>[0.5703221766039548, 0.3466633993190481, -2.86...</td>\n",
              "    </tr>\n",
              "    <tr>\n",
              "      <th>2</th>\n",
              "      <td>Huntington</td>\n",
              "      <td>Accounts</td>\n",
              "      <td>[8.63544902617182, 0.8802331103753407, -0.8417...</td>\n",
              "    </tr>\n",
              "    <tr>\n",
              "      <th>3</th>\n",
              "      <td>Bank</td>\n",
              "      <td>Accounts</td>\n",
              "      <td>[9.391060490437583, 0.45066844759817204, -1.21...</td>\n",
              "    </tr>\n",
              "    <tr>\n",
              "      <th>4</th>\n",
              "      <td>to</td>\n",
              "      <td>Accounts</td>\n",
              "      <td>[-2.0937840432194603, -1.1261841265579937, 4.4...</td>\n",
              "    </tr>\n",
              "    <tr>\n",
              "      <th>...</th>\n",
              "      <td>...</td>\n",
              "      <td>...</td>\n",
              "      <td>...</td>\n",
              "    </tr>\n",
              "    <tr>\n",
              "      <th>1364</th>\n",
              "      <td>the</td>\n",
              "      <td>Mortgage</td>\n",
              "      <td>[0.20783234776754106, 1.2121747437322279, 2.34...</td>\n",
              "    </tr>\n",
              "    <tr>\n",
              "      <th>1365</th>\n",
              "      <td>company</td>\n",
              "      <td>Mortgage</td>\n",
              "      <td>[0.9758761373328059, 1.1525684955599134, 1.548...</td>\n",
              "    </tr>\n",
              "    <tr>\n",
              "      <th>1366</th>\n",
              "      <td>never</td>\n",
              "      <td>Mortgage</td>\n",
              "      <td>[-0.00945112197336829, -1.3605053701459042, -0...</td>\n",
              "    </tr>\n",
              "    <tr>\n",
              "      <th>1367</th>\n",
              "      <td>responds</td>\n",
              "      <td>Mortgage</td>\n",
              "      <td>[-1.310538606753127, -0.3951970841405026, -1.6...</td>\n",
              "    </tr>\n",
              "    <tr>\n",
              "      <th>1368</th>\n",
              "      <td>.</td>\n",
              "      <td>Mortgage</td>\n",
              "      <td>[1.7323726623486584, -14.254697705140906, -4.5...</td>\n",
              "    </tr>\n",
              "  </tbody>\n",
              "</table>\n",
              "<p>1369 rows × 3 columns</p>\n",
              "</div>\n",
              "      <button class=\"colab-df-convert\" onclick=\"convertToInteractive('df-84bbf0e8-7bd6-4b29-9db6-062de20db625')\"\n",
              "              title=\"Convert this dataframe to an interactive table.\"\n",
              "              style=\"display:none;\">\n",
              "        \n",
              "  <svg xmlns=\"http://www.w3.org/2000/svg\" height=\"24px\"viewBox=\"0 0 24 24\"\n",
              "       width=\"24px\">\n",
              "    <path d=\"M0 0h24v24H0V0z\" fill=\"none\"/>\n",
              "    <path d=\"M18.56 5.44l.94 2.06.94-2.06 2.06-.94-2.06-.94-.94-2.06-.94 2.06-2.06.94zm-11 1L8.5 8.5l.94-2.06 2.06-.94-2.06-.94L8.5 2.5l-.94 2.06-2.06.94zm10 10l.94 2.06.94-2.06 2.06-.94-2.06-.94-.94-2.06-.94 2.06-2.06.94z\"/><path d=\"M17.41 7.96l-1.37-1.37c-.4-.4-.92-.59-1.43-.59-.52 0-1.04.2-1.43.59L10.3 9.45l-7.72 7.72c-.78.78-.78 2.05 0 2.83L4 21.41c.39.39.9.59 1.41.59.51 0 1.02-.2 1.41-.59l7.78-7.78 2.81-2.81c.8-.78.8-2.07 0-2.86zM5.41 20L4 18.59l7.72-7.72 1.47 1.35L5.41 20z\"/>\n",
              "  </svg>\n",
              "      </button>\n",
              "      \n",
              "  <style>\n",
              "    .colab-df-container {\n",
              "      display:flex;\n",
              "      flex-wrap:wrap;\n",
              "      gap: 12px;\n",
              "    }\n",
              "\n",
              "    .colab-df-convert {\n",
              "      background-color: #E8F0FE;\n",
              "      border: none;\n",
              "      border-radius: 50%;\n",
              "      cursor: pointer;\n",
              "      display: none;\n",
              "      fill: #1967D2;\n",
              "      height: 32px;\n",
              "      padding: 0 0 0 0;\n",
              "      width: 32px;\n",
              "    }\n",
              "\n",
              "    .colab-df-convert:hover {\n",
              "      background-color: #E2EBFA;\n",
              "      box-shadow: 0px 1px 2px rgba(60, 64, 67, 0.3), 0px 1px 3px 1px rgba(60, 64, 67, 0.15);\n",
              "      fill: #174EA6;\n",
              "    }\n",
              "\n",
              "    [theme=dark] .colab-df-convert {\n",
              "      background-color: #3B4455;\n",
              "      fill: #D2E3FC;\n",
              "    }\n",
              "\n",
              "    [theme=dark] .colab-df-convert:hover {\n",
              "      background-color: #434B5C;\n",
              "      box-shadow: 0px 1px 3px 1px rgba(0, 0, 0, 0.15);\n",
              "      filter: drop-shadow(0px 1px 2px rgba(0, 0, 0, 0.3));\n",
              "      fill: #FFFFFF;\n",
              "    }\n",
              "  </style>\n",
              "\n",
              "      <script>\n",
              "        const buttonEl =\n",
              "          document.querySelector('#df-84bbf0e8-7bd6-4b29-9db6-062de20db625 button.colab-df-convert');\n",
              "        buttonEl.style.display =\n",
              "          google.colab.kernel.accessAllowed ? 'block' : 'none';\n",
              "\n",
              "        async function convertToInteractive(key) {\n",
              "          const element = document.querySelector('#df-84bbf0e8-7bd6-4b29-9db6-062de20db625');\n",
              "          const dataTable =\n",
              "            await google.colab.kernel.invokeFunction('convertToInteractive',\n",
              "                                                     [key], {});\n",
              "          if (!dataTable) return;\n",
              "\n",
              "          const docLinkHtml = 'Like what you see? Visit the ' +\n",
              "            '<a target=\"_blank\" href=https://colab.research.google.com/notebooks/data_table.ipynb>data table notebook</a>'\n",
              "            + ' to learn more about interactive tables.';\n",
              "          element.innerHTML = '';\n",
              "          dataTable['output_type'] = 'display_data';\n",
              "          await google.colab.output.renderOutput(dataTable, element);\n",
              "          const docLink = document.createElement('div');\n",
              "          docLink.innerHTML = docLinkHtml;\n",
              "          element.appendChild(docLink);\n",
              "        }\n",
              "      </script>\n",
              "    </div>\n",
              "  </div>\n",
              "  "
            ]
          },
          "metadata": {},
          "execution_count": 92
        }
      ],
      "source": [
        "df = result.select('token', 'label', 'pca_features').toPandas()\n",
        "\n",
        "df"
      ]
    },
    {
      "cell_type": "code",
      "execution_count": null,
      "id": "20443a2f-9e6e-4cd2-885e-b42720bcb840",
      "metadata": {
        "colab": {
          "base_uri": "https://localhost:8080/",
          "height": 424
        },
        "id": "20443a2f-9e6e-4cd2-885e-b42720bcb840",
        "outputId": "161dce2a-6bc6-4c25-e061-78a5b91d9b3a"
      },
      "outputs": [
        {
          "output_type": "execute_result",
          "data": {
            "text/plain": [
              "           token     label         x          y         z\n",
              "0              I  Accounts  9.850465   0.021825  1.712890\n",
              "1         called  Accounts  0.570322   0.346663 -2.867728\n",
              "2     Huntington  Accounts  8.635449   0.880233 -0.841709\n",
              "3           Bank  Accounts  9.391060   0.450668 -1.215744\n",
              "4             to  Accounts -2.093784  -1.126184  4.473377\n",
              "...          ...       ...       ...        ...       ...\n",
              "1364         the  Mortgage  0.207832   1.212175  2.345684\n",
              "1365     company  Mortgage  0.975876   1.152568  1.548877\n",
              "1366       never  Mortgage -0.009451  -1.360505 -0.080953\n",
              "1367    responds  Mortgage -1.310539  -0.395197 -1.634089\n",
              "1368           .  Mortgage  1.732373 -14.254698 -4.517175\n",
              "\n",
              "[1369 rows x 5 columns]"
            ],
            "text/html": [
              "\n",
              "  <div id=\"df-6b164bd2-7d9c-4c07-bf1e-74ae97ee7e5e\">\n",
              "    <div class=\"colab-df-container\">\n",
              "      <div>\n",
              "<style scoped>\n",
              "    .dataframe tbody tr th:only-of-type {\n",
              "        vertical-align: middle;\n",
              "    }\n",
              "\n",
              "    .dataframe tbody tr th {\n",
              "        vertical-align: top;\n",
              "    }\n",
              "\n",
              "    .dataframe thead th {\n",
              "        text-align: right;\n",
              "    }\n",
              "</style>\n",
              "<table border=\"1\" class=\"dataframe\">\n",
              "  <thead>\n",
              "    <tr style=\"text-align: right;\">\n",
              "      <th></th>\n",
              "      <th>token</th>\n",
              "      <th>label</th>\n",
              "      <th>x</th>\n",
              "      <th>y</th>\n",
              "      <th>z</th>\n",
              "    </tr>\n",
              "  </thead>\n",
              "  <tbody>\n",
              "    <tr>\n",
              "      <th>0</th>\n",
              "      <td>I</td>\n",
              "      <td>Accounts</td>\n",
              "      <td>9.850465</td>\n",
              "      <td>0.021825</td>\n",
              "      <td>1.712890</td>\n",
              "    </tr>\n",
              "    <tr>\n",
              "      <th>1</th>\n",
              "      <td>called</td>\n",
              "      <td>Accounts</td>\n",
              "      <td>0.570322</td>\n",
              "      <td>0.346663</td>\n",
              "      <td>-2.867728</td>\n",
              "    </tr>\n",
              "    <tr>\n",
              "      <th>2</th>\n",
              "      <td>Huntington</td>\n",
              "      <td>Accounts</td>\n",
              "      <td>8.635449</td>\n",
              "      <td>0.880233</td>\n",
              "      <td>-0.841709</td>\n",
              "    </tr>\n",
              "    <tr>\n",
              "      <th>3</th>\n",
              "      <td>Bank</td>\n",
              "      <td>Accounts</td>\n",
              "      <td>9.391060</td>\n",
              "      <td>0.450668</td>\n",
              "      <td>-1.215744</td>\n",
              "    </tr>\n",
              "    <tr>\n",
              "      <th>4</th>\n",
              "      <td>to</td>\n",
              "      <td>Accounts</td>\n",
              "      <td>-2.093784</td>\n",
              "      <td>-1.126184</td>\n",
              "      <td>4.473377</td>\n",
              "    </tr>\n",
              "    <tr>\n",
              "      <th>...</th>\n",
              "      <td>...</td>\n",
              "      <td>...</td>\n",
              "      <td>...</td>\n",
              "      <td>...</td>\n",
              "      <td>...</td>\n",
              "    </tr>\n",
              "    <tr>\n",
              "      <th>1364</th>\n",
              "      <td>the</td>\n",
              "      <td>Mortgage</td>\n",
              "      <td>0.207832</td>\n",
              "      <td>1.212175</td>\n",
              "      <td>2.345684</td>\n",
              "    </tr>\n",
              "    <tr>\n",
              "      <th>1365</th>\n",
              "      <td>company</td>\n",
              "      <td>Mortgage</td>\n",
              "      <td>0.975876</td>\n",
              "      <td>1.152568</td>\n",
              "      <td>1.548877</td>\n",
              "    </tr>\n",
              "    <tr>\n",
              "      <th>1366</th>\n",
              "      <td>never</td>\n",
              "      <td>Mortgage</td>\n",
              "      <td>-0.009451</td>\n",
              "      <td>-1.360505</td>\n",
              "      <td>-0.080953</td>\n",
              "    </tr>\n",
              "    <tr>\n",
              "      <th>1367</th>\n",
              "      <td>responds</td>\n",
              "      <td>Mortgage</td>\n",
              "      <td>-1.310539</td>\n",
              "      <td>-0.395197</td>\n",
              "      <td>-1.634089</td>\n",
              "    </tr>\n",
              "    <tr>\n",
              "      <th>1368</th>\n",
              "      <td>.</td>\n",
              "      <td>Mortgage</td>\n",
              "      <td>1.732373</td>\n",
              "      <td>-14.254698</td>\n",
              "      <td>-4.517175</td>\n",
              "    </tr>\n",
              "  </tbody>\n",
              "</table>\n",
              "<p>1369 rows × 5 columns</p>\n",
              "</div>\n",
              "      <button class=\"colab-df-convert\" onclick=\"convertToInteractive('df-6b164bd2-7d9c-4c07-bf1e-74ae97ee7e5e')\"\n",
              "              title=\"Convert this dataframe to an interactive table.\"\n",
              "              style=\"display:none;\">\n",
              "        \n",
              "  <svg xmlns=\"http://www.w3.org/2000/svg\" height=\"24px\"viewBox=\"0 0 24 24\"\n",
              "       width=\"24px\">\n",
              "    <path d=\"M0 0h24v24H0V0z\" fill=\"none\"/>\n",
              "    <path d=\"M18.56 5.44l.94 2.06.94-2.06 2.06-.94-2.06-.94-.94-2.06-.94 2.06-2.06.94zm-11 1L8.5 8.5l.94-2.06 2.06-.94-2.06-.94L8.5 2.5l-.94 2.06-2.06.94zm10 10l.94 2.06.94-2.06 2.06-.94-2.06-.94-.94-2.06-.94 2.06-2.06.94z\"/><path d=\"M17.41 7.96l-1.37-1.37c-.4-.4-.92-.59-1.43-.59-.52 0-1.04.2-1.43.59L10.3 9.45l-7.72 7.72c-.78.78-.78 2.05 0 2.83L4 21.41c.39.39.9.59 1.41.59.51 0 1.02-.2 1.41-.59l7.78-7.78 2.81-2.81c.8-.78.8-2.07 0-2.86zM5.41 20L4 18.59l7.72-7.72 1.47 1.35L5.41 20z\"/>\n",
              "  </svg>\n",
              "      </button>\n",
              "      \n",
              "  <style>\n",
              "    .colab-df-container {\n",
              "      display:flex;\n",
              "      flex-wrap:wrap;\n",
              "      gap: 12px;\n",
              "    }\n",
              "\n",
              "    .colab-df-convert {\n",
              "      background-color: #E8F0FE;\n",
              "      border: none;\n",
              "      border-radius: 50%;\n",
              "      cursor: pointer;\n",
              "      display: none;\n",
              "      fill: #1967D2;\n",
              "      height: 32px;\n",
              "      padding: 0 0 0 0;\n",
              "      width: 32px;\n",
              "    }\n",
              "\n",
              "    .colab-df-convert:hover {\n",
              "      background-color: #E2EBFA;\n",
              "      box-shadow: 0px 1px 2px rgba(60, 64, 67, 0.3), 0px 1px 3px 1px rgba(60, 64, 67, 0.15);\n",
              "      fill: #174EA6;\n",
              "    }\n",
              "\n",
              "    [theme=dark] .colab-df-convert {\n",
              "      background-color: #3B4455;\n",
              "      fill: #D2E3FC;\n",
              "    }\n",
              "\n",
              "    [theme=dark] .colab-df-convert:hover {\n",
              "      background-color: #434B5C;\n",
              "      box-shadow: 0px 1px 3px 1px rgba(0, 0, 0, 0.15);\n",
              "      filter: drop-shadow(0px 1px 2px rgba(0, 0, 0, 0.3));\n",
              "      fill: #FFFFFF;\n",
              "    }\n",
              "  </style>\n",
              "\n",
              "      <script>\n",
              "        const buttonEl =\n",
              "          document.querySelector('#df-6b164bd2-7d9c-4c07-bf1e-74ae97ee7e5e button.colab-df-convert');\n",
              "        buttonEl.style.display =\n",
              "          google.colab.kernel.accessAllowed ? 'block' : 'none';\n",
              "\n",
              "        async function convertToInteractive(key) {\n",
              "          const element = document.querySelector('#df-6b164bd2-7d9c-4c07-bf1e-74ae97ee7e5e');\n",
              "          const dataTable =\n",
              "            await google.colab.kernel.invokeFunction('convertToInteractive',\n",
              "                                                     [key], {});\n",
              "          if (!dataTable) return;\n",
              "\n",
              "          const docLinkHtml = 'Like what you see? Visit the ' +\n",
              "            '<a target=\"_blank\" href=https://colab.research.google.com/notebooks/data_table.ipynb>data table notebook</a>'\n",
              "            + ' to learn more about interactive tables.';\n",
              "          element.innerHTML = '';\n",
              "          dataTable['output_type'] = 'display_data';\n",
              "          await google.colab.output.renderOutput(dataTable, element);\n",
              "          const docLink = document.createElement('div');\n",
              "          docLink.innerHTML = docLinkHtml;\n",
              "          element.appendChild(docLink);\n",
              "        }\n",
              "      </script>\n",
              "    </div>\n",
              "  </div>\n",
              "  "
            ]
          },
          "metadata": {},
          "execution_count": 93
        }
      ],
      "source": [
        "df[\"x\"] = df[\"pca_features\"].apply(lambda x: x[0])\n",
        "\n",
        "df[\"y\"] = df[\"pca_features\"].apply(lambda x: x[1])\n",
        "\n",
        "df[\"z\"] = df[\"pca_features\"].apply(lambda x: x[2])\n",
        "\n",
        "df = df[[\"token\", \"label\", \"x\", \"y\", \"z\"]]\n",
        "\n",
        "df"
      ]
    },
    {
      "cell_type": "code",
      "execution_count": null,
      "id": "e96d9799-e838-4cdc-903e-dbd5cdc37aa9",
      "metadata": {
        "tags": [],
        "colab": {
          "base_uri": "https://localhost:8080/",
          "height": 817
        },
        "id": "e96d9799-e838-4cdc-903e-dbd5cdc37aa9",
        "outputId": "a8736fcf-e8f4-4d6b-f73f-3a917d043277"
      },
      "outputs": [
        {
          "output_type": "display_data",
          "data": {
            "text/html": [
              "<html>\n",
              "<head><meta charset=\"utf-8\" /></head>\n",
              "<body>\n",
              "    <div>            <script src=\"https://cdnjs.cloudflare.com/ajax/libs/mathjax/2.7.5/MathJax.js?config=TeX-AMS-MML_SVG\"></script><script type=\"text/javascript\">if (window.MathJax) {MathJax.Hub.Config({SVG: {font: \"STIX-Web\"}});}</script>                <script type=\"text/javascript\">window.PlotlyConfig = {MathJaxConfig: 'local'};</script>\n",
              "        <script src=\"https://cdn.plot.ly/plotly-2.8.3.min.js\"></script>                <div id=\"df110ebf-df6c-44bd-b682-bd53bff125c8\" class=\"plotly-graph-div\" style=\"height:800px; width:1000px;\"></div>            <script type=\"text/javascript\">                                    window.PLOTLYENV=window.PLOTLYENV || {};                                    if (document.getElementById(\"df110ebf-df6c-44bd-b682-bd53bff125c8\")) {                    Plotly.newPlot(                        \"df110ebf-df6c-44bd-b682-bd53bff125c8\",                        [{\"customdata\":[[\"I\",\"Accounts\"],[\"called\",\"Accounts\"],[\"Huntington\",\"Accounts\"],[\"Bank\",\"Accounts\"],[\"to\",\"Accounts\"],[\"close\",\"Accounts\"],[\"my\",\"Accounts\"],[\"account\",\"Accounts\"],[\",\",\"Accounts\"],[\"and\",\"Accounts\"],[\"they\",\"Accounts\"],[\"refused\",\"Accounts\"],[\"to\",\"Accounts\"],[\"close\",\"Accounts\"],[\"my\",\"Accounts\"],[\"account\",\"Accounts\"],[\"over\",\"Accounts\"],[\"the\",\"Accounts\"],[\"phone\",\"Accounts\"],[\".\",\"Accounts\"],[\"They\",\"Accounts\"],[\"told\",\"Accounts\"],[\"me\",\"Accounts\"],[\"I\",\"Accounts\"],[\"HAD\",\"Accounts\"],[\"to\",\"Accounts\"],[\"go\",\"Accounts\"],[\"into\",\"Accounts\"],[\"a\",\"Accounts\"],[\"branch\",\"Accounts\"],[\"to\",\"Accounts\"],[\"close\",\"Accounts\"],[\"it\",\"Accounts\"],[\".\",\"Accounts\"],[\"I\",\"Accounts\"],[\"do\",\"Accounts\"],[\"not\",\"Accounts\"],[\"want\",\"Accounts\"],[\"the\",\"Accounts\"],[\"account\",\"Accounts\"],[\"anymore\",\"Accounts\"],[\",\",\"Accounts\"],[\"and\",\"Accounts\"],[\"it\",\"Accounts\"],[\"has\",\"Accounts\"],[\"a\",\"Accounts\"],[\"monthly\",\"Accounts\"],[\"fee\",\"Accounts\"],[\".\",\"Accounts\"],[\"I\",\"Accounts\"],[\"can\",\"Accounts\"],[\"not\",\"Accounts\"],[\"make\",\"Accounts\"],[\"it\",\"Accounts\"],[\"to\",\"Accounts\"],[\"a\",\"Accounts\"],[\"branch\",\"Accounts\"],[\"during\",\"Accounts\"],[\"business\",\"Accounts\"],[\"hours\",\"Accounts\"],[\",\",\"Accounts\"],[\"which\",\"Accounts\"],[\"I\",\"Accounts\"],[\"told\",\"Accounts\"],[\"the\",\"Accounts\"],[\"lady\",\"Accounts\"],[\"on\",\"Accounts\"],[\"the\",\"Accounts\"],[\"phone\",\"Accounts\"],[\",\",\"Accounts\"],[\"but\",\"Accounts\"],[\"she\",\"Accounts\"],[\"refused\",\"Accounts\"],[\"to\",\"Accounts\"],[\"make\",\"Accounts\"],[\"an\",\"Accounts\"],[\"exception\",\"Accounts\"],[\".\",\"Accounts\"],[\"I\",\"Accounts\"],[\"asked\",\"Accounts\"],[\"several\",\"Accounts\"],[\"more\",\"Accounts\"],[\"times\",\"Accounts\"],[\"to\",\"Accounts\"],[\"no\",\"Accounts\"],[\"avail\",\"Accounts\"],[\".\",\"Accounts\"],[\"It\",\"Accounts\"],[\"seems\",\"Accounts\"],[\"very\",\"Accounts\"],[\"unethical\",\"Accounts\"],[\"to\",\"Accounts\"],[\"me\",\"Accounts\"],[\"that\",\"Accounts\"],[\"they\",\"Accounts\"],[\"are\",\"Accounts\"],[\"making\",\"Accounts\"],[\"it\",\"Accounts\"],[\"so\",\"Accounts\"],[\"difficult\",\"Accounts\"],[\"to\",\"Accounts\"],[\"close\",\"Accounts\"],[\"my\",\"Accounts\"],[\"account\",\"Accounts\"],[\"with\",\"Accounts\"],[\"them\",\"Accounts\"],[\".\",\"Accounts\"],[\"I\",\"Accounts\"],[\"don't\",\"Accounts\"],[\"even\",\"Accounts\"],[\"know\",\"Accounts\"],[\"how\",\"Accounts\"],[\"I\",\"Accounts\"],[\"will\",\"Accounts\"],[\"do\",\"Accounts\"],[\"it\",\"Accounts\"],[\".\",\"Accounts\"],[\"I\",\"Accounts\"],[\"opened\",\"Accounts\"],[\"an\",\"Accounts\"],[\"citi\",\"Accounts\"],[\"account\",\"Accounts\"],[\"since\",\"Accounts\"],[\"day\",\"Accounts\"],[\"1\",\"Accounts\"],[\"i\",\"Accounts\"],[\"started\",\"Accounts\"],[\"having\",\"Accounts\"],[\"problems\",\"Accounts\"],[\".\",\"Accounts\"],[\"I\",\"Accounts\"],[\"wired\",\"Accounts\"],[\"transfered\",\"Accounts\"],[\"all\",\"Accounts\"],[\"my\",\"Accounts\"],[\"money\",\"Accounts\"],[\"to\",\"Accounts\"],[\"my\",\"Accounts\"],[\"other\",\"Accounts\"],[\"account\",\"Accounts\"],[\"and\",\"Accounts\"],[\"closed\",\"Accounts\"],[\"my\",\"Accounts\"],[\"account\",\"Accounts\"],[\".\",\"Accounts\"],[\"I\",\"Accounts\"],[\"asked\",\"Accounts\"],[\"the\",\"Accounts\"],[\"representative\",\"Accounts\"],[\"if\",\"Accounts\"],[\"my\",\"Accounts\"],[\"wire\",\"Accounts\"],[\"transfer\",\"Accounts\"],[\"will\",\"Accounts\"],[\"be\",\"Accounts\"],[\"affected\",\"Accounts\"],[\"from\",\"Accounts\"],[\"closure\",\"Accounts\"],[\"they\",\"Accounts\"],[\"said\",\"Accounts\"],[\"no\",\"Accounts\"],[\"so\",\"Accounts\"],[\"i\",\"Accounts\"],[\"went\",\"Accounts\"],[\"thru\",\"Accounts\"],[\"closing\",\"Accounts\"],[\".\",\"Accounts\"],[\"Out\",\"Accounts\"],[\"of\",\"Accounts\"],[\"2\",\"Accounts\"],[\"wire\",\"Accounts\"],[\"transfer\",\"Accounts\"],[\"one\",\"Accounts\"],[\"didnt\",\"Accounts\"],[\"go\",\"Accounts\"],[\"thru\",\"Accounts\"],[\".\",\"Accounts\"],[\"I\",\"Accounts\"],[\"called\",\"Accounts\"],[\"at\",\"Accounts\"],[\"least\",\"Accounts\"],[\"6\",\"Accounts\"],[\"times\",\"Accounts\"],[\"and\",\"Accounts\"],[\"customer\",\"Accounts\"],[\"service\",\"Accounts\"],[\"either\",\"Accounts\"],[\"putting\",\"Accounts\"],[\"me\",\"Accounts\"],[\"on\",\"Accounts\"],[\"hold\",\"Accounts\"],[\"or\",\"Accounts\"],[\"giving\",\"Accounts\"],[\"me\",\"Accounts\"],[\"another\",\"Accounts\"],[\"number\",\"Accounts\"],[\"to\",\"Accounts\"],[\"call\",\"Accounts\"],[\".\",\"Accounts\"],[\"My\",\"Accounts\"],[\"13\",\"Accounts\"],[\"k\",\"Accounts\"],[\"is\",\"Accounts\"],[\"lost\",\"Accounts\"],[\"and\",\"Accounts\"],[\"now\",\"Accounts\"],[\"my\",\"Accounts\"],[\"account\",\"Accounts\"],[\"is\",\"Accounts\"],[\"closed\",\"Accounts\"],[\".\",\"Accounts\"],[\"Ill\",\"Accounts\"],[\"call\",\"Accounts\"],[\"again\",\"Accounts\"],[\"in\",\"Accounts\"],[\"the\",\"Accounts\"],[\"morning\",\"Accounts\"],[\"but\",\"Accounts\"],[\"i\",\"Accounts\"],[\"know\",\"Accounts\"],[\"nothing\",\"Accounts\"],[\"will\",\"Accounts\"],[\"be\",\"Accounts\"],[\"resolved\",\"Accounts\"],[\".\",\"Accounts\"],[\"I\",\"Accounts\"],[\"regret\",\"Accounts\"],[\"to\",\"Accounts\"],[\"even\",\"Accounts\"],[\"come\",\"Accounts\"],[\"close\",\"Accounts\"],[\"to\",\"Accounts\"],[\"citi\",\"Accounts\"],[\"bank\",\"Accounts\"],[\".\",\"Accounts\"],[\"I\",\"Accounts\"],[\"want\",\"Accounts\"],[\"my\",\"Accounts\"],[\"money\",\"Accounts\"]],\"hovertemplate\":\"label=%{customdata[1]}<br>x=%{x}<br>y=%{y}<br>z=%{z}<br>token=%{customdata[0]}<extra></extra>\",\"legendgroup\":\"Accounts\",\"marker\":{\"color\":\"#636efa\",\"symbol\":\"circle\"},\"mode\":\"markers\",\"name\":\"Accounts\",\"scene\":\"scene\",\"showlegend\":true,\"x\":[9.850465344870052,0.5703221766039548,8.63544902617182,9.391060490437583,-2.0937840432194603,-2.8977641355061534,3.542238995590729,-1.2533282844778366,-1.3713437013933458,0.25747773909808164,2.64918031519153,-1.4478408767157291,-3.476136230547271,-3.220329867146986,3.07739663500615,-1.7590966657299516,-0.7852924323178465,-1.9152527529864893,-3.796045034854095,-0.042122235776270486,13.55496571905792,-0.837167338349138,0.23183406372188586,10.371238608968913,8.416990262923893,-2.677956589394348,-2.6222061262911645,-1.8482922403199606,-1.6472480816342252,-1.7843367241499517,-3.3511643403280442,-3.519486069558392,-2.2866378919548462,-0.7110029649100561,13.113686094651527,-1.3924339175105012,-1.6348936178836502,-3.5238175474695907,-1.3496190236943717,-1.8263188857952821,-1.9074667121858275,-1.6840662910478579,-0.4299631347677909,-0.9460147060470535,-3.137419877633955,-2.9988535110628614,-3.4611825328278676,-2.4756042989274265,-0.1742168899615781,14.322776474461307,-2.537651773013548,-2.1941316855205453,-2.8053217309967184,-2.783265189960709,-4.017728789430706,-1.9529306455226674,-1.7243624161718958,-2.3104991962523824,-1.380018739160582,-2.53711319053152,-1.866570716813214,-0.17033522077530397,13.572016807593565,-1.4720227708020228,0.5175845439004315,-0.3417867978244601,-3.4646281400384726,-2.0483265434320614,-3.462506055908356,-1.8505605575957067,-0.13811534219278762,0.7621285859462235,-1.4514883938225103,-3.615437394031167,-2.546666798173662,-2.3324037216896043,-3.4161536334578675,0.4089068324213064,13.981263182301083,-2.2462637908547007,-2.515302902407149,-1.7915341156969196,1.3053735468722694,-3.089144107745685,-2.6483309367901855,-1.9833905849001563,0.33908001411558214,14.499290864487715,2.536862021775345,-3.0900202928415554,0.30232806785833094,-2.901991708388055,0.5535676198497779,0.7779308202001548,2.06073506757757,-1.998052509240184,-2.7993699265530423,-1.0182666172745114,-2.28241491729687,-3.535632785597884,-3.2351568218668976,-3.1808433531459186,3.4408939390947775,-1.3564323999603043,-1.6332523270408439,0.31576167445242986,0.5347802662489305,13.482123978789733,1.2165184216979785,-0.7857875589062616,-2.4242722792378135,-2.8608682299513553,9.108003927019624,-2.6915773935261575,-3.8076192418841246,-2.6130092890132453,0.5683992615566672,11.616903355247912,-4.3034829276595605,-1.6986371918448289,-0.88152584442316,-2.297136886055627,-1.701535874665016,-0.28925239653362356,0.3852919388394294,2.4746627648815367,-4.60676770840247,-3.3778575766948125,-1.6560559236679058,-0.09580208166831335,12.81957043998921,2.0609116735953905,-1.1337032845583952,-1.086109398591737,2.4884708077870226,-2.6683923120557385,-4.052972432952574,3.1448576201814893,-1.1413362686800552,-1.9620900140681785,0.3751624019605551,-3.1473417272952475,3.172699339154308,-2.3251275135950475,-0.38443067335453346,12.740730927481609,-3.4318495028360716,-1.5586795251191652,-2.389443231578993,-1.3474709779037761,1.2377282299211732,-1.8330074700458368,-1.35355319695812,-2.2800019975659667,-2.6429634468651506,-2.627567238828716,-0.8661886121442692,-1.2436406110462357,1.4949882186104608,-1.4034317631736928,-1.3318754360523901,-1.4489402956150883,1.032201659940657,-4.87462723243154,-2.899662484191386,-1.959030545031366,-0.40858211852730547,10.892825142719522,-1.642244256921378,-1.1139281904809522,-1.6796412628248698,-1.0708409613840097,0.5472331999618052,-3.9468729342064393,-3.894614869926253,-2.8459498105072405,-0.1686998806270843,12.506344700555294,-2.856712490961079,-0.8343492012572382,-1.0989006037192335,-0.426855046171163,-1.1663857867486218,-2.019863321273928,-0.6426227092294322,-2.016132535242967,-2.1170691104308603,-2.677842498556295,-1.90158423635254,-3.395112467015272,-2.8229763977430955,-2.3060838150340226,-2.7985882332448133,-1.6711649584516364,-3.7104689286414216,-3.141077403729541,-3.0512551926318445,-3.037434770458312,-0.711604736708663,11.363385375583663,-1.1061442007254538,-1.346757222396417,-1.8100924912180962,-2.207844731693959,-1.193512339083655,-0.9863262595931329,3.0104883256070223,-2.2516345536487554,-1.8895832704590447,-2.370384523467026,-0.8267510891913875,11.732033740886681,-3.080922292966238,-3.447684945624001,-3.038541672298794,-1.8472038815768184,-1.716227007796834,-1.92884626437394,2.0649820657320843,-2.4978477913290296,-1.439036255291125,-3.1425407087302326,-3.0367307549798306,-2.829090724884363,-0.45903724112512634,12.379081328276875,-2.7487333195126475,-3.034254565844585,-1.1355942735535163,-2.250848495165567,-3.1597617575866934,-4.421996558847631,-2.632013624757086,-2.2196901169582635,-0.5689113544294958,11.871970507018796,-2.7393775106757166,1.2931837069127265,-2.435036710641652],\"y\":[0.021824808185503704,0.3466633993190481,0.8802331103753407,0.45066844759817204,-1.1261841265579937,-0.1632987392886953,-2.721487066875864,0.0064849964117645485,0.1604400774408344,-0.3988170419879282,-2.096551304954329,-3.120719611085004,-0.9551178909687005,-0.09379934075791968,-2.732342053695848,0.04920469561345084,-1.083719816036958,-0.5845530829404331,-2.5272396784024056,-0.5960671509379003,-1.118018035571385,-3.045687753831125,-4.58341682820406,-0.5833349392970919,-0.8582455127097287,-1.7613640666075234,-2.305266299999315,-0.8940415824804206,0.06460080846334178,0.40400201239866135,-0.49815076649927836,-0.15311661464956922,-1.0585858721769221,-0.5610476895559049,-1.4886860120514656,-2.850902190278567,-2.041201142542671,-0.6153001974722329,-0.29914207354447275,1.125191092716532,0.6317852324952185,0.5571317932964902,-0.6216484166722436,-1.6677481267341692,-1.5742937900900007,-1.4092109892422477,0.4379146974756897,1.5648494057573967,-0.5496807285845754,-0.7873589977248017,-2.4238887920669847,-1.9535481954911995,-0.7278675953635658,-1.5159902814544783,-0.9367589702606404,0.18961857911838897,0.8120448144672463,0.6098184270951543,1.0313188343967232,0.044968573644644565,0.07625068211621312,0.8345697295576631,-1.2703365743124522,-2.7337005664126446,-0.30048250324136583,2.262861273856569,-1.3156203127037682,-0.8023327992252008,-2.326373778322594,0.2138033633653456,-3.0000280826594454,-2.520682553823584,-3.177571660886387,-1.809493157969257,-0.9602341974507779,-0.10098906528847824,0.40842737971234677,-13.872370540407562,-0.9486206024961306,-0.8790350764661575,-0.2148301600473038,-0.04960916148030806,-0.36747969483150605,-1.195041576030109,0.8975200676331908,2.3280295476411803,-11.55463122398544,-0.34444446147838786,-3.3423456596350087,-3.274825734768307,-2.6630936455103362,-2.780521205387595,-4.724057264866382,-1.9477967580257805,-2.6342707660880675,-2.760549573270888,-1.6128616291827782,-2.5709031370680804,-0.29161078308725324,-1.8697537114886615,-1.5804023389447241,-0.06442024484803227,-2.8248942506722114,0.4087924320670422,0.3945245409079544,-1.4079793355625378,-15.588014757861362,-0.22666998605804856,-0.07505536808171998,-2.0449536466053115,-3.2890022532615557,-3.7047540037453106,-0.7468750378066291,-1.9983954027487223,-3.7416656594040436,-2.9210450527453093,-15.794047225325684,-0.04850956479976446,0.6314942069151172,1.8058249168248255,1.2302521110439493,1.6785690331498069,1.0731276039168056,1.2692802108214034,0.25818028547653105,-2.2709453773574584,-1.7304855782926607,0.44668421893732907,1.3455331459678652,-0.04080140537641809,0.3783867320802556,1.674616813994536,1.3744903419682684,0.918022141141808,-2.6228423144175657,0.06622794227588912,0.27363147125618975,-2.1457636769273014,1.9698367686578955,1.8622877890903125,0.3139853016816778,0.4783151773523469,-2.5121962151088284,0.8105056329522795,-13.778849734898044,-0.30745399930429185,-0.7136467621494627,0.9481351597575498,2.318282891611301,-0.11066111001753756,-1.3754793640961256,2.3530241771784475,3.5502146053577275,-0.1959902032714865,0.15503698183228054,1.1658636694214917,-0.163893299495639,1.229055466872344,-1.8362153960724197,-3.138905968697002,-0.7887586186494678,-1.6165315792443742,-3.1417734093753014,-2.675707456539043,-1.343200056896469,1.750292950161324,0.2167942233320655,0.9938104614048469,1.3807469571370088,1.2043845967972553,2.1419496497741854,2.8327560807494248,-0.06387281253432914,-1.9216547035258775,-2.8050585123153944,-1.5684777390133908,-0.5939744281233745,-0.06519947069677257,0.47172061884936317,0.4881815448936894,0.13392838833504256,0.21788144370019272,0.9524514151570523,1.4139707814544198,1.1518178438909525,1.2430715991304173,0.5119942323760125,-0.5298840836136188,-2.8588702794886713,-1.3608405064609956,1.522978721977769,0.5180506846777129,-0.5402092291905439,-3.9761246552809637,-0.563932194977318,0.30636769068159003,-0.8926447212216259,-0.2466464836429867,-0.11497515235568638,0.47073191446136253,1.2922898252913366,1.119206404263852,-0.7085357011965828,0.5899825316371541,-0.1585582506182203,-0.9387390530125768,-2.610598714349107,0.6872404388347891,-0.8574443614429488,0.28522142798930417,-0.2745795259022368,-0.5147504776922309,-0.28217320701945825,-0.11615653548029832,0.23005630441691308,0.22012314244323922,0.06931469307059827,-2.869184219810741,-4.092538815354553,-4.501660616952326,-2.841083912670031,-1.897794004413123,-1.1984579869320853,1.009771136943059,-13.182262948918822,0.030807700453850683,-0.1554918007372572,-1.0675639965086479,-0.11070665863100781,-1.4200084158316593,-0.8529423538252519,-0.5750166109865544,0.7748617690825008,2.1329180327893416,0.0950200940343168,-0.08605876453989621,0.5185402539383278,-2.7393425512699867,-1.091169852057659],\"z\":[1.7128896103774132,-2.8677275852215174,-0.8417092198995053,-1.2157440093192786,4.4733765906638725,2.6316546803841243,2.847899036412744,1.9023196258439743,2.236148651163933,4.898580750739765,3.0047726776595445,1.6237170006432275,5.927978116405704,2.5022178207233265,3.4639010259691676,2.0855736727279286,2.775246824869481,5.449710410030351,1.5636332968097877,0.4870818980055629,3.172035689728889,0.5903863480700239,-0.854103245865319,-0.24912713127349462,-0.24481022669659613,4.825308420267998,3.31554834528181,3.669638362817766,5.659569432740365,0.9617576869268075,5.736236899410043,2.3644525745572156,3.183899889337573,0.7333695931469617,4.3179094897454995,3.638067829401559,4.030907541336008,-1.5953299315501015,3.24917990538123,1.6456519524308049,0.06309326773702595,1.5160182178465291,4.3291396463688745,3.5773701764356463,3.7487512830638807,5.084786865850648,0.4859154220875017,-0.35082217034156665,0.27994358371326583,3.6474013823765317,3.055343636190987,4.552950163637576,3.0866430041123767,2.9705496891480867,4.0551257875306135,5.092683505530773,0.9074132095894865,3.689897067136288,2.178190519412377,1.9951001859938509,2.5420357577127164,0.5500007212698258,2.020360740403173,0.34626190418673486,3.1909522101794114,-2.0874497505717837,3.729453341167732,5.066563604034179,1.9856263522657103,1.9753498896636839,5.001098062361888,1.6739770467744963,2.4353086932979005,6.704220387553042,4.2219348002622965,4.48420281343833,-0.5273994908738051,-2.0497835041643624,3.5401627804688984,-1.3662311665903542,2.0511297885927346,1.0346397356941937,-2.082588558793286,3.45146718480201,-1.601450797896184,-2.343279009842599,-1.5711804883082392,3.184311358922501,-0.506426597644714,4.1465117063941745,-0.3063483496470684,4.533927287771597,0.7570425090150987,4.3585618947873295,3.860610559008929,4.489250846708289,1.7884412718088076,4.547536395111617,-0.3379989985896751,3.0480101489019837,5.473797037554781,2.001038841397794,3.028441017183822,1.7938129680957162,1.8214327601074771,1.6040922230379022,-2.559948907392506,2.8602819891566447,-1.3112660719660352,0.5207049336230907,1.027155995168071,2.968911005701069,0.07202452418930846,4.130431175533706,2.9830266561338865,2.6308029434804276,-2.6216232505412234,2.8396383074172777,1.756762632197449,2.721038492855137,-1.6777397194681902,0.3706816454127794,-0.6647535488716955,-2.101257560003378,2.2336513657229022,2.0407077399956615,-0.5775619747817098,0.271360383877297,-2.441907023457334,-1.6062498610709235,2.92002480014123,-2.369179934127435,-2.9512060607998483,1.4147147434137917,1.9709144118558461,-1.2729407332892082,5.225559827637332,3.2210755866248424,-0.9396398430951013,-0.7556952603944604,3.9275177741094525,0.999840827287222,3.274538575792832,1.5038962475519702,-4.139388929809933,2.9118813182268144,0.39309749461291016,2.540150717579467,-2.72393818937006,2.4740802943037776,2.91460017623325,-0.6617461474438913,0.09016775337105132,2.5189483574458627,3.5834547564777286,-1.920669434755562,0.127673859878082,-2.653365914937819,0.13019157807680862,-1.68204653793174,0.21591577410308355,-1.9527848510127963,2.265870901138979,0.7129163059720187,-0.19714935741321526,-1.0233155100572573,-1.0980783386162953,-0.22160472589747623,-1.0354543931434619,-0.7232595232068618,-0.5098193971831236,0.5706083936772838,0.3107478026274253,1.0921791769368967,2.7337069043835363,1.7718917903318645,-0.011968808485663455,2.4344394638219957,-2.260074451504794,2.7672970403070782,-0.39407396741236694,-0.040350412210961875,-2.5303101793634344,-0.5474190692560954,-1.376134377966344,-2.4540239838377276,0.033413369361745104,-0.44025380871490605,-0.7250790189391624,5.0082802723003335,-0.807950190151107,2.377327157082208,0.5926544893603073,0.17087697747767983,1.6873728115475892,-1.8178244862977337,3.245578463748796,-0.25914263326930076,-1.0099587488071133,2.287371837021826,-2.1079164503337906,-3.1636429483523147,2.9193381871379858,-1.732091615785927,3.5511487068229237,-1.7130938988008055,3.1130913058209737,1.2972807116559477,4.443658363012461,0.4405151527572176,-0.5853110651308573,3.5632028282973147,-0.04299275969262383,-0.1743737779960107,4.321133165716303,4.071459694895649,-1.6458350497773588,2.765880204019221,2.8217834256566365,0.7651469357657367,-0.14367169517702288,3.7238955247904815,4.647295733620321,-1.0428320927393755,-3.9766810280272504,2.9739727138944048,-2.2224114348779445,2.5171492149604267,0.835648731434068,1.5889428847701728,1.044322273125518,3.808183947022543,-0.12538765068274263,-2.3292826272001728,-0.9042610604345104,2.934529640773994,-3.604542543484582,1.7271517915566768,-2.711571718627201],\"type\":\"scatter3d\"},{\"customdata\":[[\"I\",\"Credit Cards\"],[\"have\",\"Credit Cards\"],[\"been\",\"Credit Cards\"],[\"a\",\"Credit Cards\"],[\"long\",\"Credit Cards\"],[\"time\",\"Credit Cards\"],[\"card\",\"Credit Cards\"],[\"customer\",\"Credit Cards\"],[\"with\",\"Credit Cards\"],[\"American\",\"Credit Cards\"],[\"Express\",\"Credit Cards\"],[\".\",\"Credit Cards\"],[\"Never\",\"Credit Cards\"],[\"missed\",\"Credit Cards\"],[\"a\",\"Credit Cards\"],[\"payment\",\"Credit Cards\"],[\"or\",\"Credit Cards\"],[\"had\",\"Credit Cards\"],[\"any\",\"Credit Cards\"],[\"problems\",\"Credit Cards\"],[\".\",\"Credit Cards\"],[\"I\",\"Credit Cards\"],[\"received\",\"Credit Cards\"],[\"a\",\"Credit Cards\"],[\"new\",\"Credit Cards\"],[\"offer\",\"Credit Cards\"],[\"to\",\"Credit Cards\"],[\"spend\",\"Credit Cards\"],[\"over\",\"Credit Cards\"],[\"{$4000.00}\",\"Credit Cards\"],[\"and\",\"Credit Cards\"],[\"receive\",\"Credit Cards\"],[\"bonus\",\"Credit Cards\"],[\"points\",\"Credit Cards\"],[\",\",\"Credit Cards\"],[\"flight\",\"Credit Cards\"],[\"credits\",\"Credit Cards\"],[\",\",\"Credit Cards\"],[\"hotels\",\"Credit Cards\"],[\"credits\",\"Credit Cards\"],[\",\",\"Credit Cards\"],[\"etc.Upon\",\"Credit Cards\"],[\"using\",\"Credit Cards\"],[\"the\",\"Credit Cards\"],[\"card\",\"Credit Cards\"],[\"to\",\"Credit Cards\"],[\"buy\",\"Credit Cards\"],[\"something\",\"Credit Cards\"],[\"that\",\"Credit Cards\"],[\"cost\",\"Credit Cards\"],[\"over\",\"Credit Cards\"],[\"{$4000.00}\",\"Credit Cards\"],[\"my\",\"Credit Cards\"],[\"account\",\"Credit Cards\"],[\"was\",\"Credit Cards\"],[\"suspended\",\"Credit Cards\"],[\"and\",\"Credit Cards\"],[\"now\",\"Credit Cards\"],[\"American\",\"Credit Cards\"],[\"Express\",\"Credit Cards\"],[\"is\",\"Credit Cards\"],[\"asking\",\"Credit Cards\"],[\"for\",\"Credit Cards\"],[\"personal\",\"Credit Cards\"],[\"income\",\"Credit Cards\"],[\"information\",\"Credit Cards\"],[\".\",\"Credit Cards\"],[\"After\",\"Credit Cards\"],[\"going\",\"Credit Cards\"],[\"back\",\"Credit Cards\"],[\"and\",\"Credit Cards\"],[\"forth\",\"Credit Cards\"],[\"asking\",\"Credit Cards\"],[\"them\",\"Credit Cards\"],[\"to\",\"Credit Cards\"],[\"grant\",\"Credit Cards\"],[\"me\",\"Credit Cards\"],[\"my\",\"Credit Cards\"],[\"credit\",\"Credit Cards\"],[\"as\",\"Credit Cards\"],[\"was\",\"Credit Cards\"],[\"outlined\",\"Credit Cards\"],[\"in\",\"Credit Cards\"],[\"the\",\"Credit Cards\"],[\"agreement\",\"Credit Cards\"],[\".\",\"Credit Cards\"],[\"They\",\"Credit Cards\"],[\"have\",\"Credit Cards\"],[\"refused\",\"Credit Cards\"],[\"to\",\"Credit Cards\"],[\"do\",\"Credit Cards\"],[\"so\",\"Credit Cards\"],[\".\",\"Credit Cards\"],[\"My\",\"Credit Cards\"],[\"credit\",\"Credit Cards\"],[\"limit\",\"Credit Cards\"],[\"with\",\"Credit Cards\"],[\"Synchrony\",\"Credit Cards\"],[\"Bank\",\"Credit Cards\"],[\"was\",\"Credit Cards\"],[\"{$3000.00}\",\"Credit Cards\"],[\",\",\"Credit Cards\"],[\"I\",\"Credit Cards\"],[\"made\",\"Credit Cards\"],[\"a\",\"Credit Cards\"],[\"payment\",\"Credit Cards\"],[\"of\",\"Credit Cards\"],[\"{$1000.00}\",\"Credit Cards\"],[\"and\",\"Credit Cards\"],[\"the\",\"Credit Cards\"],[\"credit\",\"Credit Cards\"],[\"card\",\"Credit Cards\"],[\"company\",\"Credit Cards\"],[\"lowered\",\"Credit Cards\"],[\"my\",\"Credit Cards\"],[\"credit\",\"Credit Cards\"],[\"limit\",\"Credit Cards\"],[\"to\",\"Credit Cards\"],[\"{$500.00}\",\"Credit Cards\"],[\"stating\",\"Credit Cards\"],[\"it\",\"Credit Cards\"],[\"was\",\"Credit Cards\"],[\"due\",\"Credit Cards\"],[\"to\",\"Credit Cards\"],[\"my\",\"Credit Cards\"],[\"credit\",\"Credit Cards\"],[\"score\",\"Credit Cards\"],[\",\",\"Credit Cards\"],[\"serious\",\"Credit Cards\"],[\"delinquency\",\"Credit Cards\"],[\",\",\"Credit Cards\"],[\"proportion\",\"Credit Cards\"],[\"of\",\"Credit Cards\"],[\"balances\",\"Credit Cards\"],[\",\",\"Credit Cards\"],[\"revolving\",\"Credit Cards\"],[\"accounts\",\"Credit Cards\"],[\"to\",\"Credit Cards\"],[\"high\",\"Credit Cards\"],[\",\",\"Credit Cards\"],[\"number\",\"Credit Cards\"],[\"of\",\"Credit Cards\"],[\"delinquency\",\"Credit Cards\"],[\",\",\"Credit Cards\"],[\"and\",\"Credit Cards\"],[\"length\",\"Credit Cards\"],[\"of\",\"Credit Cards\"],[\"time\",\"Credit Cards\"],[\"accounts\",\"Credit Cards\"],[\"have\",\"Credit Cards\"],[\"been\",\"Credit Cards\"],[\"established\",\"Credit Cards\"],[\".\",\"Credit Cards\"],[\"Which\",\"Credit Cards\"],[\"is\",\"Credit Cards\"],[\"not\",\"Credit Cards\"],[\"true\",\"Credit Cards\"],[\",\",\"Credit Cards\"],[\"I\",\"Credit Cards\"],[\"have\",\"Credit Cards\"],[\"been\",\"Credit Cards\"],[\"paying\",\"Credit Cards\"],[\"my\",\"Credit Cards\"],[\"creditors\",\"Credit Cards\"],[\"on\",\"Credit Cards\"],[\"time\",\"Credit Cards\"],[\"for\",\"Credit Cards\"],[\"well\",\"Credit Cards\"],[\"over\",\"Credit Cards\"],[\"two\",\"Credit Cards\"],[\"years\",\"Credit Cards\"],[\",\",\"Credit Cards\"],[\"I\",\"Credit Cards\"],[\"have\",\"Credit Cards\"],[\"paid\",\"Credit Cards\"],[\"off\",\"Credit Cards\"],[\"have\",\"Credit Cards\"],[\"the\",\"Credit Cards\"],[\"balances\",\"Credit Cards\"],[\"on\",\"Credit Cards\"],[\"my\",\"Credit Cards\"],[\"accounts\",\"Credit Cards\"],[\".\",\"Credit Cards\"],[\"Yes\",\"Credit Cards\"],[\"my\",\"Credit Cards\"],[\"credit\",\"Credit Cards\"],[\"score\",\"Credit Cards\"],[\"is\",\"Credit Cards\"],[\"low\",\"Credit Cards\"],[\",\",\"Credit Cards\"],[\"but\",\"Credit Cards\"],[\"I\",\"Credit Cards\"],[\"am\",\"Credit Cards\"],[\"working\",\"Credit Cards\"],[\"on\",\"Credit Cards\"],[\"my\",\"Credit Cards\"],[\"credit\",\"Credit Cards\"],[\".\",\"Credit Cards\"]],\"hovertemplate\":\"label=%{customdata[1]}<br>x=%{x}<br>y=%{y}<br>z=%{z}<br>token=%{customdata[0]}<extra></extra>\",\"legendgroup\":\"Credit Cards\",\"marker\":{\"color\":\"#EF553B\",\"symbol\":\"circle\"},\"mode\":\"markers\",\"name\":\"Credit Cards\",\"scene\":\"scene\",\"showlegend\":true,\"x\":[12.28174291827084,1.6689722515834273,-2.1871228763209656,-2.46028179674726,-2.5355157673776647,-3.3259827937876425,-1.751347323930241,-1.3253524515455457,-0.5255118102929369,8.576854435993436,7.4243898513559925,1.5054311462577668,12.263589845340636,-3.2456231541124083,-2.6658088006036986,-2.7288154340636215,-0.8053997559052203,-3.3052143124351927,-1.3206416885605166,-1.32287019596452,0.6245070806613015,13.202259996511463,-1.4940329805312695,-2.0323903900251525,-0.9041683810173956,-2.6126228931689943,-2.610199308042839,-3.13755649250633,-0.45199367736056545,-0.8980344015963342,-0.7530132635683664,-1.2476226522097154,-2.0618926237459445,-3.165883123691545,-2.670139823791196,-2.5925629751288457,-3.1554024314990254,-2.259434393076004,-1.9319388238117086,-2.9891939831323198,-1.6259497437072858,-0.3537938981073163,-2.0548795662925814,-0.830773664267423,-1.6910751650185902,-2.9858449753611707,-3.9621620675568865,-1.8938976827145442,-0.9807871600114209,-3.002017682396394,-0.32217956610732457,2.548523122285953,5.209198286126568,-0.8321552728341083,-2.219606424754311,-1.157235886265613,1.5115413101219122,0.7337487111793314,10.234831522134542,11.33508662966027,-0.5179897101858144,-0.9182299902407659,-2.241526567911127,-1.0600265065841838,-3.2658640550018703,-3.2741970252224903,0.697766933732278,12.628660016662142,-2.5563449144454036,-2.6547424693945727,-1.315742902524031,0.39394455965684677,-1.4783312804788922,-0.7036634396668529,-3.0630839715446783,-2.7917327542957926,-0.5273470971160849,2.1234810329860276,-2.5135116914912654,-1.7337310997074151,-2.6818802898597642,-0.5068105169252589,-2.302516003932634,-1.2333283976701406,-1.7181881688509215,0.059155861608489374,13.204101442107339,1.5129712810843223,-1.0772874515279465,-3.2930055360710253,-3.570826318381894,-2.4322361788123716,0.06471074086653424,7.945691431807398,-0.9878685112423894,-2.1531356158675776,0.18295758196346867,9.593879705088334,7.267165111372978,-2.105237999782513,-0.8595759970191038,-0.7768310631102696,11.873360007792417,-2.018744160112096,-2.317302199607045,-2.2758828800037225,-1.5261457109251126,0.45835214741640823,0.27358388906848263,-0.5919285029509154,-1.0341866636395136,-2.1112252509509446,-2.207525407072837,-2.629783255626115,3.561165493420762,-0.9933936474572619,-2.156675260482404,-3.6754073490074166,2.5655359206536437,0.7361222821699343,-0.16064259481029206,-3.4359489569425055,-2.53769074413562,-3.1039089854760475,3.6042676604033956,-1.197662261987345,-3.383366420320522,-2.259615946944005,-0.6498948378511442,-2.3207754932798355,-2.078765851831896,-1.2725956441522623,-2.104184547686805,-0.9481710641942536,-1.8491214450799087,-0.03336756270927608,-0.4198441547730276,-2.4360343960423227,0.08828143175748396,-1.8454177550060944,-3.0968845150266215,-2.5967467286536534,-2.212415451560716,-1.4608390776101825,-1.518886183472329,-2.8060586465486694,-2.9508708461522417,-2.615914743488389,0.38289496369375287,-1.4785391662482195,-2.515546126709524,-1.7565910434911436,1.053825251968044,12.079681125572316,-0.6328523651847227,-1.1516834868952783,-1.014527066874664,-0.8922802277687821,13.43052218120155,1.7008442796734229,-1.9219308362356697,-1.8594225039207053,3.795295219988307,-0.07967714627608381,-1.6908440004166252,-2.0759675276210663,-2.6620475237154215,-1.5090888130658617,-0.9399320691694832,-4.698875559642896,-1.8639416025802915,-0.5557115075204778,13.864572565541746,-0.3704734320830333,-2.0093893961786953,-1.7881081758759625,-0.6407306289116819,-1.9075170770666872,-1.5301391718635304,-3.25907308954573,3.746119468318223,-0.30197476244012056,-0.7883655941625541,12.864733733609276,4.469822989943995,-0.976409962783725,-3.398888704557858,-1.905489869934108,-1.9032044504645622,-1.4021708002900393,-0.21482433860913436,13.178050667329547,-0.023127858805416474,-2.2242068563771227,-2.9310492530152343,3.459064127821042,-1.4007399766082436,1.1209800965221166],\"y\":[0.2824918245377567,-0.5018004514280867,-0.4856203250170439,0.42830316898397613,1.0494630832997187,2.514712322897116,2.5612311956084044,2.6877710548394687,2.1462777537546947,2.3187239336076293,3.0939270193167743,1.2129265423880813,1.3496576277880017,0.8220392917847503,1.3205535928933352,1.7826548035579675,1.8311607158013015,-0.5281926475417209,1.7764817850262564,1.3607305825096851,0.7548763943141258,0.7582105460984627,0.8758723799857144,0.35025522054638913,1.8219451262572868,1.2126244690364407,-0.2782560271716472,1.2114632153846785,0.8360779633418916,2.254422152990133,1.5200582190809122,1.7186183161930586,3.3424260485386514,2.197974890115392,1.6359098622491135,3.534279110645468,1.8404370448588607,1.549339628357183,3.8145944128082596,1.862508453831128,0.9553529707613035,1.3566292530223036,-0.02268309591229144,1.4453726190609695,1.5089258690807978,0.531172942170404,-0.4348062544503054,-0.031034215075112195,0.46381917528761185,0.1252409251330838,-0.16248416863386592,0.8827861824367387,-1.6766771556713231,2.026297120137369,0.24626632208631616,1.9788170609428772,1.3873345439092544,0.5715208649962551,1.234620759614083,1.7387191109915292,-0.06346777201169927,-1.1193977161983073,-0.007398770476145726,2.407546704923093,3.5394840574484476,2.9397529083378253,0.6445842464053076,0.8611903008946451,-0.07946234742173204,-0.23767205164518307,1.2863541174155924,1.3678481966843776,-1.1996482772906363,-0.44472318392803767,-0.15576650755508048,2.4387048597208145,-1.3800585984245723,-0.6355031111623092,2.6001545458622983,0.915588678597829,0.45092319424319705,1.4058737941153632,0.29753844555097086,1.2112265508735667,1.6637743896521757,-12.810699230569282,0.5939699538060169,-0.09074148407535242,-1.425317916886508,-0.9276746903405275,-2.1854241765777527,-1.013756183382658,-13.026547178527341,1.9247972401040339,2.5340605492993435,3.3525496773829935,3.1465306883126805,2.4924599033465547,3.003814369955992,1.2266410324169836,3.3830465701089794,1.6962550041727564,1.7233990395825955,1.3263091003784597,1.826678170769154,2.2100917709329733,3.0101828179152315,3.9232975265818975,1.2926066251578046,1.4763546049719252,2.252537631147471,2.2199873211396297,2.7212479762479242,2.1996787962919107,-1.2779515895914657,2.9131888924162768,2.380530079005165,0.6037023454417905,2.4241061237575416,1.4292348000010873,0.3802782929514468,-0.17598098430095313,1.372185493635601,1.0373121053969452,-0.6211066700133362,2.4036599277427517,2.3096115998830973,1.7454869461116527,3.4081652748039364,3.2445651556473485,1.8677130994915103,4.239980687576331,3.102571503494857,3.94035973875402,2.0940312402459487,3.516366263195272,2.616183095595465,2.6345413790176884,3.3987124077674817,1.7477174504429476,1.8283672913649156,1.6968036422655965,3.23130794317424,1.5709196363756974,1.7377052210818236,2.1079955750343853,1.5461009495838154,2.0414432491352965,2.4223645512281684,1.3013196184309845,0.35597247926382836,3.6884333009396846,-11.293587811191722,1.5167322234164793,-0.49569632048784124,-0.8851597798400535,0.46676893651858925,1.1372131080510324,0.6508753872286338,-0.07305252611754232,-0.9457757132407943,1.2379880933539589,-1.211047454971656,2.7309719151186544,-0.2819730931309368,2.743933850993473,0.7522125412372199,0.5148638981030718,-0.3853035038292277,-1.460604996684335,-0.5356843822676224,0.9188191523423028,0.4988493824947347,0.3612744444927012,0.22888783800141735,1.4147382080078097,2.276340676577982,1.9159493449409515,2.737869611146949,0.8439164062386908,-1.2916781077188884,1.114492968352856,1.2761102646135674,1.0561019690087166,-1.4560532329850957,1.736241494484851,1.0620003887432923,-0.5617983708494869,0.21400480303261332,1.0692547735644626,-1.2299201433311817,0.8209362155127906,0.9134424501263586,1.523192798491387,0.6532211026519513,-1.7175507340119598,2.6703113725440346,-11.592032100509162],\"z\":[1.621101645135121,1.6909994372733481,3.691237633537598,3.46490252336245,-0.5632560104822076,-0.9058667145648515,-2.0834655580790957,-0.37750588561781534,-1.77832672326016,-2.4596053689178805,-3.387277198383379,-1.1245119719212133,1.795919086454379,-0.9118680506106376,2.4698754545479327,-0.6606784511178247,0.5472066314976702,1.728709802604304,-1.011773756052831,-1.8686140862810405,-1.122377903101643,2.2453678963604147,0.7196482582855807,3.822303190865529,-1.2223646516565518,-1.265665541621787,3.5759526517517553,-1.8016939504021876,-1.8320706368260067,-3.4456789461818857,3.574648201016058,0.9004406388757531,-0.8701083398816534,-1.0636373329645232,2.0103648731857944,-1.785857863355651,0.41654010284349785,1.7979809868655454,-2.514772897468301,-0.27146196129815053,1.4703807338995853,-0.5091676567893013,-0.7283262471020974,2.5499022922501307,0.18477214760712432,4.310093822259186,0.3026970416060899,0.4483978606861543,2.6628493567803675,-1.7862146647071544,-2.008467731625664,-3.5677255651499933,0.37561005451622526,-2.6947889613707177,2.2816230457407607,-2.5190810708548215,0.7545360471645959,-2.9916165416705236,-0.6210469982807908,-1.2759618397550727,2.003718648017221,-1.6503410535138534,2.5516347554346996,-1.2958317996805535,-1.3482141611167646,-0.42341139112367593,-0.47705599641000973,2.7254335914897445,-0.7253618122133787,-0.6313285096512905,1.9355845429294045,-1.0702885512921545,0.7984126010029052,0.884340568173113,4.559035399340601,-0.35012347218469386,-2.407382569393574,0.680558180448509,-0.9678484415031657,2.14404109612143,2.3559801271385448,0.7411445151053688,3.443538510838965,2.1196395228366933,0.3535821523788912,-4.868220876448079,1.8599113581023523,1.9020808346071663,0.41511936640229613,5.113522606327679,2.9964001996928604,3.0471665505995498,-4.953008598704081,1.1008664754380362,0.7883667601572284,-0.42370729677759217,-2.7370042853099243,-1.6898440574457354,-2.3451480691693103,1.4744428671895309,-2.8115052229248265,0.15588236913002065,-0.04070680807427637,2.077565545401785,2.5288499793726658,-0.9116539087908048,1.3080987156783943,-3.4110384938007527,2.556546818294914,3.036051828493556,0.5686586720761545,-1.032866822906404,1.0111861385983412,-0.8751155968670276,2.0763254668101663,0.7859239145315248,1.4332253027824848,3.2402904728253477,-3.147216844878577,-2.5782178523468544,1.6139304228523776,3.247916076810927,1.0671616127133237,2.7424291601147406,0.8032536915419508,0.273542791165124,-0.31978221112286115,2.184459821105726,-1.9954662932276812,-0.7704131240134767,2.701275375351322,-2.4839978035202845,1.2165210353192788,-1.3112851652393613,-0.09499380004798792,-2.0775460794136884,-1.5155475531645837,-0.9195280215906784,-1.9779455626517901,2.5197523014984844,0.10197618762733618,3.8105695152089947,-1.31928118439734,1.147933863892618,3.3615157186068165,0.7696754539374149,3.345123007636914,1.8544149610121208,-0.14485507547180573,2.7794491305477105,4.323169480071553,-1.5371397564750489,-4.143450022247127,1.0031811358396157,2.8009191771559676,2.7137377054610448,-1.900165005948812,0.5419910979784812,0.7907380176223426,1.7692215136702483,4.5542735312362215,1.0863409494750804,1.7592521187653618,-2.876465492846818,4.576539138878245,0.0874607795587044,2.5325725098642358,-0.46588117232276954,1.6646786710647086,2.8366056075057298,3.751338865818886,0.4877559447274821,1.7393215390675685,0.8936625305411875,2.045092273074637,-0.46493080296181016,-1.9350187888377972,1.4616347321690542,-0.3290849391368237,2.223909544490734,1.846403453574849,0.4015040718558675,-0.980329113959186,2.7168880727839895,2.700936113428598,1.127483615818663,1.7959020698660648,4.370872372854931,1.6225221494242656,1.098338108817692,3.0726360993511546,1.8623349186805733,-1.6265573782138834,-2.4031045743324557,1.9175804193577062,1.7815430741080178,-1.9407540762228717,-4.215154070552705],\"type\":\"scatter3d\"},{\"customdata\":[[\"I\",\"Credit Reporting\"],[\"am\",\"Credit Reporting\"],[\"filing\",\"Credit Reporting\"],[\"this\",\"Credit Reporting\"],[\"complaint\",\"Credit Reporting\"],[\"because\",\"Credit Reporting\"],[\"Equifax\",\"Credit Reporting\"],[\"has\",\"Credit Reporting\"],[\"ignored\",\"Credit Reporting\"],[\"my\",\"Credit Reporting\"],[\"request\",\"Credit Reporting\"],[\"to\",\"Credit Reporting\"],[\"provide\",\"Credit Reporting\"],[\"me\",\"Credit Reporting\"],[\"with\",\"Credit Reporting\"],[\"the\",\"Credit Reporting\"],[\"documents\",\"Credit Reporting\"],[\"that\",\"Credit Reporting\"],[\"their\",\"Credit Reporting\"],[\"company\",\"Credit Reporting\"],[\"has\",\"Credit Reporting\"],[\"on\",\"Credit Reporting\"],[\"file\",\"Credit Reporting\"],[\"that\",\"Credit Reporting\"],[\"was\",\"Credit Reporting\"],[\"used\",\"Credit Reporting\"],[\"to\",\"Credit Reporting\"],[\"verify\",\"Credit Reporting\"],[\"the\",\"Credit Reporting\"],[\"accounts\",\"Credit Reporting\"],[\"I\",\"Credit Reporting\"],[\"disputed\",\"Credit Reporting\"],[\".\",\"Credit Reporting\"],[\"Being\",\"Credit Reporting\"],[\"that\",\"Credit Reporting\"],[\"they\",\"Credit Reporting\"],[\"have\",\"Credit Reporting\"],[\"gone\",\"Credit Reporting\"],[\"past\",\"Credit Reporting\"],[\"the\",\"Credit Reporting\"],[\"30\",\"Credit Reporting\"],[\"day\",\"Credit Reporting\"],[\"mark\",\"Credit Reporting\"],[\"and\",\"Credit Reporting\"],[\"can\",\"Credit Reporting\"],[\"not\",\"Credit Reporting\"],[\"verify\",\"Credit Reporting\"],[\"these\",\"Credit Reporting\"],[\"accounts\",\"Credit Reporting\"],[\",\",\"Credit Reporting\"],[\"under\",\"Credit Reporting\"],[\"Section\",\"Credit Reporting\"],[\"611\",\"Credit Reporting\"],[\"(\",\"Credit Reporting\"],[\"5\",\"Credit Reporting\"],[\")\",\"Credit Reporting\"],[\"(\",\"Credit Reporting\"],[\"A\",\"Credit Reporting\"],[\")\",\"Credit Reporting\"],[\"of\",\"Credit Reporting\"],[\"the\",\"Credit Reporting\"],[\"FCRA-they\",\"Credit Reporting\"],[\"are\",\"Credit Reporting\"],[\"required\",\"Credit Reporting\"],[\"to\",\"Credit Reporting\"],[\"\\\"\",\"Credit Reporting\"],[\"promptly\",\"Credit Reporting\"],[\"delete\",\"Credit Reporting\"],[\"all\",\"Credit Reporting\"],[\"information\",\"Credit Reporting\"],[\"which\",\"Credit Reporting\"],[\"can\",\"Credit Reporting\"],[\"not\",\"Credit Reporting\"],[\"be\",\"Credit Reporting\"],[\"verified\",\"Credit Reporting\"],[\"''\",\"Credit Reporting\"],[\"that\",\"Credit Reporting\"],[\"I\",\"Credit Reporting\"],[\"have\",\"Credit Reporting\"],[\"disputed\",\"Credit Reporting\"],[\".\",\"Credit Reporting\"],[\"Please\",\"Credit Reporting\"],[\"resolve\",\"Credit Reporting\"],[\"this\",\"Credit Reporting\"],[\"manner\",\"Credit Reporting\"],[\"as\",\"Credit Reporting\"],[\"soon\",\"Credit Reporting\"],[\"as\",\"Credit Reporting\"],[\"possible\",\"Credit Reporting\"],[\".\",\"Credit Reporting\"],[\"Thank\",\"Credit Reporting\"],[\"You\",\"Credit Reporting\"],[\"The\",\"Credit Reporting\"],[\"Credit\",\"Credit Reporting\"],[\"Bureaus\",\"Credit Reporting\"],[\"were\",\"Credit Reporting\"],[\"reporting\",\"Credit Reporting\"],[\"a\",\"Credit Reporting\"],[\"bankruptcy\",\"Credit Reporting\"],[\",\",\"Credit Reporting\"],[\"but\",\"Credit Reporting\"],[\"the\",\"Credit Reporting\"],[\"courts\",\"Credit Reporting\"],[\"do\",\"Credit Reporting\"],[\"not\",\"Credit Reporting\"],[\"verify\",\"Credit Reporting\"],[\"a\",\"Credit Reporting\"],[\"bankruptcy\",\"Credit Reporting\"],[\",\",\"Credit Reporting\"],[\"the\",\"Credit Reporting\"],[\"courts\",\"Credit Reporting\"],[\"told\",\"Credit Reporting\"],[\"me\",\"Credit Reporting\"],[\"they\",\"Credit Reporting\"],[\"do\",\"Credit Reporting\"],[\"not\",\"Credit Reporting\"],[\"verify\",\"Credit Reporting\"],[\"that\",\"Credit Reporting\"],[\"information\",\"Credit Reporting\"],[\".\",\"Credit Reporting\"],[\"Therefore\",\"Credit Reporting\"],[\",\",\"Credit Reporting\"],[\"that\",\"Credit Reporting\"],[\"information\",\"Credit Reporting\"],[\"was\",\"Credit Reporting\"],[\"pulled\",\"Credit Reporting\"],[\"out\",\"Credit Reporting\"],[\"from\",\"Credit Reporting\"],[\"a\",\"Credit Reporting\"],[\"third-party\",\"Credit Reporting\"],[\"reporting\",\"Credit Reporting\"],[\"agency\",\"Credit Reporting\"],[\",\",\"Credit Reporting\"],[\"therefore\",\"Credit Reporting\"],[\"I\",\"Credit Reporting\"],[\"demanded\",\"Credit Reporting\"],[\"it\",\"Credit Reporting\"],[\"must\",\"Credit Reporting\"],[\"be\",\"Credit Reporting\"],[\"all\",\"Credit Reporting\"],[\"deleted\",\"Credit Reporting\"],[\"because\",\"Credit Reporting\"],[\"the\",\"Credit Reporting\"],[\"court\",\"Credit Reporting\"],[\"say\",\"Credit Reporting\"],[\"they\",\"Credit Reporting\"],[\"do\",\"Credit Reporting\"],[\"not\",\"Credit Reporting\"],[\"verify\",\"Credit Reporting\"],[\".\",\"Credit Reporting\"],[\"And\",\"Credit Reporting\"],[\"I\",\"Credit Reporting\"],[\"would\",\"Credit Reporting\"],[\"appreciate\",\"Credit Reporting\"],[\"once\",\"Credit Reporting\"],[\"its\",\"Credit Reporting\"],[\"deleted\",\"Credit Reporting\"],[\"I\",\"Credit Reporting\"],[\"want\",\"Credit Reporting\"],[\"proof\",\"Credit Reporting\"],[\"that\",\"Credit Reporting\"],[\"'\",\"Credit Reporting\"],[\"s\",\"Credit Reporting\"],[\"it\",\"Credit Reporting\"],[\"'\",\"Credit Reporting\"],[\"s\",\"Credit Reporting\"],[\"been\",\"Credit Reporting\"],[\"deleted\",\"Credit Reporting\"],[\".\",\"Credit Reporting\"],[\"Thank\",\"Credit Reporting\"],[\"you\",\"Credit Reporting\"],[\"and\",\"Credit Reporting\"],[\"god\",\"Credit Reporting\"],[\"bless\",\"Credit Reporting\"],[\".\",\"Credit Reporting\"]],\"hovertemplate\":\"label=%{customdata[1]}<br>x=%{x}<br>y=%{y}<br>z=%{z}<br>token=%{customdata[0]}<extra></extra>\",\"legendgroup\":\"Credit Reporting\",\"marker\":{\"color\":\"#00cc96\",\"symbol\":\"circle\"},\"mode\":\"markers\",\"name\":\"Credit Reporting\",\"scene\":\"scene\",\"showlegend\":true,\"x\":[10.073222257828219,1.0473830569728075,-3.0466210858375997,-1.6693154973448123,-1.36520004149106,0.4072730137663207,7.892547663128124,-0.6746520587232577,-1.9376759562680064,2.4701965899635105,-2.0782599967205475,-2.202534197196232,-1.5613209124679817,-0.27945617305651577,-1.4887458928146977,-2.0638881776583213,-1.0937442159921416,-0.44025719050948775,1.6126446735294093,-1.5439038679892993,-2.259429096788951,-2.0887680893161367,-3.3402471919091106,-0.485628616395937,-3.1431910696797862,-2.3558618562988474,-3.32028181345958,-3.0347733689805185,-1.759264385049536,-0.5512910251929373,7.763380198876529,-1.806914040864875,0.9006615195243366,11.543726682418754,0.5558796020635473,2.1159451275604035,-1.7689422924123617,-3.1775768707783683,-0.9713635719944507,-1.5500864568220916,-0.7550943435302098,-2.6102887256535467,-1.4841760375082749,-0.12880636036915263,-3.396309071162703,-2.555484713835831,-2.583976440975759,-1.9551942006227294,-0.49758948232748973,0.18238565765854606,0.4548661555679669,7.745831099623229,-0.5808645494083545,-0.6409267500338641,-1.275762546333365,-0.6425005563955991,-0.5075090121539099,8.866729331056854,-0.6912490248939922,-0.10311583474360154,0.676146320566682,1.2305320965704025,0.3619744140533824,-1.5333365631619382,-1.8152401438692978,0.813805350205535,-0.7951877569169363,-1.123056405943604,-0.86556913088894,-2.0982571518561097,-0.4858823885008977,-2.9568708720834564,-1.871062155713898,-2.159186889780846,-3.2248056956032993,0.5687935263546116,0.5487208575232123,7.750629540164041,-0.6881153974194202,-0.8348528162881623,0.2555629503622467,11.1227479303373,-1.4966085119752377,-2.2542241227357893,-1.2825514334121388,-2.3911085305536246,-2.401257753330129,-1.7549250408455577,-4.768597676603102,0.8690576329429462,11.247077293194716,8.740708530946556,8.512096279102344,8.54984621600309,7.729376256104123,-1.9568019946523325,-2.66837007941026,-1.736490994281662,-1.5504001402493641,-1.6165696760279498,-1.4763179456262299,-1.4801853246021521,-0.8243866800148504,-2.0304097729058976,-2.5897725556125346,-2.368912685600827,-1.6533025130931736,-1.910740546548829,-1.0134161014810321,-1.2968602243597345,-0.8242190088493916,-1.4013891259887277,-0.013792757097113775,-1.2852678776269721,-2.8041572079669486,-2.851740134502764,-2.5779895192443822,-1.043468316710207,-2.658285120084318,1.3834984136985908,11.569374880465949,0.4679511170591224,0.2049222129035799,-1.9468008341053358,-2.395550257328122,-2.690640396941631,-0.8103721127921913,-1.2194190364960158,-1.337919624209141,-0.2834012259285927,-2.1707894240104295,-1.601875543474763,-0.46195689214083324,-1.0290092031938904,10.04590404013621,0.2458735927994298,-0.9748751776247115,-1.5450158661800515,-1.7796497180906885,-2.218726672439055,-0.845971381507917,-0.49016790109362773,-1.7395132240881392,-1.9022575884598545,-1.1900493834321044,-1.5347466053197076,-2.667318543991291,-2.648268056209857,-1.7017389819258502,1.4009595907768928,10.607604869053175,10.36736432866715,0.6012591385167213,-0.6861880246983031,-2.226917079537627,-0.4864809776759287,-0.7337854460938266,5.198237424231591,-1.777610811454617,-2.161891458600002,-0.4398917172538992,1.400977702622467,-0.882582645031105,-0.8279527060186848,1.5871817602904605,-1.4507077277880742,-3.1423075225389088,-1.1893126962771046,-0.09932271916911471,10.46088698749002,0.9965928094707699,-1.3438241166300873,-0.4134513842418933,-1.8004538208177845,-0.24212140557582784],\"y\":[1.1812317647646342,1.780111603703985,1.4760117095585112,0.07326215842942116,2.2819042525157007,1.2271429258632582,1.249553668454229,0.7151477496903879,0.8347839386297169,-0.15879566662478511,2.033802521683948,0.2201714850870937,1.1340969266754328,-1.2428976399685965,1.127853439073604,2.3389653894984486,2.606409615186584,0.8821708766009343,1.560739347605753,2.8165137110203684,-0.9458213655901859,-0.978666975825877,1.4297030507001178,0.6182964276135376,0.9264708960607414,-0.4309638020980439,0.13077701318590362,1.3698535371254148,1.9911384415911682,1.4541782290342375,1.5770520358421563,2.5278767466033307,1.2722839749133203,0.43758701938590183,0.7136410344311025,0.021770820010973923,0.03264385587320635,0.07072668883017752,1.150340932588579,2.1717418642639807,1.665266714389482,1.6371426254336667,3.492220702648371,1.3866174543525296,-0.7503265945120682,-0.28001648564768505,1.3023053773592932,1.0575860749254222,1.231561347157598,1.1947008505494732,2.407066905715932,2.916125852984942,3.8987229381650104,1.5924627132682894,1.437001173096472,1.1072993322081026,1.938288801963936,2.087813208654732,1.797493117923344,1.5898018347422065,2.2541425470462655,3.5487415973553187,0.3800527846435518,0.9238385635522756,0.44439224932545174,2.06595086429841,2.3928360788246517,3.0307179194226888,1.965175140340304,2.157685599476373,2.2414976028684293,-1.38487186275086,-0.5510512631745144,-0.259503452044404,0.6171955191332055,1.5507447497700972,1.0261513380278084,1.1112312100438504,-0.0225972798589271,1.3124465280526965,0.9535134230043504,0.49186548130145413,2.505966523876528,0.6959453683771615,2.95605207632482,-0.013710770798072376,-1.8669157577480413,-1.0037092820787425,-0.7787784809393403,-12.70137528301134,1.248685843128283,1.7529855494912057,1.5377429339036446,1.95575772092195,2.171340583581111,0.6921216694660655,2.697789096716898,1.804061731185363,1.348684105026171,1.3835414978630218,-1.44046661030249,0.8887841060012922,-0.010343423983932832,-1.3759632335674634,-0.6339589870392482,1.403615665912731,1.6412641906561205,1.3482356958388508,-0.21357442244009453,0.4761611898183727,-0.23018806863964,-0.9869698910066118,-2.1722818827419017,-1.338716290605022,-1.8549255002914167,-1.070836851656075,0.5580923660975509,1.162121225895204,1.6774625665705907,-13.64126813389329,0.5683942479396411,1.4605537401930995,1.9872522669174002,2.2718539168488476,0.19603298010657338,-0.7971638413631099,-1.5756180978506997,0.01338665219897446,0.9156620384375644,2.1500358659949437,3.1899288132358943,2.150040965832781,0.5252729092280459,0.5167908419657391,1.650064672250463,2.0380620722017193,0.6974607779845173,-0.3324914804363042,0.05733000114102544,1.2085093069865294,1.8124889574001772,-0.37614767705605767,0.5676032974464431,0.3880726070756489,-0.3314238493966875,-1.5711557392514997,-2.277177538183553,-1.2583460450172919,0.49587614183096995,-13.689280508235795,1.336961761956735,1.7744334558600736,1.0852251667198376,1.1586851867972754,1.115938216963486,1.4844402185670933,2.0737319133800463,2.788989053950795,1.4223078142783596,1.27227005251725,0.6901227967810137,1.3843222532610724,-0.40564433306605585,0.9149943363374194,-0.000719789737992348,-0.41638047859691046,0.2018839607996984,1.635953271239372,0.6289736579238073,0.9530937070768687,0.7795602546900066,0.3677214923384416,2.238443060458516,1.1076618084120196,0.038536851789444125],\"z\":[1.6705486121926203,-1.3690781730095225,0.04296392588480859,3.2037141909026627,-1.9337104410343293,1.910148331537744,-0.6511221390676619,2.322231461025604,-0.9626657952233288,-0.7688608859439638,-0.06692950010441809,4.7096276428168835,4.123398334708093,-1.5892409429763412,2.0030862418646325,3.428974773533671,0.44821858936787007,3.414979062126422,-0.28007651718356424,-1.4347664621210905,4.463458699680775,3.6662986374148057,1.8585982288233485,3.0415466598462575,2.7046245585073745,2.0421758772482654,4.359722126396927,1.0017870875132828,2.166174931622286,-0.9070891824656556,-1.5013907327437164,-1.7890331245015942,-0.8923878036842913,1.7530767268502505,2.7435850539862856,2.0722254572620917,3.399023463420299,-1.5053423891957503,1.08836762265213,2.672518425770303,1.0441353983118409,1.6998508645342298,-2.3824602352753406,4.3789035856730045,2.6116221055921134,3.4363523654109582,1.2940240892307915,2.748835996404517,0.8767279139790476,0.5990118399370823,-1.7729029066745394,-1.8967573670816091,-2.445242502026214,1.0698853125169037,0.5123959917969088,2.684398931148043,2.254607913558973,-0.5074702513292211,2.604281755996256,0.015282772354917729,1.0420699625621004,-3.000162316948409,2.0413187512940776,2.6342130883809878,4.144498828109652,-0.5448536447174258,0.18485007890866714,-1.935504242574636,2.706592707116723,1.7233807426520245,3.0771055767838242,3.5729905925219105,4.134236529309155,4.886078083534058,0.30971012644918333,-1.7538282644512753,1.2583955826343352,-0.33331067103413636,2.136298335183524,-0.022199961176886267,0.14984293278719543,3.2327266591364645,-1.0346040008655317,2.0583947272689986,-2.3453245977534443,4.803783887517311,1.0286568208854774,4.890832581980944,2.7575595346888186,-1.7961901708573942,1.4700556588327731,-0.9886947271465067,1.031991140296486,-0.4409015299820426,-1.6327548015103452,0.7335074203592817,-1.3217808579026267,3.020931166101703,-0.07322035565614061,1.7935144100239917,4.233977942127327,3.470865816691628,0.8414137533125131,3.8548095321596425,3.8772710867686464,-0.11628206239882329,3.248337594169688,-0.8660049832836637,1.339762151916654,3.3364634910039106,0.8985540412498285,-2.721873198203143,0.43288683608003914,4.108339655815357,4.717308654761508,4.127731596004096,1.3377931343999006,3.6617382633928166,1.9541524047921888,-1.5806861519622448,2.1341981074912644,0.6570404604631672,1.3440572809583535,0.7642574092008428,3.488623832912198,-1.634361436586917,1.8183840292514828,3.9648373484565833,4.336643634029752,0.5518174236774758,-1.2002626565984047,-0.9468008237241778,1.954183258137185,1.2101027236639903,-0.0703727739092382,-2.3732177713770466,1.5166654340966388,2.849953323760625,3.854638247585582,-0.6552930150408524,0.11508131154805613,2.885737378601379,3.8034180329800678,1.4785088726122482,-2.5866255558899187,2.896932610132522,4.572187849440206,3.6416374213737868,0.6676625290470511,-1.5535567237406815,2.533370128136932,-0.014981006205951919,-1.5140317217128778,-2.5520124637851267,-1.3282757637267368,0.2645864667254408,-0.8569169084518306,-1.8504757781498358,-2.6431273761704825,-1.826501301918901,1.5464296078129487,-1.6769235891299923,-0.26287496965993845,-0.6876508779588705,2.198385980489968,1.4771513451830462,2.2239015787921224,0.921972857528971,0.12133666635284349,2.305082696740226,-2.8528858223369613,0.9864569164361183,-2.7327527528046662,-3.425832409245891,-0.5246277195203981],\"type\":\"scatter3d\"},{\"customdata\":[[\"I\",\"Debt Collection\"],[\"noticed\",\"Debt Collection\"],[\"an\",\"Debt Collection\"],[\"article\",\"Debt Collection\"],[\"today\",\"Debt Collection\"],[\"about\",\"Debt Collection\"],[\"Bank\",\"Debt Collection\"],[\"of\",\"Debt Collection\"],[\"Omaha\",\"Debt Collection\"],[\",\",\"Debt Collection\"],[\"and\",\"Debt Collection\"],[\"their\",\"Debt Collection\"],[\"illegal\",\"Debt Collection\"],[\"credit\",\"Debt Collection\"],[\"card\",\"Debt Collection\"],[\"practices\",\"Debt Collection\"],[\".\",\"Debt Collection\"],[\"I\",\"Debt Collection\"],[\"am\",\"Debt Collection\"],[\"so\",\"Debt Collection\"],[\"glad\",\"Debt Collection\"],[\"you\",\"Debt Collection\"],[\"nailed\",\"Debt Collection\"],[\"these\",\"Debt Collection\"],[\"guys\",\"Debt Collection\"],[\".\",\"Debt Collection\"],[\"They\",\"Debt Collection\"],[\"basically\",\"Debt Collection\"],[\"ruined\",\"Debt Collection\"],[\"my\",\"Debt Collection\"],[\"life\",\"Debt Collection\"],[\"when\",\"Debt Collection\"],[\"they\",\"Debt Collection\"],[\"added\",\"Debt Collection\"],[\"me\",\"Debt Collection\"],[\"to\",\"Debt Collection\"],[\"my\",\"Debt Collection\"],[\"wife\",\"Debt Collection\"],[\"'\",\"Debt Collection\"],[\"s\",\"Debt Collection\"],[\"credit\",\"Debt Collection\"],[\"card\",\"Debt Collection\"],[\"account\",\"Debt Collection\"],[\".\",\"Debt Collection\"],[\"When\",\"Debt Collection\"],[\"the\",\"Debt Collection\"],[\"strain\",\"Debt Collection\"],[\"of\",\"Debt Collection\"],[\"the\",\"Debt Collection\"],[\"fees\",\"Debt Collection\"],[\"and\",\"Debt Collection\"],[\"charges\",\"Debt Collection\"],[\"broke\",\"Debt Collection\"],[\"her\",\"Debt Collection\"],[\",\",\"Debt Collection\"],[\"it\",\"Debt Collection\"],[\"took\",\"Debt Collection\"],[\"me\",\"Debt Collection\"],[\"down\",\"Debt Collection\"],[\"as\",\"Debt Collection\"],[\"well\",\"Debt Collection\"],[\",\",\"Debt Collection\"],[\"causing\",\"Debt Collection\"],[\"us\",\"Debt Collection\"],[\"both\",\"Debt Collection\"],[\"to\",\"Debt Collection\"],[\"lose\",\"Debt Collection\"],[\"our\",\"Debt Collection\"],[\"house\",\"Debt Collection\"],[\",\",\"Debt Collection\"],[\"bankruptcy\",\"Debt Collection\"],[\",\",\"Debt Collection\"],[\"and\",\"Debt Collection\"],[\"nearly\",\"Debt Collection\"],[\"our\",\"Debt Collection\"],[\"marriage\",\"Debt Collection\"],[\".\",\"Debt Collection\"],[\"This\",\"Debt Collection\"],[\"was\",\"Debt Collection\"],[\"about\",\"Debt Collection\"],[\"7\",\"Debt Collection\"],[\"years\",\"Debt Collection\"],[\"ago\",\"Debt Collection\"],[\"or\",\"Debt Collection\"],[\"so\",\"Debt Collection\"],[\".\",\"Debt Collection\"],[\"Any\",\"Debt Collection\"],[\"discomfort\",\"Debt Collection\"],[\"you\",\"Debt Collection\"],[\"cause\",\"Debt Collection\"],[\"them\",\"Debt Collection\"],[\",\",\"Debt Collection\"],[\"know\",\"Debt Collection\"],[\"they\",\"Debt Collection\"],[\"deserve\",\"Debt Collection\"],[\"all\",\"Debt Collection\"],[\"of\",\"Debt Collection\"],[\"it\",\"Debt Collection\"],[\",\",\"Debt Collection\"],[\"and\",\"Debt Collection\"],[\"probably\",\"Debt Collection\"],[\"a\",\"Debt Collection\"],[\"lot\",\"Debt Collection\"],[\"more\",\"Debt Collection\"],[\".\",\"Debt Collection\"],[\"A\",\"Debt Collection\"],[\"bank\",\"Debt Collection\"],[\"account\",\"Debt Collection\"],[\"was\",\"Debt Collection\"],[\"acquired\",\"Debt Collection\"],[\"in\",\"Debt Collection\"],[\"my\",\"Debt Collection\"],[\"name\",\"Debt Collection\"],[\"as\",\"Debt Collection\"],[\"I\",\"Debt Collection\"],[\"was\",\"Debt Collection\"],[\"a\",\"Debt Collection\"],[\"victim\",\"Debt Collection\"],[\"of\",\"Debt Collection\"],[\"identity\",\"Debt Collection\"],[\"theft\",\"Debt Collection\"],[\"from\",\"Debt Collection\"],[\"Navy\",\"Debt Collection\"],[\"Federal\",\"Debt Collection\"],[\"bank\",\"Debt Collection\"],[\".\",\"Debt Collection\"],[\"I\",\"Debt Collection\"],[\"sent\",\"Debt Collection\"],[\"the\",\"Debt Collection\"],[\"proper\",\"Debt Collection\"],[\"information\",\"Debt Collection\"],[\"to\",\"Debt Collection\"],[\"the\",\"Debt Collection\"],[\"credit\",\"Debt Collection\"],[\"reporting\",\"Debt Collection\"],[\"and\",\"Debt Collection\"],[\"Bank\",\"Debt Collection\"],[\"for\",\"Debt Collection\"],[\"investigation\",\"Debt Collection\"],[\".\",\"Debt Collection\"],[\"The\",\"Debt Collection\"],[\"account\",\"Debt Collection\"],[\"was\",\"Debt Collection\"],[\"taken\",\"Debt Collection\"],[\"off\",\"Debt Collection\"],[\"the\",\"Debt Collection\"],[\"report\",\"Debt Collection\"],[\"and\",\"Debt Collection\"],[\"then\",\"Debt Collection\"],[\"has\",\"Debt Collection\"],[\"reappeared\",\"Debt Collection\"],[\"on\",\"Debt Collection\"],[\"my\",\"Debt Collection\"],[\"consumer\",\"Debt Collection\"],[\"credit\",\"Debt Collection\"],[\"report\",\"Debt Collection\"],[\"hurting\",\"Debt Collection\"],[\"me\",\"Debt Collection\"],[\"further\",\"Debt Collection\"],[\"in\",\"Debt Collection\"],[\"these\",\"Debt Collection\"],[\"uncertain\",\"Debt Collection\"],[\"times\",\"Debt Collection\"],[\".\",\"Debt Collection\"],[\"this\",\"Debt Collection\"],[\"negative\",\"Debt Collection\"],[\"report\",\"Debt Collection\"],[\"is\",\"Debt Collection\"],[\"stopping\",\"Debt Collection\"],[\"me\",\"Debt Collection\"],[\"from\",\"Debt Collection\"],[\"having\",\"Debt Collection\"],[\"a\",\"Debt Collection\"],[\"actual\",\"Debt Collection\"],[\"relationship\",\"Debt Collection\"],[\"with\",\"Debt Collection\"],[\"this\",\"Debt Collection\"],[\"bank\",\"Debt Collection\"],[\"if\",\"Debt Collection\"],[\"i\",\"Debt Collection\"],[\"choose\",\"Debt Collection\"],[\"and\",\"Debt Collection\"],[\"stagnating\",\"Debt Collection\"],[\"my\",\"Debt Collection\"],[\"report\",\"Debt Collection\"],[\".\",\"Debt Collection\"]],\"hovertemplate\":\"label=%{customdata[1]}<br>x=%{x}<br>y=%{y}<br>z=%{z}<br>token=%{customdata[0]}<extra></extra>\",\"legendgroup\":\"Debt Collection\",\"marker\":{\"color\":\"#ab63fa\",\"symbol\":\"circle\"},\"mode\":\"markers\",\"name\":\"Debt Collection\",\"scene\":\"scene\",\"showlegend\":true,\"x\":[11.257766667367058,-1.3949401076439283,-2.775184570100987,-0.34304114143124875,-2.311797549827866,-2.1078826833851347,4.50195385128696,-1.7877177127789674,0.7633756776800295,-1.3503629048919048,-1.1659937379008887,-0.17468228574868547,-1.8795839789636193,-1.86142012353495,-2.5440811813557995,-2.315914962199085,0.18708975343141937,12.419076006830261,-0.7075609805575456,-1.999463645538312,-1.8641562049276883,0.33239279191683807,-1.6075548859156596,-2.3464133833421887,-1.3734182161711754,-0.1898226002491149,13.388618421581217,0.2219486356776532,-1.5080500554946872,1.6610778119949854,-1.1114441640269663,-1.359565887047668,0.04554411478017472,-3.762569154770458,-1.7529537407017757,-3.6904725406481522,2.435231289014914,-0.8507365142359992,0.6845794686203265,-1.5624480990380953,-1.8066510810708851,-2.4621313333472097,-2.5074761644434274,-0.05273583295990576,11.412742486936635,-1.9398104595444168,-2.8819272450576787,-2.7026202549276186,-2.1606696374656256,-1.5056757326826675,-1.920669836293682,-1.6452935002342888,-1.9431103674662003,-1.0628509886507536,-1.4771762925176644,-0.6104979466180745,-3.5190483387003817,-1.0495237236880033,-4.708122802960364,-2.768155235678868,-2.68647077101023,-2.284533285135671,-1.616166696703191,-0.7618885469629149,-1.898072265006775,-3.0033254849183857,-2.633712131334979,-0.6573659715737348,-2.282310920105666,-2.6087877261483614,-1.6213693935215643,-1.531173538803783,-1.7402427285473865,-2.0907894886140665,-0.5883092393948651,-1.8257651462405655,-0.04620938013559446,12.640610108377572,-2.490509787300991,-1.0452420860737832,-0.42786849713249697,-1.606862491889971,-0.39874685160624934,-1.7847481844027868,-0.2935240730300533,-0.2994454459904051,11.620580608219313,-1.2466166586562988,-0.08332989819406826,-2.030381230752444,-1.4343293444516154,-1.3206295353882667,-0.8742037484984565,-1.7361118470585952,-1.6650964568544249,-0.9602885133066102,-1.4520271663420503,-1.4865805865223811,-1.9780033903789132,-1.7102704897291274,-1.0385860440607633,-2.484653076176535,-2.7754180905317427,-2.673787452471932,-0.0379251142492738,10.853216203120423,-0.3792482019586214,-1.4415250506869899,-2.1963702208486207,-0.48590648690179866,-1.2645407787806433,4.717605767957973,-2.3915895440749426,-1.3241079336397463,9.663878068673828,-2.496305076963015,-3.0840109630230597,-3.331006558032805,-2.644608023824007,-1.4703792252787125,-2.5808425517341025,-0.36661941019169525,9.647047483702085,7.267154598553983,-1.767182808029786,-0.7214068341719533,12.29443446250893,-1.0761362491731452,-1.6305852637495808,-1.8056529443227372,-2.5600031685474827,-3.373668703280285,0.5532465330560541,-1.5524173447292244,-2.1446147360125916,-1.2781581086077254,8.1397325948256,-1.1692248429734822,-0.43162707818406126,-0.6362889395285397,12.107598364613406,-0.19676246245067094,-1.6736467527210461,-3.263911370354178,-2.015744664884775,-0.7020063693095565,-1.6378198642644948,-0.4995944892545576,-0.16490728628983498,-0.39736564196094526,-2.8445744210245016,-2.7647927719492573,6.058049885236443,0.4742971483759567,-1.7164308037406608,-1.7850664515526788,-2.9547720490090614,0.22970390643448116,-2.9889480708716283,-2.8745463061431287,-2.428480258594796,-1.921431591905093,-1.510600673606601,0.5448559143200237,-1.8160525866562318,-1.9622377813697025,-2.3182191241146586,-2.0103254934289745,-2.8746858009062386,0.8626808115190778,-0.8348548341050934,-3.316023011789197,-2.665942405165641,-1.680869664684556,-2.4597706605285117,-2.4715991329346783,1.1351480101009543,-1.623348450310775,-1.0250402550132234,0.965297771566585,-3.2196983935601824,-2.016376330936189,-1.4902268101064817,3.429819559556081,-1.6076359384579473,0.5479274268429738],\"y\":[-0.256495649893738,0.3515875737042746,0.11281707069406341,0.5690386101025934,0.3146032997683143,-0.7303605583940485,2.0535766346975857,1.3736115985546495,1.8719432682623753,1.7065075620491434,0.6858699613834288,1.7830039698272093,2.0827021426677765,2.627746424119431,1.9618624654106238,2.4869394423450624,-0.28815528039166927,-0.42766654305809837,-0.5688777173958183,-1.2387513402102692,0.24249747130749952,-3.547468950809458,0.927610799366386,0.12350908640162316,-0.6511161446124323,-0.6726386369111435,0.12555521293434474,-0.16563944950910017,-0.7721897416940247,-3.142069202665044,0.9030415079943032,0.26024330061079975,-1.7864695941823234,1.372778522240952,-3.3334127670985514,0.5094661808025674,-2.158292804123736,1.0934220226770475,0.29166193398746865,1.521391790269429,2.090499023732065,1.8756728381706256,2.376875840486585,-15.099033445856492,0.5013993606882703,0.7314729730142232,2.3181970793489257,1.2808722157048822,1.3397224630701987,2.8114018309911932,1.7055825764983574,1.9776210607239668,0.1019034212709702,-2.4584581274690462,-0.6512052677514069,-1.2429792252937795,-2.433621330927083,-5.591009310160406,-2.308143948291344,-1.0098149236520464,-2.4330068776364993,0.36504274141247345,0.14334867108745233,-0.34721114059126734,-0.3542374740113885,-1.1488838542454822,0.6689782094094825,0.7413663639593938,2.087251915423853,0.62604963514861,1.2549165984391057,0.2726453703370874,0.610683366080954,-0.030503549592823545,-0.26544775749868343,1.801333816050934,-15.145052462592885,0.26035451647483915,0.06080572682457541,-3.495228378483686,-1.0159531655337737,-2.067132296511608,0.5868513997880599,-0.0787273765910974,-0.8264816734490781,-0.8921694641438748,0.5079277038442154,0.28347097518978875,-3.5210829678925726,0.5880396963183961,-2.2323403609484784,-0.7646573888330771,-2.199702167219588,-3.068763133171514,-0.18447606311234618,-1.0757117597686032,-1.043147125298314,-1.8763649410489058,-0.13607347786651527,-0.7325180715623907,-1.5462053164152025,-1.6460216424969256,-2.210504829523126,-1.5483610180098182,-15.179667101414527,1.8255197411556872,2.3627474037247143,2.5331104006818803,0.7167154552543015,2.6625689679806284,2.3213069256965584,-1.5340567707872075,2.026733193181382,1.0721179052041427,1.5965674599692272,1.100691985308803,1.4104356871855144,2.206120620907398,1.9667398677429746,3.818216702756819,2.491816780547607,1.5282916646303728,2.4035312557601474,3.5992091187829023,3.3170695423924226,1.2211655700179196,1.1128025818785017,1.1578690319710376,2.0649699333569203,3.4180260593002125,3.241482608524301,0.7574119302235549,2.249475961264345,2.684630726041917,3.9762961767726126,2.9201013856855758,3.4010249336335714,2.0331624165384996,3.1472694745156073,0.2386468959327439,1.7838708312524163,3.094347726889302,0.9560817200327446,0.9838403381317689,1.5957019592608712,1.948831052070876,3.2559957023100035,2.0738531575614005,1.1390809547614011,0.5732138154480463,0.7550598628347025,0.2461281933535766,-0.8798978063431185,2.6154376445655894,3.1421999722708636,2.362648931976035,0.7973300435362497,-2.8216478484773364,1.7370188687203842,1.8804394643547258,1.5524917496499266,2.494843054123895,1.6647605351634385,-12.965189711297517,0.593344669401413,2.5153890806933528,2.446753873709591,0.0567150359811087,1.91162114137866,-2.783280441089697,-0.34588840387868025,0.28619519565187296,0.7951568395864833,2.8858248252319747,2.4783194016454826,1.7025812498838726,1.1050554327083246,2.8615222858392952,0.9496156220395175,-1.725996696210389,1.4054046503039623,1.6782025227052697,2.5765988037757515,-0.5999771969124983,3.1618120092897093,-12.955270400637987],\"z\":[1.7695081311795777,-0.8381579843023751,2.6456773238025924,-1.916939863680197,-3.1267241680952402,-1.1179659565334956,-2.863854794442737,-0.37439746613577995,-3.09012907544227,-0.9105875837950763,2.328881202112334,-0.8525041664057257,-2.046450403892787,-0.262543185130812,0.7545294350938595,-1.4388781836290818,0.06481627166869115,2.43123934781509,-0.7393430539636705,0.08103321282578892,-2.7742736055352286,0.7157498283133783,-3.082136270554446,1.08831586170677,-3.7928119391368247,-0.030052029918052062,2.9760029172047404,-2.382978197599016,-1.4902797199238882,2.173419407702611,-1.4871923343515836,2.156624856397094,2.4478623286396965,-0.6232258368560677,-1.0177942810557867,3.395990616953702,2.1832139124653387,-3.4153041368244548,1.7270073292922896,2.1406716494436795,0.4623453461366022,1.2948811335080272,0.17575560111784888,-4.52303690557077,2.3425742708797284,2.6521779288028653,-3.2186893815643507,1.4975695295276383,1.4395691583708357,-2.042201897420779,2.2246652885290077,-0.8927115319573892,-1.1053626681991573,-0.9413900444450144,1.0476921629473386,1.944837836260792,1.6000115805330215,0.06834234179018518,2.451305135795445,3.5782660238757593,1.6225462267384148,1.7396144639769504,2.29793118193425,0.021140694912181006,0.045948466633758796,3.628419195997944,0.46571881221311456,0.867194271146605,-3.6253588976825037,0.9017284061343923,-3.000989234603435,-0.04791857156478065,2.4623530769197735,-2.31906401828209,1.3020199192242392,-3.4857420392221865,-4.546332812078498,1.5259644567260962,0.339652829579461,-0.6695465500868326,1.7542017633389313,3.5221348166282995,-1.6253444405676276,-0.9551253208764321,-2.341656483124751,-1.3844597676463613,2.086777254532171,-2.7866860022618107,0.03601653657091353,-1.8777362482854587,1.33393938783827,2.2841387301430762,-0.5368791664244862,3.2839754711598186,-1.7876033913409028,0.25226877072727066,2.6578671175131015,0.7424770441798247,0.6647451321039444,3.0789476948036687,-2.4149258726025047,1.5481445767816542,-3.2026861047536426,-0.6646318560086923,-4.581554741734609,1.4823520639278742,0.9035397854696396,0.7210052441051477,3.5807240829658973,-0.5510370085578888,3.3240506994712087,2.887256938918305,-1.5035865811750282,0.8533264768041355,-1.5471417679972808,3.4663357633780953,4.60603331254208,-3.1591974417957505,3.034106575295674,-1.7282544311253674,-2.0800309679684483,0.1425699967900786,-1.1802700806870046,-1.7298217727178264,-0.7881458147750842,-1.149852482061125,2.0482140469217813,1.1024337910394557,2.7146804335803907,-2.8587821121567663,0.560822569501777,3.964796908537245,2.341116602171485,-0.664244895079386,-2.5754874514528514,-1.1589308860819758,-2.4259935478456773,1.2483981705424332,-1.469734098085156,-0.27443072181812805,1.4383657867658717,-0.6751166535662322,2.899898448432694,0.03371382344460063,-0.5461426409441987,2.7484436756617154,-1.0043020101040494,3.370769530143445,-0.3496407421871973,1.5760799111890669,-0.9070848811824498,2.5152794101064595,2.5584763173018095,-1.3545291438421767,-0.8572204958801434,0.30054563735465945,-3.1428066748481114,0.049554343250442424,-1.9364558906197975,2.2149924222344834,0.7627901988239446,-2.6569529965626955,-2.04575944507879,-3.456490963978207,2.813027390152749,-2.204003422289126,-0.6225951531414539,2.5561142942079274,-1.9824456900225407,0.06204514315053304,3.839098048464366,2.684131860414236,4.12594168708687,-2.3878492769188995,-0.4644139682652119,2.562197609561644,1.2672887989351769,-1.7442943005471079,1.862147188752521,1.2130709402673594,-2.1132221183750306,1.7704859591099913,-2.4892939088703545,1.7593656640506408,-1.829615061431393,-3.479131355148946],\"type\":\"scatter3d\"},{\"customdata\":[[\"I\",\"Loans\"],[\"was\",\"Loans\"],[\"contacted\",\"Loans\"],[\"via\",\"Loans\"],[\"postal\",\"Loans\"],[\"mail\",\"Loans\"],[\"to\",\"Loans\"],[\"apply\",\"Loans\"],[\"for\",\"Loans\"],[\"an\",\"Loans\"],[\"installment\",\"Loans\"],[\"loan\",\"Loans\"],[\".\",\"Loans\"],[\"I\",\"Loans\"],[\"was\",\"Loans\"],[\"approved\",\"Loans\"],[\"for\",\"Loans\"],[\"a\",\"Loans\"],[\"loan\",\"Loans\"],[\"of\",\"Loans\"],[\"{$500.00}\",\"Loans\"],[\".\",\"Loans\"],[\"I\",\"Loans\"],[\"was\",\"Loans\"],[\"told\",\"Loans\"],[\"at\",\"Loans\"],[\"first\",\"Loans\"],[\"that\",\"Loans\"],[\"only\",\"Loans\"],[\"8\",\"Loans\"],[\"installment\",\"Loans\"],[\"payments\",\"Loans\"],[\"of\",\"Loans\"],[\"{$130.00}\",\"Loans\"],[\"would\",\"Loans\"],[\"be\",\"Loans\"],[\"withdrawn\",\"Loans\"],[\"from\",\"Loans\"],[\"my\",\"Loans\"],[\"bank\",\"Loans\"],[\".\",\"Loans\"],[\"I've\",\"Loans\"],[\"already\",\"Loans\"],[\"paid\",\"Loans\"],[\"7\",\"Loans\"],[\"payments\",\"Loans\"],[\"but\",\"Loans\"],[\"according\",\"Loans\"],[\"to\",\"Loans\"],[\"them\",\"Loans\"],[\"I\",\"Loans\"],[\"still\",\"Loans\"],[\"owe\",\"Loans\"],[\"over\",\"Loans\"],[\"{$400.00}\",\"Loans\"],[\"and\",\"Loans\"],[\"when\",\"Loans\"],[\"I\",\"Loans\"],[\"went\",\"Loans\"],[\"to\",\"Loans\"],[\"see\",\"Loans\"],[\"the\",\"Loans\"],[\"payment\",\"Loans\"],[\"history\",\"Loans\"],[\"only\",\"Loans\"],[\"tiny\",\"Loans\"],[\"payments\",\"Loans\"],[\"are\",\"Loans\"],[\"going\",\"Loans\"],[\"toward\",\"Loans\"],[\"the\",\"Loans\"],[\"principal\",\"Loans\"],[\"and\",\"Loans\"],[\"larger\",\"Loans\"],[\"payments\",\"Loans\"],[\"towards\",\"Loans\"],[\"finance\",\"Loans\"],[\"fees\",\"Loans\"],[\"(\",\"Loans\"],[\"It\",\"Loans\"],[\"looks\",\"Loans\"],[\"ridiculous\",\"Loans\"],[\")\",\"Loans\"],[\"i\",\"Loans\"],[\"took\",\"Loans\"],[\"a\",\"Loans\"],[\"screenshot\",\"Loans\"],[\"to\",\"Loans\"],[\"provide\",\"Loans\"],[\"you\",\"Loans\"],[\"for\",\"Loans\"],[\"evidence\",\"Loans\"],[\"My\",\"Loans\"],[\"husband\",\"Loans\"],[\"recently\",\"Loans\"],[\"became\",\"Loans\"],[\"very\",\"Loans\"],[\"ill\",\"Loans\"],[\"and\",\"Loans\"],[\"was\",\"Loans\"],[\"hospitalized\",\"Loans\"],[\"until\",\"Loans\"],[\"death\",\"Loans\"],[\".\",\"Loans\"],[\"During\",\"Loans\"],[\"this\",\"Loans\"],[\"time\",\"Loans\"],[\",\",\"Loans\"],[\"our\",\"Loans\"],[\"family\",\"Loans\"],[\"members\",\"Loans\"],[\"took\",\"Loans\"],[\"over\",\"Loans\"],[\"control\",\"Loans\"],[\"of\",\"Loans\"],[\"our\",\"Loans\"],[\"finances\",\"Loans\"],[\"and\",\"Loans\"],[\"misappropriated\",\"Loans\"],[\"our\",\"Loans\"],[\"funds\",\"Loans\"],[\"in\",\"Loans\"],[\"our\",\"Loans\"],[\"bank\",\"Loans\"],[\"accounts\",\"Loans\"],[\".\",\"Loans\"],[\"I\",\"Loans\"],[\"was\",\"Loans\"],[\"unaware\",\"Loans\"],[\"of\",\"Loans\"],[\"this\",\"Loans\"],[\"until\",\"Loans\"],[\"today\",\"Loans\"],[\",\",\"Loans\"],[\"when\",\"Loans\"],[\"looking\",\"Loans\"],[\"at\",\"Loans\"],[\"my\",\"Loans\"],[\"credit\",\"Loans\"],[\"report\",\"Loans\"],[\"to\",\"Loans\"],[\"see\",\"Loans\"],[\"what\",\"Loans\"],[\"was\",\"Loans\"],[\"not\",\"Loans\"],[\"paid\",\"Loans\"],[\".\",\"Loans\"],[\"I\",\"Loans\"],[\"have\",\"Loans\"],[\"filed\",\"Loans\"],[\"fraud\",\"Loans\"],[\"charges\",\"Loans\"],[\"and\",\"Loans\"],[\"filed\",\"Loans\"],[\"a\",\"Loans\"],[\"report\",\"Loans\"],[\"for\",\"Loans\"],[\"elderly\",\"Loans\"],[\"abuse\",\"Loans\"],[\".\",\"Loans\"],[\"No\",\"Loans\"],[\"one\",\"Loans\"],[\"will\",\"Loans\"],[\"help\",\"Loans\"],[\"me\",\"Loans\"],[\".\",\"Loans\"],[\"My\",\"Loans\"],[\"husband\",\"Loans\"],[\"is\",\"Loans\"],[\"dead\",\"Loans\"],[\"and\",\"Loans\"],[\"I\",\"Loans\"],[\"am\",\"Loans\"],[\"trying\",\"Loans\"],[\"to\",\"Loans\"],[\"pick\",\"Loans\"],[\"up\",\"Loans\"],[\"the\",\"Loans\"],[\"pieces\",\"Loans\"],[\".\",\"Loans\"]],\"hovertemplate\":\"label=%{customdata[1]}<br>x=%{x}<br>y=%{y}<br>z=%{z}<br>token=%{customdata[0]}<extra></extra>\",\"legendgroup\":\"Loans\",\"marker\":{\"color\":\"#FFA15A\",\"symbol\":\"circle\"},\"mode\":\"markers\",\"name\":\"Loans\",\"scene\":\"scene\",\"showlegend\":true,\"x\":[12.727912509601765,-2.456851193949766,-1.7229464164855426,-3.0002568812340518,-0.5368363288137357,-1.088949942104335,-2.5513224535195054,-2.2031553061648332,-1.9417506593808294,-1.7400428775069885,-0.16377421659316588,-1.8011032244390117,-0.4158706070197227,13.74328569546747,-2.903309877548308,-1.8438498091399977,-2.1312153353192205,-1.7739279609458933,-1.8153340793259756,-1.4979809243347793,1.8379229665771608,-0.49853301298165476,14.06050178980187,-2.4887047254591836,-1.088198746557067,-0.5097159909602349,0.2997803619455113,-1.0278110060749917,-2.1121950926783333,-1.7924732126291962,-0.6484775093222168,-1.135244625601313,-1.3868501773538526,2.374284926895981,-2.3437587272649543,-2.2516128404768487,-2.543749095449974,-1.0331117914321593,2.656999783976682,-1.562073684378106,0.6813951116777343,13.075609763945044,0.006668489604229646,-2.9825227310404667,-1.3470249862834742,-1.0669346002554785,-1.8196446494983514,0.3638239530984518,-3.3751955695915874,-0.7035501678869177,11.844291020530607,-2.4883365098638515,-0.5414371955161283,-0.8970635762609102,2.1745858137772642,-0.002778360964950907,0.8705699834642,11.266035118749082,-3.797906140408002,-3.7234639534495937,-3.0288183017699817,-2.33988089300919,-2.437138770635774,-1.3521828076898394,-1.7933343649549227,-3.454702870305514,-1.5240618645445707,-2.4886818641598127,-3.690380949413876,-1.7593425271638847,-2.126853807300154,-1.9195731057066228,-1.7077014007139097,-1.6932515233816718,-1.6272227721665034,-2.961658180305774,-0.2566270333429381,-1.387831429682729,1.2521209022481852,10.80452500917695,-0.9810118450873797,-1.8773793651699962,-0.0848820055298872,6.591575954190277,-3.4508125104557497,-2.553605951670962,-2.307955498215742,-2.994378696237374,-1.887034599357086,-0.47437054960221,-1.2625301873557468,0.5940631589598176,11.21229833979674,0.08429841342471925,-0.642860172380752,-1.0111894586608159,-3.9053188883171805,-1.842793288825182,-0.2601627936180191,-1.8289105356463127,-1.9790333928144819,-2.9347540835847523,-2.6125788773484664,-0.20417069188258613,6.738565932691347,-1.9476043769702152,-2.8921833903551093,-1.4980364381345477,0.7125567462324857,-1.0450336037737598,-2.3368802623668974,-2.6767225030272566,-0.7852197318680784,-1.2172356802987565,-2.1928516585153046,-0.5680032881981399,0.6549361250601999,-1.0067397394210724,-1.448031454835285,-1.1488312979294235,-0.8883099529384922,-3.7746725099329574,-0.684751383197989,-1.3847405432791502,-1.20220629927014,-0.20679078833511952,12.179303310709184,-3.035393074096615,-0.15602966823623107,-2.288932268450798,-2.2184090251383837,-2.5894578525350136,-1.834033076736575,-0.8646537043363685,0.35378819870649036,-3.1852017232884338,-2.1597011508862707,1.5807335961072244,-2.1393802119651606,-1.7750596649953296,-2.3703954456420475,-2.7830476151093575,-1.4882644483603131,-3.572725016643803,-3.1959545058040932,-2.973899048660459,-0.5021958794341194,11.821107123160926,0.19238705711863635,-2.774319987107258,-2.069866945079655,-1.8704236352131114,-0.6632890230575454,-2.9248527848849815,-2.6465305563325963,-2.757489199630366,-1.9227547056856253,-1.3955181796646008,-1.5401016534770053,-0.6463871494917408,10.744202498989269,-1.900824721331776,-3.3314857066911125,-5.842370613207446,-2.0344349539428643,-0.526476788715738,12.284557111687452,-0.40518235984577267,-2.0564312826490836,-2.2459754725333707,-0.6484955083071061,10.614513302113531,-1.7091879074849439,-4.160315770353158,-3.5641811517073316,-2.718127323704302,-3.07129818450912,-2.156611832655105,-2.2133364370308515,-0.20546402741229564],\"y\":[1.3602884072208532,0.575090767552801,1.0553198904725474,0.7144772128318633,2.9591059201461483,1.4539832829820833,0.3317017133193229,0.8359117707204867,0.6843066907010514,1.4181525703998268,2.9899662397941764,2.2370640619504583,0.36955734409572166,1.1186957210553878,0.5880671491980399,1.384901946235885,1.1602287522972075,2.0259370168462776,3.030108386396685,3.0072864611015717,3.394141011085937,0.6452853980841925,0.9027051996138221,-0.48441222273918755,-2.0898205532432432,0.6511309306990982,0.9609139043656802,-0.059620775351584596,1.07483005966572,2.516903977067213,3.263346843032478,1.3689777601424322,2.1588906978421756,3.385014335491919,-0.27798604578815284,0.8841185277018258,2.598993857418361,0.8289212109144046,1.113360283273532,2.48704658725575,-12.354832776214616,0.8148779289050584,0.5861536048084984,0.01617300632897513,2.9736267069162707,0.6857484039700578,-1.1594471147606045,0.37919024659628886,-0.03432522026075721,-0.1012943423805428,0.5732147625166694,0.23786340247197582,1.643572957612734,1.3366195810734898,2.250835186429864,1.187714371506094,1.9804200333598185,1.5170022567625068,-0.9525944389937685,-0.9168245596550714,-0.2698626894007522,1.3257805349134222,1.4738390716537986,2.6491416244646717,0.743088766081845,0.7765698153152393,-0.06063187968631178,-0.3287885918488504,1.321277728453475,0.9167998664193754,2.219634122779404,3.2103643416426695,1.6858272199545337,2.2782218660162084,0.05377637701003527,0.7719747674247164,2.935246418349501,2.524140752009577,1.7229280538664122,1.8084083410931522,1.9738628684519157,0.6329257114928264,1.078796739883302,0.5927382158026574,-0.2502319563318587,0.8231742870142942,1.773377483323864,0.15102301790284778,1.4242367496587482,-0.24823874135835272,0.7960561963389032,-0.005240651125455761,1.4718040191904793,1.8173078437545795,1.4099698884388787,1.2120948995907939,-0.14220251935663047,0.3252341425819435,1.618739916943611,0.5810723758473498,1.398861899804171,1.11492275010048,0.2202178352595984,-14.606715772229549,0.6585180499382887,-0.7554480108266675,1.5571296978911082,1.0763459575452983,0.6256936976257123,1.5902175780531438,1.1041843828128053,0.3951374043095284,0.6897423542535863,2.131894632790434,2.3418484374684034,0.9863031297175155,2.419125971050765,2.126536479085186,3.092433774152464,1.51966574731254,2.60392347007974,2.173014759914606,0.9155237580425919,2.5497465738805083,1.4578152919496652,-14.626932012522492,1.26636282025898,0.5985102181599425,0.1384189256908725,0.6824640519744867,0.3248941005376299,0.3700569009122265,-0.06805153697638609,0.9099074306113113,0.5992807384768167,-1.0161820310915697,0.446594425855455,0.2915536478296625,2.84868932674644,2.761546282431268,0.03842577518258326,-0.1662867548202964,-0.17475366885657131,0.12337483084407741,0.1408489447513861,1.2376749154443372,0.6842315251647196,-0.07795258248761874,0.7368805185365881,1.7327000896987248,2.9666826896369187,2.817381499105053,0.8993435144867113,1.3113809242337724,1.9991873127113176,2.315269109384256,1.5296418224869242,2.7768252274979615,3.128732017621846,0.8248701947666235,1.0362822492529193,0.19497462278391064,-1.3985764641695495,-2.494085480165424,-2.180004688544978,-0.6694161504563716,1.1210094349579112,0.773468752743023,-0.5952478410945559,0.6796094805862094,0.8862491148584475,1.3550697648712475,0.6239289419263556,-1.47560281548877,-0.7417113111634107,-1.0616039513953432,-0.6349040733398469,0.943237940719384,2.404312259812219,-14.606163165137957],\"z\":[1.2549384837571715,3.645012120138265,-1.6825072830009118,1.4831415182793868,-1.4918559573909929,-0.41125652227322135,5.416816045348147,2.377724627898599,3.9421940672643236,4.490798002856948,0.786003724419785,0.7168406488153265,-0.7469149540131519,1.6433132226129576,3.6547694100772774,0.39002804736154234,3.042740819939686,3.452639920468368,-1.7006913435119972,-0.10794745735244608,-2.882047770154834,-0.9083759114114228,1.3878447765055242,4.556963302886149,-2.6664028509616107,0.06699210175718795,-2.469846452269481,3.4800434464083603,2.517195606366915,0.022123120078711925,-0.16047175119827997,2.3646634548238703,1.5830631925806409,-2.101950588045858,4.250473181263569,3.3498594916932887,-2.6789431368331997,3.4676507745361054,-1.2430495007928004,-2.7525108115127424,-4.009464580575002,2.2564794079628574,-0.042065651250850045,2.9927612109511363,-0.6906551361276333,0.9885252702547316,2.12029088343292,-1.7303070996964456,2.9547869880731716,1.2466070967768967,1.734961839761973,1.4464267688329084,-2.986114061502377,-2.0956110411276287,-2.257264521653315,2.127525009268047,-0.13013441169386297,-1.053708151562031,-0.6942301372306684,4.540586575145073,0.21854518210120602,2.905847367481631,1.5485129951701118,-1.957208471879309,1.292536201641353,-1.0567242788320976,2.637924244565852,3.739608691227111,-0.42225992871811674,2.8178997714709717,2.634467484231998,-0.2316897679194902,3.3877365605678116,0.9268412601188379,2.3567989527425635,2.2759970902112334,-0.041698633184200445,1.4601203704021708,1.21461760625281,-0.6465067627404759,-2.5203777841679864,-2.231669690382964,1.8852127870212407,-0.1414022124922747,-2.1269450606214475,2.6362219101301414,-2.739739029827301,3.1365353320858707,1.0532137061163713,-2.8883864746834056,-1.6935383835211424,-2.970105904795876,1.092034081409221,-0.9366912404217955,-0.5645329257579057,1.6052685897204548,-0.46799221243671457,-0.8333613399716168,3.8224108087900315,3.145972820515424,-1.2225838942940765,0.12147154802122344,0.46419219244816107,-5.660107870127044,-0.9891076544822174,2.336567014323216,0.3088859351441123,2.487484174614799,1.2592839462315513,-0.8376621523433808,0.7520970724333329,-0.40507254392521935,0.892270713241331,0.20453389062007507,2.327180033403412,1.9256286548246226,-2.1896616629694985,3.87117691886009,-2.0833649368919467,1.6610471894337413,-0.1562067429056714,3.3589419781586045,2.5129820195493475,-0.04973490375461165,0.3001167516414975,-5.6703717318656475,-0.2328616570124738,1.2160763072814744,-0.8337345084165879,2.917411649425598,1.754046026833953,-1.1262591586560473,-2.0337531475608412,0.8015999896393043,0.9703686711620716,-0.15138435402256195,0.9147264285955873,-0.9430584474686048,-2.936392706461647,-1.8471051803182543,1.4852289254433588,0.0929330300852612,0.7903533503019199,3.16951337022836,1.3217945996236335,-2.0212301850069223,-1.468654932310422,1.6434050011289956,-0.30449325891899287,1.810018715055184,-2.39502179744298,-1.394878479334279,4.075171937969527,1.1645204341237627,2.7525155011435984,-2.151108449233288,1.1161468508489047,-2.487341816445477,-3.3622544729226465,-1.3664889487765888,2.1967159828592964,-1.6125647966006424,2.128777694436665,1.7153552143905961,-1.0844606907873895,-1.250910178231881,1.9336900250201388,0.021424806757019434,3.3780772509458123,-2.2603273003357045,2.324583857653409,0.6142697366780915,-1.9990435807354179,0.28576344869544196,3.6925838432319207,0.2147293306921566,2.9195562605913308,1.8973496909537204,-3.454708503102808,-5.67365253096511],\"type\":\"scatter3d\"},{\"customdata\":[[\"I\",\"Money Transfers\"],[\"wire\",\"Money Transfers\"],[\"transfered\",\"Money Transfers\"],[\"{$66000.00}\",\"Money Transfers\"],[\"to\",\"Money Transfers\"],[\"a\",\"Money Transfers\"],[\"marketing\",\"Money Transfers\"],[\"company\",\"Money Transfers\"],[\"as\",\"Money Transfers\"],[\"an\",\"Money Transfers\"],[\"investment\",\"Money Transfers\"],[\"for\",\"Money Transfers\"],[\"commissions\",\"Money Transfers\"],[\"on\",\"Money Transfers\"],[\"small\",\"Money Transfers\"],[\"business\",\"Money Transfers\"],[\"loans\",\"Money Transfers\"],[\"that\",\"Money Transfers\"],[\"close\",\"Money Transfers\"],[\".\",\"Money Transfers\"],[\"This\",\"Money Transfers\"],[\"company\",\"Money Transfers\"],[\"described\",\"Money Transfers\"],[\"themselves\",\"Money Transfers\"],[\"as\",\"Money Transfers\"],[\"a\",\"Money Transfers\"],[\"Network\",\"Money Transfers\"],[\"Marketing\",\"Money Transfers\"],[\"Company\",\"Money Transfers\"],[\".\",\"Money Transfers\"],[\"But\",\"Money Transfers\"],[\"never\",\"Money Transfers\"],[\"delivered\",\"Money Transfers\"],[\"any\",\"Money Transfers\"],[\"service\",\"Money Transfers\"],[\"or\",\"Money Transfers\"],[\"products\",\"Money Transfers\"],[\"promised\",\"Money Transfers\"],[\".\",\"Money Transfers\"],[\"In\",\"Money Transfers\"],[\"addition\",\"Money Transfers\"],[\",\",\"Money Transfers\"],[\"all\",\"Money Transfers\"],[\"the\",\"Money Transfers\"],[\"contacts\",\"Money Transfers\"],[\"and\",\"Money Transfers\"],[\"phone\",\"Money Transfers\"],[\"numbers\",\"Money Transfers\"],[\"have\",\"Money Transfers\"],[\"been\",\"Money Transfers\"],[\"disconnected\",\"Money Transfers\"],[\".\",\"Money Transfers\"],[\"I\",\"Money Transfers\"],[\"do\",\"Money Transfers\"],[\"have\",\"Money Transfers\"],[\"the\",\"Money Transfers\"],[\"banking\",\"Money Transfers\"],[\"routing\",\"Money Transfers\"],[\"info\",\"Money Transfers\"],[\"and\",\"Money Transfers\"],[\"am\",\"Money Transfers\"],[\"requesting\",\"Money Transfers\"],[\"the\",\"Money Transfers\"],[\"person/\",\"Money Transfers\"],[\"people\",\"Money Transfers\"],[\"connected\",\"Money Transfers\"],[\"to\",\"Money Transfers\"],[\"this\",\"Money Transfers\"],[\"account\",\"Money Transfers\"],[\"be\",\"Money Transfers\"],[\"tracked\",\"Money Transfers\"],[\"and\",\"Money Transfers\"],[\"stopped\",\"Money Transfers\"],[\".\",\"Money Transfers\"],[\"I\",\"Money Transfers\"],[\"would\",\"Money Transfers\"],[\"like\",\"Money Transfers\"],[\"to\",\"Money Transfers\"],[\"receive\",\"Money Transfers\"],[\"restitution\",\"Money Transfers\"],[\"and\",\"Money Transfers\"],[\"damages\",\"Money Transfers\"],[\".\",\"Money Transfers\"],[\"PayPal\",\"Money Transfers\"],[\"holds\",\"Money Transfers\"],[\"funds\",\"Money Transfers\"],[\"for\",\"Money Transfers\"],[\"items\",\"Money Transfers\"],[\"sold\",\"Money Transfers\"],[\"using\",\"Money Transfers\"],[\"their\",\"Money Transfers\"],[\"services\",\"Money Transfers\"],[\".\",\"Money Transfers\"],[\"PayPal\",\"Money Transfers\"],[\"is\",\"Money Transfers\"],[\"not\",\"Money Transfers\"],[\"the\",\"Money Transfers\"],[\"seller\",\"Money Transfers\"],[\",\",\"Money Transfers\"],[\"but\",\"Money Transfers\"],[\"they\",\"Money Transfers\"],[\"receive\",\"Money Transfers\"],[\"the\",\"Money Transfers\"],[\"benefit\",\"Money Transfers\"],[\"of\",\"Money Transfers\"],[\"the\",\"Money Transfers\"],[\"funds\",\"Money Transfers\"],[\"in\",\"Money Transfers\"],[\"their\",\"Money Transfers\"],[\"possession\",\"Money Transfers\"],[\"for\",\"Money Transfers\"],[\"items\",\"Money Transfers\"],[\"sold\",\"Money Transfers\"],[\"long\",\"Money Transfers\"],[\"after\",\"Money Transfers\"],[\"the\",\"Money Transfers\"],[\"items\",\"Money Transfers\"],[\"are\",\"Money Transfers\"],[\"delivered\",\"Money Transfers\"],[\"to\",\"Money Transfers\"],[\"the\",\"Money Transfers\"],[\"buyer\",\"Money Transfers\"],[\"when\",\"Money Transfers\"],[\"they\",\"Money Transfers\"],[\"should\",\"Money Transfers\"],[\"be\",\"Money Transfers\"],[\"in\",\"Money Transfers\"],[\"the\",\"Money Transfers\"],[\"hands\",\"Money Transfers\"],[\"of\",\"Money Transfers\"],[\"the\",\"Money Transfers\"],[\"seller\",\"Money Transfers\"],[\".\",\"Money Transfers\"],[\"They\",\"Money Transfers\"],[\"refuse\",\"Money Transfers\"],[\"to\",\"Money Transfers\"],[\"relinquish\",\"Money Transfers\"],[\"the\",\"Money Transfers\"],[\"funds\",\"Money Transfers\"],[\"claiming\",\"Money Transfers\"],[\"you\",\"Money Transfers\"],[\"need\",\"Money Transfers\"],[\"to\",\"Money Transfers\"],[\"prove\",\"Money Transfers\"],[\"that\",\"Money Transfers\"],[\"you\",\"Money Transfers\"],[\"are\",\"Money Transfers\"],[\"a\",\"Money Transfers\"],[\"good\",\"Money Transfers\"],[\"seller\",\"Money Transfers\"],[\"to\",\"Money Transfers\"],[\"be\",\"Money Transfers\"],[\"removed\",\"Money Transfers\"],[\"from\",\"Money Transfers\"],[\"the\",\"Money Transfers\"],[\"program\",\"Money Transfers\"],[\"which\",\"Money Transfers\"],[\"assumes\",\"Money Transfers\"],[\"guilt\",\"Money Transfers\"],[\"or\",\"Money Transfers\"],[\"criminal\",\"Money Transfers\"],[\"intent\",\"Money Transfers\"],[\".\",\"Money Transfers\"],[\"I\",\"Money Transfers\"],[\"was\",\"Money Transfers\"],[\"told\",\"Money Transfers\"],[\"I\",\"Money Transfers\"],[\"would\",\"Money Transfers\"],[\"be\",\"Money Transfers\"],[\"removed\",\"Money Transfers\"],[\"from\",\"Money Transfers\"],[\"the\",\"Money Transfers\"],[\"program\",\"Money Transfers\"],[\"after\",\"Money Transfers\"],[\"a\",\"Money Transfers\"],[\"phone\",\"Money Transfers\"],[\"call\",\"Money Transfers\"],[\",\",\"Money Transfers\"],[\"but\",\"Money Transfers\"],[\"now\",\"Money Transfers\"],[\"they\",\"Money Transfers\"],[\"refuse\",\"Money Transfers\"],[\"and\",\"Money Transfers\"],[\"can\",\"Money Transfers\"],[\"not\",\"Money Transfers\"],[\"find\",\"Money Transfers\"],[\"record\",\"Money Transfers\"],[\"of\",\"Money Transfers\"],[\"such\",\"Money Transfers\"],[\"a\",\"Money Transfers\"],[\"promise\",\"Money Transfers\"],[\".\",\"Money Transfers\"]],\"hovertemplate\":\"label=%{customdata[1]}<br>x=%{x}<br>y=%{y}<br>z=%{z}<br>token=%{customdata[0]}<extra></extra>\",\"legendgroup\":\"Money Transfers\",\"marker\":{\"color\":\"#19d3f3\",\"symbol\":\"circle\"},\"mode\":\"markers\",\"name\":\"Money Transfers\",\"scene\":\"scene\",\"showlegend\":true,\"x\":[9.576585155799602,-0.5027280695899439,-1.078880768004425,-1.3081448729292002,-3.4137206140311633,-1.3278849225909644,-1.4462776037278895,-1.9542197218716835,-1.8015726676919475,-1.9082250340014735,-0.713113003629043,-1.776968021481682,-1.4860269613818087,-3.2501801528204615,-2.2311518931138927,-1.4082122600836864,-1.3352590051167543,-1.1274978103592899,-3.0508613973872953,0.0823862804779372,11.677528304945595,-0.3468414523136348,-0.5996124609098579,0.3285986253149137,-0.695070834253389,1.2997966165835138,8.263837456885986,7.835308393354983,6.595376426245398,0.5152956438869386,11.121734917946227,-0.6108416720520797,-1.7912499047445587,-1.4405025378359868,-1.7242041221371547,-1.9868795105836303,-0.8027977229753919,-1.7412210091189566,-0.06574576151444174,11.77136004101356,-0.7447186300779501,-1.5269020016813655,-0.5426289048730366,-1.5294164201625144,-0.13436498171268588,-1.9218632492967804,-3.396605146113647,-2.0396940805091437,-0.9969701369964165,-2.058888091151247,-1.9279208635503637,0.45531862315269855,12.557214002622379,-0.20363523312025805,-2.3629187008375134,-1.5667861344961884,-1.4777666929384734,-1.4428230280070993,-1.550432699698485,0.20979326836321743,0.7142227272958758,-0.9398397214812503,-1.6582694256340473,-0.5727102996452738,-0.9677724680705563,-1.1494471090044784,-3.296108669176798,-1.9111750580840798,-1.4815938578254122,-0.9756714983097273,-3.061850421551745,-1.846163325552039,-3.4919536870503802,-0.37706749030588427,12.822844409537288,0.9004427397232594,-2.483072697303156,-2.3007157302163073,-1.0288174663996799,-2.776415106432023,-1.8412029058076416,-0.9826794466334151,0.5645559797031016,11.388841289063144,-2.1726766804123554,-0.8408738594858473,-1.9466585464475175,-0.8806792278064319,-3.353021549457309,-1.5207559731368758,1.0845037342459283,-1.4323549236815272,-0.6080242398373629,11.659343979489208,-1.860542662540106,-1.7204632573150656,-2.1566468869377426,-2.1099597867299718,-1.9185375848833628,-1.8810213587353783,1.2839825248900922,-0.8870160622834148,-1.877243489730794,-2.741248985301963,-2.3962720828705724,-2.1683216413625175,-0.5010291016408717,-3.1254268258502993,-0.04105293586501762,-1.4648713645576874,-2.0390875326609215,-0.8861107881848462,-3.4339154821952134,-1.352187796241611,-2.0729919527848018,-2.000425709944334,-0.8588761115434725,-1.5049523404410001,-1.3201024632532308,-3.547340550410665,-1.8666992424136806,-2.5248055563088485,-1.0825629077541004,-1.310660519914098,-1.6476153826250255,-2.794748817135955,-2.7988973413813456,-2.3490931495241734,-4.320766476246398,-2.752944105623283,-1.7717367737957144,-1.5911063108155927,-0.1658785867329353,11.223992449175118,-0.10926832891665998,-2.7077210615184524,-1.6229512307092224,-1.817884905595865,-0.9460359356152078,-0.6435014174925229,2.37606259702554,-1.5253710865874037,-3.015071777215651,-1.4213307214358528,-1.3272122908490323,2.2495001097692096,-2.0167378314401505,-2.440123223446471,-1.630349486734988,-2.792716145450808,-2.5632201575861857,-1.698582189947309,-3.5514581438346213,-0.43605342032838235,-1.3768421462293454,-1.6737607761815412,-2.4839294118894135,-1.8549626838664721,-2.946612816292744,-2.6218527003908294,-2.13877893785414,-3.752752838409102,-0.3618102495647951,14.003813978424974,-2.2761375673693425,-0.27714350882830324,8.296997098743674,-0.5547108460335013,-1.746311738358335,-3.350591777376795,-0.16197496964318098,-1.2132635345375788,-1.4994284765145232,-3.095630202632756,-2.7318377040681523,-3.7754504144276164,-3.956357095620344,-2.053675461904523,-1.2818370663233118,-0.8126596929381039,-0.30713630601875275,-1.5676725157044382,-0.18288699127332475,-2.154471278695633,-2.347049481404374,-2.695881163080982,-1.3945927281246577,-2.094381550364617,-2.1884528937737078,-2.7676505489278544,-2.666862930513175,-0.144637351243005],\"y\":[2.280572324385607,2.7131018449421744,2.7152397083303756,3.7207556124925625,1.2642815452745395,1.9085312001170665,3.0023630912016452,2.3934953956413785,2.182036502043579,2.4927740068716915,3.5696320420578,2.8620112656563914,3.5113575315542462,1.6199288786361383,1.406572825226661,2.564016449709798,3.141830672110234,1.868020705800989,2.830802870024651,1.7537202463685018,2.11821269268599,2.8638474228154673,2.667250688004092,1.5373463843352326,1.5331118171480342,2.8632004289270134,3.3694790002533375,3.3920098155328846,4.062411432874264,2.0196258638348117,2.2162956146973,1.6067131366227811,2.222527019650598,1.8135524811859633,2.470455166142845,1.8651498497807264,2.2184406705358968,2.267764500707197,1.0169590923617025,1.2907867455231552,2.3591179896125563,1.3052680532025092,1.2996266855585936,2.0553955565465896,3.023295761556184,2.2106660106986986,-0.17366513456911056,1.3115307461538015,0.46017427069807787,0.3040593324853032,2.33264343911724,-11.152271334684917,1.0655628693321972,0.6995914222425601,0.8279588499876289,2.0522556912502856,3.8018740462035803,3.4330670092134867,3.179887427883549,2.0716682062025837,2.710456703508663,1.8602545457153898,2.400014375826512,3.5471570857078367,2.269448279785339,1.4412800968846835,1.11780097860787,1.287210068283957,2.931705418945496,0.8133021015791755,2.990410368303784,1.2948921803863294,2.9794377680729043,1.4731609402142871,1.8677928199620928,0.05654740627956375,-2.8391365887140227,0.28782369944195785,1.430736711718615,2.941790465571457,1.8708984893341483,3.1024219221975744,-12.051220268062176,1.1955658283063748,2.7439136336597807,1.1640586726692386,1.9625333532953142,0.8844365198274519,0.16851273785093412,1.4743131867217738,1.1850280795692703,3.165215255256883,0.7622998325190856,1.3735751748178477,1.0385197002020017,-0.6810096540557562,0.8959239515405779,1.0798772982387201,1.4432274670811487,-2.1096460886374886,-1.113082129666138,0.46878075911075767,0.463752540066748,2.674596468315543,1.5111700753666677,1.562751127969868,0.7953946338562732,1.092511205454672,0.1902387812195747,2.535234071298042,1.2031619836172454,0.6288390891925146,0.08115896920502604,2.6567702803118376,1.8458221291833203,1.5310847249954576,0.7389359050719703,0.39971295118764605,1.0275055472369066,0.3979742108612864,1.684654609574604,1.425526400998265,1.8888094181981456,-0.2592034265214978,0.8719483727610148,0.41683582233478383,0.3766268406062651,0.27290635224596455,0.28743403204719997,0.9563804000533237,1.4027552259838092,-0.1757710886623436,-13.801216526071137,0.42374399728339174,0.06666467413623646,-0.20740386094215146,3.0764899099542466,1.5211311479878902,1.5794230916749956,1.9614679103846093,-2.8471485859910484,-2.184308615005893,-0.4275759991947045,0.05415606980917534,-0.04081484172078357,-2.37390907864391,0.17054418390612489,0.4245321799139346,0.8005239155245755,1.496661682189284,-0.4024841966208206,-0.018347371542585558,0.9216755943254952,-0.10813249460105043,1.799453120768956,2.74863711083871,2.2140621012171064,2.793466333166217,2.4988400099046935,1.4318604821254426,2.5110456362552123,3.1602565124423774,0.313809466471867,0.4767263964770757,0.8388349469828458,-1.380756091668235,2.0259849339151863,0.324732326837232,0.3266374788105338,0.7752568033102489,-0.35843530124755635,1.7181540951466137,2.3478986858057853,1.7546621726565985,0.708378304654228,0.3817443217913466,0.6168278439022243,1.1678968512224437,-1.2360146074596616,0.8296677225164315,-1.166515392929608,0.747366052983317,1.3739381401793087,-1.2310548182647016,-0.4033687560035702,1.2681694948126203,1.742027915578291,1.5590944040616226,1.5421767318859376,1.460752498982947,2.4437833759178815,-14.088386956160525],\"z\":[1.287099451430646,-2.889294241737234,-3.0151357655856836,-2.2798762976346825,3.9900640929190705,3.73825786947176,-0.890005588489043,3.305181333839457,3.19971424808077,3.2332282472138427,-0.435040167403596,1.6863732564531635,-1.8619270562620658,2.546016365600917,0.8843394560730315,0.378489477960817,-1.4910489229754533,1.104781192119218,-2.2000444804888852,-1.9570563043665141,1.1827595716152526,-0.29025357947589236,-0.915449787655286,-1.8933673739552959,1.7786109108631902,-0.5844375890436886,-1.8856459889844719,-1.6214457728372438,-2.7563398308774008,-2.217071410152767,0.8418968407913427,-0.8456795475291657,-0.2030951358440812,2.2987285918538283,0.030175680547013903,2.5412639204756724,0.09538918065047429,-1.9531101787928389,-0.5067462340177867,1.6488177483687705,0.03293928998062902,2.1223979719455617,2.253175380957154,1.8194496994931328,-2.117848993250446,2.799586952988767,1.2559454997969681,1.0192333661241095,2.2506154352072336,3.2932084493511833,-2.0614939061119206,-3.2096873934961474,1.617931612565945,-1.07795411172221,1.5652244190745508,1.5622866808496243,-3.00001638242657,-2.544063212099042,-3.062049620737419,1.9044076643069068,-2.4409317313292203,-1.0261031286420947,2.5231502518638673,-1.4450606263433534,-1.6022762882497887,0.17356391268926216,3.407010496161584,1.8545906996860897,-1.0447311457705108,3.4918447719503045,-1.2450253040076316,3.9179749197971674,-2.2685484821519655,-1.191554307522314,0.9320151735335621,0.02616219484462616,-2.115727557728857,3.7198796358785873,1.802597046757483,-1.8665572783412803,2.6923031214609927,-1.777332136084691,-3.5223879290687643,1.498574889956471,-1.3211498456024453,2.2458537234320404,3.4064154346441704,2.8311198635367805,2.575410510062532,-0.0941549724851985,1.5978587791386385,-1.7193022945338554,0.2589393869569457,0.9606294108842506,1.614901794487614,3.620809585315374,3.881430820037161,0.3693403885573407,2.0144611992496544,3.742735445796469,2.6332753237910915,3.3191919595961084,4.491966283066854,-1.6236505356122137,3.497067395868354,3.2271990379590494,1.8111259815693512,5.35110391115577,3.491224908614611,-3.3051815490099283,2.828067922123437,2.6647517277166863,2.4801013609588374,-1.990500831462897,2.1728970071371614,2.931158225824763,2.278394410495339,4.359915891156637,2.7012359469644625,5.22991808429183,4.050509421538076,-0.4158004773330322,2.138686959944624,2.93362919405723,-0.04481326521137758,3.684487040156133,5.356533675530413,4.591673362056795,-3.013168916977341,3.1761808031942067,4.462480374984727,1.9562729581994238,-0.09254923034575976,2.5530640753617693,0.8210125973681723,4.858512360685339,-2.4746596250028654,2.389705132400719,1.3311890391043808,-2.5115395135559497,1.734522477436516,2.9317220642156463,4.805178769210954,1.8068958992807027,4.846130219543545,1.9439022334222236,3.5001781655661124,4.500544392298049,-1.3840864858803992,-1.0078797477084742,5.176924744994103,4.6323866658139075,2.221064446567399,4.570583215927584,2.895379763261756,-0.9139741090183665,1.8030094207604008,-1.4367050617853865,-1.8365864667449414,1.004568527185106,-1.5312190539811814,-2.0741158695714446,0.3082789243520753,1.855518751262411,0.3388483641893819,-2.6714123958985927,-1.9877295064526597,2.550975108243052,3.9315137238426647,2.5898354751471513,4.884335486196088,3.241025706622586,0.9886916877848881,2.002140666521758,3.7633016674901425,-1.265090439018325,-0.2187027640362893,1.7278899651227977,3.2890703568351602,-1.7021384221152889,2.581443492310122,-0.997727735603775,3.0660320748660164,2.507831429857703,3.404856063625642,-1.925267564896885,-2.1830866194082823,2.1301482987594,3.6594461621153034,2.852982317562514,-2.542017198195732,-0.15629534342204462],\"type\":\"scatter3d\"},{\"customdata\":[[\"We\",\"Mortgage\"],[\"have\",\"Mortgage\"],[\"requested\",\"Mortgage\"],[\"Covid\",\"Mortgage\"],[\"19\",\"Mortgage\"],[\"help\",\"Mortgage\"],[\"and\",\"Mortgage\"],[\"got\",\"Mortgage\"],[\"approval\",\"Mortgage\"],[\"from\",\"Mortgage\"],[\"Carrington\",\"Mortgage\"],[\"mortgage\",\"Mortgage\"],[\".\",\"Mortgage\"],[\"Just\",\"Mortgage\"],[\"to\",\"Mortgage\"],[\"find\",\"Mortgage\"],[\"out\",\"Mortgage\"],[\"that\",\"Mortgage\"],[\"the\",\"Mortgage\"],[\"company\",\"Mortgage\"],[\"is\",\"Mortgage\"],[\"doing\",\"Mortgage\"],[\"nothing\",\"Mortgage\"],[\"for\",\"Mortgage\"],[\"us\",\"Mortgage\"],[\".\",\"Mortgage\"],[\"They\",\"Mortgage\"],[\"have\",\"Mortgage\"],[\"posted\",\"Mortgage\"],[\"bad\",\"Mortgage\"],[\"credit\",\"Mortgage\"],[\"for\",\"Mortgage\"],[\"us\",\"Mortgage\"],[\"also\",\"Mortgage\"],[\".\",\"Mortgage\"],[\"This\",\"Mortgage\"],[\"is\",\"Mortgage\"],[\"wrong\",\"Mortgage\"],[\"!!!\",\"Mortgage\"],[\"Carrington\",\"Mortgage\"],[\"does\",\"Mortgage\"],[\"not\",\"Mortgage\"],[\"follow\",\"Mortgage\"],[\"financial\",\"Mortgage\"],[\"legal\",\"Mortgage\"],[\"practices\",\"Mortgage\"],[\".\",\"Mortgage\"],[\"We\",\"Mortgage\"],[\"have\",\"Mortgage\"],[\"called\",\"Mortgage\"],[\"in\",\"Mortgage\"],[\"many\",\"Mortgage\"],[\"times\",\"Mortgage\"],[\"for\",\"Mortgage\"],[\"help\",\"Mortgage\"],[\".\",\"Mortgage\"],[\"Carrington\",\"Mortgage\"],[\"always\",\"Mortgage\"],[\"says\",\"Mortgage\"],[\"they\",\"Mortgage\"],[\"will\",\"Mortgage\"],[\"help\",\"Mortgage\"],[\"with\",\"Mortgage\"],[\"given\",\"Mortgage\"],[\"current\",\"Mortgage\"],[\"pandemic\",\"Mortgage\"],[\"and\",\"Mortgage\"],[\"has\",\"Mortgage\"],[\"damaged\",\"Mortgage\"],[\"our\",\"Mortgage\"],[\"credit\",\"Mortgage\"],[\".\",\"Mortgage\"],[\"Congress\",\"Mortgage\"],[\"is\",\"Mortgage\"],[\"funding\",\"Mortgage\"],[\"them\",\"Mortgage\"],[\"and\",\"Mortgage\"],[\"they\",\"Mortgage\"],[\"are\",\"Mortgage\"],[\"not\",\"Mortgage\"],[\"helping\",\"Mortgage\"],[\"people\",\"Mortgage\"],[\".\",\"Mortgage\"],[\"We\",\"Mortgage\"],[\"have\",\"Mortgage\"],[\"sent\",\"Mortgage\"],[\"in\",\"Mortgage\"],[\"all\",\"Mortgage\"],[\"requested\",\"Mortgage\"],[\"information\",\"Mortgage\"],[\"multiple\",\"Mortgage\"],[\"times\",\"Mortgage\"],[\"with\",\"Mortgage\"],[\"no\",\"Mortgage\"],[\"help\",\"Mortgage\"],[\"!!!\",\"Mortgage\"],[\"Carrington\",\"Mortgage\"],[\"seems\",\"Mortgage\"],[\"to\",\"Mortgage\"],[\"misplace\",\"Mortgage\"],[\"a\",\"Mortgage\"],[\"lot\",\"Mortgage\"],[\"of\",\"Mortgage\"],[\"documents\",\"Mortgage\"],[\"just\",\"Mortgage\"],[\"to\",\"Mortgage\"],[\"request\",\"Mortgage\"],[\"them\",\"Mortgage\"],[\"again\",\"Mortgage\"],[\".\",\"Mortgage\"],[\"I\",\"Mortgage\"],[\"filled\",\"Mortgage\"],[\"out\",\"Mortgage\"],[\"a\",\"Mortgage\"],[\"contact\",\"Mortgage\"],[\"form\",\"Mortgage\"],[\"two\",\"Mortgage\"],[\"times\",\"Mortgage\"],[\"and\",\"Mortgage\"],[\"never\",\"Mortgage\"],[\"received\",\"Mortgage\"],[\"a\",\"Mortgage\"],[\"response\",\"Mortgage\"],[\"from\",\"Mortgage\"],[\"my\",\"Mortgage\"],[\"loan\",\"Mortgage\"],[\"company\",\"Mortgage\"],[\".\",\"Mortgage\"],[\"I\",\"Mortgage\"],[\"would\",\"Mortgage\"],[\"like\",\"Mortgage\"],[\"to\",\"Mortgage\"],[\"find\",\"Mortgage\"],[\"out\",\"Mortgage\"],[\"when\",\"Mortgage\"],[\"my\",\"Mortgage\"],[\"Yearly\",\"Mortgage\"],[\"Escrow\",\"Mortgage\"],[\"Analysis\",\"Mortgage\"],[\"is\",\"Mortgage\"],[\".\",\"Mortgage\"],[\"I\",\"Mortgage\"],[\"just\",\"Mortgage\"],[\"had\",\"Mortgage\"],[\"to\",\"Mortgage\"],[\"pay\",\"Mortgage\"],[\"two\",\"Mortgage\"],[\"supplemental\",\"Mortgage\"],[\"tax\",\"Mortgage\"],[\"payments\",\"Mortgage\"],[\"for\",\"Mortgage\"],[\"around\",\"Mortgage\"],[\"2300\",\"Mortgage\"],[\"each\",\"Mortgage\"],[\".\",\"Mortgage\"],[\"I\",\"Mortgage\"],[\"would\",\"Mortgage\"],[\"like\",\"Mortgage\"],[\"to\",\"Mortgage\"],[\"know\",\"Mortgage\"],[\"when\",\"Mortgage\"],[\"I\",\"Mortgage\"],[\"would\",\"Mortgage\"],[\"be\",\"Mortgage\"],[\"receiving\",\"Mortgage\"],[\"my\",\"Mortgage\"],[\"escrow\",\"Mortgage\"],[\"over\",\"Mortgage\"],[\"payment\",\"Mortgage\"],[\".\",\"Mortgage\"],[\"The\",\"Mortgage\"],[\"company\",\"Mortgage\"],[\"is\",\"Mortgage\"],[\"called\",\"Mortgage\"],[\"Loancare\",\"Mortgage\"],[\".\",\"Mortgage\"],[\"I\",\"Mortgage\"],[\"'\",\"Mortgage\"],[\"ve\",\"Mortgage\"],[\"read\",\"Mortgage\"],[\"hundreds\",\"Mortgage\"],[\"of\",\"Mortgage\"],[\"reviews\",\"Mortgage\"],[\"about\",\"Mortgage\"],[\"Loancare\",\"Mortgage\"],[\"and\",\"Mortgage\"],[\"they\",\"Mortgage\"],[\"are\",\"Mortgage\"],[\"all\",\"Mortgage\"],[\"horrible\",\"Mortgage\"],[\",\",\"Mortgage\"],[\"they\",\"Mortgage\"],[\"all\",\"Mortgage\"],[\"say\",\"Mortgage\"],[\"the\",\"Mortgage\"],[\"company\",\"Mortgage\"],[\"never\",\"Mortgage\"],[\"responds\",\"Mortgage\"],[\".\",\"Mortgage\"]],\"hovertemplate\":\"label=%{customdata[1]}<br>x=%{x}<br>y=%{y}<br>z=%{z}<br>token=%{customdata[0]}<extra></extra>\",\"legendgroup\":\"Mortgage\",\"marker\":{\"color\":\"#FF6692\",\"symbol\":\"circle\"},\"mode\":\"markers\",\"name\":\"Mortgage\",\"scene\":\"scene\",\"showlegend\":true,\"x\":[12.99215190375873,0.3331400047490013,-2.4454410871272385,6.528777915256031,-2.3378960557727537,-4.184059329549947,-1.5964153660422897,-1.924368789657219,-2.791774969009968,-1.5388066549523582,7.442532929114768,-0.4395432096328357,0.20800833930302,13.15123560151062,-1.0909296361358678,-1.5643946906167505,-0.3892285356515905,-0.9498371509815046,-0.8592531690757238,-1.2093017752408466,-2.7110885710444834,-4.029847647089623,-1.914757610681398,-2.3379846202164516,-1.0266269296360278,-0.5167129442252805,15.234442579946773,-0.6647004344020004,-3.891153399616342,-1.7116204704100622,-2.683458512824426,-2.5451295205679654,-0.6397469349976785,-1.927691185251997,0.11753727357401124,14.62788320938475,-1.9531232319996499,-2.544180564587152,0.3241839559909659,14.929598358007107,-1.7565914410850691,-1.6499879311616767,-4.806907852816622,-1.9421122499790853,-2.7111089219575533,-2.4947921751335556,0.019617387114623266,15.330531305119463,-1.0111623001484717,-2.9163891693050314,-2.9204023819841836,-3.4872723448974012,-0.8981266121711521,-2.0048386043856756,-4.3360269965169005,-0.038599390264487735,15.228182248991695,0.5561210068211246,-0.8954409114293026,1.758946926490416,-3.287170939927287,-5.802269612333413,-1.796320595728077,-1.0100949747175352,-2.8733169361310766,-2.2272665559705387,-0.3693073600114625,-2.0258851483526916,-2.5498225835570323,-1.0290081701489673,-1.916649794046993,-0.4732936196363381,15.006312514198651,-2.5896316944868185,-3.1782300211620353,-1.3261965444675552,-1.0416288682160233,2.1798822897327157,-2.2786298153510054,-2.0189915953378197,-5.275658188018266,-1.8233678332565317,-0.4054506886414864,15.173108290698698,-0.8049441468437576,-2.8050431795271984,-2.606353100160557,-0.17517746839708706,-2.7929161478238407,-1.7483050533160531,-2.03055712567781,-0.8085622312499775,-2.0246230445114044,-0.9713376492525945,-5.481270756753178,1.5394026417617859,14.8475509085281,0.6742404336517238,-3.0441225601317043,-3.520487667779756,-3.183971966366779,-3.129264045826345,-3.045200500298058,-0.5527898725515159,-1.2178543186031374,-3.066888448736281,-3.2729963987320634,-2.5606124732225393,-3.181476297924661,-0.07173398685666801,11.822914083626364,-1.1297801122759126,-0.31277135710165255,-2.028839712319975,-1.7611788152298917,-0.4021607860411473,-5.177040427696918,-1.6013345743459717,0.013434382308496987,0.515428255128304,-1.8519846709336054,-2.796673221308987,-1.989980756565773,-1.8137123779452817,4.5939207865959935,0.25248699634275523,-1.6139292894401691,-0.38932319989845665,13.491396360892283,-0.06621307549773926,-3.004686828521324,-2.958055053528248,-1.7853486124369675,0.07616409232951328,-0.10575900258794316,2.859667634849467,5.560964481100337,5.9070347448569525,7.538285496883823,-2.092128361354412,-0.3837949014655579,12.833018178679488,-0.24996698450971133,-3.157965264474628,-2.556973237372881,-2.318104051530043,-2.9621204699720614,-0.9894344640348259,-2.38847578010682,-0.9085996845030314,-1.9077391711051663,-1.1590129102329865,-0.7362987704420326,-1.3880237931196269,-0.44346935830292583,14.504601700307296,0.08129893027142336,-2.1445295262732764,-3.283265162002287,-2.2160363212772864,-0.2695819047318478,12.066851921046265,-1.399850311047154,-3.3638671907639344,-1.6942026797770564,2.8693499125680217,0.6092033832247731,-0.4120429504104229,-1.4079680883922316,1.275952946933103,12.01086507833332,1.398712788174512,-1.1967580365941233,-1.3909266859362517,10.856476292053225,-0.0032255417794084546,12.432907521229314,0.7235404823835703,-1.1760365195237288,-2.3649818860869853,-1.7789050271464462,-2.670394517426914,-1.2109481679530056,-1.6167904246344702,11.087278458787399,-0.2955794509134015,0.8727805926567176,-1.6637202671049904,-1.1540087254327873,-1.1677444463615843,-0.5195146283301161,1.3349105940285764,-0.9285734222811926,-0.19663202398568488,0.20783234776754106,0.9758761373328059,-0.00945112197336829,-1.310538606753127,1.7323726623486584],\"y\":[-0.7806166952015531,-1.5843326969647842,-0.028668379964104686,2.191806283505938,2.4066357089911095,-0.13090704692770788,0.5172168004857033,2.2014155095491725,1.29524501744009,0.12720723726258248,2.395954465380261,2.3646678799765026,-0.5352383289936661,-0.33493772402202476,-1.8312963280142418,-1.7946345204111909,-2.6427791327255616,-0.9470891703820834,0.970596275014101,0.8351818551828736,-2.4372316081457246,-3.237196855064593,-3.530151011650412,-2.2052543433165193,-1.2037962266678959,-1.5328732119055293,-1.394661094144646,-1.4019150246275176,1.1269841014853148,1.0511842417949095,2.576335256317968,0.14885462419388462,-0.4369380822816733,1.361698119221989,-1.1611805092217968,-0.24720507300574263,-2.5482537218059518,-3.000735967821655,-4.68696386197929,-0.07920895808435013,-2.4434191387073496,-1.4720051803508842,0.270866429691301,2.453087259016162,2.3106389352093912,1.5130789825620161,-1.0879317146999279,-1.3476973093271096,-1.6328488645666923,-1.0037257256359111,0.039150162760709574,-1.3819525247416875,-0.22554867633608994,-0.21928686704566347,-1.3103224099501394,-2.025916269854437,-0.28488445735339263,-1.3755615210720589,-3.369447881849863,-2.248888123030568,-0.8058931801738064,-1.7313756340588606,1.5041641917853508,1.8486560878053957,1.8540589047376212,2.980033860248314,0.6691281329303366,-0.7790759436425946,0.8948891762746392,0.5793477777245604,2.1173161238348768,-0.7278674640660681,-0.08897639147322492,-2.2670783422719047,0.13687446678023693,-0.8414863595637933,-1.1599659053417366,-1.8868558099715635,-2.535277646345223,-2.2067750952554093,-1.29905339886549,-0.6009559430820259,-0.9929903230837316,-0.981566816394982,-1.7187801549991608,-0.32873309685460267,0.8135799453403788,1.1362545101245984,0.7667989841801376,2.317529249976004,1.3987977434938463,-0.24014536812463996,-0.8410469522211602,-0.5285791038542283,-2.25247554557242,-4.038006181624702,0.13512268106013178,-2.4990604665189564,-1.7466348995130434,-0.7498846529018602,-0.04146542989280571,-0.4860125865795198,0.8474524171888217,1.6141467673638945,-1.390769230565434,-1.5527389792480037,0.5322181666818363,-1.1857817776156925,-0.8598423401331581,-14.345452466891897,0.7546955379843412,1.1312262237743431,-0.4644801490632613,1.8268833570991012,1.785717928223887,2.6598551032752153,-0.26817444426956355,0.3452736706096373,1.3025640611215124,-0.694739028243931,-0.019143398197659915,1.3281544710118043,1.195958904968633,0.26468848212690493,-0.8282298170987136,2.590401560463492,2.7772394000435576,-0.20917413737222068,0.6023794297045975,-2.859547325563135,-5.482622541742114,-2.3795007748150283,-1.3694461655605696,-1.6162778527130992,1.1996024034299624,-0.5544902343731802,2.545112906872352,2.283513712793416,2.0778365215514443,-0.05912879147637723,0.05546720372341314,0.024252036259923223,-1.446186373483039,-2.6010536336155647,-0.3254433676612859,0.8128801941726246,1.0962873585406057,3.62420217191022,3.012156176594954,1.870359029029505,1.9236625959827982,0.1574132365520964,1.8134864046205497,1.8852708489666368,0.05008413985405746,0.5009694927417363,-3.040242895854526,-5.773269277175551,-2.80013175229734,-2.751384330695231,-0.1171372770108196,1.108759911377759,-2.3140740104494553,-1.6689401523301566,1.4615531591391524,-0.6967796427059336,2.5845573203481935,2.4904160044900125,2.4165875204317824,-11.998639439019863,0.8815823637168566,1.347899513267287,-1.3016793338193349,-0.5964335947497698,1.707271177586301,-0.5002748534230869,0.5724144749767139,0.896689875115921,-0.8364361443706317,-1.1705572539861124,0.18569360503789503,0.8689868509830405,1.3289078302077446,-1.0950865115961599,1.4532398408868386,0.5070498057663467,-1.6433699098833117,-0.8179465362199135,-0.6676008243561453,-0.23229568977104303,-0.8858666345150809,-2.1397152481459347,-1.2115600499044006,-1.7637974687282236,1.2121747437322279,1.1525684955599134,-1.3605053701459042,-0.3951970841405026,-14.254697705140906],\"z\":[2.7257029242347004,3.1567218972165185,0.8299499208154818,-1.4330413248727765,-1.9782272436591737,-1.058910133228294,3.1033548801032476,-2.7595237924156386,-1.8906891131238202,1.1317938513211374,-1.9155974031454541,-3.4171865121650575,-1.2178210680330168,2.288954616534831,4.257767026969851,-0.5147763228873474,-0.6206023045316384,4.67780982981668,2.9657613464270325,1.6848190904542515,4.577764965369694,1.0266969937083097,-2.3021361764156567,2.842757070509305,2.042012692749645,-0.5489721569372477,3.5166432661313176,3.2642089393341465,-2.4132194279938877,-2.4789163119785416,-1.53403122555675,1.905669864254022,1.0208373026446917,-2.013669949292364,-0.587665031948054,0.9592849044113477,3.519181466750845,-3.9144080093948768,-1.2844131367830796,1.823008349888511,3.4997730556931987,3.401831429861169,0.04489634904907993,-0.8765106586445631,-1.5999622558667184,-1.0921123695205175,-1.1851623005946266,3.0049458760658845,1.4314581505432968,-2.349930246329312,1.9788061905359662,0.18656288601033053,-0.47673885043551295,1.5686974778903473,-0.7820866240854125,-1.159735749080719,2.3874990965001595,-0.5488828119377824,0.10060395411623306,3.1271781554702494,0.8450076169611267,-0.8989580292601704,-0.24356451355612344,-2.424132033651644,-1.8523905252275255,-3.0965521845089987,1.1762229634680306,-1.185557175512034,-3.062014419120258,0.3671212387032625,-2.40667964366035,-1.1449089993334531,1.9878803329591173,2.076755822503946,-2.5557645777168525,-0.9291891743896614,3.0438333668740096,1.5518139173787235,4.291311752451543,2.6410676494239302,-1.8172318516131312,-2.0857272162109846,-2.0026804580427,3.0944589904597564,2.42081196361649,-2.5202935627071,-1.0332792127441572,0.20786064710586336,-0.7454957107130905,-0.45819980624883977,0.5175130050001082,0.015605714646889876,2.5314354768134875,0.7550848437233846,-1.0417926565527589,-3.622694879460824,1.7656090399914541,-1.7294764861223857,4.524407559534179,-2.059499219947763,2.700879875595494,-2.6180219557802675,3.1537631244715647,-1.6712042895556363,-1.6712390692509984,4.787288322746996,0.06791954338816067,2.9392374935977035,0.011351393424272865,-5.343718021485617,2.00062658226707,-1.289206878064783,1.2563982439997057,2.666421222242752,-2.4493026305361725,-1.891666965261789,2.2101012887371994,-0.3218344724320787,2.442717659681565,-1.2965409236059486,1.984916479948256,2.8860173172770414,-1.2492424670993385,1.7532299610852897,-0.37445197397187246,-2.24331255092926,0.17400617427635967,-1.0746602678730683,1.7263580733341766,3.1369532426364697,-0.5527328827921801,5.203723969955213,-0.9720693352302034,0.10466735984476395,-0.3347935784973617,-0.8192910394138385,-2.763755983734537,-2.2459583910946934,-1.0156170511776723,-0.19504302379712318,-2.1550920417170856,1.6126434252131427,-2.2637574724881695,1.154961610554959,4.1757118452594915,1.8874715820731436,1.7498829356458045,-1.3552548806183733,-0.8915868358827858,1.2620966863836873,0.7034198419112405,-2.9984736999669632,-2.4334444058261298,-0.18623648721800243,-1.1453439448770915,1.9384086623884702,2.7141291130887972,-0.7490712611354147,5.14878970295028,-0.4289080977907406,3.1136053015091574,0.5118389161396463,4.423432796375717,4.063144168521516,-0.045881115172169695,-0.6058052515854174,-2.9146616912413825,-2.6434277378137874,-0.38826698791251674,-3.8584455463568026,1.0921144143288135,0.4784545357467318,2.969054529574724,-0.8929013862938189,-1.0359108868911926,0.693241614342875,0.9653997099668135,-0.8998835912581087,-2.712674760391769,-0.9002689399637537,-1.114739963011441,2.9202042926620355,-2.152008718153624,-0.7531474655613848,0.437744289910615,2.6017024192386495,2.4552624223818027,3.0111018497531,0.05341478468253981,-1.601011964568747,0.8497969308199087,3.148930742757316,1.4827397584135387,-1.2736102113253354,2.3456835643600424,1.5488765739926746,-0.08095340806717476,-1.6340894515913278,-4.517175411031386],\"type\":\"scatter3d\"}],                        {\"template\":{\"data\":{\"bar\":[{\"error_x\":{\"color\":\"#2a3f5f\"},\"error_y\":{\"color\":\"#2a3f5f\"},\"marker\":{\"line\":{\"color\":\"#E5ECF6\",\"width\":0.5},\"pattern\":{\"fillmode\":\"overlay\",\"size\":10,\"solidity\":0.2}},\"type\":\"bar\"}],\"barpolar\":[{\"marker\":{\"line\":{\"color\":\"#E5ECF6\",\"width\":0.5},\"pattern\":{\"fillmode\":\"overlay\",\"size\":10,\"solidity\":0.2}},\"type\":\"barpolar\"}],\"carpet\":[{\"aaxis\":{\"endlinecolor\":\"#2a3f5f\",\"gridcolor\":\"white\",\"linecolor\":\"white\",\"minorgridcolor\":\"white\",\"startlinecolor\":\"#2a3f5f\"},\"baxis\":{\"endlinecolor\":\"#2a3f5f\",\"gridcolor\":\"white\",\"linecolor\":\"white\",\"minorgridcolor\":\"white\",\"startlinecolor\":\"#2a3f5f\"},\"type\":\"carpet\"}],\"choropleth\":[{\"colorbar\":{\"outlinewidth\":0,\"ticks\":\"\"},\"type\":\"choropleth\"}],\"contour\":[{\"colorbar\":{\"outlinewidth\":0,\"ticks\":\"\"},\"colorscale\":[[0.0,\"#0d0887\"],[0.1111111111111111,\"#46039f\"],[0.2222222222222222,\"#7201a8\"],[0.3333333333333333,\"#9c179e\"],[0.4444444444444444,\"#bd3786\"],[0.5555555555555556,\"#d8576b\"],[0.6666666666666666,\"#ed7953\"],[0.7777777777777778,\"#fb9f3a\"],[0.8888888888888888,\"#fdca26\"],[1.0,\"#f0f921\"]],\"type\":\"contour\"}],\"contourcarpet\":[{\"colorbar\":{\"outlinewidth\":0,\"ticks\":\"\"},\"type\":\"contourcarpet\"}],\"heatmap\":[{\"colorbar\":{\"outlinewidth\":0,\"ticks\":\"\"},\"colorscale\":[[0.0,\"#0d0887\"],[0.1111111111111111,\"#46039f\"],[0.2222222222222222,\"#7201a8\"],[0.3333333333333333,\"#9c179e\"],[0.4444444444444444,\"#bd3786\"],[0.5555555555555556,\"#d8576b\"],[0.6666666666666666,\"#ed7953\"],[0.7777777777777778,\"#fb9f3a\"],[0.8888888888888888,\"#fdca26\"],[1.0,\"#f0f921\"]],\"type\":\"heatmap\"}],\"heatmapgl\":[{\"colorbar\":{\"outlinewidth\":0,\"ticks\":\"\"},\"colorscale\":[[0.0,\"#0d0887\"],[0.1111111111111111,\"#46039f\"],[0.2222222222222222,\"#7201a8\"],[0.3333333333333333,\"#9c179e\"],[0.4444444444444444,\"#bd3786\"],[0.5555555555555556,\"#d8576b\"],[0.6666666666666666,\"#ed7953\"],[0.7777777777777778,\"#fb9f3a\"],[0.8888888888888888,\"#fdca26\"],[1.0,\"#f0f921\"]],\"type\":\"heatmapgl\"}],\"histogram\":[{\"marker\":{\"pattern\":{\"fillmode\":\"overlay\",\"size\":10,\"solidity\":0.2}},\"type\":\"histogram\"}],\"histogram2d\":[{\"colorbar\":{\"outlinewidth\":0,\"ticks\":\"\"},\"colorscale\":[[0.0,\"#0d0887\"],[0.1111111111111111,\"#46039f\"],[0.2222222222222222,\"#7201a8\"],[0.3333333333333333,\"#9c179e\"],[0.4444444444444444,\"#bd3786\"],[0.5555555555555556,\"#d8576b\"],[0.6666666666666666,\"#ed7953\"],[0.7777777777777778,\"#fb9f3a\"],[0.8888888888888888,\"#fdca26\"],[1.0,\"#f0f921\"]],\"type\":\"histogram2d\"}],\"histogram2dcontour\":[{\"colorbar\":{\"outlinewidth\":0,\"ticks\":\"\"},\"colorscale\":[[0.0,\"#0d0887\"],[0.1111111111111111,\"#46039f\"],[0.2222222222222222,\"#7201a8\"],[0.3333333333333333,\"#9c179e\"],[0.4444444444444444,\"#bd3786\"],[0.5555555555555556,\"#d8576b\"],[0.6666666666666666,\"#ed7953\"],[0.7777777777777778,\"#fb9f3a\"],[0.8888888888888888,\"#fdca26\"],[1.0,\"#f0f921\"]],\"type\":\"histogram2dcontour\"}],\"mesh3d\":[{\"colorbar\":{\"outlinewidth\":0,\"ticks\":\"\"},\"type\":\"mesh3d\"}],\"parcoords\":[{\"line\":{\"colorbar\":{\"outlinewidth\":0,\"ticks\":\"\"}},\"type\":\"parcoords\"}],\"pie\":[{\"automargin\":true,\"type\":\"pie\"}],\"scatter\":[{\"marker\":{\"colorbar\":{\"outlinewidth\":0,\"ticks\":\"\"}},\"type\":\"scatter\"}],\"scatter3d\":[{\"line\":{\"colorbar\":{\"outlinewidth\":0,\"ticks\":\"\"}},\"marker\":{\"colorbar\":{\"outlinewidth\":0,\"ticks\":\"\"}},\"type\":\"scatter3d\"}],\"scattercarpet\":[{\"marker\":{\"colorbar\":{\"outlinewidth\":0,\"ticks\":\"\"}},\"type\":\"scattercarpet\"}],\"scattergeo\":[{\"marker\":{\"colorbar\":{\"outlinewidth\":0,\"ticks\":\"\"}},\"type\":\"scattergeo\"}],\"scattergl\":[{\"marker\":{\"colorbar\":{\"outlinewidth\":0,\"ticks\":\"\"}},\"type\":\"scattergl\"}],\"scattermapbox\":[{\"marker\":{\"colorbar\":{\"outlinewidth\":0,\"ticks\":\"\"}},\"type\":\"scattermapbox\"}],\"scatterpolar\":[{\"marker\":{\"colorbar\":{\"outlinewidth\":0,\"ticks\":\"\"}},\"type\":\"scatterpolar\"}],\"scatterpolargl\":[{\"marker\":{\"colorbar\":{\"outlinewidth\":0,\"ticks\":\"\"}},\"type\":\"scatterpolargl\"}],\"scatterternary\":[{\"marker\":{\"colorbar\":{\"outlinewidth\":0,\"ticks\":\"\"}},\"type\":\"scatterternary\"}],\"surface\":[{\"colorbar\":{\"outlinewidth\":0,\"ticks\":\"\"},\"colorscale\":[[0.0,\"#0d0887\"],[0.1111111111111111,\"#46039f\"],[0.2222222222222222,\"#7201a8\"],[0.3333333333333333,\"#9c179e\"],[0.4444444444444444,\"#bd3786\"],[0.5555555555555556,\"#d8576b\"],[0.6666666666666666,\"#ed7953\"],[0.7777777777777778,\"#fb9f3a\"],[0.8888888888888888,\"#fdca26\"],[1.0,\"#f0f921\"]],\"type\":\"surface\"}],\"table\":[{\"cells\":{\"fill\":{\"color\":\"#EBF0F8\"},\"line\":{\"color\":\"white\"}},\"header\":{\"fill\":{\"color\":\"#C8D4E3\"},\"line\":{\"color\":\"white\"}},\"type\":\"table\"}]},\"layout\":{\"annotationdefaults\":{\"arrowcolor\":\"#2a3f5f\",\"arrowhead\":0,\"arrowwidth\":1},\"autotypenumbers\":\"strict\",\"coloraxis\":{\"colorbar\":{\"outlinewidth\":0,\"ticks\":\"\"}},\"colorscale\":{\"diverging\":[[0,\"#8e0152\"],[0.1,\"#c51b7d\"],[0.2,\"#de77ae\"],[0.3,\"#f1b6da\"],[0.4,\"#fde0ef\"],[0.5,\"#f7f7f7\"],[0.6,\"#e6f5d0\"],[0.7,\"#b8e186\"],[0.8,\"#7fbc41\"],[0.9,\"#4d9221\"],[1,\"#276419\"]],\"sequential\":[[0.0,\"#0d0887\"],[0.1111111111111111,\"#46039f\"],[0.2222222222222222,\"#7201a8\"],[0.3333333333333333,\"#9c179e\"],[0.4444444444444444,\"#bd3786\"],[0.5555555555555556,\"#d8576b\"],[0.6666666666666666,\"#ed7953\"],[0.7777777777777778,\"#fb9f3a\"],[0.8888888888888888,\"#fdca26\"],[1.0,\"#f0f921\"]],\"sequentialminus\":[[0.0,\"#0d0887\"],[0.1111111111111111,\"#46039f\"],[0.2222222222222222,\"#7201a8\"],[0.3333333333333333,\"#9c179e\"],[0.4444444444444444,\"#bd3786\"],[0.5555555555555556,\"#d8576b\"],[0.6666666666666666,\"#ed7953\"],[0.7777777777777778,\"#fb9f3a\"],[0.8888888888888888,\"#fdca26\"],[1.0,\"#f0f921\"]]},\"colorway\":[\"#636efa\",\"#EF553B\",\"#00cc96\",\"#ab63fa\",\"#FFA15A\",\"#19d3f3\",\"#FF6692\",\"#B6E880\",\"#FF97FF\",\"#FECB52\"],\"font\":{\"color\":\"#2a3f5f\"},\"geo\":{\"bgcolor\":\"white\",\"lakecolor\":\"white\",\"landcolor\":\"#E5ECF6\",\"showlakes\":true,\"showland\":true,\"subunitcolor\":\"white\"},\"hoverlabel\":{\"align\":\"left\"},\"hovermode\":\"closest\",\"mapbox\":{\"style\":\"light\"},\"paper_bgcolor\":\"white\",\"plot_bgcolor\":\"#E5ECF6\",\"polar\":{\"angularaxis\":{\"gridcolor\":\"white\",\"linecolor\":\"white\",\"ticks\":\"\"},\"bgcolor\":\"#E5ECF6\",\"radialaxis\":{\"gridcolor\":\"white\",\"linecolor\":\"white\",\"ticks\":\"\"}},\"scene\":{\"xaxis\":{\"backgroundcolor\":\"#E5ECF6\",\"gridcolor\":\"white\",\"gridwidth\":2,\"linecolor\":\"white\",\"showbackground\":true,\"ticks\":\"\",\"zerolinecolor\":\"white\"},\"yaxis\":{\"backgroundcolor\":\"#E5ECF6\",\"gridcolor\":\"white\",\"gridwidth\":2,\"linecolor\":\"white\",\"showbackground\":true,\"ticks\":\"\",\"zerolinecolor\":\"white\"},\"zaxis\":{\"backgroundcolor\":\"#E5ECF6\",\"gridcolor\":\"white\",\"gridwidth\":2,\"linecolor\":\"white\",\"showbackground\":true,\"ticks\":\"\",\"zerolinecolor\":\"white\"}},\"shapedefaults\":{\"line\":{\"color\":\"#2a3f5f\"}},\"ternary\":{\"aaxis\":{\"gridcolor\":\"white\",\"linecolor\":\"white\",\"ticks\":\"\"},\"baxis\":{\"gridcolor\":\"white\",\"linecolor\":\"white\",\"ticks\":\"\"},\"bgcolor\":\"#E5ECF6\",\"caxis\":{\"gridcolor\":\"white\",\"linecolor\":\"white\",\"ticks\":\"\"}},\"title\":{\"x\":0.05},\"xaxis\":{\"automargin\":true,\"gridcolor\":\"white\",\"linecolor\":\"white\",\"ticks\":\"\",\"title\":{\"standoff\":15},\"zerolinecolor\":\"white\",\"zerolinewidth\":2},\"yaxis\":{\"automargin\":true,\"gridcolor\":\"white\",\"linecolor\":\"white\",\"ticks\":\"\",\"title\":{\"standoff\":15},\"zerolinecolor\":\"white\",\"zerolinewidth\":2}}},\"scene\":{\"domain\":{\"x\":[0.0,1.0],\"y\":[0.0,1.0]},\"xaxis\":{\"title\":{\"text\":\"x\"}},\"yaxis\":{\"title\":{\"text\":\"y\"}},\"zaxis\":{\"title\":{\"text\":\"z\"}}},\"legend\":{\"title\":{\"text\":\"label\"},\"tracegroupgap\":0},\"margin\":{\"t\":60},\"height\":800,\"width\":1000},                        {\"responsive\": true}                    ).then(function(){\n",
              "                            \n",
              "var gd = document.getElementById('df110ebf-df6c-44bd-b682-bd53bff125c8');\n",
              "var x = new MutationObserver(function (mutations, observer) {{\n",
              "        var display = window.getComputedStyle(gd).display;\n",
              "        if (!display || display === 'none') {{\n",
              "            console.log([gd, 'removed!']);\n",
              "            Plotly.purge(gd);\n",
              "            observer.disconnect();\n",
              "        }}\n",
              "}});\n",
              "\n",
              "// Listen for the removal of the full notebook cells\n",
              "var notebookContainer = gd.closest('#notebook-container');\n",
              "if (notebookContainer) {{\n",
              "    x.observe(notebookContainer, {childList: true});\n",
              "}}\n",
              "\n",
              "// Listen for the clearing of the current output cell\n",
              "var outputEl = gd.closest('.output');\n",
              "if (outputEl) {{\n",
              "    x.observe(outputEl, {childList: true});\n",
              "}}\n",
              "\n",
              "                        })                };                            </script>        </div>\n",
              "</body>\n",
              "</html>"
            ]
          },
          "metadata": {}
        }
      ],
      "source": [
        "import plotly.express as px\n",
        "\n",
        "fig = px.scatter_3d(df, x = 'x', y = 'y', z = 'z', color = \"label\", width=1000, height = 800, hover_data = [\"token\", \"label\"])\n",
        "\n",
        "fig.show()"
      ]
    }
  ],
  "metadata": {
    "kernelspec": {
      "display_name": "bunyamin",
      "language": "python",
      "name": "bunyamin"
    },
    "language_info": {
      "codemirror_mode": {
        "name": "ipython",
        "version": 3
      },
      "file_extension": ".py",
      "mimetype": "text/x-python",
      "name": "python",
      "nbconvert_exporter": "python",
      "pygments_lexer": "ipython3",
      "version": "3.8.12"
    },
    "colab": {
      "name": "2.Finance_Embeddings.ipynb",
      "provenance": [],
      "collapsed_sections": [],
      "machine_shape": "hm"
    },
    "accelerator": "TPU",
    "gpuClass": "standard"
  },
  "nbformat": 4,
  "nbformat_minor": 5
}