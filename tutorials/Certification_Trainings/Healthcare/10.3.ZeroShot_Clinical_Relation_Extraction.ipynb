{
  "cells": [
    {
      "cell_type": "markdown",
      "source": [
        "![JohnSnowLabs](https://nlp.johnsnowlabs.com/assets/images/logo.png)"
      ],
      "metadata": {
        "id": "iOwHv5Josb6g"
      }
    },
    {
      "cell_type": "markdown",
      "source": [
        "[![Open In Colab](https://colab.research.google.com/assets/colab-badge.svg)](https://colab.research.google.com/github/JohnSnowLabs/spark-nlp-workshop/blob/master/tutorials/Certification_Trainings/Healthcare/10.3.ZeroShot_Clinical_Relation_Extraction.ipynb)"
      ],
      "metadata": {
        "id": "h-tBXRaQseiO"
      }
    },
    {
      "cell_type": "markdown",
      "source": [
        "# 10.3. Zero-shot Clinical Relation Extraction Model\n"
      ],
      "metadata": {
        "id": "mPM1YThMslPe"
      }
    },
    {
      "cell_type": "markdown",
      "source": [
        "### Zero-shot Relation Extraction to extract relations between clinical entities with no training dataset\n",
        "This release includes a zero-shot relation extraction model that leverages `BertForSequenceClassificaiton` to return, based on a predefined set of relation candidates (including no-relation / O), which one has the higher probability to be linking two entities.\n",
        "\n",
        "The dataset will be a csv which contains the following columns: `sentence`, `chunk1`, `firstCharEnt1`, `lastCharEnt1`, `label1`, `chunk2`, `firstCharEnt2`, `lastCharEnt2`, `label2`, `rel`.\n",
        "\n",
        "For example, let's take a look at this dataset (columns `chunk1`, `rel`, `chunk2` and `sentence`):"
      ],
      "metadata": {
        "id": "gA-8Cw3otUj_"
      }
    },
    {
      "cell_type": "markdown",
      "source": [
        "![image.png](data:image/png;base64,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)"
      ],
      "metadata": {
        "id": "xl4_bwGqxI9T"
      }
    },
    {
      "cell_type": "markdown",
      "source": [
        "\n",
        "The relation types (TeRP, TrAP, PIP, TrNAP, etc...) are described [here](https://www.i2b2.org/NLP/Relations/assets/Relation%20Annotation%20Guideline.pdf)\n",
        "\n",
        "Let's take a look at the first sentence!\n",
        "\n",
        "`She states this light-headedness is often associated with shortness of breath and diaphoresis occasionally with nausea`\n",
        "\n",
        "As we see in the table, the sentences includes a `PIP` relationship (`Medical problem indicates medical problem`), meaning that in that sentence, chunk1 (`light-headedness`) *indicates* chunk2 (`diaphoresis`).\n",
        "\n",
        "We set a list of candidates tags (`[PIP, TrAP, TrNAP, TrWP, O]`) and candidate sentences (`[light-headedness caused diaphoresis, light-headedness was administered for diaphoresis, light-headedness was not given for diaphoresis, light-headedness worsened diaphoresis]`), meaning that:\n",
        "\n",
        "- `PIP` is expressed by `light-headedness caused diaphoresis`\n",
        "- `TrAP` is expressed by `light-headedness was administered for diaphoresis`\n",
        "- `TrNAP` is expressed by `light-headedness was not given for diaphoresis`\n",
        "- `TrWP` is expressed by `light-headedness worsened diaphoresis`\n",
        "- or something generic, like `O` is expressed by `light-headedness and diaphoresis`...\n",
        "\n",
        "We will get that the biggest probability of is `PIP`, since it's phrase `light-headedness caused diaphoresis` is the most similar relationship expressing the meaning in the original sentence (`light-headnedness is often associated with ... and diaphoresis`)"
      ],
      "metadata": {
        "id": "eaB7JkXfxO3K"
      }
    },
    {
      "cell_type": "markdown",
      "source": [
        "## Colab Setup"
      ],
      "metadata": {
        "id": "jILHZW1Aspy2"
      }
    },
    {
      "cell_type": "code",
      "source": [
        "import json\n",
        "\n",
        "from google.colab import files\n",
        "\n",
        "license_keys = files.upload()\n",
        "\n",
        "with open(list(license_keys.keys())[0]) as f:\n",
        "    license_keys = json.load(f)"
      ],
      "metadata": {
        "id": "KLYgPsbDsqcE"
      },
      "execution_count": null,
      "outputs": []
    },
    {
      "cell_type": "code",
      "source": [
        "# Defining license key-value pairs as local variables\n",
        "locals().update(license_keys)\n",
        "\n",
        "# Adding license key-value pairs to environment variables\n",
        "import os\n",
        "os.environ.update(license_keys)"
      ],
      "metadata": {
        "id": "yNE2K_E0sr62"
      },
      "execution_count": 2,
      "outputs": []
    },
    {
      "cell_type": "code",
      "source": [
        "# Installing pyspark and spark-nlp\n",
        "! pip install --upgrade -q pyspark==3.1.2 spark-nlp==$PUBLIC_VERSION\n",
        "\n",
        "# Installing Spark NLP Healthcare\n",
        "! pip install --upgrade -q spark-nlp-jsl==$JSL_VERSION  --extra-index-url https://pypi.johnsnowlabs.com/$SECRET\n",
        "\n",
        "# Installing Spark NLP Display Library for visualization\n",
        "! pip install -q spark-nlp-display"
      ],
      "metadata": {
        "id": "NTl4BpnrstNY"
      },
      "execution_count": null,
      "outputs": []
    },
    {
      "cell_type": "code",
      "source": [
        "# if you want to start the session with custom params as in start function above\n",
        "from pyspark.sql import SparkSession\n",
        "\n",
        "def start(SECRET):\n",
        "    builder = SparkSession.builder \\\n",
        "        .appName(\"Spark NLP Licensed\") \\\n",
        "        .master(\"local[*]\") \\\n",
        "        .config(\"spark.driver.memory\", \"16G\") \\\n",
        "        .config(\"spark.serializer\", \"org.apache.spark.serializer.KryoSerializer\") \\\n",
        "        .config(\"spark.kryoserializer.buffer.max\", \"2000M\") \\\n",
        "        .config(\"spark.jars.packages\", \"com.johnsnowlabs.nlp:spark-nlp_2.12:\"+PUBLIC_VERSION) \\\n",
        "        .config(\"spark.jars\", \"https://pypi.johnsnowlabs.com/\"+SECRET+\"/spark-nlp-jsl-\"+JSL_VERSION+\".jar\")\n",
        "      \n",
        "    return builder.getOrCreate()\n",
        "\n",
        "# spark = start(SECRET)"
      ],
      "metadata": {
        "id": "wsao2VIVsuVu"
      },
      "execution_count": 5,
      "outputs": []
    },
    {
      "cell_type": "code",
      "source": [
        "import json\n",
        "import os\n",
        "from pyspark.ml import Pipeline,PipelineModel\n",
        "from pyspark.sql import SparkSession\n",
        "\n",
        "from sparknlp.annotator import *\n",
        "from sparknlp_jsl.annotator import *\n",
        "from sparknlp.base import *\n",
        "import sparknlp_jsl\n",
        "import sparknlp\n",
        "\n",
        "import warnings\n",
        "warnings.filterwarnings('ignore')\n",
        "\n",
        "params = {\"spark.driver.memory\":\"16G\", \n",
        "          \"spark.kryoserializer.buffer.max\":\"2000M\", \n",
        "          \"spark.driver.maxResultSize\":\"2000M\"} \n",
        "\n",
        "spark = sparknlp_jsl.start(license_keys['SECRET'],params=params)\n",
        "\n",
        "print (\"Spark NLP Version :\", sparknlp.version())\n",
        "print (\"Spark NLP_JSL Version :\", sparknlp_jsl.version())"
      ],
      "metadata": {
        "id": "Q63fAAytsw6P"
      },
      "execution_count": null,
      "outputs": []
    },
    {
      "cell_type": "markdown",
      "metadata": {
        "id": "HKFotnQKsCQ2"
      },
      "source": [
        "## Zero Shot Relation Extraction\n",
        "Using the pretrained `re_zeroshot_biobert` model, available in Models Hub under the Relation Extraction category.\n",
        "\n",
        "\n"
      ]
    },
    {
      "cell_type": "code",
      "execution_count": 7,
      "metadata": {
        "ExecuteTime": {
          "end_time": "2020-07-30T09:50:58.179318Z",
          "start_time": "2020-07-30T09:50:54.812823Z"
        },
        "id": "RFTWZ-zdsCQ9"
      },
      "outputs": [],
      "source": [
        "data = spark.createDataFrame(\n",
        "    [[\"Paracetamol can alleviate headache or sickness. An MRI test can be used to find cancer.\"]]\n",
        ").toDF(\"text\")"
      ]
    },
    {
      "cell_type": "code",
      "execution_count": null,
      "metadata": {
        "ExecuteTime": {
          "end_time": "2020-07-30T09:51:23.526989Z",
          "start_time": "2020-07-30T09:51:04.434324Z"
        },
        "id": "Aio7FwqxsCQ-"
      },
      "outputs": [],
      "source": [
        "documenter = DocumentAssembler() \\\n",
        "    .setInputCol(\"text\") \\\n",
        "    .setOutputCol(\"document\")\n",
        "\n",
        "tokenizer = Tokenizer() \\\n",
        "    .setInputCols([\"document\"]) \\\n",
        "    .setOutputCol(\"tokens\")\n",
        "\n",
        "sentencer = SentenceDetector()\\\n",
        "    .setInputCols([\"document\"])\\\n",
        "    .setOutputCol(\"sentences\")\n",
        "\n",
        "words_embedder = WordEmbeddingsModel() \\\n",
        "    .pretrained(\"embeddings_clinical\", \"en\", \"clinical/models\") \\\n",
        "    .setInputCols([\"sentences\", \"tokens\"]) \\\n",
        "    .setOutputCol(\"embeddings\")\n",
        "\n",
        "pos_tagger = PerceptronModel() \\\n",
        "    .pretrained(\"pos_clinical\", \"en\", \"clinical/models\") \\\n",
        "    .setInputCols([\"sentences\", \"tokens\"]) \\\n",
        "    .setOutputCol(\"pos_tags\")\n",
        "\n",
        "ner_tagger = MedicalNerModel() \\\n",
        "    .pretrained(\"ner_clinical\", \"en\", \"clinical/models\") \\\n",
        "    .setInputCols([\"sentences\", \"tokens\", \"embeddings\"]) \\\n",
        "    .setOutputCol(\"ner_tags\")\n",
        "\n",
        "ner_converter = NerConverter() \\\n",
        "    .setInputCols([\"sentences\", \"tokens\", \"ner_tags\"]) \\\n",
        "    .setOutputCol(\"ner_chunks\")\n",
        "\n",
        "dependency_parser = DependencyParserModel() \\\n",
        "    .pretrained(\"dependency_conllu\", \"en\") \\\n",
        "    .setInputCols([\"document\", \"pos_tags\", \"tokens\"]) \\\n",
        "    .setOutputCol(\"dependencies\")\n",
        "\n",
        "re_ner_chunk_filter = RENerChunksFilter() \\\n",
        "    .setRelationPairs([\"problem-test\",\"problem-treatment\"]) \\\n",
        "    .setMaxSyntacticDistance(4)\\\n",
        "    .setDocLevelRelations(False)\\\n",
        "    .setInputCols([\"ner_chunks\", \"dependencies\"]) \\\n",
        "    .setOutputCol(\"re_ner_chunks\")\n",
        "\n",
        "re_model = ZeroShotRelationExtractionModel \\\n",
        "    .pretrained(\"re_zeroshot_biobert\", \"en\", \"clinical/models\")\\\n",
        "    .setRelationalCategories({\n",
        "        \"CURE\": [\"{{TREATMENT}} cures {{PROBLEM}}.\"],\n",
        "        \"IMPROVE\": [\"{{TREATMENT}} improves {{PROBLEM}}.\", \"{{TREATMENT}} cures {{PROBLEM}}.\"],\n",
        "        \"REVEAL\": [\"{{TEST}} reveals {{PROBLEM}}.\"]})\\\n",
        "    .setMultiLabel(False)\\\n",
        "    .setInputCols([\"re_ner_chunks\", \"sentences\"]) \\\n",
        "    .setOutputCol(\"relations\")\n",
        "\n",
        "pipeline = sparknlp.base.Pipeline() \\\n",
        "    .setStages([documenter, tokenizer, sentencer, words_embedder, pos_tagger, ner_tagger, ner_converter,\n",
        "                dependency_parser, re_ner_chunk_filter, re_model])"
      ]
    },
    {
      "cell_type": "code",
      "execution_count": 9,
      "metadata": {
        "id": "NhDeo9NksCQ_"
      },
      "outputs": [],
      "source": [
        "model = pipeline.fit(data)\n",
        "results = model.transform(data)"
      ]
    },
    {
      "cell_type": "code",
      "execution_count": 10,
      "metadata": {
        "colab": {
          "base_uri": "https://localhost:8080/"
        },
        "id": "g49j2hkKsCRA",
        "outputId": "b2a5ee11-3e68-491e-c5dd-e1452b9f3ec7"
      },
      "outputs": [
        {
          "output_type": "stream",
          "name": "stdout",
          "text": [
            "+----------------------------------------------------------------------------------------------------------------------------------------------------------------------------------------------------------------------------------------------------------------------------------------------------------------------------------------------------------------------+\n",
            "|relation                                                                                                                                                                                                                                                                                                                                                              |\n",
            "+----------------------------------------------------------------------------------------------------------------------------------------------------------------------------------------------------------------------------------------------------------------------------------------------------------------------------------------------------------------------+\n",
            "|{category, 534, 613, REVEAL, {entity1_begin -> 48, relation -> REVEAL, hypothesis -> An MRI test reveals cancer., confidence -> 0.9760039, nli_prediction -> entail, entity1 -> TEST, syntactic_distance -> 4, chunk2 -> cancer, entity2_end -> 85, entity1_end -> 58, entity2_begin -> 80, entity2 -> PROBLEM, chunk1 -> An MRI test, sentence -> 1}, []}            |\n",
            "|{category, 267, 357, IMPROVE, {entity1_begin -> 0, relation -> IMPROVE, hypothesis -> Paracetamol improves sickness., confidence -> 0.98819494, nli_prediction -> entail, entity1 -> TREATMENT, syntactic_distance -> 3, chunk2 -> sickness, entity2_end -> 45, entity1_end -> 10, entity2_begin -> 38, entity2 -> PROBLEM, chunk1 -> Paracetamol, sentence -> 0}, []}|\n",
            "|{category, 0, 90, IMPROVE, {entity1_begin -> 0, relation -> IMPROVE, hypothesis -> Paracetamol improves headache., confidence -> 0.9929625, nli_prediction -> entail, entity1 -> TREATMENT, syntactic_distance -> 2, chunk2 -> headache, entity2_end -> 33, entity1_end -> 10, entity2_begin -> 26, entity2 -> PROBLEM, chunk1 -> Paracetamol, sentence -> 0}, []}    |\n",
            "+----------------------------------------------------------------------------------------------------------------------------------------------------------------------------------------------------------------------------------------------------------------------------------------------------------------------------------------------------------------------+\n",
            "\n"
          ]
        }
      ],
      "source": [
        "results\\\n",
        "    .selectExpr(\"explode(relations) as relation\")\\\n",
        "    .show(truncate=False)"
      ]
    }
  ],
  "metadata": {
    "kernelspec": {
      "display_name": "Python 3",
      "language": "python",
      "name": "python3"
    },
    "language_info": {
      "codemirror_mode": {
        "name": "ipython",
        "version": 3
      },
      "file_extension": ".py",
      "mimetype": "text/x-python",
      "name": "python",
      "nbconvert_exporter": "python",
      "pygments_lexer": "ipython3",
      "version": "3.7.13"
    },
    "toc": {
      "base_numbering": 1,
      "nav_menu": {},
      "number_sections": true,
      "sideBar": true,
      "skip_h1_title": false,
      "title_cell": "Table of Contents",
      "title_sidebar": "Contents",
      "toc_cell": false,
      "toc_position": {},
      "toc_section_display": true,
      "toc_window_display": false
    },
    "varInspector": {
      "cols": {
        "lenName": 16,
        "lenType": 16,
        "lenVar": 40
      },
      "kernels_config": {
        "python": {
          "delete_cmd_postfix": "",
          "delete_cmd_prefix": "del ",
          "library": "var_list.py",
          "varRefreshCmd": "print(var_dic_list())"
        },
        "r": {
          "delete_cmd_postfix": ") ",
          "delete_cmd_prefix": "rm(",
          "library": "var_list.r",
          "varRefreshCmd": "cat(var_dic_list()) "
        }
      },
      "types_to_exclude": [
        "module",
        "function",
        "builtin_function_or_method",
        "instance",
        "_Feature"
      ],
      "window_display": false
    },
    "colab": {
      "name": "10.3.ZeroShot_Clinical_Relation_Extraction.ipynb",
      "provenance": []
    }
  },
  "nbformat": 4,
  "nbformat_minor": 0
}