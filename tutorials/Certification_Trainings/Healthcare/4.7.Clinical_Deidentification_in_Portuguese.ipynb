{
  "nbformat": 4,
  "nbformat_minor": 0,
  "metadata": {
    "colab": {
      "name": "4.7.Clinical_Deidentification_in_Portuguese.ipynb",
      "provenance": [],
      "collapsed_sections": []
    },
    "kernelspec": {
      "name": "python3",
      "display_name": "Python 3"
    },
    "language_info": {
      "name": "python"
    }
  },
  "cells": [
    {
      "cell_type": "markdown",
      "metadata": {
        "id": "I08sFJYCxR0Z"
      },
      "source": [
        "![JohnSnowLabs](https://nlp.johnsnowlabs.com/assets/images/logo.png)"
      ]
    },
    {
      "cell_type": "markdown",
      "metadata": {
        "id": "FwJ-P56kq6FU"
      },
      "source": [
        "[![Open In Colab](https://colab.research.google.com/assets/colab-badge.svg)](https://colab.research.google.com/github/JohnSnowLabs/spark-nlp-workshop/blob/master/tutorials/Certification_Trainings/Healthcare/4.7.Clinical_Deidentification_in_Portuguese.ipynb)"
      ]
    },
    {
      "cell_type": "markdown",
      "source": [
        "# Clinical Deidentification in Portuguese\n",
        "\n",
        "**Protected Health Information**:\n",
        "\n",
        "Individual’s past, present, or future physical or mental health or condition\n",
        "provision of health care to the individual\n",
        "past, present, or future payment for the health care\n",
        "Protected health information includes many common identifiers (e.g., name, address, birth date, Social Security Number) when they can be associated with the health information."
      ],
      "metadata": {
        "id": "Z7X1prqVxdB2"
      }
    },
    {
      "cell_type": "code",
      "metadata": {
        "id": "RWh6i1PtvE77",
        "colab": {
          "resources": {
            "http://localhost:8080/nbextensions/google.colab/files.js": {
              "data": "Ly8gQ29weXJpZ2h0IDIwMTcgR29vZ2xlIExMQwovLwovLyBMaWNlbnNlZCB1bmRlciB0aGUgQXBhY2hlIExpY2Vuc2UsIFZlcnNpb24gMi4wICh0aGUgIkxpY2Vuc2UiKTsKLy8geW91IG1heSBub3QgdXNlIHRoaXMgZmlsZSBleGNlcHQgaW4gY29tcGxpYW5jZSB3aXRoIHRoZSBMaWNlbnNlLgovLyBZb3UgbWF5IG9idGFpbiBhIGNvcHkgb2YgdGhlIExpY2Vuc2UgYXQKLy8KLy8gICAgICBodHRwOi8vd3d3LmFwYWNoZS5vcmcvbGljZW5zZXMvTElDRU5TRS0yLjAKLy8KLy8gVW5sZXNzIHJlcXVpcmVkIGJ5IGFwcGxpY2FibGUgbGF3IG9yIGFncmVlZCB0byBpbiB3cml0aW5nLCBzb2Z0d2FyZQovLyBkaXN0cmlidXRlZCB1bmRlciB0aGUgTGljZW5zZSBpcyBkaXN0cmlidXRlZCBvbiBhbiAiQVMgSVMiIEJBU0lTLAovLyBXSVRIT1VUIFdBUlJBTlRJRVMgT1IgQ09ORElUSU9OUyBPRiBBTlkgS0lORCwgZWl0aGVyIGV4cHJlc3Mgb3IgaW1wbGllZC4KLy8gU2VlIHRoZSBMaWNlbnNlIGZvciB0aGUgc3BlY2lmaWMgbGFuZ3VhZ2UgZ292ZXJuaW5nIHBlcm1pc3Npb25zIGFuZAovLyBsaW1pdGF0aW9ucyB1bmRlciB0aGUgTGljZW5zZS4KCi8qKgogKiBAZmlsZW92ZXJ2aWV3IEhlbHBlcnMgZm9yIGdvb2dsZS5jb2xhYiBQeXRob24gbW9kdWxlLgogKi8KKGZ1bmN0aW9uKHNjb3BlKSB7CmZ1bmN0aW9uIHNwYW4odGV4dCwgc3R5bGVBdHRyaWJ1dGVzID0ge30pIHsKICBjb25zdCBlbGVtZW50ID0gZG9jdW1lbnQuY3JlYXRlRWxlbWVudCgnc3BhbicpOwogIGVsZW1lbnQudGV4dENvbnRlbnQgPSB0ZXh0OwogIGZvciAoY29uc3Qga2V5IG9mIE9iamVjdC5rZXlzKHN0eWxlQXR0cmlidXRlcykpIHsKICAgIGVsZW1lbnQuc3R5bGVba2V5XSA9IHN0eWxlQXR0cmlidXRlc1trZXldOwogIH0KICByZXR1cm4gZWxlbWVudDsKfQoKLy8gTWF4IG51bWJlciBvZiBieXRlcyB3aGljaCB3aWxsIGJlIHVwbG9hZGVkIGF0IGEgdGltZS4KY29uc3QgTUFYX1BBWUxPQURfU0laRSA9IDEwMCAqIDEwMjQ7CgpmdW5jdGlvbiBfdXBsb2FkRmlsZXMoaW5wdXRJZCwgb3V0cHV0SWQpIHsKICBjb25zdCBzdGVwcyA9IHVwbG9hZEZpbGVzU3RlcChpbnB1dElkLCBvdXRwdXRJZCk7CiAgY29uc3Qgb3V0cHV0RWxlbWVudCA9IGRvY3VtZW50LmdldEVsZW1lbnRCeUlkKG91dHB1dElkKTsKICAvLyBDYWNoZSBzdGVwcyBvbiB0aGUgb3V0cHV0RWxlbWVudCB0byBtYWtlIGl0IGF2YWlsYWJsZSBmb3IgdGhlIG5leHQgY2FsbAogIC8vIHRvIHVwbG9hZEZpbGVzQ29udGludWUgZnJvbSBQeXRob24uCiAgb3V0cHV0RWxlbWVudC5zdGVwcyA9IHN0ZXBzOwoKICByZXR1cm4gX3VwbG9hZEZpbGVzQ29udGludWUob3V0cHV0SWQpOwp9CgovLyBUaGlzIGlzIHJvdWdobHkgYW4gYXN5bmMgZ2VuZXJhdG9yIChub3Qgc3VwcG9ydGVkIGluIHRoZSBicm93c2VyIHlldCksCi8vIHdoZXJlIHRoZXJlIGFyZSBtdWx0aXBsZSBhc3luY2hyb25vdXMgc3RlcHMgYW5kIHRoZSBQeXRob24gc2lkZSBpcyBnb2luZwovLyB0byBwb2xsIGZvciBjb21wbGV0aW9uIG9mIGVhY2ggc3RlcC4KLy8gVGhpcyB1c2VzIGEgUHJvbWlzZSB0byBibG9jayB0aGUgcHl0aG9uIHNpZGUgb24gY29tcGxldGlvbiBvZiBlYWNoIHN0ZXAsCi8vIHRoZW4gcGFzc2VzIHRoZSByZXN1bHQgb2YgdGhlIHByZXZpb3VzIHN0ZXAgYXMgdGhlIGlucHV0IHRvIHRoZSBuZXh0IHN0ZXAuCmZ1bmN0aW9uIF91cGxvYWRGaWxlc0NvbnRpbnVlKG91dHB1dElkKSB7CiAgY29uc3Qgb3V0cHV0RWxlbWVudCA9IGRvY3VtZW50LmdldEVsZW1lbnRCeUlkKG91dHB1dElkKTsKICBjb25zdCBzdGVwcyA9IG91dHB1dEVsZW1lbnQuc3RlcHM7CgogIGNvbnN0IG5leHQgPSBzdGVwcy5uZXh0KG91dHB1dEVsZW1lbnQubGFzdFByb21pc2VWYWx1ZSk7CiAgcmV0dXJuIFByb21pc2UucmVzb2x2ZShuZXh0LnZhbHVlLnByb21pc2UpLnRoZW4oKHZhbHVlKSA9PiB7CiAgICAvLyBDYWNoZSB0aGUgbGFzdCBwcm9taXNlIHZhbHVlIHRvIG1ha2UgaXQgYXZhaWxhYmxlIHRvIHRoZSBuZXh0CiAgICAvLyBzdGVwIG9mIHRoZSBnZW5lcmF0b3IuCiAgICBvdXRwdXRFbGVtZW50Lmxhc3RQcm9taXNlVmFsdWUgPSB2YWx1ZTsKICAgIHJldHVybiBuZXh0LnZhbHVlLnJlc3BvbnNlOwogIH0pOwp9CgovKioKICogR2VuZXJhdG9yIGZ1bmN0aW9uIHdoaWNoIGlzIGNhbGxlZCBiZXR3ZWVuIGVhY2ggYXN5bmMgc3RlcCBvZiB0aGUgdXBsb2FkCiAqIHByb2Nlc3MuCiAqIEBwYXJhbSB7c3RyaW5nfSBpbnB1dElkIEVsZW1lbnQgSUQgb2YgdGhlIGlucHV0IGZpbGUgcGlja2VyIGVsZW1lbnQuCiAqIEBwYXJhbSB7c3RyaW5nfSBvdXRwdXRJZCBFbGVtZW50IElEIG9mIHRoZSBvdXRwdXQgZGlzcGxheS4KICogQHJldHVybiB7IUl0ZXJhYmxlPCFPYmplY3Q+fSBJdGVyYWJsZSBvZiBuZXh0IHN0ZXBzLgogKi8KZnVuY3Rpb24qIHVwbG9hZEZpbGVzU3RlcChpbnB1dElkLCBvdXRwdXRJZCkgewogIGNvbnN0IGlucHV0RWxlbWVudCA9IGRvY3VtZW50LmdldEVsZW1lbnRCeUlkKGlucHV0SWQpOwogIGlucHV0RWxlbWVudC5kaXNhYmxlZCA9IGZhbHNlOwoKICBjb25zdCBvdXRwdXRFbGVtZW50ID0gZG9jdW1lbnQuZ2V0RWxlbWVudEJ5SWQob3V0cHV0SWQpOwogIG91dHB1dEVsZW1lbnQuaW5uZXJIVE1MID0gJyc7CgogIGNvbnN0IHBpY2tlZFByb21pc2UgPSBuZXcgUHJvbWlzZSgocmVzb2x2ZSkgPT4gewogICAgaW5wdXRFbGVtZW50LmFkZEV2ZW50TGlzdGVuZXIoJ2NoYW5nZScsIChlKSA9PiB7CiAgICAgIHJlc29sdmUoZS50YXJnZXQuZmlsZXMpOwogICAgfSk7CiAgfSk7CgogIGNvbnN0IGNhbmNlbCA9IGRvY3VtZW50LmNyZWF0ZUVsZW1lbnQoJ2J1dHRvbicpOwogIGlucHV0RWxlbWVudC5wYXJlbnRFbGVtZW50LmFwcGVuZENoaWxkKGNhbmNlbCk7CiAgY2FuY2VsLnRleHRDb250ZW50ID0gJ0NhbmNlbCB1cGxvYWQnOwogIGNvbnN0IGNhbmNlbFByb21pc2UgPSBuZXcgUHJvbWlzZSgocmVzb2x2ZSkgPT4gewogICAgY2FuY2VsLm9uY2xpY2sgPSAoKSA9PiB7CiAgICAgIHJlc29sdmUobnVsbCk7CiAgICB9OwogIH0pOwoKICAvLyBXYWl0IGZvciB0aGUgdXNlciB0byBwaWNrIHRoZSBmaWxlcy4KICBjb25zdCBmaWxlcyA9IHlpZWxkIHsKICAgIHByb21pc2U6IFByb21pc2UucmFjZShbcGlja2VkUHJvbWlzZSwgY2FuY2VsUHJvbWlzZV0pLAogICAgcmVzcG9uc2U6IHsKICAgICAgYWN0aW9uOiAnc3RhcnRpbmcnLAogICAgfQogIH07CgogIGNhbmNlbC5yZW1vdmUoKTsKCiAgLy8gRGlzYWJsZSB0aGUgaW5wdXQgZWxlbWVudCBzaW5jZSBmdXJ0aGVyIHBpY2tzIGFyZSBub3QgYWxsb3dlZC4KICBpbnB1dEVsZW1lbnQuZGlzYWJsZWQgPSB0cnVlOwoKICBpZiAoIWZpbGVzKSB7CiAgICByZXR1cm4gewogICAgICByZXNwb25zZTogewogICAgICAgIGFjdGlvbjogJ2NvbXBsZXRlJywKICAgICAgfQogICAgfTsKICB9CgogIGZvciAoY29uc3QgZmlsZSBvZiBmaWxlcykgewogICAgY29uc3QgbGkgPSBkb2N1bWVudC5jcmVhdGVFbGVtZW50KCdsaScpOwogICAgbGkuYXBwZW5kKHNwYW4oZmlsZS5uYW1lLCB7Zm9udFdlaWdodDogJ2JvbGQnfSkpOwogICAgbGkuYXBwZW5kKHNwYW4oCiAgICAgICAgYCgke2ZpbGUudHlwZSB8fCAnbi9hJ30pIC0gJHtmaWxlLnNpemV9IGJ5dGVzLCBgICsKICAgICAgICBgbGFzdCBtb2RpZmllZDogJHsKICAgICAgICAgICAgZmlsZS5sYXN0TW9kaWZpZWREYXRlID8gZmlsZS5sYXN0TW9kaWZpZWREYXRlLnRvTG9jYWxlRGF0ZVN0cmluZygpIDoKICAgICAgICAgICAgICAgICAgICAgICAgICAgICAgICAgICAgJ24vYSd9IC0gYCkpOwogICAgY29uc3QgcGVyY2VudCA9IHNwYW4oJzAlIGRvbmUnKTsKICAgIGxpLmFwcGVuZENoaWxkKHBlcmNlbnQpOwoKICAgIG91dHB1dEVsZW1lbnQuYXBwZW5kQ2hpbGQobGkpOwoKICAgIGNvbnN0IGZpbGVEYXRhUHJvbWlzZSA9IG5ldyBQcm9taXNlKChyZXNvbHZlKSA9PiB7CiAgICAgIGNvbnN0IHJlYWRlciA9IG5ldyBGaWxlUmVhZGVyKCk7CiAgICAgIHJlYWRlci5vbmxvYWQgPSAoZSkgPT4gewogICAgICAgIHJlc29sdmUoZS50YXJnZXQucmVzdWx0KTsKICAgICAgfTsKICAgICAgcmVhZGVyLnJlYWRBc0FycmF5QnVmZmVyKGZpbGUpOwogICAgfSk7CiAgICAvLyBXYWl0IGZvciB0aGUgZGF0YSB0byBiZSByZWFkeS4KICAgIGxldCBmaWxlRGF0YSA9IHlpZWxkIHsKICAgICAgcHJvbWlzZTogZmlsZURhdGFQcm9taXNlLAogICAgICByZXNwb25zZTogewogICAgICAgIGFjdGlvbjogJ2NvbnRpbnVlJywKICAgICAgfQogICAgfTsKCiAgICAvLyBVc2UgYSBjaHVua2VkIHNlbmRpbmcgdG8gYXZvaWQgbWVzc2FnZSBzaXplIGxpbWl0cy4gU2VlIGIvNjIxMTU2NjAuCiAgICBsZXQgcG9zaXRpb24gPSAwOwogICAgZG8gewogICAgICBjb25zdCBsZW5ndGggPSBNYXRoLm1pbihmaWxlRGF0YS5ieXRlTGVuZ3RoIC0gcG9zaXRpb24sIE1BWF9QQVlMT0FEX1NJWkUpOwogICAgICBjb25zdCBjaHVuayA9IG5ldyBVaW50OEFycmF5KGZpbGVEYXRhLCBwb3NpdGlvbiwgbGVuZ3RoKTsKICAgICAgcG9zaXRpb24gKz0gbGVuZ3RoOwoKICAgICAgY29uc3QgYmFzZTY0ID0gYnRvYShTdHJpbmcuZnJvbUNoYXJDb2RlLmFwcGx5KG51bGwsIGNodW5rKSk7CiAgICAgIHlpZWxkIHsKICAgICAgICByZXNwb25zZTogewogICAgICAgICAgYWN0aW9uOiAnYXBwZW5kJywKICAgICAgICAgIGZpbGU6IGZpbGUubmFtZSwKICAgICAgICAgIGRhdGE6IGJhc2U2NCwKICAgICAgICB9LAogICAgICB9OwoKICAgICAgbGV0IHBlcmNlbnREb25lID0gZmlsZURhdGEuYnl0ZUxlbmd0aCA9PT0gMCA/CiAgICAgICAgICAxMDAgOgogICAgICAgICAgTWF0aC5yb3VuZCgocG9zaXRpb24gLyBmaWxlRGF0YS5ieXRlTGVuZ3RoKSAqIDEwMCk7CiAgICAgIHBlcmNlbnQudGV4dENvbnRlbnQgPSBgJHtwZXJjZW50RG9uZX0lIGRvbmVgOwoKICAgIH0gd2hpbGUgKHBvc2l0aW9uIDwgZmlsZURhdGEuYnl0ZUxlbmd0aCk7CiAgfQoKICAvLyBBbGwgZG9uZS4KICB5aWVsZCB7CiAgICByZXNwb25zZTogewogICAgICBhY3Rpb246ICdjb21wbGV0ZScsCiAgICB9CiAgfTsKfQoKc2NvcGUuZ29vZ2xlID0gc2NvcGUuZ29vZ2xlIHx8IHt9OwpzY29wZS5nb29nbGUuY29sYWIgPSBzY29wZS5nb29nbGUuY29sYWIgfHwge307CnNjb3BlLmdvb2dsZS5jb2xhYi5fZmlsZXMgPSB7CiAgX3VwbG9hZEZpbGVzLAogIF91cGxvYWRGaWxlc0NvbnRpbnVlLAp9Owp9KShzZWxmKTsK",
              "ok": true,
              "headers": [
                [
                  "content-type",
                  "application/javascript"
                ]
              ],
              "status": 200,
              "status_text": ""
            }
          },
          "base_uri": "https://localhost:8080/",
          "height": 74
        },
        "outputId": "683f71b0-67ab-4997-ed06-14e293fbc64b"
      },
      "source": [
        "import json\n",
        "import os\n",
        "\n",
        "from google.colab import files\n",
        "\n",
        "if 'spark_jsl.json' not in os.listdir():\n",
        "  license_keys = files.upload()\n",
        "  os.rename(list(license_keys.keys())[0], 'spark_jsl.json')\n",
        "\n",
        "with open('spark_jsl.json') as f:\n",
        "    license_keys = json.load(f)\n",
        "\n",
        "# Defining license key-value pairs as local variables\n",
        "locals().update(license_keys)\n",
        "os.environ.update(license_keys)"
      ],
      "execution_count": 1,
      "outputs": [
        {
          "output_type": "display_data",
          "data": {
            "text/plain": [
              "<IPython.core.display.HTML object>"
            ],
            "text/html": [
              "\n",
              "     <input type=\"file\" id=\"files-19d9cad8-fdf2-4adf-aae0-995ee1233bd2\" name=\"files[]\" multiple disabled\n",
              "        style=\"border:none\" />\n",
              "     <output id=\"result-19d9cad8-fdf2-4adf-aae0-995ee1233bd2\">\n",
              "      Upload widget is only available when the cell has been executed in the\n",
              "      current browser session. Please rerun this cell to enable.\n",
              "      </output>\n",
              "      <script src=\"/nbextensions/google.colab/files.js\"></script> "
            ]
          },
          "metadata": {}
        },
        {
          "output_type": "stream",
          "name": "stdout",
          "text": [
            "Saving spark_nlp_for_healthcare-3.5.0.json to spark_nlp_for_healthcare-3.5.0.json\n"
          ]
        }
      ]
    },
    {
      "cell_type": "code",
      "metadata": {
        "id": "MfOGbhC2wTyp",
        "colab": {
          "base_uri": "https://localhost:8080/"
        },
        "outputId": "595a45f8-7e84-4bc5-c413-a5c0ec3daf58"
      },
      "source": [
        "# Installing pyspark and spark-nlp\n",
        "! pip install --upgrade -q pyspark==3.1.2\n",
        "\n",
        "# Installing Spark NLP Healthcare\n",
        "! pip install --upgrade -q spark-nlp-jsl==$JSL_VERSION  --extra-index-url https://pypi.johnsnowlabs.com/$SECRET"
      ],
      "execution_count": 2,
      "outputs": [
        {
          "output_type": "stream",
          "name": "stdout",
          "text": [
            "\u001b[K     |████████████████████████████████| 212.4 MB 70 kB/s \n",
            "\u001b[K     |████████████████████████████████| 198 kB 42.9 MB/s \n",
            "\u001b[?25h  Building wheel for pyspark (setup.py) ... \u001b[?25l\u001b[?25hdone\n",
            "\u001b[K     |████████████████████████████████| 188 kB 2.2 MB/s \n",
            "\u001b[K     |████████████████████████████████| 142 kB 5.1 MB/s \n",
            "\u001b[?25h"
          ]
        }
      ]
    },
    {
      "cell_type": "code",
      "source": [
        "import sys\n",
        "import os\n",
        "import json\n",
        "import pandas as pd\n",
        "import string\n",
        "import numpy as np\n",
        "\n",
        "import sparknlp\n",
        "import sparknlp_jsl\n",
        "\n",
        "from pyspark.ml import Pipeline, PipelineModel\n",
        "from pyspark.sql import functions as F\n",
        "from pyspark.sql import SparkSession\n",
        "\n",
        "from sparknlp.base import *\n",
        "from sparknlp.annotator import *\n",
        "from sparknlp.pretrained import ResourceDownloader\n",
        "from sparknlp.util import *\n",
        "from sparknlp_jsl.annotator import *\n",
        "\n",
        "params = {\"spark.driver.memory\":\"16G\", \n",
        "          \"spark.kryoserializer.buffer.max\":\"2000M\", \n",
        "          \"spark.driver.maxResultSize\":\"2000M\"} \n",
        "\n",
        "spark = sparknlp_jsl.start(SECRET, params=params)\n",
        "\n",
        "print (\"Spark NLP Version :\", sparknlp.version())\n",
        "print (\"Spark NLP_JSL Version :\", sparknlp_jsl.version())\n",
        "\n",
        "spark"
      ],
      "metadata": {
        "id": "nou6cgDm35Vq",
        "colab": {
          "base_uri": "https://localhost:8080/",
          "height": 258
        },
        "outputId": "9413e789-633a-4b7f-c7ef-350071d4b13d"
      },
      "execution_count": 3,
      "outputs": [
        {
          "output_type": "stream",
          "name": "stdout",
          "text": [
            "Spark NLP Version : 3.4.2\n",
            "Spark NLP_JSL Version : 3.5.0\n"
          ]
        },
        {
          "output_type": "execute_result",
          "data": {
            "text/plain": [
              "<pyspark.sql.session.SparkSession at 0x7f335780dc90>"
            ],
            "text/html": [
              "\n",
              "            <div>\n",
              "                <p><b>SparkSession - in-memory</b></p>\n",
              "                \n",
              "        <div>\n",
              "            <p><b>SparkContext</b></p>\n",
              "\n",
              "            <p><a href=\"http://90e53daeb85e:4040\">Spark UI</a></p>\n",
              "\n",
              "            <dl>\n",
              "              <dt>Version</dt>\n",
              "                <dd><code>v3.1.2</code></dd>\n",
              "              <dt>Master</dt>\n",
              "                <dd><code>local[*]</code></dd>\n",
              "              <dt>AppName</dt>\n",
              "                <dd><code>Spark NLP Licensed</code></dd>\n",
              "            </dl>\n",
              "        </div>\n",
              "        \n",
              "            </div>\n",
              "        "
            ]
          },
          "metadata": {},
          "execution_count": 3
        }
      ]
    },
    {
      "cell_type": "markdown",
      "source": [
        "# 1. Italian NER Deidentification Models\n",
        "We have two different models you can use:\n",
        "* `ner_deid_generic`, detects 8 entities\n",
        "* `ner_deid_subentity`, detects 19 entities"
      ],
      "metadata": {
        "id": "VAyEoiHVuhbp"
      }
    },
    {
      "cell_type": "markdown",
      "source": [
        "### Creating pipeline"
      ],
      "metadata": {
        "id": "V1eksdJQoF4e"
      }
    },
    {
      "cell_type": "code",
      "source": [
        "documentAssembler = DocumentAssembler()\\\n",
        "    .setInputCol(\"text\")\\\n",
        "    .setOutputCol(\"document\")\n",
        "\n",
        "sentencerDL = SentenceDetectorDLModel.pretrained(\"sentence_detector_dl\", \"xx\") \\\n",
        "    .setInputCols([\"document\"])\\\n",
        "    .setOutputCol(\"sentence\")\n",
        "\n",
        "tokenizer = Tokenizer()\\\n",
        "    .setInputCols([\"sentence\"])\\\n",
        "    .setOutputCol(\"token\")\n",
        "\n",
        "word_embeddings = WordEmbeddingsModel.pretrained(\"w2v_cc_300d\", \"pt\")\\\n",
        "    .setInputCols([\"document\",\"token\"])\\\n",
        "\t  .setOutputCol(\"embeddings\")"
      ],
      "metadata": {
        "colab": {
          "base_uri": "https://localhost:8080/"
        },
        "id": "snKDCdXwoNy4",
        "outputId": "c88b7448-1baf-4922-c58b-774e291acc3a"
      },
      "execution_count": 4,
      "outputs": [
        {
          "output_type": "stream",
          "name": "stdout",
          "text": [
            "sentence_detector_dl download started this may take some time.\n",
            "Approximate size to download 514.9 KB\n",
            "[OK!]\n",
            "w2v_cc_300d download started this may take some time.\n",
            "Approximate size to download 1.1 GB\n",
            "[OK!]\n"
          ]
        }
      ]
    },
    {
      "cell_type": "markdown",
      "source": [
        "## 1.1. NER Deid Generic\n",
        "\n",
        "**`ner_deid_generic`** extracts:\n",
        "- Name\n",
        "- Profession\n",
        "- Age\n",
        "- Date\n",
        "- Contact (Telephone numbers, Email addresses)\n",
        "- Location (Address, City, Postal code, Hospital Name, Organization)\n",
        "- ID (Social Security numbers, Medical record numbers)\n",
        "- Sex"
      ],
      "metadata": {
        "id": "3ZuJrSX6tT9m"
      }
    },
    {
      "cell_type": "code",
      "source": [
        "ner_generic = MedicalNerModel.pretrained(\"ner_deid_generic\", \"pt\", \"clinical/models\")\\\n",
        "    .setInputCols([\"sentence\",\"token\",\"embeddings\"])\\\n",
        "    .setOutputCol(\"ner_deid_generic\")\n",
        "\n",
        "ner_converter_generic = NerConverter()\\\n",
        "    .setInputCols([\"sentence\",\"token\",\"ner_deid_generic\"])\\\n",
        "    .setOutputCol(\"ner_chunk_generic\")"
      ],
      "metadata": {
        "colab": {
          "base_uri": "https://localhost:8080/"
        },
        "id": "C-qUIvqpsjV0",
        "outputId": "25e48fcf-01a3-429f-b0fd-efa5f2284057"
      },
      "execution_count": 5,
      "outputs": [
        {
          "output_type": "stream",
          "name": "stdout",
          "text": [
            "ner_deid_generic download started this may take some time.\n",
            "Approximate size to download 14.3 MB\n",
            "[OK!]\n"
          ]
        }
      ]
    },
    {
      "cell_type": "code",
      "source": [
        "ner_generic.getClasses()"
      ],
      "metadata": {
        "colab": {
          "base_uri": "https://localhost:8080/"
        },
        "id": "ElhQ25TPwlYF",
        "outputId": "e9601a2a-e60a-447e-a290-b34e2722b211"
      },
      "execution_count": 6,
      "outputs": [
        {
          "output_type": "execute_result",
          "data": {
            "text/plain": [
              "['O',\n",
              " 'I-LOCATION',\n",
              " 'I-CONTACT',\n",
              " 'I-PROFESSION',\n",
              " 'I-NAME',\n",
              " 'I-DATE',\n",
              " 'B-ID',\n",
              " 'B-PROFESSION',\n",
              " 'B-CONTACT',\n",
              " 'I-ID',\n",
              " 'B-NAME',\n",
              " 'B-DATE',\n",
              " 'B-LOCATION',\n",
              " 'B-SEX',\n",
              " 'I-SEX',\n",
              " 'B-AGE']"
            ]
          },
          "metadata": {},
          "execution_count": 6
        }
      ]
    },
    {
      "cell_type": "markdown",
      "source": [
        "## 1.2. NER Deid Subentity\n",
        "\n",
        "**`ner_deid_subentity`** extracts:\n",
        "\n",
        "`PATIENT`, `HOSPITAL`, `DATE`, `ORGANIZATION`, `CITY`, `ID`, `STREET`, `SEX`, `EMAIL`, `ZIP`, `PROFESSION`, `PHONE`, `COUNTRY`, `DOCTOR`, `AGE`"
      ],
      "metadata": {
        "id": "3NjkLF70tYdZ"
      }
    },
    {
      "cell_type": "code",
      "source": [
        "ner_subentity = MedicalNerModel.pretrained(\"ner_deid_subentity\", \"pt\", \"clinical/models\")\\\n",
        "    .setInputCols([\"sentence\",\"token\",\"embeddings\"])\\\n",
        "    .setOutputCol(\"ner_deid_subentity\")\n",
        "\n",
        "ner_converter_subentity = NerConverter()\\\n",
        "    .setInputCols([\"sentence\", \"token\", \"ner_deid_subentity\"])\\\n",
        "    .setOutputCol(\"ner_chunk_subentity\")"
      ],
      "metadata": {
        "colab": {
          "base_uri": "https://localhost:8080/"
        },
        "id": "C8n-h6D9tJXx",
        "outputId": "94af8aa9-0511-4c6e-9b04-9d389dea331b"
      },
      "execution_count": 7,
      "outputs": [
        {
          "output_type": "stream",
          "name": "stdout",
          "text": [
            "ner_deid_subentity download started this may take some time.\n",
            "Approximate size to download 14.3 MB\n",
            "[OK!]\n"
          ]
        }
      ]
    },
    {
      "cell_type": "code",
      "source": [
        "ner_subentity.getClasses()"
      ],
      "metadata": {
        "colab": {
          "base_uri": "https://localhost:8080/"
        },
        "id": "Oda9sjHDxRyi",
        "outputId": "869ee4fe-f89d-4503-8948-9596b959c3d2"
      },
      "execution_count": 8,
      "outputs": [
        {
          "output_type": "execute_result",
          "data": {
            "text/plain": [
              "['O',\n",
              " 'B-ORGANIZATION',\n",
              " 'I-PROFESSION',\n",
              " 'B-DOCTOR',\n",
              " 'B-PROFESSION',\n",
              " 'I-ID',\n",
              " 'B-CITY',\n",
              " 'B-DATE',\n",
              " 'B-PATIENT',\n",
              " 'B-SEX',\n",
              " 'I-SEX',\n",
              " 'I-DOCTOR',\n",
              " 'I-CITY',\n",
              " 'I-DATE',\n",
              " 'B-COUNTRY',\n",
              " 'B-ID',\n",
              " 'B-ZIP',\n",
              " 'I-STREET',\n",
              " 'I-PATIENT',\n",
              " 'B-PHONE',\n",
              " 'I-PHONE',\n",
              " 'B-HOSPITAL',\n",
              " 'B-EMAIL',\n",
              " 'B-STREET',\n",
              " 'I-ORGANIZATION',\n",
              " 'I-HOSPITAL',\n",
              " 'B-AGE',\n",
              " 'I-COUNTRY']"
            ]
          },
          "metadata": {},
          "execution_count": 8
        }
      ]
    },
    {
      "cell_type": "markdown",
      "source": [
        "## 1.3. Pipeline"
      ],
      "metadata": {
        "id": "Eqg29dPuvl5f"
      }
    },
    {
      "cell_type": "code",
      "source": [
        "nlpPipeline = Pipeline(stages=[\n",
        "      documentAssembler, \n",
        "      sentencerDL,\n",
        "      tokenizer,\n",
        "      word_embeddings,\n",
        "      ner_generic,\n",
        "      ner_converter_generic,\n",
        "      ner_subentity,\n",
        "      ner_converter_subentity,\n",
        "      ])\n",
        "\n",
        "empty_data = spark.createDataFrame([[\"\"]]).toDF(\"text\")\n",
        "\n",
        "model = nlpPipeline.fit(empty_data)"
      ],
      "metadata": {
        "id": "P0HZXLF6ueWi"
      },
      "execution_count": 91,
      "outputs": []
    },
    {
      "cell_type": "code",
      "source": [
        "text = \"\"\"Detalhes do paciente.\n",
        "Nome do paciente:  Pedro Gonçalves\n",
        "NHC: 2569870.\n",
        "Endereço: Rua Das Flores 23.\n",
        "Código Postal: 21754-987.\n",
        "Dados de cuidados.\n",
        "Data de nascimento: 10/10/1963.\n",
        "Idade: 53 anos \n",
        "Data de admissão: 17/06/2016.\n",
        "Doutora: Maria Santos\"\"\"\n",
        "\n",
        "text_df = spark.createDataFrame([[text]]).toDF(\"text\")\n",
        "\n",
        "result = model.transform(text_df)"
      ],
      "metadata": {
        "id": "fG4Vc36EwhFk"
      },
      "execution_count": 97,
      "outputs": []
    },
    {
      "cell_type": "markdown",
      "source": [
        "### Results for `ner_generic`"
      ],
      "metadata": {
        "id": "MNUKLQMi0GjT"
      }
    },
    {
      "cell_type": "code",
      "source": [
        "result.select(F.explode(F.arrays_zip('ner_chunk_generic.result', 'ner_chunk_generic.metadata')).alias(\"cols\")) \\\n",
        "      .select(F.expr(\"cols['0']\").alias(\"chunk\"),\n",
        "              F.expr(\"cols['1']['entity']\").alias(\"ner_label\")).show(truncate=False)"
      ],
      "metadata": {
        "colab": {
          "base_uri": "https://localhost:8080/"
        },
        "id": "K2wDmdiFzwDb",
        "outputId": "58779f0f-0401-4fa0-ddd1-980d153f0c22"
      },
      "execution_count": 98,
      "outputs": [
        {
          "output_type": "stream",
          "name": "stdout",
          "text": [
            "+-----------------+---------+\n",
            "|chunk            |ner_label|\n",
            "+-----------------+---------+\n",
            "|Pedro Gonçalves  |NAME     |\n",
            "|2569870          |ID       |\n",
            "|Rua Das Flores 23|LOCATION |\n",
            "|21754-987        |LOCATION |\n",
            "|10/10/1963       |DATE     |\n",
            "|53               |AGE      |\n",
            "|17/06/2016       |DATE     |\n",
            "|Maria Santos     |NAME     |\n",
            "+-----------------+---------+\n",
            "\n"
          ]
        }
      ]
    },
    {
      "cell_type": "markdown",
      "source": [
        "### Results for `ner_subentity`"
      ],
      "metadata": {
        "id": "y-CMPYTHz-L2"
      }
    },
    {
      "cell_type": "code",
      "source": [
        "result.select(F.explode(F.arrays_zip('ner_chunk_subentity.result', 'ner_chunk_subentity.metadata')).alias(\"cols\")) \\\n",
        "      .select(F.expr(\"cols['0']\").alias(\"chunk\"),\n",
        "              F.expr(\"cols['1']['entity']\").alias(\"ner_label\")).show(truncate=False)"
      ],
      "metadata": {
        "colab": {
          "base_uri": "https://localhost:8080/"
        },
        "id": "vEtBcyIjzLA3",
        "outputId": "59a9fc2d-f89c-4e52-a1a7-1f8de310ab7b"
      },
      "execution_count": 99,
      "outputs": [
        {
          "output_type": "stream",
          "name": "stdout",
          "text": [
            "+-----------------+---------+\n",
            "|chunk            |ner_label|\n",
            "+-----------------+---------+\n",
            "|Pedro Gonçalves  |PATIENT  |\n",
            "|2569870          |ID       |\n",
            "|Rua Das Flores 23|STREET   |\n",
            "|21754-987        |ZIP      |\n",
            "|10/10/1963       |DATE     |\n",
            "|53               |AGE      |\n",
            "|17/06/2016       |DATE     |\n",
            "|Maria Santos     |DOCTOR   |\n",
            "+-----------------+---------+\n",
            "\n"
          ]
        }
      ]
    },
    {
      "cell_type": "markdown",
      "source": [
        "## DeIdentification"
      ],
      "metadata": {
        "id": "ZmClPVDfddNv"
      }
    },
    {
      "cell_type": "markdown",
      "source": [
        "### Obfuscation mode"
      ],
      "metadata": {
        "id": "u-OTUyBK6yrt"
      }
    },
    {
      "cell_type": "code",
      "source": [
        "# Downloading faker entity list.\n",
        "! wget -q https://raw.githubusercontent.com/JohnSnowLabs/spark-nlp-workshop/master/tutorials/Certification_Trainings/Healthcare/data/obfuscate_pt.txt"
      ],
      "metadata": {
        "id": "pbJisU_u7Kpl"
      },
      "execution_count": 100,
      "outputs": []
    },
    {
      "cell_type": "code",
      "source": [
        "deid_masked_entity = DeIdentification()\\\n",
        "    .setInputCols([\"sentence\", \"token\", \"ner_chunk_subentity\"])\\\n",
        "    .setOutputCol(\"masked_with_entity\")\\\n",
        "    .setMode(\"mask\")\\\n",
        "    .setMaskingPolicy(\"entity_labels\")\n",
        "\n",
        "deid_masked_char = DeIdentification()\\\n",
        "    .setInputCols([\"sentence\", \"token\", \"ner_chunk_subentity\"])\\\n",
        "    .setOutputCol(\"masked_with_chars\")\\\n",
        "    .setMode(\"mask\")\\\n",
        "    .setMaskingPolicy(\"same_length_chars\")\n",
        "\n",
        "deid_masked_fixed_char = DeIdentification()\\\n",
        "    .setInputCols([\"sentence\", \"token\", \"ner_chunk_subentity\"])\\\n",
        "    .setOutputCol(\"masked_fixed_length_chars\")\\\n",
        "    .setMode(\"mask\")\\\n",
        "    .setMaskingPolicy(\"fixed_length_chars\")\\\n",
        "    .setFixedMaskLength(4)\n",
        "\n",
        "deid_obfuscated = DeIdentification()\\\n",
        "    .setInputCols([\"sentence\", \"token\", \"ner_chunk_subentity\"]) \\\n",
        "    .setOutputCol(\"obfuscated\") \\\n",
        "    .setMode(\"obfuscate\")\\\n",
        "    .setObfuscateDate(True)\\\n",
        "    .setObfuscateRefFile('obfuscate_pt.txt')\\\n",
        "    .setObfuscateRefSource(\"file\")"
      ],
      "metadata": {
        "id": "CBo2T-sZ64IJ"
      },
      "execution_count": 101,
      "outputs": []
    },
    {
      "cell_type": "code",
      "source": [
        "nlpPipeline = Pipeline(stages=[\n",
        "      documentAssembler, \n",
        "      sentencerDL,\n",
        "      tokenizer,\n",
        "      word_embeddings,\n",
        "      ner_subentity,\n",
        "      ner_converter_subentity,\n",
        "      deid_masked_entity,\n",
        "      deid_masked_char,\n",
        "      deid_masked_fixed_char,\n",
        "      deid_obfuscated\n",
        "      ])\n",
        "\n",
        "empty_data = spark.createDataFrame([[\"\"]]).toDF(\"text\")\n",
        "\n",
        "model = nlpPipeline.fit(empty_data)"
      ],
      "metadata": {
        "id": "h9pmXn0f75ST"
      },
      "execution_count": 102,
      "outputs": []
    },
    {
      "cell_type": "code",
      "source": [
        "deid_lp = LightPipeline(model)"
      ],
      "metadata": {
        "id": "oVOL3bwr8J18"
      },
      "execution_count": 103,
      "outputs": []
    },
    {
      "cell_type": "code",
      "source": [
        "text = \"\"\"Detalhes do paciente.\n",
        "Nome do paciente: Antonio Gonçalves\n",
        "NHC: 2569870.\n",
        "Endereço: Rua Das Flores 23.\n",
        "Código Postal: 21754-987.\n",
        "Dados de cuidados.\n",
        "Data de nascimento: 10/10/1963.\n",
        "Idade: 23 anos \n",
        "Data de admissão: 17/06/2016.\n",
        "Doutora: Maria Santos\"\"\""
      ],
      "metadata": {
        "id": "Maco1EiD8TK4"
      },
      "execution_count": 119,
      "outputs": []
    },
    {
      "cell_type": "code",
      "source": [
        "result = deid_lp.annotate(text)\n",
        "\n",
        "print(\"\\n\".join(result['masked_with_entity']))\n",
        "print(\"\\n\")\n",
        "print(\"\\n\".join(result['masked_with_chars']))\n",
        "print(\"\\n\")\n",
        "print(\"\\n\".join(result['masked_fixed_length_chars']))\n",
        "print(\"\\n\")\n",
        "print(\"\\n\".join(result['obfuscated']))"
      ],
      "metadata": {
        "colab": {
          "base_uri": "https://localhost:8080/"
        },
        "id": "CXEmE1i78PX4",
        "outputId": "39d88f4e-d556-47ba-95bf-4dcdec76adb4"
      },
      "execution_count": 120,
      "outputs": [
        {
          "output_type": "stream",
          "name": "stdout",
          "text": [
            "Detalhes do paciente.\n",
            "Nome do paciente: <PATIENT>\n",
            "NHC: <ID>.\n",
            "Endereço: <STREET>.\n",
            "Código Postal: <ZIP>.\n",
            "Dados de cuidados.\n",
            "Data de nascimento: <DATE>.\n",
            "Idade: <AGE> anos \n",
            "Data de admissão: <DATE>.\n",
            "\n",
            "Doutora: <DOCTOR>\n",
            "\n",
            "\n",
            "Detalhes do paciente.\n",
            "Nome do paciente: [***************]\n",
            "NHC: [*****].\n",
            "Endereço: [***************].\n",
            "Código Postal: [*******].\n",
            "Dados de cuidados.\n",
            "Data de nascimento: [********].\n",
            "Idade: ** anos \n",
            "Data de admissão: [********].\n",
            "\n",
            "Doutora: [**********]\n",
            "\n",
            "\n",
            "Detalhes do paciente.\n",
            "Nome do paciente: ****\n",
            "NHC: ****.\n",
            "Endereço: ****.\n",
            "Código Postal: ****.\n",
            "Dados de cuidados.\n",
            "Data de nascimento: ****.\n",
            "Idade: **** anos \n",
            "Data de admissão: ****.\n",
            "\n",
            "Doutora: ****\n",
            "\n",
            "\n",
            "Detalhes do paciente.\n",
            "Nome do paciente: Lourenço Morais\n",
            "NHC: 569 4653.\n",
            "Endereço: R. Cuf, 304.\n",
            "Código Postal: 74913712.\n",
            "Dados de cuidados.\n",
            "Data de nascimento: 28/11/1963.\n",
            "Idade: 53 anos \n",
            "Data de admissão: 24/06/2016.\n",
            "\n",
            "Doutora: Moreira\n"
          ]
        }
      ]
    },
    {
      "cell_type": "code",
      "source": [
        "pd.set_option(\"display.max_colwidth\", 200)\n",
        "\n",
        "df = pd.DataFrame(list(zip(result[\"masked_with_entity\"], \n",
        "                           result[\"masked_with_chars\"],\n",
        "                           result[\"masked_fixed_length_chars\"], \n",
        "                           result[\"obfuscated\"])),\n",
        "                 columns= [\"Masked_with_entity\", \"Masked with Chars\", \"Masked with Fixed Chars\", \"Obfuscated\"])\n",
        "\n",
        "df"
      ],
      "metadata": {
        "id": "v8KakNhlMtnp",
        "outputId": "c0df9fc6-c26a-4b69-87a3-671ac12959ae",
        "colab": {
          "base_uri": "https://localhost:8080/",
          "height": 331
        }
      },
      "execution_count": 121,
      "outputs": [
        {
          "output_type": "execute_result",
          "data": {
            "text/plain": [
              "                           Masked_with_entity  \\\n",
              "0                       Detalhes do paciente.   \n",
              "1                 Nome do paciente: <PATIENT>   \n",
              "2                                  NHC: <ID>.   \n",
              "3  Endereço: <STREET>.\\nCódigo Postal: <ZIP>.   \n",
              "4                          Dados de cuidados.   \n",
              "5                 Data de nascimento: <DATE>.   \n",
              "6                          Idade: <AGE> anos    \n",
              "7                   Data de admissão: <DATE>.   \n",
              "8                         \\nDoutora: <DOCTOR>   \n",
              "\n",
              "                                         Masked with Chars  \\\n",
              "0                                    Detalhes do paciente.   \n",
              "1                      Nome do paciente: [***************]   \n",
              "2                                            NHC: [*****].   \n",
              "3  Endereço: [***************].\\nCódigo Postal: [*******].   \n",
              "4                                       Dados de cuidados.   \n",
              "5                          Data de nascimento: [********].   \n",
              "6                                          Idade: ** anos    \n",
              "7                            Data de admissão: [********].   \n",
              "8                                  \\nDoutora: [**********]   \n",
              "\n",
              "                 Masked with Fixed Chars  \\\n",
              "0                  Detalhes do paciente.   \n",
              "1                 Nome do paciente: ****   \n",
              "2                             NHC: ****.   \n",
              "3  Endereço: ****.\\nCódigo Postal: ****.   \n",
              "4                     Dados de cuidados.   \n",
              "5              Data de nascimento: ****.   \n",
              "6                      Idade: **** anos    \n",
              "7                Data de admissão: ****.   \n",
              "8                        \\nDoutora: ****   \n",
              "\n",
              "                                         Obfuscated  \n",
              "0                             Detalhes do paciente.  \n",
              "1                 Nome do paciente: Lourenço Morais  \n",
              "2                                    NHC: 569 4653.  \n",
              "3  Endereço: R. Cuf, 304.\\nCódigo Postal: 74913712.  \n",
              "4                                Dados de cuidados.  \n",
              "5                   Data de nascimento: 28/11/1963.  \n",
              "6                                   Idade: 53 anos   \n",
              "7                     Data de admissão: 24/06/2016.  \n",
              "8                                \\nDoutora: Moreira  "
            ],
            "text/html": [
              "\n",
              "  <div id=\"df-7ff8f9b0-90f8-4b17-ab52-d5d3ee8a429c\">\n",
              "    <div class=\"colab-df-container\">\n",
              "      <div>\n",
              "<style scoped>\n",
              "    .dataframe tbody tr th:only-of-type {\n",
              "        vertical-align: middle;\n",
              "    }\n",
              "\n",
              "    .dataframe tbody tr th {\n",
              "        vertical-align: top;\n",
              "    }\n",
              "\n",
              "    .dataframe thead th {\n",
              "        text-align: right;\n",
              "    }\n",
              "</style>\n",
              "<table border=\"1\" class=\"dataframe\">\n",
              "  <thead>\n",
              "    <tr style=\"text-align: right;\">\n",
              "      <th></th>\n",
              "      <th>Masked_with_entity</th>\n",
              "      <th>Masked with Chars</th>\n",
              "      <th>Masked with Fixed Chars</th>\n",
              "      <th>Obfuscated</th>\n",
              "    </tr>\n",
              "  </thead>\n",
              "  <tbody>\n",
              "    <tr>\n",
              "      <th>0</th>\n",
              "      <td>Detalhes do paciente.</td>\n",
              "      <td>Detalhes do paciente.</td>\n",
              "      <td>Detalhes do paciente.</td>\n",
              "      <td>Detalhes do paciente.</td>\n",
              "    </tr>\n",
              "    <tr>\n",
              "      <th>1</th>\n",
              "      <td>Nome do paciente: &lt;PATIENT&gt;</td>\n",
              "      <td>Nome do paciente: [***************]</td>\n",
              "      <td>Nome do paciente: ****</td>\n",
              "      <td>Nome do paciente: Lourenço Morais</td>\n",
              "    </tr>\n",
              "    <tr>\n",
              "      <th>2</th>\n",
              "      <td>NHC: &lt;ID&gt;.</td>\n",
              "      <td>NHC: [*****].</td>\n",
              "      <td>NHC: ****.</td>\n",
              "      <td>NHC: 569 4653.</td>\n",
              "    </tr>\n",
              "    <tr>\n",
              "      <th>3</th>\n",
              "      <td>Endereço: &lt;STREET&gt;.\\nCódigo Postal: &lt;ZIP&gt;.</td>\n",
              "      <td>Endereço: [***************].\\nCódigo Postal: [*******].</td>\n",
              "      <td>Endereço: ****.\\nCódigo Postal: ****.</td>\n",
              "      <td>Endereço: R. Cuf, 304.\\nCódigo Postal: 74913712.</td>\n",
              "    </tr>\n",
              "    <tr>\n",
              "      <th>4</th>\n",
              "      <td>Dados de cuidados.</td>\n",
              "      <td>Dados de cuidados.</td>\n",
              "      <td>Dados de cuidados.</td>\n",
              "      <td>Dados de cuidados.</td>\n",
              "    </tr>\n",
              "    <tr>\n",
              "      <th>5</th>\n",
              "      <td>Data de nascimento: &lt;DATE&gt;.</td>\n",
              "      <td>Data de nascimento: [********].</td>\n",
              "      <td>Data de nascimento: ****.</td>\n",
              "      <td>Data de nascimento: 28/11/1963.</td>\n",
              "    </tr>\n",
              "    <tr>\n",
              "      <th>6</th>\n",
              "      <td>Idade: &lt;AGE&gt; anos</td>\n",
              "      <td>Idade: ** anos</td>\n",
              "      <td>Idade: **** anos</td>\n",
              "      <td>Idade: 53 anos</td>\n",
              "    </tr>\n",
              "    <tr>\n",
              "      <th>7</th>\n",
              "      <td>Data de admissão: &lt;DATE&gt;.</td>\n",
              "      <td>Data de admissão: [********].</td>\n",
              "      <td>Data de admissão: ****.</td>\n",
              "      <td>Data de admissão: 24/06/2016.</td>\n",
              "    </tr>\n",
              "    <tr>\n",
              "      <th>8</th>\n",
              "      <td>\\nDoutora: &lt;DOCTOR&gt;</td>\n",
              "      <td>\\nDoutora: [**********]</td>\n",
              "      <td>\\nDoutora: ****</td>\n",
              "      <td>\\nDoutora: Moreira</td>\n",
              "    </tr>\n",
              "  </tbody>\n",
              "</table>\n",
              "</div>\n",
              "      <button class=\"colab-df-convert\" onclick=\"convertToInteractive('df-7ff8f9b0-90f8-4b17-ab52-d5d3ee8a429c')\"\n",
              "              title=\"Convert this dataframe to an interactive table.\"\n",
              "              style=\"display:none;\">\n",
              "        \n",
              "  <svg xmlns=\"http://www.w3.org/2000/svg\" height=\"24px\"viewBox=\"0 0 24 24\"\n",
              "       width=\"24px\">\n",
              "    <path d=\"M0 0h24v24H0V0z\" fill=\"none\"/>\n",
              "    <path d=\"M18.56 5.44l.94 2.06.94-2.06 2.06-.94-2.06-.94-.94-2.06-.94 2.06-2.06.94zm-11 1L8.5 8.5l.94-2.06 2.06-.94-2.06-.94L8.5 2.5l-.94 2.06-2.06.94zm10 10l.94 2.06.94-2.06 2.06-.94-2.06-.94-.94-2.06-.94 2.06-2.06.94z\"/><path d=\"M17.41 7.96l-1.37-1.37c-.4-.4-.92-.59-1.43-.59-.52 0-1.04.2-1.43.59L10.3 9.45l-7.72 7.72c-.78.78-.78 2.05 0 2.83L4 21.41c.39.39.9.59 1.41.59.51 0 1.02-.2 1.41-.59l7.78-7.78 2.81-2.81c.8-.78.8-2.07 0-2.86zM5.41 20L4 18.59l7.72-7.72 1.47 1.35L5.41 20z\"/>\n",
              "  </svg>\n",
              "      </button>\n",
              "      \n",
              "  <style>\n",
              "    .colab-df-container {\n",
              "      display:flex;\n",
              "      flex-wrap:wrap;\n",
              "      gap: 12px;\n",
              "    }\n",
              "\n",
              "    .colab-df-convert {\n",
              "      background-color: #E8F0FE;\n",
              "      border: none;\n",
              "      border-radius: 50%;\n",
              "      cursor: pointer;\n",
              "      display: none;\n",
              "      fill: #1967D2;\n",
              "      height: 32px;\n",
              "      padding: 0 0 0 0;\n",
              "      width: 32px;\n",
              "    }\n",
              "\n",
              "    .colab-df-convert:hover {\n",
              "      background-color: #E2EBFA;\n",
              "      box-shadow: 0px 1px 2px rgba(60, 64, 67, 0.3), 0px 1px 3px 1px rgba(60, 64, 67, 0.15);\n",
              "      fill: #174EA6;\n",
              "    }\n",
              "\n",
              "    [theme=dark] .colab-df-convert {\n",
              "      background-color: #3B4455;\n",
              "      fill: #D2E3FC;\n",
              "    }\n",
              "\n",
              "    [theme=dark] .colab-df-convert:hover {\n",
              "      background-color: #434B5C;\n",
              "      box-shadow: 0px 1px 3px 1px rgba(0, 0, 0, 0.15);\n",
              "      filter: drop-shadow(0px 1px 2px rgba(0, 0, 0, 0.3));\n",
              "      fill: #FFFFFF;\n",
              "    }\n",
              "  </style>\n",
              "\n",
              "      <script>\n",
              "        const buttonEl =\n",
              "          document.querySelector('#df-7ff8f9b0-90f8-4b17-ab52-d5d3ee8a429c button.colab-df-convert');\n",
              "        buttonEl.style.display =\n",
              "          google.colab.kernel.accessAllowed ? 'block' : 'none';\n",
              "\n",
              "        async function convertToInteractive(key) {\n",
              "          const element = document.querySelector('#df-7ff8f9b0-90f8-4b17-ab52-d5d3ee8a429c');\n",
              "          const dataTable =\n",
              "            await google.colab.kernel.invokeFunction('convertToInteractive',\n",
              "                                                     [key], {});\n",
              "          if (!dataTable) return;\n",
              "\n",
              "          const docLinkHtml = 'Like what you see? Visit the ' +\n",
              "            '<a target=\"_blank\" href=https://colab.research.google.com/notebooks/data_table.ipynb>data table notebook</a>'\n",
              "            + ' to learn more about interactive tables.';\n",
              "          element.innerHTML = '';\n",
              "          dataTable['output_type'] = 'display_data';\n",
              "          await google.colab.output.renderOutput(dataTable, element);\n",
              "          const docLink = document.createElement('div');\n",
              "          docLink.innerHTML = docLinkHtml;\n",
              "          element.appendChild(docLink);\n",
              "        }\n",
              "      </script>\n",
              "    </div>\n",
              "  </div>\n",
              "  "
            ]
          },
          "metadata": {},
          "execution_count": 121
        }
      ]
    },
    {
      "cell_type": "markdown",
      "source": [
        "# 2. Pretrained Portuguese Deidentification Pipeline\n",
        "\n",
        "- We developed a clinical deidentification pretrained pipeline that can be used to deidentify PHI information from Italian medical texts. The PHI information will be masked and obfuscated in the resulting text. \n",
        "- The pipeline can mask and obfuscate:\n",
        "    - Patient\n",
        "    - Doctor\n",
        "    - Hospital\n",
        "    - Date\n",
        "    - Organization\n",
        "    - Sex\n",
        "    - City\n",
        "    - Street\n",
        "    - Country\n",
        "    - ZIP\n",
        "    - Username\n",
        "    - Profession\n",
        "    - Phone\n",
        "    - Email\n",
        "    - Age\n",
        "    - ID number\n",
        "    - Medical record number\n",
        "    - Account number\n",
        "    - SSN\n",
        "    - Plate Number\n",
        "    - IP address\n",
        "    - URL"
      ],
      "metadata": {
        "id": "RRuq9NeemSaf"
      }
    },
    {
      "cell_type": "code",
      "source": [
        "from sparknlp.pretrained import PretrainedPipeline\n",
        "\n",
        "deid_pipeline = PretrainedPipeline(\"clinical_deidentification\", \"pt\", \"clinical/models\")"
      ],
      "metadata": {
        "colab": {
          "base_uri": "https://localhost:8080/"
        },
        "id": "_vBWjdVTFGHD",
        "outputId": "20863d24-be26-4777-84dc-b5c180ab8cc2"
      },
      "execution_count": 127,
      "outputs": [
        {
          "output_type": "stream",
          "name": "stdout",
          "text": [
            "clinical_deidentification download started this may take some time.\n",
            "Approx size to download 1.2 GB\n",
            "[OK!]\n"
          ]
        }
      ]
    },
    {
      "cell_type": "code",
      "source": [
        "text = \"\"\"RELAÇÃO HOSPITALAR\n",
        "NOME: Pedro Gonçalves\n",
        "NHC: MVANSK92F09W408A\n",
        "ENDEREÇO: Rua Burcardo 7\n",
        "CÓDIGO POSTAL: 80139\n",
        "DATA DE NASCIMENTO: 03/03/1946\n",
        "IDADE: 70 anos\n",
        "SEXO: Homens\n",
        "E-MAIL: pgon21@tim.pt\n",
        "DATA DE ADMISSÃO: 12/12/2016\n",
        "DOUTORA: Eva Andrade\n",
        "RELATO CLÍNICO: 70 anos, aposentado, sem alergia a medicamentos conhecida, com a seguinte história: ex-acidente de trabalho com fratura de vértebras e costelas; operado de doença de Dupuytren na mão direita e ponte ílio-femoral esquerda; diabetes tipo II, hipercolesterolemia e hiperuricemia; alcoolismo ativo, fuma 20 cigarros/dia.\n",
        "Ele foi encaminhado a nós por apresentar hematúria macroscópica pós-evacuação em uma ocasião e microhematúria persistente posteriormente, com evacuação normal.\n",
        "O exame físico mostrou bom estado geral, com abdome e genitais normais; o toque retal foi compatível com adenoma de próstata grau I/IV.\n",
        "A urinálise mostrou 4 hemácias/campo e 0-5 leucócitos/campo; o resto do sedimento era normal.\n",
        "O hemograma é normal; a bioquímica mostrou uma glicemia de 169 mg/dl e triglicerídeos 456 mg/dl; função hepática e renal são normais. PSA de 1,16 ng/ml.\n",
        "\n",
        "DIRIGIDA A: Dr. Eva Andrade - Centro Hospitalar do Medio Ave - Avenida Dos Aliados, 56\n",
        "E-MAIL: evandrade@poste.pt\n",
        "\"\"\"\n",
        "\n",
        "result = deid_pipeline.annotate(text)\n",
        "print(\"\\n\".join(result['masked_with_chars']))\n",
        "print(\"\\n\")\n",
        "print(\"\\n\".join(result['masked']))\n",
        "print(\"\\n\")\n",
        "print(\"\\n\".join(result['masked_fixed_length_chars']))\n",
        "print(\"\\n\")\n",
        "print(\"\\n\".join(result['obfuscated']))"
      ],
      "metadata": {
        "colab": {
          "base_uri": "https://localhost:8080/"
        },
        "id": "Esy1Yis8Hn1X",
        "outputId": "2bbb4649-baf9-458b-e1e3-1bc9b6548aa8"
      },
      "execution_count": 133,
      "outputs": [
        {
          "output_type": "stream",
          "name": "stdout",
          "text": [
            "RELAÇÃO HOSPITALAR\n",
            "NOME: [*************]\n",
            "NHC: [**************]\n",
            "ENDEREÇO: [************]\n",
            "CÓDIGO POSTAL: [***]\n",
            "DATA DE NASCIMENTO: [********]\n",
            "IDADE: ** anos\n",
            "SEXO: [****]\n",
            "E-MAIL: [***********]\n",
            "DATA DE ADMISSÃO: [********]\n",
            "DOUTORA: [*********]\n",
            "RELATO CLÍNICO: ** anos, aposentado, sem alergia a medicamentos conhecida, com a seguinte história: ex-acidente de trabalho com fratura de vértebras e costelas; operado de doença de Dupuytren na mão direita e ponte ílio-femoral esquerda; diabetes tipo II, hipercolesterolemia e hiperuricemia; alcoolismo ativo, fuma 20 cigarros/dia.\n",
            "Ele foi encaminhado a nós por apresentar hematúria macroscópica pós-evacuação em uma ocasião e microhematúria persistente posteriormente, com evacuação normal.\n",
            "O exame físico mostrou bom estado geral, com abdome e genitais normais; o toque retal foi compatível com adenoma de próstata grau I/IV.\n",
            "A urinálise mostrou 4 hemácias/campo e 0-5 leucócitos/campo; o resto do sedimento era normal.\n",
            "O hemograma é normal; a bioquímica mostrou uma glicemia de 169 mg/dl e triglicerídeos 456 mg/dl; função hepática e renal são normais.\n",
            "PSA de 1,16 ng/ml.\n",
            "DIRIGIDA A: Dr. [*********] - [****************************] - [*****************], 56\n",
            "E-MAIL: [****************]\n",
            "\n",
            "\n",
            "\n",
            "RELAÇÃO HOSPITALAR\n",
            "NOME: <DOCTOR>\n",
            "NHC: <ID>\n",
            "ENDEREÇO: <STREET>\n",
            "CÓDIGO POSTAL: <ZIP>\n",
            "DATA DE NASCIMENTO: <DATE>\n",
            "IDADE: <AGE> anos\n",
            "SEXO: <SEX>\n",
            "E-MAIL: <EMAIL>\n",
            "DATA DE ADMISSÃO: <DATE>\n",
            "DOUTORA: <DOCTOR>\n",
            "RELATO CLÍNICO: <AGE> anos, aposentado, sem alergia a medicamentos conhecida, com a seguinte história: ex-acidente de trabalho com fratura de vértebras e costelas; operado de doença de Dupuytren na mão direita e ponte ílio-femoral esquerda; diabetes tipo II, hipercolesterolemia e hiperuricemia; alcoolismo ativo, fuma 20 cigarros/dia.\n",
            "Ele foi encaminhado a nós por apresentar hematúria macroscópica pós-evacuação em uma ocasião e microhematúria persistente posteriormente, com evacuação normal.\n",
            "O exame físico mostrou bom estado geral, com abdome e genitais normais; o toque retal foi compatível com adenoma de próstata grau I/IV.\n",
            "A urinálise mostrou 4 hemácias/campo e 0-5 leucócitos/campo; o resto do sedimento era normal.\n",
            "O hemograma é normal; a bioquímica mostrou uma glicemia de 169 mg/dl e triglicerídeos 456 mg/dl; função hepática e renal são normais.\n",
            "PSA de 1,16 ng/ml.\n",
            "DIRIGIDA A: Dr. <DOCTOR> - <HOSPITAL> - <STREET>, 56\n",
            "E-MAIL: <EMAIL>\n",
            "\n",
            "\n",
            "\n",
            "RELAÇÃO HOSPITALAR\n",
            "NOME: ****\n",
            "NHC: ****\n",
            "ENDEREÇO: ****\n",
            "CÓDIGO POSTAL: ****\n",
            "DATA DE NASCIMENTO: ****\n",
            "IDADE: **** anos\n",
            "SEXO: ****\n",
            "E-MAIL: ****\n",
            "DATA DE ADMISSÃO: ****\n",
            "DOUTORA: ****\n",
            "RELATO CLÍNICO: **** anos, aposentado, sem alergia a medicamentos conhecida, com a seguinte história: ex-acidente de trabalho com fratura de vértebras e costelas; operado de doença de Dupuytren na mão direita e ponte ílio-femoral esquerda; diabetes tipo II, hipercolesterolemia e hiperuricemia; alcoolismo ativo, fuma 20 cigarros/dia.\n",
            "Ele foi encaminhado a nós por apresentar hematúria macroscópica pós-evacuação em uma ocasião e microhematúria persistente posteriormente, com evacuação normal.\n",
            "O exame físico mostrou bom estado geral, com abdome e genitais normais; o toque retal foi compatível com adenoma de próstata grau I/IV.\n",
            "A urinálise mostrou 4 hemácias/campo e 0-5 leucócitos/campo; o resto do sedimento era normal.\n",
            "O hemograma é normal; a bioquímica mostrou uma glicemia de 169 mg/dl e triglicerídeos 456 mg/dl; função hepática e renal são normais.\n",
            "PSA de 1,16 ng/ml.\n",
            "DIRIGIDA A: Dr. **** - **** - ****, 56\n",
            "E-MAIL: ****\n",
            "\n",
            "\n",
            "\n",
            "RELAÇÃO HOSPITALAR\n",
            "NOME: Isabel Magalhães\n",
            "NHC: 124 445 311\n",
            "ENDEREÇO: Rua de Santa María, 100\n",
            "CÓDIGO POSTAL: 1000-306\n",
            "DATA DE NASCIMENTO: 17/04/1946\n",
            "IDADE: 46 anos\n",
            "SEXO: Mulher\n",
            "E-MAIL: eric.shannon@geegle.com\n",
            "DATA DE ADMISSÃO: 26/12/2016\n",
            "DOUTORA: Isabel Magalhães\n",
            "RELATO CLÍNICO: 46 anos, aposentado, sem alergia a medicamentos conhecida, com a seguinte história: ex-acidente de trabalho com fratura de vértebras e costelas; operado de doença de Dupuytren na mão direita e ponte ílio-femoral esquerda; diabetes tipo II, hipercolesterolemia e hiperuricemia; alcoolismo ativo, fuma 20 cigarros/dia.\n",
            "Ele foi encaminhado a nós por apresentar hematúria macroscópica pós-evacuação em uma ocasião e microhematúria persistente posteriormente, com evacuação normal.\n",
            "O exame físico mostrou bom estado geral, com abdome e genitais normais; o toque retal foi compatível com adenoma de próstata grau I/IV.\n",
            "A urinálise mostrou 4 hemácias/campo e 0-5 leucócitos/campo; o resto do sedimento era normal.\n",
            "O hemograma é normal; a bioquímica mostrou uma glicemia de 169 mg/dl e triglicerídeos 456 mg/dl; função hepática e renal são normais.\n",
            "PSA de 1,16 ng/ml.\n",
            "DIRIGIDA A: Dr. Isabel Magalhães - Centro Hospitalar Universitario do Algarve - Rua Augusta, 19, 56\n",
            "E-MAIL: eric.shannon@geegle.com\n",
            "\n"
          ]
        }
      ]
    },
    {
      "cell_type": "markdown",
      "source": [
        "The results can also be inspected vertically by creating a Pandas dataframe as such:"
      ],
      "metadata": {
        "id": "qRd-bpDenVsr"
      }
    },
    {
      "cell_type": "code",
      "source": [
        "pd.set_option(\"display.max_colwidth\", None)\n",
        "\n",
        "df = pd.DataFrame(list(zip(result[\"sentence\"], \n",
        "                           result[\"masked\"],\n",
        "                           result[\"masked_with_chars\"], \n",
        "                           result[\"masked_fixed_length_chars\"], \n",
        "                           result[\"obfuscated\"])),\n",
        "                 columns= [\"Sentence\", \"Masked\", \"Masked with Chars\", \"Masked with Fixed Chars\", \"Obfuscated\"])\n",
        "\n",
        "df"
      ],
      "metadata": {
        "colab": {
          "base_uri": "https://localhost:8080/",
          "height": 913
        },
        "id": "YvTVq5JEmrc4",
        "outputId": "34682ff2-3338-4216-b8e1-ed34bac9af2b"
      },
      "execution_count": 134,
      "outputs": [
        {
          "output_type": "execute_result",
          "data": {
            "text/plain": [
              "                                                                                                                                                                                                                                                                                                                                        Sentence  \\\n",
              "0                                                                                                                                                                                                                                                                                                      RELAÇÃO HOSPITALAR\\nNOME: Pedro Gonçalves   \n",
              "1                                                                                                                                                                                                                                                                                                                          NHC: MVANSK92F09W408A   \n",
              "2                                                                                                                                                                                                                                                                                                                       ENDEREÇO: Rua Burcardo 7   \n",
              "3                                                                                                                                                                                                                                                                                           CÓDIGO POSTAL: 80139\\nDATA DE NASCIMENTO: 03/03/1946   \n",
              "4                                                                                                                                                                                                                                                                                                                                 IDADE: 70 anos   \n",
              "5                                                                                                                                                                                                                                                                                                                                   SEXO: Homens   \n",
              "6                                                                                                                                                                                                                                                                                            E-MAIL: pgon21@tim.pt\\nDATA DE ADMISSÃO: 12/12/2016   \n",
              "7                                                                                                                                                                                                                                                                                                                           DOUTORA: Eva Andrade   \n",
              "8   RELATO CLÍNICO: 70 anos, aposentado, sem alergia a medicamentos conhecida, com a seguinte história: ex-acidente de trabalho com fratura de vértebras e costelas; operado de doença de Dupuytren na mão direita e ponte ílio-femoral esquerda; diabetes tipo II, hipercolesterolemia e hiperuricemia; alcoolismo ativo, fuma 20 cigarros/dia.   \n",
              "9                                       Ele foi encaminhado a nós por apresentar hematúria macroscópica pós-evacuação em uma ocasião e microhematúria persistente posteriormente, com evacuação normal.\\nO exame físico mostrou bom estado geral, com abdome e genitais normais; o toque retal foi compatível com adenoma de próstata grau I/IV.   \n",
              "10                                                                                                          A urinálise mostrou 4 hemácias/campo e 0-5 leucócitos/campo; o resto do sedimento era normal.\\nO hemograma é normal; a bioquímica mostrou uma glicemia de 169 mg/dl e triglicerídeos 456 mg/dl; função hepática e renal são normais.   \n",
              "11                                                                                                                                                                                                                                                                                                                            PSA de 1,16 ng/ml.   \n",
              "12                                                                                                                                                                                                                                                        DIRIGIDA A: Dr. Eva Andrade - Centro Hospitalar do Medio Ave - Avenida Dos Aliados, 56   \n",
              "13                                                                                                                                                                                                                                                                                                                  E-MAIL: evandrade@poste.pt\\n   \n",
              "\n",
              "                                                                                                                                                                                                                                                                                                                                             Masked  \\\n",
              "0                                                                                                                                                                                                                                                                                                                RELAÇÃO HOSPITALAR\\nNOME: <DOCTOR>   \n",
              "1                                                                                                                                                                                                                                                                                                                                         NHC: <ID>   \n",
              "2                                                                                                                                                                                                                                                                                                                                ENDEREÇO: <STREET>   \n",
              "3                                                                                                                                                                                                                                                                                                  CÓDIGO POSTAL: <ZIP>\\nDATA DE NASCIMENTO: <DATE>   \n",
              "4                                                                                                                                                                                                                                                                                                                                 IDADE: <AGE> anos   \n",
              "5                                                                                                                                                                                                                                                                                                                                       SEXO: <SEX>   \n",
              "6                                                                                                                                                                                                                                                                                                         E-MAIL: <EMAIL>\\nDATA DE ADMISSÃO: <DATE>   \n",
              "7                                                                                                                                                                                                                                                                                                                                 DOUTORA: <DOCTOR>   \n",
              "8   RELATO CLÍNICO: <AGE> anos, aposentado, sem alergia a medicamentos conhecida, com a seguinte história: ex-acidente de trabalho com fratura de vértebras e costelas; operado de doença de Dupuytren na mão direita e ponte ílio-femoral esquerda; diabetes tipo II, hipercolesterolemia e hiperuricemia; alcoolismo ativo, fuma 20 cigarros/dia.   \n",
              "9                                          Ele foi encaminhado a nós por apresentar hematúria macroscópica pós-evacuação em uma ocasião e microhematúria persistente posteriormente, com evacuação normal.\\nO exame físico mostrou bom estado geral, com abdome e genitais normais; o toque retal foi compatível com adenoma de próstata grau I/IV.   \n",
              "10                                                                                                             A urinálise mostrou 4 hemácias/campo e 0-5 leucócitos/campo; o resto do sedimento era normal.\\nO hemograma é normal; a bioquímica mostrou uma glicemia de 169 mg/dl e triglicerídeos 456 mg/dl; função hepática e renal são normais.   \n",
              "11                                                                                                                                                                                                                                                                                                                               PSA de 1,16 ng/ml.   \n",
              "12                                                                                                                                                                                                                                                                                             DIRIGIDA A: Dr. <DOCTOR> - <HOSPITAL> - <STREET>, 56   \n",
              "13                                                                                                                                                                                                                                                                                                                                E-MAIL: <EMAIL>\\n   \n",
              "\n",
              "                                                                                                                                                                                                                                                                                                                               Masked with Chars  \\\n",
              "0                                                                                                                                                                                                                                                                                                      RELAÇÃO HOSPITALAR\\nNOME: [*************]   \n",
              "1                                                                                                                                                                                                                                                                                                                          NHC: [**************]   \n",
              "2                                                                                                                                                                                                                                                                                                                       ENDEREÇO: [************]   \n",
              "3                                                                                                                                                                                                                                                                                           CÓDIGO POSTAL: [***]\\nDATA DE NASCIMENTO: [********]   \n",
              "4                                                                                                                                                                                                                                                                                                                                 IDADE: ** anos   \n",
              "5                                                                                                                                                                                                                                                                                                                                   SEXO: [****]   \n",
              "6                                                                                                                                                                                                                                                                                            E-MAIL: [***********]\\nDATA DE ADMISSÃO: [********]   \n",
              "7                                                                                                                                                                                                                                                                                                                           DOUTORA: [*********]   \n",
              "8   RELATO CLÍNICO: ** anos, aposentado, sem alergia a medicamentos conhecida, com a seguinte história: ex-acidente de trabalho com fratura de vértebras e costelas; operado de doença de Dupuytren na mão direita e ponte ílio-femoral esquerda; diabetes tipo II, hipercolesterolemia e hiperuricemia; alcoolismo ativo, fuma 20 cigarros/dia.   \n",
              "9                                       Ele foi encaminhado a nós por apresentar hematúria macroscópica pós-evacuação em uma ocasião e microhematúria persistente posteriormente, com evacuação normal.\\nO exame físico mostrou bom estado geral, com abdome e genitais normais; o toque retal foi compatível com adenoma de próstata grau I/IV.   \n",
              "10                                                                                                          A urinálise mostrou 4 hemácias/campo e 0-5 leucócitos/campo; o resto do sedimento era normal.\\nO hemograma é normal; a bioquímica mostrou uma glicemia de 169 mg/dl e triglicerídeos 456 mg/dl; função hepática e renal são normais.   \n",
              "11                                                                                                                                                                                                                                                                                                                            PSA de 1,16 ng/ml.   \n",
              "12                                                                                                                                                                                                                                                        DIRIGIDA A: Dr. [*********] - [****************************] - [*****************], 56   \n",
              "13                                                                                                                                                                                                                                                                                                                  E-MAIL: [****************]\\n   \n",
              "\n",
              "                                                                                                                                                                                                                                                                                                                           Masked with Fixed Chars  \\\n",
              "0                                                                                                                                                                                                                                                                                                                   RELAÇÃO HOSPITALAR\\nNOME: ****   \n",
              "1                                                                                                                                                                                                                                                                                                                                        NHC: ****   \n",
              "2                                                                                                                                                                                                                                                                                                                                   ENDEREÇO: ****   \n",
              "3                                                                                                                                                                                                                                                                                                    CÓDIGO POSTAL: ****\\nDATA DE NASCIMENTO: ****   \n",
              "4                                                                                                                                                                                                                                                                                                                                 IDADE: **** anos   \n",
              "5                                                                                                                                                                                                                                                                                                                                       SEXO: ****   \n",
              "6                                                                                                                                                                                                                                                                                                             E-MAIL: ****\\nDATA DE ADMISSÃO: ****   \n",
              "7                                                                                                                                                                                                                                                                                                                                    DOUTORA: ****   \n",
              "8   RELATO CLÍNICO: **** anos, aposentado, sem alergia a medicamentos conhecida, com a seguinte história: ex-acidente de trabalho com fratura de vértebras e costelas; operado de doença de Dupuytren na mão direita e ponte ílio-femoral esquerda; diabetes tipo II, hipercolesterolemia e hiperuricemia; alcoolismo ativo, fuma 20 cigarros/dia.   \n",
              "9                                         Ele foi encaminhado a nós por apresentar hematúria macroscópica pós-evacuação em uma ocasião e microhematúria persistente posteriormente, com evacuação normal.\\nO exame físico mostrou bom estado geral, com abdome e genitais normais; o toque retal foi compatível com adenoma de próstata grau I/IV.   \n",
              "10                                                                                                            A urinálise mostrou 4 hemácias/campo e 0-5 leucócitos/campo; o resto do sedimento era normal.\\nO hemograma é normal; a bioquímica mostrou uma glicemia de 169 mg/dl e triglicerídeos 456 mg/dl; função hepática e renal são normais.   \n",
              "11                                                                                                                                                                                                                                                                                                                              PSA de 1,16 ng/ml.   \n",
              "12                                                                                                                                                                                                                                                                                                          DIRIGIDA A: Dr. **** - **** - ****, 56   \n",
              "13                                                                                                                                                                                                                                                                                                                                  E-MAIL: ****\\n   \n",
              "\n",
              "                                                                                                                                                                                                                                                                                                                                      Obfuscated  \n",
              "0                                                                                                                                                                                                                                                                                                     RELAÇÃO HOSPITALAR\\nNOME: Isabel Magalhães  \n",
              "1                                                                                                                                                                                                                                                                                                                               NHC: 124 445 311  \n",
              "2                                                                                                                                                                                                                                                                                                              ENDEREÇO: Rua de Santa María, 100  \n",
              "3                                                                                                                                                                                                                                                                                        CÓDIGO POSTAL: 1000-306\\nDATA DE NASCIMENTO: 17/04/1946  \n",
              "4                                                                                                                                                                                                                                                                                                                                 IDADE: 46 anos  \n",
              "5                                                                                                                                                                                                                                                                                                                                   SEXO: Mulher  \n",
              "6                                                                                                                                                                                                                                                                                  E-MAIL: eric.shannon@geegle.com\\nDATA DE ADMISSÃO: 26/12/2016  \n",
              "7                                                                                                                                                                                                                                                                                                                      DOUTORA: Isabel Magalhães  \n",
              "8   RELATO CLÍNICO: 46 anos, aposentado, sem alergia a medicamentos conhecida, com a seguinte história: ex-acidente de trabalho com fratura de vértebras e costelas; operado de doença de Dupuytren na mão direita e ponte ílio-femoral esquerda; diabetes tipo II, hipercolesterolemia e hiperuricemia; alcoolismo ativo, fuma 20 cigarros/dia.  \n",
              "9                                       Ele foi encaminhado a nós por apresentar hematúria macroscópica pós-evacuação em uma ocasião e microhematúria persistente posteriormente, com evacuação normal.\\nO exame físico mostrou bom estado geral, com abdome e genitais normais; o toque retal foi compatível com adenoma de próstata grau I/IV.  \n",
              "10                                                                                                          A urinálise mostrou 4 hemácias/campo e 0-5 leucócitos/campo; o resto do sedimento era normal.\\nO hemograma é normal; a bioquímica mostrou uma glicemia de 169 mg/dl e triglicerídeos 456 mg/dl; função hepática e renal são normais.  \n",
              "11                                                                                                                                                                                                                                                                                                                            PSA de 1,16 ng/ml.  \n",
              "12                                                                                                                                                                                                                                           DIRIGIDA A: Dr. Isabel Magalhães - Centro Hospitalar Universitario do Algarve - Rua Augusta, 19, 56  \n",
              "13                                                                                                                                                                                                                                                                                                             E-MAIL: eric.shannon@geegle.com\\n  "
            ],
            "text/html": [
              "\n",
              "  <div id=\"df-a569bca7-dbb2-45c2-9e2f-b3803fc583fb\">\n",
              "    <div class=\"colab-df-container\">\n",
              "      <div>\n",
              "<style scoped>\n",
              "    .dataframe tbody tr th:only-of-type {\n",
              "        vertical-align: middle;\n",
              "    }\n",
              "\n",
              "    .dataframe tbody tr th {\n",
              "        vertical-align: top;\n",
              "    }\n",
              "\n",
              "    .dataframe thead th {\n",
              "        text-align: right;\n",
              "    }\n",
              "</style>\n",
              "<table border=\"1\" class=\"dataframe\">\n",
              "  <thead>\n",
              "    <tr style=\"text-align: right;\">\n",
              "      <th></th>\n",
              "      <th>Sentence</th>\n",
              "      <th>Masked</th>\n",
              "      <th>Masked with Chars</th>\n",
              "      <th>Masked with Fixed Chars</th>\n",
              "      <th>Obfuscated</th>\n",
              "    </tr>\n",
              "  </thead>\n",
              "  <tbody>\n",
              "    <tr>\n",
              "      <th>0</th>\n",
              "      <td>RELAÇÃO HOSPITALAR\\nNOME: Pedro Gonçalves</td>\n",
              "      <td>RELAÇÃO HOSPITALAR\\nNOME: &lt;DOCTOR&gt;</td>\n",
              "      <td>RELAÇÃO HOSPITALAR\\nNOME: [*************]</td>\n",
              "      <td>RELAÇÃO HOSPITALAR\\nNOME: ****</td>\n",
              "      <td>RELAÇÃO HOSPITALAR\\nNOME: Isabel Magalhães</td>\n",
              "    </tr>\n",
              "    <tr>\n",
              "      <th>1</th>\n",
              "      <td>NHC: MVANSK92F09W408A</td>\n",
              "      <td>NHC: &lt;ID&gt;</td>\n",
              "      <td>NHC: [**************]</td>\n",
              "      <td>NHC: ****</td>\n",
              "      <td>NHC: 124 445 311</td>\n",
              "    </tr>\n",
              "    <tr>\n",
              "      <th>2</th>\n",
              "      <td>ENDEREÇO: Rua Burcardo 7</td>\n",
              "      <td>ENDEREÇO: &lt;STREET&gt;</td>\n",
              "      <td>ENDEREÇO: [************]</td>\n",
              "      <td>ENDEREÇO: ****</td>\n",
              "      <td>ENDEREÇO: Rua de Santa María, 100</td>\n",
              "    </tr>\n",
              "    <tr>\n",
              "      <th>3</th>\n",
              "      <td>CÓDIGO POSTAL: 80139\\nDATA DE NASCIMENTO: 03/03/1946</td>\n",
              "      <td>CÓDIGO POSTAL: &lt;ZIP&gt;\\nDATA DE NASCIMENTO: &lt;DATE&gt;</td>\n",
              "      <td>CÓDIGO POSTAL: [***]\\nDATA DE NASCIMENTO: [********]</td>\n",
              "      <td>CÓDIGO POSTAL: ****\\nDATA DE NASCIMENTO: ****</td>\n",
              "      <td>CÓDIGO POSTAL: 1000-306\\nDATA DE NASCIMENTO: 17/04/1946</td>\n",
              "    </tr>\n",
              "    <tr>\n",
              "      <th>4</th>\n",
              "      <td>IDADE: 70 anos</td>\n",
              "      <td>IDADE: &lt;AGE&gt; anos</td>\n",
              "      <td>IDADE: ** anos</td>\n",
              "      <td>IDADE: **** anos</td>\n",
              "      <td>IDADE: 46 anos</td>\n",
              "    </tr>\n",
              "    <tr>\n",
              "      <th>5</th>\n",
              "      <td>SEXO: Homens</td>\n",
              "      <td>SEXO: &lt;SEX&gt;</td>\n",
              "      <td>SEXO: [****]</td>\n",
              "      <td>SEXO: ****</td>\n",
              "      <td>SEXO: Mulher</td>\n",
              "    </tr>\n",
              "    <tr>\n",
              "      <th>6</th>\n",
              "      <td>E-MAIL: pgon21@tim.pt\\nDATA DE ADMISSÃO: 12/12/2016</td>\n",
              "      <td>E-MAIL: &lt;EMAIL&gt;\\nDATA DE ADMISSÃO: &lt;DATE&gt;</td>\n",
              "      <td>E-MAIL: [***********]\\nDATA DE ADMISSÃO: [********]</td>\n",
              "      <td>E-MAIL: ****\\nDATA DE ADMISSÃO: ****</td>\n",
              "      <td>E-MAIL: eric.shannon@geegle.com\\nDATA DE ADMISSÃO: 26/12/2016</td>\n",
              "    </tr>\n",
              "    <tr>\n",
              "      <th>7</th>\n",
              "      <td>DOUTORA: Eva Andrade</td>\n",
              "      <td>DOUTORA: &lt;DOCTOR&gt;</td>\n",
              "      <td>DOUTORA: [*********]</td>\n",
              "      <td>DOUTORA: ****</td>\n",
              "      <td>DOUTORA: Isabel Magalhães</td>\n",
              "    </tr>\n",
              "    <tr>\n",
              "      <th>8</th>\n",
              "      <td>RELATO CLÍNICO: 70 anos, aposentado, sem alergia a medicamentos conhecida, com a seguinte história: ex-acidente de trabalho com fratura de vértebras e costelas; operado de doença de Dupuytren na mão direita e ponte ílio-femoral esquerda; diabetes tipo II, hipercolesterolemia e hiperuricemia; alcoolismo ativo, fuma 20 cigarros/dia.</td>\n",
              "      <td>RELATO CLÍNICO: &lt;AGE&gt; anos, aposentado, sem alergia a medicamentos conhecida, com a seguinte história: ex-acidente de trabalho com fratura de vértebras e costelas; operado de doença de Dupuytren na mão direita e ponte ílio-femoral esquerda; diabetes tipo II, hipercolesterolemia e hiperuricemia; alcoolismo ativo, fuma 20 cigarros/dia.</td>\n",
              "      <td>RELATO CLÍNICO: ** anos, aposentado, sem alergia a medicamentos conhecida, com a seguinte história: ex-acidente de trabalho com fratura de vértebras e costelas; operado de doença de Dupuytren na mão direita e ponte ílio-femoral esquerda; diabetes tipo II, hipercolesterolemia e hiperuricemia; alcoolismo ativo, fuma 20 cigarros/dia.</td>\n",
              "      <td>RELATO CLÍNICO: **** anos, aposentado, sem alergia a medicamentos conhecida, com a seguinte história: ex-acidente de trabalho com fratura de vértebras e costelas; operado de doença de Dupuytren na mão direita e ponte ílio-femoral esquerda; diabetes tipo II, hipercolesterolemia e hiperuricemia; alcoolismo ativo, fuma 20 cigarros/dia.</td>\n",
              "      <td>RELATO CLÍNICO: 46 anos, aposentado, sem alergia a medicamentos conhecida, com a seguinte história: ex-acidente de trabalho com fratura de vértebras e costelas; operado de doença de Dupuytren na mão direita e ponte ílio-femoral esquerda; diabetes tipo II, hipercolesterolemia e hiperuricemia; alcoolismo ativo, fuma 20 cigarros/dia.</td>\n",
              "    </tr>\n",
              "    <tr>\n",
              "      <th>9</th>\n",
              "      <td>Ele foi encaminhado a nós por apresentar hematúria macroscópica pós-evacuação em uma ocasião e microhematúria persistente posteriormente, com evacuação normal.\\nO exame físico mostrou bom estado geral, com abdome e genitais normais; o toque retal foi compatível com adenoma de próstata grau I/IV.</td>\n",
              "      <td>Ele foi encaminhado a nós por apresentar hematúria macroscópica pós-evacuação em uma ocasião e microhematúria persistente posteriormente, com evacuação normal.\\nO exame físico mostrou bom estado geral, com abdome e genitais normais; o toque retal foi compatível com adenoma de próstata grau I/IV.</td>\n",
              "      <td>Ele foi encaminhado a nós por apresentar hematúria macroscópica pós-evacuação em uma ocasião e microhematúria persistente posteriormente, com evacuação normal.\\nO exame físico mostrou bom estado geral, com abdome e genitais normais; o toque retal foi compatível com adenoma de próstata grau I/IV.</td>\n",
              "      <td>Ele foi encaminhado a nós por apresentar hematúria macroscópica pós-evacuação em uma ocasião e microhematúria persistente posteriormente, com evacuação normal.\\nO exame físico mostrou bom estado geral, com abdome e genitais normais; o toque retal foi compatível com adenoma de próstata grau I/IV.</td>\n",
              "      <td>Ele foi encaminhado a nós por apresentar hematúria macroscópica pós-evacuação em uma ocasião e microhematúria persistente posteriormente, com evacuação normal.\\nO exame físico mostrou bom estado geral, com abdome e genitais normais; o toque retal foi compatível com adenoma de próstata grau I/IV.</td>\n",
              "    </tr>\n",
              "    <tr>\n",
              "      <th>10</th>\n",
              "      <td>A urinálise mostrou 4 hemácias/campo e 0-5 leucócitos/campo; o resto do sedimento era normal.\\nO hemograma é normal; a bioquímica mostrou uma glicemia de 169 mg/dl e triglicerídeos 456 mg/dl; função hepática e renal são normais.</td>\n",
              "      <td>A urinálise mostrou 4 hemácias/campo e 0-5 leucócitos/campo; o resto do sedimento era normal.\\nO hemograma é normal; a bioquímica mostrou uma glicemia de 169 mg/dl e triglicerídeos 456 mg/dl; função hepática e renal são normais.</td>\n",
              "      <td>A urinálise mostrou 4 hemácias/campo e 0-5 leucócitos/campo; o resto do sedimento era normal.\\nO hemograma é normal; a bioquímica mostrou uma glicemia de 169 mg/dl e triglicerídeos 456 mg/dl; função hepática e renal são normais.</td>\n",
              "      <td>A urinálise mostrou 4 hemácias/campo e 0-5 leucócitos/campo; o resto do sedimento era normal.\\nO hemograma é normal; a bioquímica mostrou uma glicemia de 169 mg/dl e triglicerídeos 456 mg/dl; função hepática e renal são normais.</td>\n",
              "      <td>A urinálise mostrou 4 hemácias/campo e 0-5 leucócitos/campo; o resto do sedimento era normal.\\nO hemograma é normal; a bioquímica mostrou uma glicemia de 169 mg/dl e triglicerídeos 456 mg/dl; função hepática e renal são normais.</td>\n",
              "    </tr>\n",
              "    <tr>\n",
              "      <th>11</th>\n",
              "      <td>PSA de 1,16 ng/ml.</td>\n",
              "      <td>PSA de 1,16 ng/ml.</td>\n",
              "      <td>PSA de 1,16 ng/ml.</td>\n",
              "      <td>PSA de 1,16 ng/ml.</td>\n",
              "      <td>PSA de 1,16 ng/ml.</td>\n",
              "    </tr>\n",
              "    <tr>\n",
              "      <th>12</th>\n",
              "      <td>DIRIGIDA A: Dr. Eva Andrade - Centro Hospitalar do Medio Ave - Avenida Dos Aliados, 56</td>\n",
              "      <td>DIRIGIDA A: Dr. &lt;DOCTOR&gt; - &lt;HOSPITAL&gt; - &lt;STREET&gt;, 56</td>\n",
              "      <td>DIRIGIDA A: Dr. [*********] - [****************************] - [*****************], 56</td>\n",
              "      <td>DIRIGIDA A: Dr. **** - **** - ****, 56</td>\n",
              "      <td>DIRIGIDA A: Dr. Isabel Magalhães - Centro Hospitalar Universitario do Algarve - Rua Augusta, 19, 56</td>\n",
              "    </tr>\n",
              "    <tr>\n",
              "      <th>13</th>\n",
              "      <td>E-MAIL: evandrade@poste.pt\\n</td>\n",
              "      <td>E-MAIL: &lt;EMAIL&gt;\\n</td>\n",
              "      <td>E-MAIL: [****************]\\n</td>\n",
              "      <td>E-MAIL: ****\\n</td>\n",
              "      <td>E-MAIL: eric.shannon@geegle.com\\n</td>\n",
              "    </tr>\n",
              "  </tbody>\n",
              "</table>\n",
              "</div>\n",
              "      <button class=\"colab-df-convert\" onclick=\"convertToInteractive('df-a569bca7-dbb2-45c2-9e2f-b3803fc583fb')\"\n",
              "              title=\"Convert this dataframe to an interactive table.\"\n",
              "              style=\"display:none;\">\n",
              "        \n",
              "  <svg xmlns=\"http://www.w3.org/2000/svg\" height=\"24px\"viewBox=\"0 0 24 24\"\n",
              "       width=\"24px\">\n",
              "    <path d=\"M0 0h24v24H0V0z\" fill=\"none\"/>\n",
              "    <path d=\"M18.56 5.44l.94 2.06.94-2.06 2.06-.94-2.06-.94-.94-2.06-.94 2.06-2.06.94zm-11 1L8.5 8.5l.94-2.06 2.06-.94-2.06-.94L8.5 2.5l-.94 2.06-2.06.94zm10 10l.94 2.06.94-2.06 2.06-.94-2.06-.94-.94-2.06-.94 2.06-2.06.94z\"/><path d=\"M17.41 7.96l-1.37-1.37c-.4-.4-.92-.59-1.43-.59-.52 0-1.04.2-1.43.59L10.3 9.45l-7.72 7.72c-.78.78-.78 2.05 0 2.83L4 21.41c.39.39.9.59 1.41.59.51 0 1.02-.2 1.41-.59l7.78-7.78 2.81-2.81c.8-.78.8-2.07 0-2.86zM5.41 20L4 18.59l7.72-7.72 1.47 1.35L5.41 20z\"/>\n",
              "  </svg>\n",
              "      </button>\n",
              "      \n",
              "  <style>\n",
              "    .colab-df-container {\n",
              "      display:flex;\n",
              "      flex-wrap:wrap;\n",
              "      gap: 12px;\n",
              "    }\n",
              "\n",
              "    .colab-df-convert {\n",
              "      background-color: #E8F0FE;\n",
              "      border: none;\n",
              "      border-radius: 50%;\n",
              "      cursor: pointer;\n",
              "      display: none;\n",
              "      fill: #1967D2;\n",
              "      height: 32px;\n",
              "      padding: 0 0 0 0;\n",
              "      width: 32px;\n",
              "    }\n",
              "\n",
              "    .colab-df-convert:hover {\n",
              "      background-color: #E2EBFA;\n",
              "      box-shadow: 0px 1px 2px rgba(60, 64, 67, 0.3), 0px 1px 3px 1px rgba(60, 64, 67, 0.15);\n",
              "      fill: #174EA6;\n",
              "    }\n",
              "\n",
              "    [theme=dark] .colab-df-convert {\n",
              "      background-color: #3B4455;\n",
              "      fill: #D2E3FC;\n",
              "    }\n",
              "\n",
              "    [theme=dark] .colab-df-convert:hover {\n",
              "      background-color: #434B5C;\n",
              "      box-shadow: 0px 1px 3px 1px rgba(0, 0, 0, 0.15);\n",
              "      filter: drop-shadow(0px 1px 2px rgba(0, 0, 0, 0.3));\n",
              "      fill: #FFFFFF;\n",
              "    }\n",
              "  </style>\n",
              "\n",
              "      <script>\n",
              "        const buttonEl =\n",
              "          document.querySelector('#df-a569bca7-dbb2-45c2-9e2f-b3803fc583fb button.colab-df-convert');\n",
              "        buttonEl.style.display =\n",
              "          google.colab.kernel.accessAllowed ? 'block' : 'none';\n",
              "\n",
              "        async function convertToInteractive(key) {\n",
              "          const element = document.querySelector('#df-a569bca7-dbb2-45c2-9e2f-b3803fc583fb');\n",
              "          const dataTable =\n",
              "            await google.colab.kernel.invokeFunction('convertToInteractive',\n",
              "                                                     [key], {});\n",
              "          if (!dataTable) return;\n",
              "\n",
              "          const docLinkHtml = 'Like what you see? Visit the ' +\n",
              "            '<a target=\"_blank\" href=https://colab.research.google.com/notebooks/data_table.ipynb>data table notebook</a>'\n",
              "            + ' to learn more about interactive tables.';\n",
              "          element.innerHTML = '';\n",
              "          dataTable['output_type'] = 'display_data';\n",
              "          await google.colab.output.renderOutput(dataTable, element);\n",
              "          const docLink = document.createElement('div');\n",
              "          docLink.innerHTML = docLinkHtml;\n",
              "          element.appendChild(docLink);\n",
              "        }\n",
              "      </script>\n",
              "    </div>\n",
              "  </div>\n",
              "  "
            ]
          },
          "metadata": {},
          "execution_count": 134
        }
      ]
    }
  ]
}