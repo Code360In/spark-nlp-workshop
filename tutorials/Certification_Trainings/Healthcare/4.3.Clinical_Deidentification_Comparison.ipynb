{
  "nbformat": 4,
  "nbformat_minor": 0,
  "metadata": {
    "colab": {
      "name": "4.3.Clinical_Deidentification_Comparison.ipynb",
      "provenance": [],
      "toc_visible": true
    },
    "kernelspec": {
      "name": "python3",
      "display_name": "Python 3"
    },
    "language_info": {
      "name": "python"
    }
  },
  "cells": [
    {
      "cell_type": "markdown",
      "source": [
        "![JohnSnowLabs](https://nlp.johnsnowlabs.com/assets/images/logo.png)"
      ],
      "metadata": {
        "id": "UO8THJiqkGvd"
      }
    },
    {
      "cell_type": "markdown",
      "source": [
        "[![Open In Colab](https://colab.research.google.com/assets/colab-badge.svg)](https://colab.research.google.com/github/JohnSnowLabs/spark-nlp-workshop/blob/master/tutorials/Certification_Trainings/Healthcare/4.3.Clinical_Deidentification_Comparison.ipynb)"
      ],
      "metadata": {
        "id": "DbR6auQ_SHkL"
      }
    },
    {
      "cell_type": "markdown",
      "source": [
        "# Comparison of different Deidentification Libraries\n",
        "In this notebook we will include a comparison of the deidentification capabilities of different libraries on same clinical notes (n2C2 Deidentification dataset).\n",
        "\n",
        "The tested libraries are:\n",
        "- Spark NLP for Healthcare (deidentification pipelines)\n",
        "- Scrubadub + Scrubadub with Spacy Transformers\n",
        "- (more coming soon!)"
      ],
      "metadata": {
        "id": "7wtbz5vakj28"
      }
    },
    {
      "cell_type": "markdown",
      "source": [
        "# Installation"
      ],
      "metadata": {
        "id": "9z9mC0hLmXoA"
      }
    },
    {
      "cell_type": "code",
      "source": [
        "!pip install scrubadub scrubadub_spacy spacy_transformers"
      ],
      "metadata": {
        "id": "FtEQhE2wkjaD"
      },
      "execution_count": null,
      "outputs": []
    },
    {
      "cell_type": "markdown",
      "source": [
        "## Spark NLP for Healthcare License"
      ],
      "metadata": {
        "id": "Uema9cqOmho6"
      }
    },
    {
      "cell_type": "code",
      "execution_count": null,
      "metadata": {
        "colab": {
          "resources": {
            "http://localhost:8080/nbextensions/google.colab/files.js": {
              "data": "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",
              "ok": true,
              "headers": [
                [
                  "content-type",
                  "application/javascript"
                ]
              ],
              "status": 200,
              "status_text": ""
            }
          },
          "base_uri": "https://localhost:8080/",
          "height": 74
        },
        "id": "BeL2b0Xoj8TZ",
        "outputId": "870d97e3-bae3-480a-fbb7-84534db78a86"
      },
      "outputs": [
        {
          "output_type": "display_data",
          "data": {
            "text/html": [
              "\n",
              "     <input type=\"file\" id=\"files-ab0ad3cf-4ff2-4fcd-a9e0-db594ede3dfb\" name=\"files[]\" multiple disabled\n",
              "        style=\"border:none\" />\n",
              "     <output id=\"result-ab0ad3cf-4ff2-4fcd-a9e0-db594ede3dfb\">\n",
              "      Upload widget is only available when the cell has been executed in the\n",
              "      current browser session. Please rerun this cell to enable.\n",
              "      </output>\n",
              "      <script src=\"/nbextensions/google.colab/files.js\"></script> "
            ],
            "text/plain": [
              "<IPython.core.display.HTML object>"
            ]
          },
          "metadata": {}
        },
        {
          "output_type": "stream",
          "name": "stdout",
          "text": [
            "Saving spark_nlp_for_healthcare-3.3.4.json to spark_nlp_for_healthcare-3.3.4 (1).json\n"
          ]
        }
      ],
      "source": [
        "import json\n",
        "\n",
        "from google.colab import files\n",
        "\n",
        "license_keys = files.upload()\n",
        "\n",
        "with open(list(license_keys.keys())[0]) as f:\n",
        "    license_keys = json.load(f)\n",
        "\n",
        "# Defining license key-value pairs as local variables\n",
        "locals().update(license_keys)\n",
        "\n",
        "# Adding license key-value pairs to environment variables\n",
        "import os\n",
        "os.environ.update(license_keys)"
      ]
    },
    {
      "cell_type": "code",
      "source": [
        "# Installing pyspark and spark-nlp\n",
        "! pip install --upgrade -q pyspark==3.1.2 spark-nlp==$PUBLIC_VERSION"
      ],
      "metadata": {
        "id": "6raFr5KjkTdK"
      },
      "execution_count": null,
      "outputs": []
    },
    {
      "cell_type": "code",
      "source": [
        "# Installing Spark NLP Healthcare\n",
        "! pip install --upgrade -q spark-nlp-jsl==$JSL_VERSION  --extra-index-url https://pypi.johnsnowlabs.com/$SECRET"
      ],
      "metadata": {
        "id": "fWpXXF4skV2z"
      },
      "execution_count": null,
      "outputs": []
    },
    {
      "cell_type": "markdown",
      "source": [
        "# Starting a Spark NLP for Healthcare session"
      ],
      "metadata": {
        "id": "z-v6ClbOmwAb"
      }
    },
    {
      "cell_type": "code",
      "source": [
        "import json\n",
        "import os\n",
        "from pyspark.ml import Pipeline,PipelineModel\n",
        "from pyspark.sql import SparkSession\n",
        "import xml.etree.ElementTree as ET\n",
        "\n",
        "from sparknlp.annotator import *\n",
        "from sparknlp_jsl.annotator import *\n",
        "from sparknlp.base import *\n",
        "import sparknlp_jsl\n",
        "import sparknlp\n",
        "\n",
        "import warnings\n",
        "import pprint \n",
        "warnings.filterwarnings('ignore')\n",
        "\n",
        "params = {\"spark.driver.memory\":\"16G\", \n",
        "          \"spark.kryoserializer.buffer.max\":\"2000M\", \n",
        "          \"spark.driver.maxResultSize\":\"2000M\"} \n",
        "\n",
        "spark = sparknlp_jsl.start(license_keys['SECRET'],params=params)\n",
        "\n",
        "print (\"Spark NLP Version :\", sparknlp.version())\n",
        "print (\"Spark NLP_JSL Version :\", sparknlp_jsl.version())"
      ],
      "metadata": {
        "colab": {
          "base_uri": "https://localhost:8080/"
        },
        "id": "3k_XS2Dmkbd6",
        "outputId": "927a8cfe-9b33-41de-aaed-92babe761e95"
      },
      "execution_count": null,
      "outputs": [
        {
          "output_type": "stream",
          "name": "stdout",
          "text": [
            "Spark NLP Version : 3.3.4\n",
            "Spark NLP_JSL Version : 3.3.4\n"
          ]
        }
      ]
    },
    {
      "cell_type": "markdown",
      "source": [
        "# Download some clinical notes from N2C2"
      ],
      "metadata": {
        "id": "WSD6ohvHm5CG"
      }
    },
    {
      "cell_type": "code",
      "source": [
        "!wget https://github.com/JohnSnowLabs/spark-nlp-workshop/raw/master/tutorials/Certification_Trainings/Healthcare/data/deid_surrogate_test_all_groundtruth_version2.xml"
      ],
      "metadata": {
        "id": "-xLJ_cTekf-q"
      },
      "execution_count": null,
      "outputs": []
    },
    {
      "cell_type": "markdown",
      "source": [
        "# Parsing the XML"
      ],
      "metadata": {
        "id": "smbkFat5m8vo"
      }
    },
    {
      "cell_type": "code",
      "source": [
        "tree = ET.parse('deid_surrogate_test_all_groundtruth_version2.xml')\n",
        "root = tree.getroot()"
      ],
      "metadata": {
        "id": "SanBpUselo_a"
      },
      "execution_count": null,
      "outputs": []
    },
    {
      "cell_type": "markdown",
      "source": [
        "# Retrieving texts and PHI fields"
      ],
      "metadata": {
        "id": "bCJw1JY3m-_x"
      }
    },
    {
      "cell_type": "code",
      "source": [
        "import re\n",
        "data = []\n",
        "for r in root.findall('RECORD'):\n",
        "    for t in r.findall('TEXT'):\n",
        "        children = []\n",
        "        for c in t.getchildren():\n",
        "            children.append((c.text, c.attrib['TYPE']))\n",
        "        text = \"\".join([ t.text ] + [ ET.tostring(e).decode('utf-8') for e in t.getchildren()])\n",
        "        unmasked_text = re.sub(r\"<PHI [^>]*>\", \"\", text)\n",
        "        unmasked_text = re.sub(r\"</PHI>\", \"\", unmasked_text)\n",
        "        data.append({'unmasked_text': unmasked_text, 'text': text, 'phi': children})"
      ],
      "metadata": {
        "id": "329gFc8AlwJK"
      },
      "execution_count": null,
      "outputs": []
    },
    {
      "cell_type": "code",
      "source": [
        "# Printing data[0], that contains the information of the first clinical note.\n",
        "print(data[0]['unmasked_text'])"
      ],
      "metadata": {
        "colab": {
          "base_uri": "https://localhost:8080/"
        },
        "id": "vQDMhelhnE_g",
        "outputId": "2dd9f7b8-7b3c-42dd-c9a5-6b9186690b42"
      },
      "execution_count": null,
      "outputs": [
        {
          "output_type": "stream",
          "name": "stdout",
          "text": [
            "\n",
            "113416550\n",
            "PRGH\n",
            "13523357\n",
            "630190\n",
            "6/7/1999 12:00:00 AM\n",
            "Discharge Summary\n",
            "Signed\n",
            "DIS\n",
            "Admission Date :\n",
            "06/07/1999\n",
            "Report Status :\n",
            "Signed\n",
            "Discharge Date :\n",
            "06/13/1999\n",
            "HISTORY OF PRESENT ILLNESS :\n",
            "Essentially , Mr. Cornea is a 60 year old male who noted the onset of dark urine during early January .\n",
            "He underwent CT and ERCP at the Lisonatemi Faylandsburgnic, Community Hospital with a stent placement and resolution of jaundice .\n",
            "He underwent an ECHO and endoscopy at Ingree and Ot of Weamanshy Medical Center on April 28 .\n",
            "He was found to have a large , bulging , extrinsic mass in the lesser curvature of his stomach .\n",
            "Fine needle aspiration showed atypical cells , positively reactive mesothelial cells .\n",
            "Abdominal CT on April 14 , showed a 12 x 8 x 8 cm mass in the region of the left liver , and appeared to be from the lesser curvature of the stomach or left liver .\n",
            "He denied any nausea , vomiting , anorexia , or weight loss .\n",
            "He states that his color in urine or in stool is now normal .\n",
            "PAST MEDICAL HISTORY :\n",
            "He has hypertension and nephrolithiasis .\n",
            "PAST SURGICAL HISTORY :\n",
            "Status post left kidney stones x2 , and he has had a parathyroid surgery .\n",
            "ALLERGIES :\n",
            "He has no known drug allergies .\n",
            "MEDICATIONS PRIOR TO ADMISSION :\n",
            "Hydrochlorothiazide 25 mg q.d. , Clonidine 0.1 mg p.o. q.d. , baclofen 5 mg p.o. t.i.d.\n",
            "HOSPITAL COURSE :\n",
            "Basically , patient underwent a subtotal gastrectomy on the 7th of June by Dr. Kotefooksshuff .\n",
            "He had an uncomplicated postoperative course and he was transferred .\n",
            "Advanced his diet on postop day # 4 to a transitional diet .\n",
            "His PCA was discontinued on postop day # 4 , and essentially he was started on his pre-op medications on the postop day # 5 .\n",
            "PHYSICAL EXAMINATION :\n",
            "CHEST :\n",
            "Clear .\n",
            "HEART :\n",
            "Regular .\n",
            "ABDOMINAL INCISION :\n",
            "Clean , dry and intact .\n",
            "No drainage .\n",
            "VITAL SIGNS :\n",
            "He is afebrile and otherwise vital signs are stable .\n",
            "He is having good p.o. intake on present diet and he is moving his bowels .\n",
            "DISPOSITION :\n",
            "He is going to a rehabilitation facility until he is able to live independently .\n",
            "DISCHARGE MEDICATIONS :\n",
            "Same as pre-op , with the addition of Roxicet elixir .\n",
            "Dictated By :\n",
            "THAMETO DOYLE , M.D. OS43\n",
            "Attending :\n",
            "PRO R. KOTEFOOKSSHUFF , M.D. RF6 ZY525/1920\n",
            "Batch :\n",
            "69874\n",
            "Index No. YFKAJTRZX9\n",
            "D :\n",
            "06/13/99\n",
            "T :\n",
            "06/13/99 KE9\n",
            "[ report_end ]\n",
            "\n"
          ]
        }
      ]
    },
    {
      "cell_type": "code",
      "source": [
        "print(data[0]['phi'])"
      ],
      "metadata": {
        "colab": {
          "base_uri": "https://localhost:8080/"
        },
        "id": "WSTWgtcNnbYY",
        "outputId": "2a3fc528-14d2-47f5-c2a0-d81e0f6e31a4"
      },
      "execution_count": null,
      "outputs": [
        {
          "output_type": "stream",
          "name": "stdout",
          "text": [
            "[('113416550', 'ID'), ('PRGH', 'HOSPITAL'), ('13523357', 'ID'), ('630190', 'ID'), ('6/7', 'DATE'), ('06/07', 'DATE'), ('06/13', 'DATE'), ('Cornea', 'PATIENT'), ('January', 'DATE'), ('Lisonatemi Faylandsburgnic, Community Hospital', 'HOSPITAL'), ('Ingree and Ot of Weamanshy Medical Center', 'HOSPITAL'), ('April 28', 'DATE'), ('April 14', 'DATE'), ('7th of June', 'DATE'), ('Kotefooksshuff', 'DOCTOR'), ('THAMETO DOYLE', 'DOCTOR'), ('OS43', 'ID'), ('PRO R. KOTEFOOKSSHUFF', 'DOCTOR'), ('RF6 ZY525/1920', 'ID'), ('69874', 'ID'), ('YFKAJTRZX9', 'ID'), ('06/13', 'DATE'), ('06/13', 'DATE'), ('KE9', 'ID')]\n"
          ]
        }
      ]
    },
    {
      "cell_type": "markdown",
      "source": [
        "# Spark NLP for Healthcare (Time: 1.43s)\n",
        "Let's use Spark NLP for Healthcare's Pretrained Pipeline for `clinical_deidentification`"
      ],
      "metadata": {
        "id": "A-VVOC2xnnBd"
      }
    },
    {
      "cell_type": "code",
      "source": [
        "from sparknlp.pretrained import PretrainedPipeline\n",
        "deid_pipeline = PretrainedPipeline(\"clinical_deidentification_glove\", \"en\", \"clinical/models\")"
      ],
      "metadata": {
        "colab": {
          "base_uri": "https://localhost:8080/"
        },
        "id": "I-GOmf6TngP3",
        "outputId": "306f2b8d-30e7-4b93-baae-481392dfe3bf"
      },
      "execution_count": null,
      "outputs": [
        {
          "output_type": "stream",
          "name": "stdout",
          "text": [
            "clinical_deidentification_glove download started this may take some time.\n",
            "Approx size to download 172.9 MB\n",
            "[OK!]\n"
          ]
        }
      ]
    },
    {
      "cell_type": "markdown",
      "source": [
        "## `annotate()` on PretrainedPipelines uses LightPipelines, what means is optimized for speed"
      ],
      "metadata": {
        "id": "akRvrPpDpzvU"
      }
    },
    {
      "cell_type": "code",
      "source": [
        "%%time\n",
        "res = deid_pipeline.annotate(data[0]['unmasked_text'])"
      ],
      "metadata": {
        "colab": {
          "base_uri": "https://localhost:8080/"
        },
        "id": "Lwv4vuKvoEa4",
        "outputId": "50524b18-7d8e-49e0-cc67-be8709cfc7b6"
      },
      "execution_count": null,
      "outputs": [
        {
          "output_type": "stream",
          "name": "stdout",
          "text": [
            "CPU times: user 21.5 ms, sys: 3.32 ms, total: 24.8 ms\n",
            "Wall time: 1.43 s\n"
          ]
        }
      ]
    },
    {
      "cell_type": "code",
      "source": [
        "for i in range(0, len(res['masked'])):\n",
        "  print(res['masked'][i])"
      ],
      "metadata": {
        "colab": {
          "base_uri": "https://localhost:8080/"
        },
        "id": "_L3osaropdeG",
        "outputId": "fd455344-567c-4d82-cebb-774fa47650f2"
      },
      "execution_count": null,
      "outputs": [
        {
          "output_type": "stream",
          "name": "stdout",
          "text": [
            "<MEDICALRECORD>\n",
            "<HOSPITAL>\n",
            "<MEDICALRECORD>\n",
            "<MEDICALRECORD>\n",
            "<DATE> 12:00:00 AM\n",
            "Discharge Summary\n",
            "Signed\n",
            "DIS\n",
            "Admission Date :\n",
            "<DATE>\n",
            "Report Status :\n",
            "Signed\n",
            "Discharge Date :\n",
            "<DATE>\n",
            "HISTORY OF PRESENT ILLNESS :\n",
            "Essentially , Mr. <PATIENT> is a <AGE> year old male who noted the onset of dark urine during early <DATE> .\n",
            "He underwent CT and ERCP at the <HOSPITAL> with a stent placement and resolution of jaundice .\n",
            "He underwent an ECHO and endoscopy at <HOSPITAL> on <DATE> .\n",
            "He was found to have a large , bulging , extrinsic mass in the lesser curvature of his stomach .\n",
            "Fine needle aspiration showed atypical cells , positively reactive mesothelial cells .\n",
            "Abdominal CT on <DATE> , showed a 12 x 8 x 8 cm mass in the region of the left liver , and appeared to be from the lesser curvature of the stomach or left liver .\n",
            "He denied any nausea , vomiting , anorexia , or weight loss .\n",
            "He states that his color in urine or in stool is now normal .\n",
            "PAST MEDICAL HISTORY :\n",
            "He has hypertension and nephrolithiasis .\n",
            "PAST SURGICAL HISTORY :\n",
            "Status post left kidney stones x2 , and he has had a parathyroid surgery .\n",
            "ALLERGIES :\n",
            "He has no known drug allergies .\n",
            "MEDICATIONS PRIOR TO ADMISSION :\n",
            "Hydrochlorothiazide 25 mg q.d. , Clonidine 0.1 mg p.o. q.d. , baclofen 5 mg p.o. t.i.d.\n",
            "HOSPITAL COURSE :\n",
            "Basically , patient underwent a subtotal gastrectomy on the <DATE> by Dr. <DOCTOR> .\n",
            "He had an uncomplicated postoperative course and he was transferred .\n",
            "Advanced his diet on postop day # 4 to a transitional diet .\n",
            "His PCA was discontinued on postop day # 4 , and essentially he was started on his pre-op medications on the postop day # 5 .\n",
            "PHYSICAL EXAMINATION :\n",
            "CHEST :\n",
            "Clear .\n",
            "HEART :\n",
            "Regular .\n",
            "ABDOMINAL INCISION :\n",
            "Clean , dry and intact .\n",
            "No drainage .\n",
            "VITAL SIGNS :\n",
            "He is afebrile and otherwise vital signs are stable .\n",
            "He is having good p.o. intake on present diet and he is moving his bowels .\n",
            "DISPOSITION :\n",
            "He is going to a rehabilitation facility until he is able to live independently .\n",
            "DISCHARGE MEDICATIONS :\n",
            "Same as pre-op , with the addition of Roxicet elixir .\n",
            "Dictated By :\n",
            "<DOCTOR> , M.D.\n",
            "OS43\n",
            "Attending :\n",
            "<DOCTOR> , M.D.\n",
            "RF6 <ID>\n",
            "Batch :\n",
            "<IDNUM>\n",
            "Index No.\n",
            "<PATIENT>\n",
            "D :\n",
            "<DATE>\n",
            "T :\n",
            "<DATE> KE9\n",
            "[ report_end ]\n"
          ]
        }
      ]
    },
    {
      "cell_type": "code",
      "source": [
        "import re\n",
        "chunks = []\n",
        "for i in range(0, len(res['masked'])):\n",
        "  matches = re.findall(r\"<[A-Z]+>\", res['masked'][i])\n",
        "  chunks.extend(matches)"
      ],
      "metadata": {
        "id": "20jOG6qgpv_2"
      },
      "execution_count": null,
      "outputs": []
    },
    {
      "cell_type": "code",
      "source": [
        "import pandas as pd\n",
        "\n",
        "import matplotlib.pyplot as plt\n",
        "plt.rcParams['figure.figsize'] = [10, 5]\n",
        "\n",
        "df = pd.DataFrame(chunks, columns=['ner_chunk'])\n",
        "df_count = pd.DataFrame(df.groupby('ner_chunk').size().reset_index(name='counts'))\n",
        "df_count.plot.bar(x='ner_chunk', y='counts', rot=45)"
      ],
      "metadata": {
        "colab": {
          "base_uri": "https://localhost:8080/",
          "height": 423
        },
        "id": "J-V5AgsNqq6O",
        "outputId": "02b5bfc3-4c7e-4a6c-e5aa-f79a19d38695"
      },
      "execution_count": null,
      "outputs": [
        {
          "output_type": "execute_result",
          "data": {
            "text/plain": [
              "<matplotlib.axes._subplots.AxesSubplot at 0x7f9a35cd1a10>"
            ]
          },
          "metadata": {},
          "execution_count": 19
        },
        {
          "output_type": "display_data",
          "data": {
            "image/png": "[encoded data removed]",
            "text/plain": [
              "<Figure size 720x360 with 1 Axes>"
            ]
          },
          "metadata": {
            "needs_background": "light"
          }
        }
      ]
    },
    {
      "cell_type": "markdown",
      "source": [
        "# ScrubaDub with original and Spacy Transformers (Time: 9.24s)"
      ],
      "metadata": {
        "id": "xZcyral5sMRd"
      }
    },
    {
      "cell_type": "code",
      "source": [
        "import scrubadub, scrubadub_spacy\n",
        "\n",
        "detector_list = [\n",
        "                 scrubadub.detectors.DateOfBirthDetector,\n",
        "                 scrubadub_spacy.detectors.spacy_name_title.SpacyNameDetector,\n",
        "                 scrubadub_spacy.detectors.spacy.SpacyEntityDetector(named_entities=['DATE', 'FAC', 'GPE', 'LOC', 'ORG', 'PER', 'PERSON'])\n",
        "]\n",
        "scrubber = scrubadub.Scrubber(detector_list=detector_list)"
      ],
      "metadata": {
        "id": "GAkWHOtGsKI8"
      },
      "execution_count": null,
      "outputs": []
    },
    {
      "cell_type": "code",
      "source": [
        "scrubadub_spacy.detectors.spacy.SpacyEntityDetector.filth_cls_map"
      ],
      "metadata": {
        "colab": {
          "base_uri": "https://localhost:8080/"
        },
        "id": "25Mw-oFXw7Aa",
        "outputId": "9eaaf591-7754-4089-ec92-c634cc5fc6b4"
      },
      "execution_count": null,
      "outputs": [
        {
          "output_type": "execute_result",
          "data": {
            "text/plain": [
              "{'DATE': scrubadub.filth.date_of_birth.DateOfBirthFilth,\n",
              " 'FAC': scrubadub.filth.location.LocationFilth,\n",
              " 'GPE': scrubadub.filth.location.LocationFilth,\n",
              " 'LOC': scrubadub.filth.location.LocationFilth,\n",
              " 'ORG': scrubadub.filth.organization.OrganizationFilth,\n",
              " 'PER': scrubadub.filth.name.NameFilth,\n",
              " 'PERSON': scrubadub.filth.name.NameFilth}"
            ]
          },
          "metadata": {},
          "execution_count": 27
        }
      ]
    },
    {
      "cell_type": "code",
      "source": [
        "%%time\n",
        "res = scrubber.clean(data[0]['unmasked_text'])"
      ],
      "metadata": {
        "colab": {
          "base_uri": "https://localhost:8080/"
        },
        "id": "QgQ5l2dRsCw0",
        "outputId": "685fc8b1-dee9-4b6c-fee8-d0ebec2e88e6"
      },
      "execution_count": null,
      "outputs": [
        {
          "output_type": "stream",
          "name": "stdout",
          "text": [
            "CPU times: user 8.44 s, sys: 354 ms, total: 8.79 s\n",
            "Wall time: 9.24 s\n"
          ]
        }
      ]
    },
    {
      "cell_type": "code",
      "source": [
        "res = res.replace('+ORGANIZATION', '')\n",
        "res = res.replace('+NAME', '')\n",
        "print(res)"
      ],
      "metadata": {
        "colab": {
          "base_uri": "https://localhost:8080/"
        },
        "id": "PfqEiVkazxM5",
        "outputId": "5ccab330-909b-4909-f3ba-a541125cee54"
      },
      "execution_count": null,
      "outputs": [
        {
          "output_type": "stream",
          "name": "stdout",
          "text": [
            "\n",
            "113416550\n",
            "PRGH\n",
            "13523357\n",
            "630190\n",
            "6/7/1999 12:00:00 AM\n",
            "Discharge Summary\n",
            "Signed\n",
            "DIS\n",
            "Admission Date :\n",
            "{{DATE_OF_BIRTH}}\n",
            "Report Status :\n",
            "Signed\n",
            "Discharge Date :\n",
            "{{DATE_OF_BIRTH}}\n",
            "HISTORY OF PRESENT ILLNESS :\n",
            "Essentially , {{NAME}} is a 60 year old male who noted the onset of dark urine during early January .\n",
            "He underwent CT and ERCP at {{ORGANIZATION}} with a stent placement and resolution of jaundice .\n",
            "He underwent an ECHO and endoscopy at {{ORGANIZATION}} on April 28 .\n",
            "He was found to have a large , bulging , extrinsic mass in the lesser curvature of his stomach .\n",
            "Fine needle aspiration showed atypical cells , positively reactive mesothelial cells .\n",
            "Abdominal CT on April 14 , showed a 12 x 8 x 8 cm mass in the region of the left liver , and appeared to be from the lesser curvature of the stomach or left liver .\n",
            "He denied any nausea , vomiting , anorexia , or weight loss .\n",
            "He states that his color in urine or in stool is now normal .\n",
            "PAST MEDICAL HISTORY :\n",
            "He has hypertension and nephrolithiasis .\n",
            "PAST SURGICAL HISTORY :\n",
            "Status post left kidney stones x2 , and he has had a parathyroid surgery .\n",
            "ALLERGIES :\n",
            "He has no known drug allergies .\n",
            "MEDICATIONS PRIOR TO ADMISSION :\n",
            "Hydrochlorothiazide 25 mg q.d. , Clonidine 0.1 mg p.o. q.d. , baclofen 5 mg p.o. t.i.d.\n",
            "HOSPITAL COURSE :\n",
            "Basically , patient underwent a subtotal gastrectomy on the 7th of June by {{NAME}} .\n",
            "He had an uncomplicated postoperative course and he was transferred .\n",
            "Advanced his diet on postop day # 4 to a transitional diet .\n",
            "His PCA was discontinued on postop day # 4 , and essentially he was started on his pre-op medications on the postop day # 5 .\n",
            "PHYSICAL EXAMINATION :\n",
            "CHEST :\n",
            "Clear .\n",
            "HEART :\n",
            "Regular .\n",
            "ABDOMINAL INCISION :\n",
            "Clean , dry and intact .\n",
            "No drainage .\n",
            "VITAL SIGNS :\n",
            "He is afebrile and otherwise vital signs are stable .\n",
            "He is having good p.o. intake on present diet and he is moving his bowels .\n",
            "DISPOSITION :\n",
            "He is going to a rehabilitation facility until he is able to live independently .\n",
            "DISCHARGE MEDICATIONS :\n",
            "Same as pre-op , with the addition of Roxicet elixir .\n",
            "Dictated By :\n",
            "THAMETO DOYLE , M.D. OS43\n",
            "Attending :\n",
            "PRO R. KOTEFOOKSSHUFF , M.D. RF6 ZY525/1920\n",
            "Batch :\n",
            "69874\n",
            "Index No. YFKAJTRZX9\n",
            "D :\n",
            "06/13/99\n",
            "T :\n",
            "06/13/99 KE9\n",
            "[ report_end ]\n",
            "\n"
          ]
        }
      ]
    },
    {
      "cell_type": "code",
      "source": [
        "chunks = re.findall(r\"{{[A-Z_\\+]+}}\", res)\n",
        "df = pd.DataFrame(chunks, columns=['ner_chunk'])\n",
        "df_count = pd.DataFrame(df.groupby('ner_chunk').size().reset_index(name='counts'))\n",
        "df_count.plot.bar(x='ner_chunk', y='counts', rot=45)"
      ],
      "metadata": {
        "colab": {
          "base_uri": "https://localhost:8080/",
          "height": 424
        },
        "id": "0PxN3yv1xEBI",
        "outputId": "0e60ecf2-d475-4f5c-d295-fe31172ec884"
      },
      "execution_count": null,
      "outputs": [
        {
          "output_type": "execute_result",
          "data": {
            "text/plain": [
              "<matplotlib.axes._subplots.AxesSubplot at 0x7f9a379f1bd0>"
            ]
          },
          "metadata": {},
          "execution_count": 46
        },
        {
          "output_type": "display_data",
          "data": {
            "image/png": "[encoded data removed]",
            "text/plain": [
              "<Figure size 720x360 with 1 Axes>"
            ]
          },
          "metadata": {
            "needs_background": "light"
          }
        }
      ]
    },
    {
      "cell_type": "markdown",
      "source": [
        "# COMPARISON\n",
        "|                                                 \t| Spark NLP for Healthcare \t| ScrubaDub + Spacy \t|\n",
        "|-------------------------------------------------\t|--------------------------\t|-------------------\t|\n",
        "| Time in inference (excluding download)          \t| 1.43                     \t| 3.59              \t|\n",
        "| Relevant clinical tags included out of the box  \t| Up to 28                 \t| Up to 11          \t|\n",
        "| Matches in a sample clinical note from N2B2     \t| 23                       \t| 6                 \t|\n",
        "| Possibility of including custom NER models      \t| YES (Spark NLP)          \t| YES (Spacy)       \t|\n",
        "| Possibility of including custom rules/regex     \t| YES                      \t| YES               \t|"
      ],
      "metadata": {
        "id": "UysfMIc5yChH"
      }
    },
    {
      "cell_type": "markdown",
      "source": [
        "More frameworks coming soon!"
      ],
      "metadata": {
        "id": "V8nJA54R1CK0"
      }
    }
  ]
}